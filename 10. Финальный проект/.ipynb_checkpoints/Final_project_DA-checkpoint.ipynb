{
 "cells": [
  {
   "cell_type": "markdown",
   "metadata": {
    "id": "6M53rzAmnTWU"
   },
   "source": [
    "# Игры — Анализ рекламных источников"
   ]
  },
  {
   "cell_type": "markdown",
   "metadata": {
    "id": "lyf7ZZOznf0_"
   },
   "source": [
    "## Информация о проекте"
   ]
  },
  {
   "cell_type": "markdown",
   "metadata": {
    "id": "KKCkF3bjnTFb"
   },
   "source": [
    "Основной датасет содержит данные о событиях, совершенных в мобильной игре «Космические братья». В ней пользователи строят свою космическую программу и пытаются преуспеть в нелёгком деле колонизации галактики.\n",
    "\n",
    "Основная монетизация игры — только планируется. Но предполагается, что в приложении будет происходить показ рекламы на экране с выбором типа объекта для постройки.\n",
    "\n",
    "В датасете представлены данные по игре пользователей на первом уровне. Завершение первого уровня требует от игрока выполнения одного из двух условий:\n",
    "\n",
    "- Победа над первым врагом\n",
    "- Реализация проекта - разработка орбитальной сборки спутников\n",
    "\n",
    "**Задача:**\n",
    "\n",
    "Проанализировать поведения игроков в зависимости от источника перехода.\n",
    "\n",
    "- Провести исследовательский анализ данных;\n",
    "- Проанализировать влияние источника перехода в игру на поведение пользователя;\n",
    "- Проверить статистические гипотезы:\n",
    "    1. *Проверить гипотезу: время завершения уровня различается в зависимости способа прохождения:*\n",
    "        - *через реализацию проекта,*\n",
    "        - *через победу над первым игроком.*\n",
    "    2. *Сформулируйте собственную статистическую гипотезу. Дополните её нулевой и альтернативной гипотезами. Проверьте гипотезу с помощью статистического теста.*"
   ]
  },
  {
   "cell_type": "markdown",
   "metadata": {
    "id": "OswUt0UJoXbl"
   },
   "source": [
    "## Описание данных"
   ]
  },
  {
   "cell_type": "markdown",
   "metadata": {
    "id": "6NiQt_gWoCsA"
   },
   "source": [
    "В датасете содержатся данные первых пользователей приложения — когорты пользователей, которые начали пользоваться приложением в период с 4 по 10 мая включительно.\n",
    "\n",
    "Датасет *game_actions.csv*:\n",
    "\n",
    "- `event_datetime` — время события;\n",
    "- `event` — одно из трёх событий:\n",
    "    1. `building` — объект построен,\n",
    "    2. `finished_stage_1` — первый уровень завершён,\n",
    "    3. `project` — проект завершён;\n",
    "- `building_type` — один из трёх типов здания:\n",
    "    1. `assembly_shop` — сборочный цех,\n",
    "    2. `spaceport` — космопорт,\n",
    "    3. `research_center` — исследовательский центр;\n",
    "- `user_id` — идентификатор пользователя;\n",
    "- `project_type` — тип реализованного проекта;\n",
    "\n",
    "Помимо основного датасета есть два датасета с информацией о рекламных активностях. Они также помогут в решении задачи.\n",
    "\n",
    "Датасет *ad_costs.csv*:\n",
    "\n",
    "- `day` - день, в который был совершен клик по объявлению\n",
    "- `source` - источник трафика\n",
    "- `cost` - стоимость кликов\n",
    "\n",
    "Датасет user_source.csv содержит колонки:\n",
    "\n",
    "- `user_id` - идентификатор пользователя\n",
    "- `source` - источников, с которого пришёл пользователь, установивший приложение"
   ]
  },
  {
   "cell_type": "markdown",
   "metadata": {
    "id": "Luzat186n-2a"
   },
   "source": [
    "## План действий - декомпозиция задачи"
   ]
  },
  {
   "cell_type": "markdown",
   "metadata": {
    "id": "Ke0sW2AcpMiC"
   },
   "source": [
    "1. Загрузить данные и подготовить их к анализу:\n",
    "  * Исследовать пропущенные значения;\n",
    "  * Исследовать соответствие типов;\n",
    "  * Исследовать дубликаты;\n",
    "  * Проверить корректность наименований колонок;\n",
    "  * Переименовать колонки;\n",
    "  * Удалить дубликаты;\n",
    "  * Привести типы;\n",
    "  * Заменить пропущенные значения.\n",
    "  * Добавить рассчетные данные.\n",
    "2. Провести исследовательский анализ данных. \n",
    "  * Исследовать признаки и уникальные значения каждого датасета;\n",
    "  * Исследовать пользователей, завершивших и не завершивших уровень;\n",
    "  * Исследовать пользователей, построивших максимальное число строений;\n",
    "  * Исследовать, как менялась стоимость привлечения пользователей от источника. \n",
    "3. Проанализовать влияние источника перехода в игру на поведение пользователя.\n",
    "  * Как менялось поведение пользователей со временем;\n",
    "  * Как менялось поведение пользователей в зависимости от источника. \n",
    "4. Проверить две статистические гипотезы: \n",
    "  * Время завершения уровня различается в зависимости способа прохождения,\n",
    "  * Количество построенных строений пользователем различается в зависимости источника рекламы. \n",
    "5. Сделать выводы, ответив на вопрос - какой рекламный канал наиболее перспективен. \n",
    "6. Подготовить презентацию. \n",
    "7. Сделать дашборд. "
   ]
  },
  {
   "cell_type": "markdown",
   "metadata": {
    "id": "V25QwSmkoXle"
   },
   "source": [
    "## Предобработка данных"
   ]
  },
  {
   "cell_type": "markdown",
   "metadata": {
    "id": "Lve5mFe1omFm"
   },
   "source": [
    "### Импортирование библиотек и вывод данных"
   ]
  },
  {
   "cell_type": "code",
   "execution_count": 1,
   "metadata": {
    "id": "JgXT9NjHP669"
   },
   "outputs": [],
   "source": [
    "# Импортируем библиотеки:\n",
    "import pandas as pd\n",
    "import numpy as np\n",
    "import scipy.stats as stats\n",
    "from scipy.stats import shapiro\n",
    "from scipy.stats import mannwhitneyu\n",
    "from itertools import combinations\n",
    "import datetime as dt\n",
    "from datetime import datetime, timedelta\n",
    "from matplotlib import pyplot as plt\n",
    "from pandas.plotting import register_matplotlib_converters\n",
    "import seaborn as sns\n",
    "from scipy.stats import mannwhitneyu\n",
    "\n",
    "# Закрепим формат float:\n",
    "pd.set_option('display.float_format', '{:,.2f}'.format)\n",
    "\n",
    "# Уберем предупреждения:\n",
    "import warnings\n",
    "warnings.simplefilter('ignore')\n",
    "\n",
    "# Сброс ограничений на количество выводимых данных:\n",
    "pd.set_option('display.max_rows', None)\n",
    "pd.set_option('display.max_columns', None)\n",
    "pd.set_option('display.max_colwidth', False)\n",
    "\n",
    "# конвертеры, которые позволяют использовать типы pandas в matplotlib  \n",
    "register_matplotlib_converters()\n",
    "\n",
    "# выберем единый стиль для графиков в проекте\n",
    "plt.style.use('ggplot')"
   ]
  },
  {
   "cell_type": "code",
   "execution_count": 2,
   "metadata": {
    "id": "MVLDtjPTQdU0"
   },
   "outputs": [],
   "source": [
    "# Загрузим данные:\n",
    "try: # мой путь\n",
    "    ad_costs = pd.read_csv('ad_costs.csv')\n",
    "    game_actions = pd.read_csv('game_actions.csv')\n",
    "    user_source = pd.read_csv('user_source.csv')\n",
    "except: # яндексовский путь\n",
    "    ad_costs = pd.read_csv('/datasets/ad_costs.csv')\n",
    "    game_actions = pd.read_csv('/datasets/game_actions.csv')\n",
    "    user_source = pd.read_csv('/datasets/user_source.csv')"
   ]
  },
  {
   "cell_type": "code",
   "execution_count": 3,
   "metadata": {
    "id": "jVSc2d2mQ6j5"
   },
   "outputs": [],
   "source": [
    "# Создадим фукнцию для вывода всех необходимых характеристик данных:\n",
    "def analize(table):\n",
    "    display(table.head(10))\n",
    "    print('*'*50)\n",
    "    table.info()\n",
    "    print('*'*50)\n",
    "    display(table.describe())\n",
    "    print('*'*50)\n",
    "    display(f'Число дубликатов: {table.duplicated().sum()}')"
   ]
  },
  {
   "cell_type": "code",
   "execution_count": 4,
   "metadata": {
    "colab": {
     "base_uri": "https://localhost:8080/",
     "height": 968
    },
    "id": "R1kBVRnjRBrz",
    "outputId": "225af6b2-5a58-4a42-efc0-41f71d9258b3"
   },
   "outputs": [
    {
     "data": {
      "text/html": [
       "<div>\n",
       "<style scoped>\n",
       "    .dataframe tbody tr th:only-of-type {\n",
       "        vertical-align: middle;\n",
       "    }\n",
       "\n",
       "    .dataframe tbody tr th {\n",
       "        vertical-align: top;\n",
       "    }\n",
       "\n",
       "    .dataframe thead th {\n",
       "        text-align: right;\n",
       "    }\n",
       "</style>\n",
       "<table border=\"1\" class=\"dataframe\">\n",
       "  <thead>\n",
       "    <tr style=\"text-align: right;\">\n",
       "      <th></th>\n",
       "      <th>event_datetime</th>\n",
       "      <th>event</th>\n",
       "      <th>building_type</th>\n",
       "      <th>user_id</th>\n",
       "      <th>project_type</th>\n",
       "    </tr>\n",
       "  </thead>\n",
       "  <tbody>\n",
       "    <tr>\n",
       "      <th>0</th>\n",
       "      <td>2020-05-04 00:00:01</td>\n",
       "      <td>building</td>\n",
       "      <td>assembly_shop</td>\n",
       "      <td>55e92310-cb8e-4754-b622-597e124b03de</td>\n",
       "      <td>NaN</td>\n",
       "    </tr>\n",
       "    <tr>\n",
       "      <th>1</th>\n",
       "      <td>2020-05-04 00:00:03</td>\n",
       "      <td>building</td>\n",
       "      <td>assembly_shop</td>\n",
       "      <td>c07b1c10-f477-44dc-81dc-ec82254b1347</td>\n",
       "      <td>NaN</td>\n",
       "    </tr>\n",
       "    <tr>\n",
       "      <th>2</th>\n",
       "      <td>2020-05-04 00:00:16</td>\n",
       "      <td>building</td>\n",
       "      <td>assembly_shop</td>\n",
       "      <td>6edd42cc-e753-4ff6-a947-2107cd560710</td>\n",
       "      <td>NaN</td>\n",
       "    </tr>\n",
       "    <tr>\n",
       "      <th>3</th>\n",
       "      <td>2020-05-04 00:00:16</td>\n",
       "      <td>building</td>\n",
       "      <td>assembly_shop</td>\n",
       "      <td>92c69003-d60a-444a-827f-8cc51bf6bf4c</td>\n",
       "      <td>NaN</td>\n",
       "    </tr>\n",
       "    <tr>\n",
       "      <th>4</th>\n",
       "      <td>2020-05-04 00:00:35</td>\n",
       "      <td>building</td>\n",
       "      <td>assembly_shop</td>\n",
       "      <td>cdc6bb92-0ccb-4490-9866-ef142f09139d</td>\n",
       "      <td>NaN</td>\n",
       "    </tr>\n",
       "    <tr>\n",
       "      <th>5</th>\n",
       "      <td>2020-05-04 00:00:36</td>\n",
       "      <td>building</td>\n",
       "      <td>assembly_shop</td>\n",
       "      <td>06c592ca-902d-42bb-bac3-75ce84cca159</td>\n",
       "      <td>NaN</td>\n",
       "    </tr>\n",
       "    <tr>\n",
       "      <th>6</th>\n",
       "      <td>2020-05-04 00:00:36</td>\n",
       "      <td>building</td>\n",
       "      <td>assembly_shop</td>\n",
       "      <td>4fe0f101-694b-4e31-9740-d1d87f7208ea</td>\n",
       "      <td>NaN</td>\n",
       "    </tr>\n",
       "    <tr>\n",
       "      <th>7</th>\n",
       "      <td>2020-05-04 00:00:38</td>\n",
       "      <td>building</td>\n",
       "      <td>assembly_shop</td>\n",
       "      <td>beb8ca15-33a9-465d-b47b-89aa96f89c9a</td>\n",
       "      <td>NaN</td>\n",
       "    </tr>\n",
       "    <tr>\n",
       "      <th>8</th>\n",
       "      <td>2020-05-04 00:00:44</td>\n",
       "      <td>building</td>\n",
       "      <td>assembly_shop</td>\n",
       "      <td>65a92713-5969-48b1-8945-bfefa5063887</td>\n",
       "      <td>NaN</td>\n",
       "    </tr>\n",
       "    <tr>\n",
       "      <th>9</th>\n",
       "      <td>2020-05-04 00:01:33</td>\n",
       "      <td>building</td>\n",
       "      <td>assembly_shop</td>\n",
       "      <td>fa352362-d258-472c-b295-2796ccc39fa3</td>\n",
       "      <td>NaN</td>\n",
       "    </tr>\n",
       "  </tbody>\n",
       "</table>\n",
       "</div>"
      ],
      "text/plain": [
       "        event_datetime     event  building_type  \\\n",
       "0  2020-05-04 00:00:01  building  assembly_shop   \n",
       "1  2020-05-04 00:00:03  building  assembly_shop   \n",
       "2  2020-05-04 00:00:16  building  assembly_shop   \n",
       "3  2020-05-04 00:00:16  building  assembly_shop   \n",
       "4  2020-05-04 00:00:35  building  assembly_shop   \n",
       "5  2020-05-04 00:00:36  building  assembly_shop   \n",
       "6  2020-05-04 00:00:36  building  assembly_shop   \n",
       "7  2020-05-04 00:00:38  building  assembly_shop   \n",
       "8  2020-05-04 00:00:44  building  assembly_shop   \n",
       "9  2020-05-04 00:01:33  building  assembly_shop   \n",
       "\n",
       "                                user_id project_type  \n",
       "0  55e92310-cb8e-4754-b622-597e124b03de  NaN          \n",
       "1  c07b1c10-f477-44dc-81dc-ec82254b1347  NaN          \n",
       "2  6edd42cc-e753-4ff6-a947-2107cd560710  NaN          \n",
       "3  92c69003-d60a-444a-827f-8cc51bf6bf4c  NaN          \n",
       "4  cdc6bb92-0ccb-4490-9866-ef142f09139d  NaN          \n",
       "5  06c592ca-902d-42bb-bac3-75ce84cca159  NaN          \n",
       "6  4fe0f101-694b-4e31-9740-d1d87f7208ea  NaN          \n",
       "7  beb8ca15-33a9-465d-b47b-89aa96f89c9a  NaN          \n",
       "8  65a92713-5969-48b1-8945-bfefa5063887  NaN          \n",
       "9  fa352362-d258-472c-b295-2796ccc39fa3  NaN          "
      ]
     },
     "metadata": {},
     "output_type": "display_data"
    },
    {
     "name": "stdout",
     "output_type": "stream",
     "text": [
      "**************************************************\n",
      "<class 'pandas.core.frame.DataFrame'>\n",
      "RangeIndex: 135640 entries, 0 to 135639\n",
      "Data columns (total 5 columns):\n",
      " #   Column          Non-Null Count   Dtype \n",
      "---  ------          --------------   ----- \n",
      " 0   event_datetime  135640 non-null  object\n",
      " 1   event           135640 non-null  object\n",
      " 2   building_type   127957 non-null  object\n",
      " 3   user_id         135640 non-null  object\n",
      " 4   project_type    1866 non-null    object\n",
      "dtypes: object(5)\n",
      "memory usage: 5.2+ MB\n",
      "**************************************************\n"
     ]
    },
    {
     "data": {
      "text/html": [
       "<div>\n",
       "<style scoped>\n",
       "    .dataframe tbody tr th:only-of-type {\n",
       "        vertical-align: middle;\n",
       "    }\n",
       "\n",
       "    .dataframe tbody tr th {\n",
       "        vertical-align: top;\n",
       "    }\n",
       "\n",
       "    .dataframe thead th {\n",
       "        text-align: right;\n",
       "    }\n",
       "</style>\n",
       "<table border=\"1\" class=\"dataframe\">\n",
       "  <thead>\n",
       "    <tr style=\"text-align: right;\">\n",
       "      <th></th>\n",
       "      <th>event_datetime</th>\n",
       "      <th>event</th>\n",
       "      <th>building_type</th>\n",
       "      <th>user_id</th>\n",
       "      <th>project_type</th>\n",
       "    </tr>\n",
       "  </thead>\n",
       "  <tbody>\n",
       "    <tr>\n",
       "      <th>count</th>\n",
       "      <td>135640</td>\n",
       "      <td>135640</td>\n",
       "      <td>127957</td>\n",
       "      <td>135640</td>\n",
       "      <td>1866</td>\n",
       "    </tr>\n",
       "    <tr>\n",
       "      <th>unique</th>\n",
       "      <td>128790</td>\n",
       "      <td>3</td>\n",
       "      <td>3</td>\n",
       "      <td>13576</td>\n",
       "      <td>1</td>\n",
       "    </tr>\n",
       "    <tr>\n",
       "      <th>top</th>\n",
       "      <td>2020-05-09 08:39:32</td>\n",
       "      <td>building</td>\n",
       "      <td>spaceport</td>\n",
       "      <td>bf542075-e3a2-4e79-82d8-3838e86d2a25</td>\n",
       "      <td>satellite_orbital_assembly</td>\n",
       "    </tr>\n",
       "    <tr>\n",
       "      <th>freq</th>\n",
       "      <td>4</td>\n",
       "      <td>127957</td>\n",
       "      <td>59325</td>\n",
       "      <td>22</td>\n",
       "      <td>1866</td>\n",
       "    </tr>\n",
       "  </tbody>\n",
       "</table>\n",
       "</div>"
      ],
      "text/plain": [
       "             event_datetime     event building_type  \\\n",
       "count   135640               135640    127957         \n",
       "unique  128790               3         3              \n",
       "top     2020-05-09 08:39:32  building  spaceport      \n",
       "freq    4                    127957    59325          \n",
       "\n",
       "                                     user_id                project_type  \n",
       "count   135640                                1866                        \n",
       "unique  13576                                 1                           \n",
       "top     bf542075-e3a2-4e79-82d8-3838e86d2a25  satellite_orbital_assembly  \n",
       "freq    22                                    1866                        "
      ]
     },
     "metadata": {},
     "output_type": "display_data"
    },
    {
     "name": "stdout",
     "output_type": "stream",
     "text": [
      "**************************************************\n"
     ]
    },
    {
     "data": {
      "text/plain": [
       "'Число дубликатов: 1'"
      ]
     },
     "metadata": {},
     "output_type": "display_data"
    }
   ],
   "source": [
    "# Информация о действиях в игре:\n",
    "analize(game_actions)"
   ]
  },
  {
   "cell_type": "markdown",
   "metadata": {
    "id": "KeVPahZaiU0z"
   },
   "source": [
    "Вывод: \n",
    "* Есть пропуски в столбцах building_type и project_type. \n",
    "* Есть один дубликат. Его можно удалить.\n",
    "* Тип event_datetime нужно поменять с object на datetime."
   ]
  },
  {
   "cell_type": "code",
   "execution_count": 5,
   "metadata": {
    "colab": {
     "base_uri": "https://localhost:8080/",
     "height": 54
    },
    "id": "lVhmVyTjbP3c",
    "outputId": "35dd0c3a-838d-49d5-a614-09e11606607f"
   },
   "outputs": [
    {
     "data": {
      "text/plain": [
       "'2020-05-04 00:00:01'"
      ]
     },
     "metadata": {},
     "output_type": "display_data"
    },
    {
     "data": {
      "text/plain": [
       "'2020-06-05 12:32:49'"
      ]
     },
     "execution_count": 5,
     "metadata": {},
     "output_type": "execute_result"
    }
   ],
   "source": [
    "# Посмотрим на даты:\n",
    "display(game_actions['event_datetime'].min())\n",
    "game_actions['event_datetime'].max()"
   ]
  },
  {
   "cell_type": "markdown",
   "metadata": {
    "id": "UlaDuZsqb76Z"
   },
   "source": [
    "События в игре с 4 мая по 05 июня 2020"
   ]
  },
  {
   "cell_type": "code",
   "execution_count": 6,
   "metadata": {
    "colab": {
     "base_uri": "https://localhost:8080/"
    },
    "id": "H134IZaVVUzQ",
    "outputId": "3f48579a-2c30-4bf5-9aac-0682518e1d21"
   },
   "outputs": [
    {
     "data": {
      "text/plain": [
       "array(['building', 'finished_stage_1', 'project'], dtype=object)"
      ]
     },
     "execution_count": 6,
     "metadata": {},
     "output_type": "execute_result"
    }
   ],
   "source": [
    "# Выведем тип событий:\n",
    "game_actions['event'].unique()"
   ]
  },
  {
   "cell_type": "code",
   "execution_count": 7,
   "metadata": {
    "colab": {
     "base_uri": "https://localhost:8080/"
    },
    "id": "N69etXfjVbpU",
    "outputId": "a3e6b110-62e8-4904-b0e9-e4871c643cb0"
   },
   "outputs": [
    {
     "data": {
      "text/plain": [
       "array(['assembly_shop', 'spaceport', nan, 'research_center'], dtype=object)"
      ]
     },
     "execution_count": 7,
     "metadata": {},
     "output_type": "execute_result"
    }
   ],
   "source": [
    "# Выведем тип зданий:\n",
    "game_actions['building_type'].unique()"
   ]
  },
  {
   "cell_type": "code",
   "execution_count": 8,
   "metadata": {
    "colab": {
     "base_uri": "https://localhost:8080/"
    },
    "id": "P_frjiPHVgpl",
    "outputId": "51195d30-6901-43eb-f2e9-024c7150c4b9"
   },
   "outputs": [
    {
     "data": {
      "text/plain": [
       "array([nan, 'satellite_orbital_assembly'], dtype=object)"
      ]
     },
     "execution_count": 8,
     "metadata": {},
     "output_type": "execute_result"
    }
   ],
   "source": [
    "# Выведем тип проекта:\n",
    "game_actions['project_type'].unique()"
   ]
  },
  {
   "cell_type": "code",
   "execution_count": 9,
   "metadata": {
    "colab": {
     "base_uri": "https://localhost:8080/"
    },
    "id": "umKYaNtmwJoN",
    "outputId": "7baf2b93-10e8-4969-e247-f5bccf0768a9"
   },
   "outputs": [
    {
     "name": "stdout",
     "output_type": "stream",
     "text": [
      "['satellite_orbital_assembly']\n"
     ]
    }
   ],
   "source": [
    "# Проверим есть ли какой-либо другой проект кроме орбитальной станции:\n",
    "project_events = game_actions[game_actions['event'] == 'project']\n",
    "unique_project_types = project_events['project_type'].unique()\n",
    "\n",
    "print(unique_project_types)"
   ]
  },
  {
   "cell_type": "markdown",
   "metadata": {
    "id": "RKCkgo_6xF_a"
   },
   "source": [
    "Вывод: \n",
    "* получается столбец project_type содержит только один проект и дублирует информацию game_actions['event'] == 'project'. При анализе можно project_type не учитывать. \n",
    "* Finished_stage_1 выходит подразумевает победу на врагом."
   ]
  },
  {
   "cell_type": "code",
   "execution_count": 10,
   "metadata": {
    "colab": {
     "base_uri": "https://localhost:8080/",
     "height": 206
    },
    "id": "MpEG0jLEvvg1",
    "outputId": "0704e55a-0291-4e15-fb84-6d2aa8cff07f"
   },
   "outputs": [
    {
     "data": {
      "text/html": [
       "<div>\n",
       "<style scoped>\n",
       "    .dataframe tbody tr th:only-of-type {\n",
       "        vertical-align: middle;\n",
       "    }\n",
       "\n",
       "    .dataframe tbody tr th {\n",
       "        vertical-align: top;\n",
       "    }\n",
       "\n",
       "    .dataframe thead th {\n",
       "        text-align: right;\n",
       "    }\n",
       "</style>\n",
       "<table border=\"1\" class=\"dataframe\">\n",
       "  <thead>\n",
       "    <tr style=\"text-align: right;\">\n",
       "      <th></th>\n",
       "      <th>event_datetime</th>\n",
       "      <th>event</th>\n",
       "      <th>building_type</th>\n",
       "      <th>user_id</th>\n",
       "      <th>project_type</th>\n",
       "    </tr>\n",
       "  </thead>\n",
       "  <tbody>\n",
       "    <tr>\n",
       "      <th>47121</th>\n",
       "      <td>2020-05-08 18:10:25</td>\n",
       "      <td>project</td>\n",
       "      <td>NaN</td>\n",
       "      <td>e3c66498-9d45-4000-9392-f81e6796e7da</td>\n",
       "      <td>satellite_orbital_assembly</td>\n",
       "    </tr>\n",
       "    <tr>\n",
       "      <th>57398</th>\n",
       "      <td>2020-05-09 13:49:11</td>\n",
       "      <td>project</td>\n",
       "      <td>NaN</td>\n",
       "      <td>936e7af6-8338-4703-a1df-fc6c3f5b8e34</td>\n",
       "      <td>satellite_orbital_assembly</td>\n",
       "    </tr>\n",
       "    <tr>\n",
       "      <th>58797</th>\n",
       "      <td>2020-05-09 16:19:33</td>\n",
       "      <td>project</td>\n",
       "      <td>NaN</td>\n",
       "      <td>a4491c86-c498-4f74-a56e-65c136d0e9a1</td>\n",
       "      <td>satellite_orbital_assembly</td>\n",
       "    </tr>\n",
       "    <tr>\n",
       "      <th>61174</th>\n",
       "      <td>2020-05-09 20:29:01</td>\n",
       "      <td>project</td>\n",
       "      <td>NaN</td>\n",
       "      <td>85d9e675-562b-4329-8bbd-14d3b39096be</td>\n",
       "      <td>satellite_orbital_assembly</td>\n",
       "    </tr>\n",
       "    <tr>\n",
       "      <th>63770</th>\n",
       "      <td>2020-05-10 00:57:47</td>\n",
       "      <td>project</td>\n",
       "      <td>NaN</td>\n",
       "      <td>1889ca71-3c57-4e61-9ea6-a711971bbf0a</td>\n",
       "      <td>satellite_orbital_assembly</td>\n",
       "    </tr>\n",
       "  </tbody>\n",
       "</table>\n",
       "</div>"
      ],
      "text/plain": [
       "            event_datetime    event building_type  \\\n",
       "47121  2020-05-08 18:10:25  project  NaN            \n",
       "57398  2020-05-09 13:49:11  project  NaN            \n",
       "58797  2020-05-09 16:19:33  project  NaN            \n",
       "61174  2020-05-09 20:29:01  project  NaN            \n",
       "63770  2020-05-10 00:57:47  project  NaN            \n",
       "\n",
       "                                    user_id                project_type  \n",
       "47121  e3c66498-9d45-4000-9392-f81e6796e7da  satellite_orbital_assembly  \n",
       "57398  936e7af6-8338-4703-a1df-fc6c3f5b8e34  satellite_orbital_assembly  \n",
       "58797  a4491c86-c498-4f74-a56e-65c136d0e9a1  satellite_orbital_assembly  \n",
       "61174  85d9e675-562b-4329-8bbd-14d3b39096be  satellite_orbital_assembly  \n",
       "63770  1889ca71-3c57-4e61-9ea6-a711971bbf0a  satellite_orbital_assembly  "
      ]
     },
     "execution_count": 10,
     "metadata": {},
     "output_type": "execute_result"
    }
   ],
   "source": [
    "game_actions[game_actions['project_type'] == 'satellite_orbital_assembly'].head()"
   ]
  },
  {
   "cell_type": "code",
   "execution_count": 11,
   "metadata": {
    "colab": {
     "base_uri": "https://localhost:8080/",
     "height": 1000
    },
    "id": "e5BVIucxQ_ka",
    "outputId": "f6896c0d-5d4e-4e67-92bf-a757a6864dac"
   },
   "outputs": [
    {
     "data": {
      "text/html": [
       "<div>\n",
       "<style scoped>\n",
       "    .dataframe tbody tr th:only-of-type {\n",
       "        vertical-align: middle;\n",
       "    }\n",
       "\n",
       "    .dataframe tbody tr th {\n",
       "        vertical-align: top;\n",
       "    }\n",
       "\n",
       "    .dataframe thead th {\n",
       "        text-align: right;\n",
       "    }\n",
       "</style>\n",
       "<table border=\"1\" class=\"dataframe\">\n",
       "  <thead>\n",
       "    <tr style=\"text-align: right;\">\n",
       "      <th></th>\n",
       "      <th>source</th>\n",
       "      <th>day</th>\n",
       "      <th>cost</th>\n",
       "    </tr>\n",
       "  </thead>\n",
       "  <tbody>\n",
       "    <tr>\n",
       "      <th>0</th>\n",
       "      <td>facebook_ads</td>\n",
       "      <td>2020-05-03</td>\n",
       "      <td>935.88</td>\n",
       "    </tr>\n",
       "    <tr>\n",
       "      <th>1</th>\n",
       "      <td>facebook_ads</td>\n",
       "      <td>2020-05-04</td>\n",
       "      <td>548.35</td>\n",
       "    </tr>\n",
       "    <tr>\n",
       "      <th>2</th>\n",
       "      <td>facebook_ads</td>\n",
       "      <td>2020-05-05</td>\n",
       "      <td>260.19</td>\n",
       "    </tr>\n",
       "    <tr>\n",
       "      <th>3</th>\n",
       "      <td>facebook_ads</td>\n",
       "      <td>2020-05-06</td>\n",
       "      <td>177.98</td>\n",
       "    </tr>\n",
       "    <tr>\n",
       "      <th>4</th>\n",
       "      <td>facebook_ads</td>\n",
       "      <td>2020-05-07</td>\n",
       "      <td>111.77</td>\n",
       "    </tr>\n",
       "    <tr>\n",
       "      <th>5</th>\n",
       "      <td>facebook_ads</td>\n",
       "      <td>2020-05-08</td>\n",
       "      <td>68.01</td>\n",
       "    </tr>\n",
       "    <tr>\n",
       "      <th>6</th>\n",
       "      <td>facebook_ads</td>\n",
       "      <td>2020-05-09</td>\n",
       "      <td>38.72</td>\n",
       "    </tr>\n",
       "    <tr>\n",
       "      <th>7</th>\n",
       "      <td>instagram_new_adverts</td>\n",
       "      <td>2020-05-03</td>\n",
       "      <td>943.20</td>\n",
       "    </tr>\n",
       "    <tr>\n",
       "      <th>8</th>\n",
       "      <td>instagram_new_adverts</td>\n",
       "      <td>2020-05-04</td>\n",
       "      <td>502.93</td>\n",
       "    </tr>\n",
       "    <tr>\n",
       "      <th>9</th>\n",
       "      <td>instagram_new_adverts</td>\n",
       "      <td>2020-05-05</td>\n",
       "      <td>313.97</td>\n",
       "    </tr>\n",
       "  </tbody>\n",
       "</table>\n",
       "</div>"
      ],
      "text/plain": [
       "                  source         day   cost\n",
       "0  facebook_ads           2020-05-03 935.88\n",
       "1  facebook_ads           2020-05-04 548.35\n",
       "2  facebook_ads           2020-05-05 260.19\n",
       "3  facebook_ads           2020-05-06 177.98\n",
       "4  facebook_ads           2020-05-07 111.77\n",
       "5  facebook_ads           2020-05-08 68.01 \n",
       "6  facebook_ads           2020-05-09 38.72 \n",
       "7  instagram_new_adverts  2020-05-03 943.20\n",
       "8  instagram_new_adverts  2020-05-04 502.93\n",
       "9  instagram_new_adverts  2020-05-05 313.97"
      ]
     },
     "metadata": {},
     "output_type": "display_data"
    },
    {
     "name": "stdout",
     "output_type": "stream",
     "text": [
      "**************************************************\n",
      "<class 'pandas.core.frame.DataFrame'>\n",
      "RangeIndex: 28 entries, 0 to 27\n",
      "Data columns (total 3 columns):\n",
      " #   Column  Non-Null Count  Dtype  \n",
      "---  ------  --------------  -----  \n",
      " 0   source  28 non-null     object \n",
      " 1   day     28 non-null     object \n",
      " 2   cost    28 non-null     float64\n",
      "dtypes: float64(1), object(2)\n",
      "memory usage: 800.0+ bytes\n",
      "**************************************************\n"
     ]
    },
    {
     "data": {
      "text/html": [
       "<div>\n",
       "<style scoped>\n",
       "    .dataframe tbody tr th:only-of-type {\n",
       "        vertical-align: middle;\n",
       "    }\n",
       "\n",
       "    .dataframe tbody tr th {\n",
       "        vertical-align: top;\n",
       "    }\n",
       "\n",
       "    .dataframe thead th {\n",
       "        text-align: right;\n",
       "    }\n",
       "</style>\n",
       "<table border=\"1\" class=\"dataframe\">\n",
       "  <thead>\n",
       "    <tr style=\"text-align: right;\">\n",
       "      <th></th>\n",
       "      <th>cost</th>\n",
       "    </tr>\n",
       "  </thead>\n",
       "  <tbody>\n",
       "    <tr>\n",
       "      <th>count</th>\n",
       "      <td>28.00</td>\n",
       "    </tr>\n",
       "    <tr>\n",
       "      <th>mean</th>\n",
       "      <td>271.56</td>\n",
       "    </tr>\n",
       "    <tr>\n",
       "      <th>std</th>\n",
       "      <td>286.87</td>\n",
       "    </tr>\n",
       "    <tr>\n",
       "      <th>min</th>\n",
       "      <td>23.31</td>\n",
       "    </tr>\n",
       "    <tr>\n",
       "      <th>25%</th>\n",
       "      <td>66.75</td>\n",
       "    </tr>\n",
       "    <tr>\n",
       "      <th>50%</th>\n",
       "      <td>160.06</td>\n",
       "    </tr>\n",
       "    <tr>\n",
       "      <th>75%</th>\n",
       "      <td>349.03</td>\n",
       "    </tr>\n",
       "    <tr>\n",
       "      <th>max</th>\n",
       "      <td>969.14</td>\n",
       "    </tr>\n",
       "  </tbody>\n",
       "</table>\n",
       "</div>"
      ],
      "text/plain": [
       "        cost\n",
       "count 28.00 \n",
       "mean  271.56\n",
       "std   286.87\n",
       "min   23.31 \n",
       "25%   66.75 \n",
       "50%   160.06\n",
       "75%   349.03\n",
       "max   969.14"
      ]
     },
     "metadata": {},
     "output_type": "display_data"
    },
    {
     "name": "stdout",
     "output_type": "stream",
     "text": [
      "**************************************************\n"
     ]
    },
    {
     "data": {
      "text/plain": [
       "'Число дубликатов: 0'"
      ]
     },
     "metadata": {},
     "output_type": "display_data"
    }
   ],
   "source": [
    "# Выведем поочередно все датасеты, первый - информация о рекламе:\n",
    "analize(ad_costs)"
   ]
  },
  {
   "cell_type": "markdown",
   "metadata": {
    "id": "SPGTIEhvgXUT"
   },
   "source": [
    "**Вывод:** Дубликатов и пропусков нет, но date нужно поменять тип данных. "
   ]
  },
  {
   "cell_type": "code",
   "execution_count": 12,
   "metadata": {
    "colab": {
     "base_uri": "https://localhost:8080/",
     "height": 54
    },
    "id": "3-x6xA6wbopl",
    "outputId": "2a934ac2-c792-4978-c5ce-068e0cc2e80f"
   },
   "outputs": [
    {
     "data": {
      "text/plain": [
       "'2020-05-03'"
      ]
     },
     "metadata": {},
     "output_type": "display_data"
    },
    {
     "data": {
      "text/plain": [
       "'2020-05-09'"
      ]
     },
     "execution_count": 12,
     "metadata": {},
     "output_type": "execute_result"
    }
   ],
   "source": [
    "# Посмотрим на даты:\n",
    "display(ad_costs['day'].min())\n",
    "ad_costs['day'].max()"
   ]
  },
  {
   "cell_type": "markdown",
   "metadata": {
    "id": "DFjkw-71bwlp"
   },
   "source": [
    "Данные по рекламе с 3 по 9 мая 2020. При этом данные о действиях пользователей с 04 мая. "
   ]
  },
  {
   "cell_type": "code",
   "execution_count": 13,
   "metadata": {
    "colab": {
     "base_uri": "https://localhost:8080/"
    },
    "id": "8FoiPeGYU9OR",
    "outputId": "6aa2d974-10d2-4b32-ed9f-ce6b04e44046"
   },
   "outputs": [
    {
     "data": {
      "text/plain": [
       "array(['facebook_ads', 'instagram_new_adverts', 'yandex_direct',\n",
       "       'youtube_channel_reklama'], dtype=object)"
      ]
     },
     "execution_count": 13,
     "metadata": {},
     "output_type": "execute_result"
    }
   ],
   "source": [
    "# Выведем источники рекламы:\n",
    "ad_costs['source'].unique()"
   ]
  },
  {
   "cell_type": "code",
   "execution_count": 14,
   "metadata": {
    "colab": {
     "base_uri": "https://localhost:8080/",
     "height": 861
    },
    "id": "uKehzp94RHpA",
    "outputId": "80d5dc70-233e-4eb7-a260-af4f7b37c350"
   },
   "outputs": [
    {
     "data": {
      "text/html": [
       "<div>\n",
       "<style scoped>\n",
       "    .dataframe tbody tr th:only-of-type {\n",
       "        vertical-align: middle;\n",
       "    }\n",
       "\n",
       "    .dataframe tbody tr th {\n",
       "        vertical-align: top;\n",
       "    }\n",
       "\n",
       "    .dataframe thead th {\n",
       "        text-align: right;\n",
       "    }\n",
       "</style>\n",
       "<table border=\"1\" class=\"dataframe\">\n",
       "  <thead>\n",
       "    <tr style=\"text-align: right;\">\n",
       "      <th></th>\n",
       "      <th>user_id</th>\n",
       "      <th>source</th>\n",
       "    </tr>\n",
       "  </thead>\n",
       "  <tbody>\n",
       "    <tr>\n",
       "      <th>0</th>\n",
       "      <td>0001f83c-c6ac-4621-b7f0-8a28b283ac30</td>\n",
       "      <td>facebook_ads</td>\n",
       "    </tr>\n",
       "    <tr>\n",
       "      <th>1</th>\n",
       "      <td>00151b4f-ba38-44a8-a650-d7cf130a0105</td>\n",
       "      <td>yandex_direct</td>\n",
       "    </tr>\n",
       "    <tr>\n",
       "      <th>2</th>\n",
       "      <td>001aaea6-3d14-43f1-8ca8-7f48820f17aa</td>\n",
       "      <td>youtube_channel_reklama</td>\n",
       "    </tr>\n",
       "    <tr>\n",
       "      <th>3</th>\n",
       "      <td>001d39dc-366c-4021-9604-6a3b9ff01e25</td>\n",
       "      <td>instagram_new_adverts</td>\n",
       "    </tr>\n",
       "    <tr>\n",
       "      <th>4</th>\n",
       "      <td>002f508f-67b6-479f-814b-b05f00d4e995</td>\n",
       "      <td>facebook_ads</td>\n",
       "    </tr>\n",
       "    <tr>\n",
       "      <th>5</th>\n",
       "      <td>003b80c6-4164-4157-bb2a-03d0181d39c4</td>\n",
       "      <td>yandex_direct</td>\n",
       "    </tr>\n",
       "    <tr>\n",
       "      <th>6</th>\n",
       "      <td>003ee7e8-6356-4286-a715-62f22a18d2a1</td>\n",
       "      <td>instagram_new_adverts</td>\n",
       "    </tr>\n",
       "    <tr>\n",
       "      <th>7</th>\n",
       "      <td>004074f8-251a-4776-922c-8348dca1a2f6</td>\n",
       "      <td>facebook_ads</td>\n",
       "    </tr>\n",
       "    <tr>\n",
       "      <th>8</th>\n",
       "      <td>00440efd-aa50-4b4b-aae8-ffcd1782729d</td>\n",
       "      <td>facebook_ads</td>\n",
       "    </tr>\n",
       "    <tr>\n",
       "      <th>9</th>\n",
       "      <td>00464e5e-28ed-4be6-bf44-517ef7b3937b</td>\n",
       "      <td>yandex_direct</td>\n",
       "    </tr>\n",
       "  </tbody>\n",
       "</table>\n",
       "</div>"
      ],
      "text/plain": [
       "                                user_id                   source\n",
       "0  0001f83c-c6ac-4621-b7f0-8a28b283ac30  facebook_ads           \n",
       "1  00151b4f-ba38-44a8-a650-d7cf130a0105  yandex_direct          \n",
       "2  001aaea6-3d14-43f1-8ca8-7f48820f17aa  youtube_channel_reklama\n",
       "3  001d39dc-366c-4021-9604-6a3b9ff01e25  instagram_new_adverts  \n",
       "4  002f508f-67b6-479f-814b-b05f00d4e995  facebook_ads           \n",
       "5  003b80c6-4164-4157-bb2a-03d0181d39c4  yandex_direct          \n",
       "6  003ee7e8-6356-4286-a715-62f22a18d2a1  instagram_new_adverts  \n",
       "7  004074f8-251a-4776-922c-8348dca1a2f6  facebook_ads           \n",
       "8  00440efd-aa50-4b4b-aae8-ffcd1782729d  facebook_ads           \n",
       "9  00464e5e-28ed-4be6-bf44-517ef7b3937b  yandex_direct          "
      ]
     },
     "metadata": {},
     "output_type": "display_data"
    },
    {
     "name": "stdout",
     "output_type": "stream",
     "text": [
      "**************************************************\n",
      "<class 'pandas.core.frame.DataFrame'>\n",
      "RangeIndex: 13576 entries, 0 to 13575\n",
      "Data columns (total 2 columns):\n",
      " #   Column   Non-Null Count  Dtype \n",
      "---  ------   --------------  ----- \n",
      " 0   user_id  13576 non-null  object\n",
      " 1   source   13576 non-null  object\n",
      "dtypes: object(2)\n",
      "memory usage: 212.2+ KB\n",
      "**************************************************\n"
     ]
    },
    {
     "data": {
      "text/html": [
       "<div>\n",
       "<style scoped>\n",
       "    .dataframe tbody tr th:only-of-type {\n",
       "        vertical-align: middle;\n",
       "    }\n",
       "\n",
       "    .dataframe tbody tr th {\n",
       "        vertical-align: top;\n",
       "    }\n",
       "\n",
       "    .dataframe thead th {\n",
       "        text-align: right;\n",
       "    }\n",
       "</style>\n",
       "<table border=\"1\" class=\"dataframe\">\n",
       "  <thead>\n",
       "    <tr style=\"text-align: right;\">\n",
       "      <th></th>\n",
       "      <th>user_id</th>\n",
       "      <th>source</th>\n",
       "    </tr>\n",
       "  </thead>\n",
       "  <tbody>\n",
       "    <tr>\n",
       "      <th>count</th>\n",
       "      <td>13576</td>\n",
       "      <td>13576</td>\n",
       "    </tr>\n",
       "    <tr>\n",
       "      <th>unique</th>\n",
       "      <td>13576</td>\n",
       "      <td>4</td>\n",
       "    </tr>\n",
       "    <tr>\n",
       "      <th>top</th>\n",
       "      <td>ab4ea5e6-df93-4744-abcd-9b5eee92ad5e</td>\n",
       "      <td>yandex_direct</td>\n",
       "    </tr>\n",
       "    <tr>\n",
       "      <th>freq</th>\n",
       "      <td>1</td>\n",
       "      <td>4817</td>\n",
       "    </tr>\n",
       "  </tbody>\n",
       "</table>\n",
       "</div>"
      ],
      "text/plain": [
       "                                     user_id         source\n",
       "count   13576                                 13576        \n",
       "unique  13576                                 4            \n",
       "top     ab4ea5e6-df93-4744-abcd-9b5eee92ad5e  yandex_direct\n",
       "freq    1                                     4817         "
      ]
     },
     "metadata": {},
     "output_type": "display_data"
    },
    {
     "name": "stdout",
     "output_type": "stream",
     "text": [
      "**************************************************\n"
     ]
    },
    {
     "data": {
      "text/plain": [
       "'Число дубликатов: 0'"
      ]
     },
     "metadata": {},
     "output_type": "display_data"
    }
   ],
   "source": [
    "# Информация об источниках рекламы:\n",
    "analize(user_source)"
   ]
  },
  {
   "cell_type": "markdown",
   "metadata": {
    "id": "QkqBttXtmVsw"
   },
   "source": [
    "**Вывод:** Дубликатов и пропусков нет. "
   ]
  },
  {
   "cell_type": "markdown",
   "metadata": {
    "id": "zy9ilPK5B1HZ"
   },
   "source": [
    "**Выводы:** \n",
    "* Необходимо удалить дубликат,\n",
    "* Изменить тип данных в столбцах с датой,\n",
    "* Сместить дату в датасете с рекламой на 1 день.\n",
    "* project_type можно не учитывать в анализе, тк он повторяет значение project в столбце event.\n",
    "* Значение finished_stage_1 это победа над первым врагом и завершение первого уровня. "
   ]
  },
  {
   "cell_type": "markdown",
   "metadata": {
    "id": "KyzQabGjmtDW"
   },
   "source": [
    "### Предобработка данных"
   ]
  },
  {
   "cell_type": "code",
   "execution_count": 15,
   "metadata": {
    "colab": {
     "base_uri": "https://localhost:8080/"
    },
    "id": "KtgAsSE9RMUE",
    "outputId": "868b8f08-0eff-4062-9df6-b4c0b36c3ffb"
   },
   "outputs": [
    {
     "data": {
      "text/plain": [
       "0"
      ]
     },
     "execution_count": 15,
     "metadata": {},
     "output_type": "execute_result"
    }
   ],
   "source": [
    "# Удалим дубликат:\n",
    "game_actions = game_actions.drop_duplicates()\n",
    "game_actions.duplicated().sum()"
   ]
  },
  {
   "cell_type": "code",
   "execution_count": 16,
   "metadata": {
    "colab": {
     "base_uri": "https://localhost:8080/",
     "height": 438
    },
    "id": "VYSHljgeoKzs",
    "outputId": "edc2e55e-92ec-40f7-91d3-98b4565c17b3"
   },
   "outputs": [
    {
     "name": "stdout",
     "output_type": "stream",
     "text": [
      "<class 'pandas.core.frame.DataFrame'>\n",
      "Int64Index: 135639 entries, 0 to 135639\n",
      "Data columns (total 6 columns):\n",
      " #   Column          Non-Null Count   Dtype         \n",
      "---  ------          --------------   -----         \n",
      " 0   event_datetime  135639 non-null  datetime64[ns]\n",
      " 1   event           135639 non-null  object        \n",
      " 2   building_type   127956 non-null  object        \n",
      " 3   user_id         135639 non-null  object        \n",
      " 4   project_type    1866 non-null    object        \n",
      " 5   date            135639 non-null  object        \n",
      "dtypes: datetime64[ns](1), object(5)\n",
      "memory usage: 7.2+ MB\n"
     ]
    },
    {
     "data": {
      "text/html": [
       "<div>\n",
       "<style scoped>\n",
       "    .dataframe tbody tr th:only-of-type {\n",
       "        vertical-align: middle;\n",
       "    }\n",
       "\n",
       "    .dataframe tbody tr th {\n",
       "        vertical-align: top;\n",
       "    }\n",
       "\n",
       "    .dataframe thead th {\n",
       "        text-align: right;\n",
       "    }\n",
       "</style>\n",
       "<table border=\"1\" class=\"dataframe\">\n",
       "  <thead>\n",
       "    <tr style=\"text-align: right;\">\n",
       "      <th></th>\n",
       "      <th>event_datetime</th>\n",
       "      <th>event</th>\n",
       "      <th>building_type</th>\n",
       "      <th>user_id</th>\n",
       "      <th>project_type</th>\n",
       "      <th>date</th>\n",
       "    </tr>\n",
       "  </thead>\n",
       "  <tbody>\n",
       "    <tr>\n",
       "      <th>0</th>\n",
       "      <td>2020-05-04 00:00:01</td>\n",
       "      <td>building</td>\n",
       "      <td>assembly_shop</td>\n",
       "      <td>55e92310-cb8e-4754-b622-597e124b03de</td>\n",
       "      <td>NaN</td>\n",
       "      <td>2020-05-04</td>\n",
       "    </tr>\n",
       "    <tr>\n",
       "      <th>1</th>\n",
       "      <td>2020-05-04 00:00:03</td>\n",
       "      <td>building</td>\n",
       "      <td>assembly_shop</td>\n",
       "      <td>c07b1c10-f477-44dc-81dc-ec82254b1347</td>\n",
       "      <td>NaN</td>\n",
       "      <td>2020-05-04</td>\n",
       "    </tr>\n",
       "    <tr>\n",
       "      <th>2</th>\n",
       "      <td>2020-05-04 00:00:16</td>\n",
       "      <td>building</td>\n",
       "      <td>assembly_shop</td>\n",
       "      <td>6edd42cc-e753-4ff6-a947-2107cd560710</td>\n",
       "      <td>NaN</td>\n",
       "      <td>2020-05-04</td>\n",
       "    </tr>\n",
       "    <tr>\n",
       "      <th>3</th>\n",
       "      <td>2020-05-04 00:00:16</td>\n",
       "      <td>building</td>\n",
       "      <td>assembly_shop</td>\n",
       "      <td>92c69003-d60a-444a-827f-8cc51bf6bf4c</td>\n",
       "      <td>NaN</td>\n",
       "      <td>2020-05-04</td>\n",
       "    </tr>\n",
       "    <tr>\n",
       "      <th>4</th>\n",
       "      <td>2020-05-04 00:00:35</td>\n",
       "      <td>building</td>\n",
       "      <td>assembly_shop</td>\n",
       "      <td>cdc6bb92-0ccb-4490-9866-ef142f09139d</td>\n",
       "      <td>NaN</td>\n",
       "      <td>2020-05-04</td>\n",
       "    </tr>\n",
       "  </tbody>\n",
       "</table>\n",
       "</div>"
      ],
      "text/plain": [
       "       event_datetime     event  building_type  \\\n",
       "0 2020-05-04 00:00:01  building  assembly_shop   \n",
       "1 2020-05-04 00:00:03  building  assembly_shop   \n",
       "2 2020-05-04 00:00:16  building  assembly_shop   \n",
       "3 2020-05-04 00:00:16  building  assembly_shop   \n",
       "4 2020-05-04 00:00:35  building  assembly_shop   \n",
       "\n",
       "                                user_id project_type        date  \n",
       "0  55e92310-cb8e-4754-b622-597e124b03de  NaN          2020-05-04  \n",
       "1  c07b1c10-f477-44dc-81dc-ec82254b1347  NaN          2020-05-04  \n",
       "2  6edd42cc-e753-4ff6-a947-2107cd560710  NaN          2020-05-04  \n",
       "3  92c69003-d60a-444a-827f-8cc51bf6bf4c  NaN          2020-05-04  \n",
       "4  cdc6bb92-0ccb-4490-9866-ef142f09139d  NaN          2020-05-04  "
      ]
     },
     "execution_count": 16,
     "metadata": {},
     "output_type": "execute_result"
    }
   ],
   "source": [
    "# Изменим тип столбца даты и времени, а также создадим отдельный столбец дат\n",
    "game_actions['event_datetime'] = pd.to_datetime(game_actions['event_datetime'])\n",
    "game_actions['date'] = game_actions['event_datetime'].dt.date\n",
    "game_actions.info()\n",
    "game_actions.head()"
   ]
  },
  {
   "cell_type": "code",
   "execution_count": 17,
   "metadata": {
    "colab": {
     "base_uri": "https://localhost:8080/"
    },
    "id": "8CFDTM54rlQ-",
    "outputId": "f82d4583-bfe4-4543-d142-72768eb2912d"
   },
   "outputs": [
    {
     "name": "stdout",
     "output_type": "stream",
     "text": [
      "<class 'pandas.core.frame.DataFrame'>\n",
      "RangeIndex: 28 entries, 0 to 27\n",
      "Data columns (total 3 columns):\n",
      " #   Column  Non-Null Count  Dtype         \n",
      "---  ------  --------------  -----         \n",
      " 0   source  28 non-null     object        \n",
      " 1   day     28 non-null     datetime64[ns]\n",
      " 2   cost    28 non-null     float64       \n",
      "dtypes: datetime64[ns](1), float64(1), object(1)\n",
      "memory usage: 800.0+ bytes\n"
     ]
    }
   ],
   "source": [
    "# Изменим тип столбца даты также в ad_costs:\n",
    "ad_costs['day'] = pd.to_datetime(ad_costs['day'])\n",
    "ad_costs.info()"
   ]
  },
  {
   "cell_type": "code",
   "execution_count": 18,
   "metadata": {
    "colab": {
     "base_uri": "https://localhost:8080/"
    },
    "id": "YSAzg-2vtpiy",
    "outputId": "64106563-c3f1-4005-f3c7-4a9c851dee12"
   },
   "outputs": [
    {
     "name": "stdout",
     "output_type": "stream",
     "text": [
      "Уникальных пользователей в game_actions: 13576\n",
      "Уникальных пользователей в user_source: 13576\n"
     ]
    }
   ],
   "source": [
    "# Посмотрим на число уникальных пользователей в датасетах:\n",
    "print(f\"Уникальных пользователей в game_actions: {len(game_actions['user_id'].unique())}\")\n",
    "print(f\"Уникальных пользователей в user_source: {len(user_source['user_id'].unique())}\")"
   ]
  },
  {
   "cell_type": "code",
   "execution_count": 19,
   "metadata": {
    "colab": {
     "base_uri": "https://localhost:8080/",
     "height": 456
    },
    "id": "jWuy-aX0vrTq",
    "outputId": "ac1df7e7-0e25-4333-b9f8-bf0f22bcb411"
   },
   "outputs": [
    {
     "name": "stdout",
     "output_type": "stream",
     "text": [
      "<class 'pandas.core.frame.DataFrame'>\n",
      "Int64Index: 135639 entries, 0 to 135638\n",
      "Data columns (total 7 columns):\n",
      " #   Column          Non-Null Count   Dtype         \n",
      "---  ------          --------------   -----         \n",
      " 0   event_datetime  135639 non-null  datetime64[ns]\n",
      " 1   event           135639 non-null  object        \n",
      " 2   building_type   127956 non-null  object        \n",
      " 3   user_id         135639 non-null  object        \n",
      " 4   project_type    1866 non-null    object        \n",
      " 5   date            135639 non-null  object        \n",
      " 6   source          135639 non-null  object        \n",
      "dtypes: datetime64[ns](1), object(6)\n",
      "memory usage: 8.3+ MB\n"
     ]
    },
    {
     "data": {
      "text/html": [
       "<div>\n",
       "<style scoped>\n",
       "    .dataframe tbody tr th:only-of-type {\n",
       "        vertical-align: middle;\n",
       "    }\n",
       "\n",
       "    .dataframe tbody tr th {\n",
       "        vertical-align: top;\n",
       "    }\n",
       "\n",
       "    .dataframe thead th {\n",
       "        text-align: right;\n",
       "    }\n",
       "</style>\n",
       "<table border=\"1\" class=\"dataframe\">\n",
       "  <thead>\n",
       "    <tr style=\"text-align: right;\">\n",
       "      <th></th>\n",
       "      <th>event_datetime</th>\n",
       "      <th>event</th>\n",
       "      <th>building_type</th>\n",
       "      <th>user_id</th>\n",
       "      <th>project_type</th>\n",
       "      <th>date</th>\n",
       "      <th>source</th>\n",
       "    </tr>\n",
       "  </thead>\n",
       "  <tbody>\n",
       "    <tr>\n",
       "      <th>0</th>\n",
       "      <td>2020-05-04 00:00:01</td>\n",
       "      <td>building</td>\n",
       "      <td>assembly_shop</td>\n",
       "      <td>55e92310-cb8e-4754-b622-597e124b03de</td>\n",
       "      <td>NaN</td>\n",
       "      <td>2020-05-04</td>\n",
       "      <td>youtube_channel_reklama</td>\n",
       "    </tr>\n",
       "    <tr>\n",
       "      <th>1</th>\n",
       "      <td>2020-05-04 00:00:03</td>\n",
       "      <td>building</td>\n",
       "      <td>assembly_shop</td>\n",
       "      <td>c07b1c10-f477-44dc-81dc-ec82254b1347</td>\n",
       "      <td>NaN</td>\n",
       "      <td>2020-05-04</td>\n",
       "      <td>facebook_ads</td>\n",
       "    </tr>\n",
       "    <tr>\n",
       "      <th>2</th>\n",
       "      <td>2020-05-04 00:00:16</td>\n",
       "      <td>building</td>\n",
       "      <td>assembly_shop</td>\n",
       "      <td>6edd42cc-e753-4ff6-a947-2107cd560710</td>\n",
       "      <td>NaN</td>\n",
       "      <td>2020-05-04</td>\n",
       "      <td>instagram_new_adverts</td>\n",
       "    </tr>\n",
       "    <tr>\n",
       "      <th>3</th>\n",
       "      <td>2020-05-04 00:00:16</td>\n",
       "      <td>building</td>\n",
       "      <td>assembly_shop</td>\n",
       "      <td>92c69003-d60a-444a-827f-8cc51bf6bf4c</td>\n",
       "      <td>NaN</td>\n",
       "      <td>2020-05-04</td>\n",
       "      <td>facebook_ads</td>\n",
       "    </tr>\n",
       "    <tr>\n",
       "      <th>4</th>\n",
       "      <td>2020-05-04 00:00:35</td>\n",
       "      <td>building</td>\n",
       "      <td>assembly_shop</td>\n",
       "      <td>cdc6bb92-0ccb-4490-9866-ef142f09139d</td>\n",
       "      <td>NaN</td>\n",
       "      <td>2020-05-04</td>\n",
       "      <td>yandex_direct</td>\n",
       "    </tr>\n",
       "  </tbody>\n",
       "</table>\n",
       "</div>"
      ],
      "text/plain": [
       "       event_datetime     event  building_type  \\\n",
       "0 2020-05-04 00:00:01  building  assembly_shop   \n",
       "1 2020-05-04 00:00:03  building  assembly_shop   \n",
       "2 2020-05-04 00:00:16  building  assembly_shop   \n",
       "3 2020-05-04 00:00:16  building  assembly_shop   \n",
       "4 2020-05-04 00:00:35  building  assembly_shop   \n",
       "\n",
       "                                user_id project_type        date  \\\n",
       "0  55e92310-cb8e-4754-b622-597e124b03de  NaN          2020-05-04   \n",
       "1  c07b1c10-f477-44dc-81dc-ec82254b1347  NaN          2020-05-04   \n",
       "2  6edd42cc-e753-4ff6-a947-2107cd560710  NaN          2020-05-04   \n",
       "3  92c69003-d60a-444a-827f-8cc51bf6bf4c  NaN          2020-05-04   \n",
       "4  cdc6bb92-0ccb-4490-9866-ef142f09139d  NaN          2020-05-04   \n",
       "\n",
       "                    source  \n",
       "0  youtube_channel_reklama  \n",
       "1  facebook_ads             \n",
       "2  instagram_new_adverts    \n",
       "3  facebook_ads             \n",
       "4  yandex_direct            "
      ]
     },
     "execution_count": 19,
     "metadata": {},
     "output_type": "execute_result"
    }
   ],
   "source": [
    "# Добавим к датасету game_actions данные по рекламе, откуда пришел пользователь, установивший приложение:\n",
    "merged_data = game_actions.merge(user_source, on='user_id', how='left')\n",
    "merged_data.info()\n",
    "merged_data.head()"
   ]
  },
  {
   "cell_type": "markdown",
   "metadata": {
    "id": "qULCwdwXwxKU"
   },
   "source": [
    "Число данных сохранилось - 135639. "
   ]
  },
  {
   "cell_type": "code",
   "execution_count": 20,
   "metadata": {
    "colab": {
     "base_uri": "https://localhost:8080/"
    },
    "id": "v1aXdbT6wivV",
    "outputId": "be1132d9-a130-431c-ea17-6e8c99dc2774"
   },
   "outputs": [
    {
     "data": {
      "text/plain": [
       "Timestamp('2020-05-04 00:00:00')"
      ]
     },
     "execution_count": 20,
     "metadata": {},
     "output_type": "execute_result"
    }
   ],
   "source": [
    "# Необходимо поправить дату в датасете ad_costs, прибавив 1 день, тк реклама запущена 3го, а данные с 4го числа:\n",
    "ad_costs['day'] = ad_costs['day'] + pd.Timedelta(days=1)\n",
    "ad_costs['day'].min()"
   ]
  },
  {
   "cell_type": "markdown",
   "metadata": {},
   "source": [
    "Вывод: удалили дубликат, поправили тип данных, обьединили датасеты и сдвинули дату для удобства."
   ]
  },
  {
   "cell_type": "markdown",
   "metadata": {
    "id": "RcH3ztSw53e2"
   },
   "source": [
    "## Исследовательский анализ данных"
   ]
  },
  {
   "cell_type": "markdown",
   "metadata": {
    "id": "tuscTeSz6BFa"
   },
   "source": [
    "### Исследовать признаки и уникальные значения каждого датасета"
   ]
  },
  {
   "cell_type": "markdown",
   "metadata": {
    "id": "3BTLr7KG8OR3"
   },
   "source": [
    "Первым исследуем датасет game_actions совместно с user_source. "
   ]
  },
  {
   "cell_type": "code",
   "execution_count": 21,
   "metadata": {
    "colab": {
     "base_uri": "https://localhost:8080/",
     "height": 546
    },
    "id": "514-j8w758aT",
    "outputId": "91a26d3c-f72d-4e1d-ed7e-1cb7215131ed"
   },
   "outputs": [
    {
     "data": {
      "image/png": "[encoded data removed]",
      "text/plain": [
       "<Figure size 864x432 with 1 Axes>"
      ]
     },
     "metadata": {},
     "output_type": "display_data"
    }
   ],
   "source": [
    "# Посчитаем число уникальных пользователей и число их действий по датам:\n",
    "unique_users = game_actions.groupby('date')['user_id'].nunique()  \n",
    "total_users = game_actions.groupby('date')['user_id'].count()  \n",
    "\n",
    "# Объединим в один датасет\n",
    "counts = pd.DataFrame({'unique_users': unique_users, 'total_users': total_users}).reset_index()\n",
    "\n",
    "# Построим график\n",
    "plt.figure(figsize=(12, 6))\n",
    "\n",
    "unique_users_line = sns.lineplot(data=counts, x='date', y='unique_users', label='Число уникальных пользователей')\n",
    "total_users_line = sns.lineplot(data=counts, x='date', y='total_users', label='Всего событий')\n",
    "\n",
    "# Добавим первые 7 значений на график\n",
    "for i in range(7):\n",
    "    unique_users_line.text(counts.date[i], counts.unique_users[i], counts.unique_users[i], color='orange', ha='center')\n",
    "    total_users_line.text(counts.date[i], counts.total_users[i], counts.total_users[i], color='blue', ha='center')\n",
    "\n",
    "plt.xlabel('Дата')\n",
    "plt.ylabel('Количество')\n",
    "plt.legend()\n",
    "plt.show()"
   ]
  },
  {
   "cell_type": "markdown",
   "metadata": {
    "id": "-wfOoIp09iDB"
   },
   "source": [
    "Вывод: Максимальное взаимодействие с игрой было 10 мая. Данные по пользователям с игрой как раз с 4 по 10 мая и только по первому этапу игры. Скорее всего дальнейшее падение связано с отсуствием данных о новых пользователях и других уровнях игры, а имеющиеся пользователи постепенно завершили игру. "
   ]
  },
  {
   "cell_type": "code",
   "execution_count": 22,
   "metadata": {
    "colab": {
     "base_uri": "https://localhost:8080/",
     "height": 175
    },
    "id": "7Rru3Yu_1VM5",
    "outputId": "2421680f-3477-4677-e022-ffa43067c887"
   },
   "outputs": [
    {
     "data": {
      "text/html": [
       "<div>\n",
       "<style scoped>\n",
       "    .dataframe tbody tr th:only-of-type {\n",
       "        vertical-align: middle;\n",
       "    }\n",
       "\n",
       "    .dataframe tbody tr th {\n",
       "        vertical-align: top;\n",
       "    }\n",
       "\n",
       "    .dataframe thead th {\n",
       "        text-align: right;\n",
       "    }\n",
       "</style>\n",
       "<table border=\"1\" class=\"dataframe\">\n",
       "  <thead>\n",
       "    <tr style=\"text-align: right;\">\n",
       "      <th></th>\n",
       "      <th>unique</th>\n",
       "      <th>count</th>\n",
       "      <th>count_percent</th>\n",
       "      <th>event_per_user</th>\n",
       "    </tr>\n",
       "    <tr>\n",
       "      <th>event</th>\n",
       "      <th></th>\n",
       "      <th></th>\n",
       "      <th></th>\n",
       "      <th></th>\n",
       "    </tr>\n",
       "  </thead>\n",
       "  <tbody>\n",
       "    <tr>\n",
       "      <th>building</th>\n",
       "      <td>13576</td>\n",
       "      <td>127956</td>\n",
       "      <td>94.34</td>\n",
       "      <td>9.43</td>\n",
       "    </tr>\n",
       "    <tr>\n",
       "      <th>finished_stage_1</th>\n",
       "      <td>5817</td>\n",
       "      <td>5817</td>\n",
       "      <td>4.29</td>\n",
       "      <td>1.00</td>\n",
       "    </tr>\n",
       "    <tr>\n",
       "      <th>project</th>\n",
       "      <td>1866</td>\n",
       "      <td>1866</td>\n",
       "      <td>1.38</td>\n",
       "      <td>1.00</td>\n",
       "    </tr>\n",
       "  </tbody>\n",
       "</table>\n",
       "</div>"
      ],
      "text/plain": [
       "                  unique   count  count_percent  event_per_user\n",
       "event                                                          \n",
       "building          13576   127956 94.34          9.43           \n",
       "finished_stage_1  5817    5817   4.29           1.00           \n",
       "project           1866    1866   1.38           1.00           "
      ]
     },
     "execution_count": 22,
     "metadata": {},
     "output_type": "execute_result"
    }
   ],
   "source": [
    "# сгруппируем данные по событиям и вычислим число и долю событий:\n",
    "event_merge = (\n",
    "    merged_data.groupby('event')\n",
    "    .agg(unique=('user_id', 'nunique'), count=('user_id', 'count'))\n",
    "    .assign(\n",
    "        count_percent=lambda df: df['count'] / df['count'].sum() * 100,\n",
    "        event_per_user=lambda df: df['count'] / df['unique']\n",
    "    )\n",
    ")\n",
    "\n",
    "event_merge"
   ]
  },
  {
   "cell_type": "markdown",
   "metadata": {
    "id": "cILd-6j27jRk"
   },
   "source": [
    "Вывод:\n",
    "* 94% событий составляет строительство здания,\n",
    "* в среднем на одного игрока приходится 10 зданий,\n",
    "* в части завершения уровня игроки воспользовались больше победой на первым врагом, чем реализацией проекта. "
   ]
  },
  {
   "cell_type": "code",
   "execution_count": 23,
   "metadata": {
    "colab": {
     "base_uri": "https://localhost:8080/",
     "height": 570
    },
    "id": "JdA7qkJvKuw0",
    "outputId": "085b393c-b742-44cc-a1b7-56d576bb2577"
   },
   "outputs": [
    {
     "data": {
      "image/png": "[encoded data removed]",
      "text/plain": [
       "<Figure size 864x432 with 1 Axes>"
      ]
     },
     "metadata": {},
     "output_type": "display_data"
    }
   ],
   "source": [
    "# Проанализируем число событий в соотвествии с источником рекламы:\n",
    "plt.figure(figsize=(12,6))\n",
    "sns.countplot(x='source', hue='event', data=merged_data)\n",
    "plt.title('Распределение событий по рекламным источникам')\n",
    "plt.xlabel('Реклама')\n",
    "plt.ylabel('Количество')\n",
    "plt.legend(title='Событие')\n",
    "plt.show()"
   ]
  },
  {
   "cell_type": "markdown",
   "metadata": {
    "id": "WuKppR77WTH-"
   },
   "source": [
    "**Вывод:** \n",
    "* больше всего пользователей пришло с яндекс директа и инстаграмма,\n",
    "* больше всего событий по строительству зданий."
   ]
  },
  {
   "cell_type": "code",
   "execution_count": 24,
   "metadata": {
    "colab": {
     "base_uri": "https://localhost:8080/",
     "height": 175
    },
    "id": "CdN2SIGj51LJ",
    "outputId": "1b967d32-ac21-4d09-d35d-1bfec7763119"
   },
   "outputs": [
    {
     "data": {
      "text/html": [
       "<style  type=\"text/css\" >\n",
       "</style><table id=\"T_97715_\" ><thead>    <tr>        <th class=\"blank level0\" ></th>        <th class=\"col_heading level0 col0\" >unique</th>        <th class=\"col_heading level0 col1\" >count</th>        <th class=\"col_heading level0 col2\" >count_percent</th>        <th class=\"col_heading level0 col3\" >build_per_user</th>    </tr>    <tr>        <th class=\"index_name level0\" >building_type</th>        <th class=\"blank\" ></th>        <th class=\"blank\" ></th>        <th class=\"blank\" ></th>        <th class=\"blank\" ></th>    </tr></thead><tbody>\n",
       "                <tr>\n",
       "                        <th id=\"T_97715_level0_row0\" class=\"row_heading level0 row0\" >spaceport</th>\n",
       "                        <td id=\"T_97715_row0_col0\" class=\"data row0 col0\" >13231</td>\n",
       "                        <td id=\"T_97715_row0_col1\" class=\"data row0 col1\" >59325</td>\n",
       "                        <td id=\"T_97715_row0_col2\" class=\"data row0 col2\" >46.36%</td>\n",
       "                        <td id=\"T_97715_row0_col3\" class=\"data row0 col3\" >4.48</td>\n",
       "            </tr>\n",
       "            <tr>\n",
       "                        <th id=\"T_97715_level0_row1\" class=\"row_heading level0 row1\" >assembly_shop</th>\n",
       "                        <td id=\"T_97715_row1_col0\" class=\"data row1 col0\" >13576</td>\n",
       "                        <td id=\"T_97715_row1_col1\" class=\"data row1 col1\" >54494</td>\n",
       "                        <td id=\"T_97715_row1_col2\" class=\"data row1 col2\" >42.59%</td>\n",
       "                        <td id=\"T_97715_row1_col3\" class=\"data row1 col3\" >4.01</td>\n",
       "            </tr>\n",
       "            <tr>\n",
       "                        <th id=\"T_97715_level0_row2\" class=\"row_heading level0 row2\" >research_center</th>\n",
       "                        <td id=\"T_97715_row2_col0\" class=\"data row2 col0\" >7671</td>\n",
       "                        <td id=\"T_97715_row2_col1\" class=\"data row2 col1\" >14137</td>\n",
       "                        <td id=\"T_97715_row2_col2\" class=\"data row2 col2\" >11.05%</td>\n",
       "                        <td id=\"T_97715_row2_col3\" class=\"data row2 col3\" >1.84</td>\n",
       "            </tr>\n",
       "    </tbody></table>"
      ],
      "text/plain": [
       "<pandas.io.formats.style.Styler at 0x7f4d69dcf940>"
      ]
     },
     "execution_count": 24,
     "metadata": {},
     "output_type": "execute_result"
    }
   ],
   "source": [
    "# сгруппируем данные по строениям:\n",
    "building_merge = (\n",
    "    merged_data.groupby('building_type')\n",
    "    .agg(unique=('user_id', 'nunique'), count=('user_id', 'count'))\n",
    "    .assign(\n",
    "        count_percent=lambda df: df['count'] / df['count'].sum() * 100,\n",
    "        build_per_user=lambda df: df['count'] / df['unique']\n",
    "    )\n",
    "    .sort_values(by='count', ascending=False)\n",
    ")\n",
    "\n",
    "(building_merge\n",
    ".style\n",
    ".format({'count_percent': '{:.2f}%', 'build_per_user': '{:.2f}'})\n",
    ")"
   ]
  },
  {
   "cell_type": "markdown",
   "metadata": {
    "id": "h64u3AlV8ig5"
   },
   "source": [
    "Вывод: \n",
    "* больше всего построено spaceport - 46%,\n",
    "* больше всего строений на 1 пользователя также spaceport,\n",
    "* близко к spaceport assembly_shop, research_center не пользуется популярностью. "
   ]
  },
  {
   "cell_type": "code",
   "execution_count": 25,
   "metadata": {
    "colab": {
     "base_uri": "https://localhost:8080/",
     "height": 569
    },
    "id": "Z3m0ILBxWsmL",
    "outputId": "a454efda-c53f-487f-9845-1e221e828d28"
   },
   "outputs": [
    {
     "data": {
      "image/png": "[encoded data removed]",
      "text/plain": [
       "<Figure size 864x432 with 1 Axes>"
      ]
     },
     "metadata": {},
     "output_type": "display_data"
    }
   ],
   "source": [
    "# Проанализируем количество построенных зданий в соотвествии с источником рекламы:\n",
    "plt.figure(figsize=(12,6))\n",
    "sns.countplot(x='source', hue='building_type', data=merged_data)\n",
    "plt.title('Распределение вида строения в соотвествии с источником рекламы')\n",
    "plt.xlabel('Реклама')\n",
    "plt.ylabel('Количество')\n",
    "plt.legend(title='Тип строения')\n",
    "plt.show()"
   ]
  },
  {
   "cell_type": "markdown",
   "metadata": {
    "id": "IJzpI9g_Y3yC"
   },
   "source": [
    "**Вывод:** \n",
    "* больше всего пользователи строили space_port и assembly_port,\n",
    "* по рекламе лучше всего также яндекс директ и инстаграм. "
   ]
  },
  {
   "cell_type": "code",
   "execution_count": 26,
   "metadata": {
    "colab": {
     "base_uri": "https://localhost:8080/",
     "height": 481
    },
    "id": "P2U4qADCAcy3",
    "outputId": "371a2567-e265-44f3-bda4-2aed90e5fb85"
   },
   "outputs": [
    {
     "data": {
      "image/png": "[encoded data removed]",
      "text/plain": [
       "<Figure size 1080x288 with 1 Axes>"
      ]
     },
     "metadata": {},
     "output_type": "display_data"
    }
   ],
   "source": [
    "# Построим график строительства зданий по типам строений и датам:\n",
    "(game_actions.groupby(['building_type', 'date']).size().reset_index().pivot(columns='building_type', index='date', values=0)\n",
    "             [['spaceport', 'research_center', 'assembly_shop']]\n",
    "             .plot(kind='bar', stacked=True, figsize=(15,4), title='Строительство зданий по датам'))\n",
    "\n",
    "plt.xlabel('Дата')\n",
    "plt.ylabel('Количество')\n",
    "plt.legend(title='Тип строения')\n",
    "plt.show()\n"
   ]
  },
  {
   "cell_type": "markdown",
   "metadata": {
    "id": "6AZdZR_-DM1R"
   },
   "source": [
    "Вывод:\n",
    "* первое, что все строили активно это assemble_shop, при этом после даты 10 мая ее строительство прекратилось, что совпадает с датой датасета, скорее всего чтобы построить spaceport нужно построить assemble_shop.\n",
    "* research_center почти никто не строил. "
   ]
  },
  {
   "cell_type": "markdown",
   "metadata": {
    "id": "aS0CZRnp9y3A"
   },
   "source": [
    "Теперь изучим датасет ad_costs. "
   ]
  },
  {
   "cell_type": "code",
   "execution_count": 27,
   "metadata": {
    "colab": {
     "base_uri": "https://localhost:8080/",
     "height": 206
    },
    "id": "Yr8GUqEeHniQ",
    "outputId": "83d728f4-b0b9-4089-9ccd-8b94b9e8d98d"
   },
   "outputs": [
    {
     "data": {
      "text/html": [
       "<div>\n",
       "<style scoped>\n",
       "    .dataframe tbody tr th:only-of-type {\n",
       "        vertical-align: middle;\n",
       "    }\n",
       "\n",
       "    .dataframe tbody tr th {\n",
       "        vertical-align: top;\n",
       "    }\n",
       "\n",
       "    .dataframe thead th {\n",
       "        text-align: right;\n",
       "    }\n",
       "</style>\n",
       "<table border=\"1\" class=\"dataframe\">\n",
       "  <thead>\n",
       "    <tr style=\"text-align: right;\">\n",
       "      <th></th>\n",
       "      <th>sum</th>\n",
       "      <th>sum_share</th>\n",
       "    </tr>\n",
       "    <tr>\n",
       "      <th>source</th>\n",
       "      <th></th>\n",
       "      <th></th>\n",
       "    </tr>\n",
       "  </thead>\n",
       "  <tbody>\n",
       "    <tr>\n",
       "      <th>yandex_direct</th>\n",
       "      <td>2,233.11</td>\n",
       "      <td>29.37</td>\n",
       "    </tr>\n",
       "    <tr>\n",
       "      <th>instagram_new_adverts</th>\n",
       "      <td>2,161.44</td>\n",
       "      <td>28.43</td>\n",
       "    </tr>\n",
       "    <tr>\n",
       "      <th>facebook_ads</th>\n",
       "      <td>2,140.90</td>\n",
       "      <td>28.16</td>\n",
       "    </tr>\n",
       "    <tr>\n",
       "      <th>youtube_channel_reklama</th>\n",
       "      <td>1,068.12</td>\n",
       "      <td>14.05</td>\n",
       "    </tr>\n",
       "  </tbody>\n",
       "</table>\n",
       "</div>"
      ],
      "text/plain": [
       "                             sum  sum_share\n",
       "source                                     \n",
       "yandex_direct           2,233.11 29.37     \n",
       "instagram_new_adverts   2,161.44 28.43     \n",
       "facebook_ads            2,140.90 28.16     \n",
       "youtube_channel_reklama 1,068.12 14.05     "
      ]
     },
     "execution_count": 27,
     "metadata": {},
     "output_type": "execute_result"
    }
   ],
   "source": [
    "# сгруппируем данные по расходам:\n",
    "cost_merge = (\n",
    "    ad_costs.groupby('source')\n",
    "    .agg(sum=('cost', 'sum'))\n",
    "    .assign(\n",
    "        sum_share=lambda df: df['sum'] / df['sum'].sum() * 100\n",
    "    )\n",
    "    .sort_values(by='sum', ascending=False)\n",
    ")\n",
    "\n",
    "cost_merge"
   ]
  },
  {
   "cell_type": "markdown",
   "metadata": {
    "id": "fnNRRkpQIsgR"
   },
   "source": [
    "Вывод: расходы на первые три источника практически одинаковые."
   ]
  },
  {
   "cell_type": "code",
   "execution_count": 28,
   "metadata": {
    "colab": {
     "base_uri": "https://localhost:8080/",
     "height": 570
    },
    "id": "E0GhxRyPE_Mz",
    "outputId": "424ae307-c6c0-462a-9702-b462673dcd05"
   },
   "outputs": [
    {
     "data": {
      "image/png": "[encoded data removed]",
      "text/plain": [
       "<Figure size 720x432 with 1 Axes>"
      ]
     },
     "metadata": {},
     "output_type": "display_data"
    }
   ],
   "source": [
    "# Построим общие расходы по дням:\n",
    "daily_costs = ad_costs.groupby('day')['cost'].sum().reset_index()\n",
    "\n",
    "plt.figure(figsize=(10,6))\n",
    "sns.lineplot(data=daily_costs, x='day', y='cost')\n",
    "plt.title('Общие расходы на рекламу по дням')\n",
    "plt.xlabel('Дата')\n",
    "plt.ylabel('Стоимость')\n",
    "plt.show()"
   ]
  },
  {
   "cell_type": "markdown",
   "metadata": {
    "id": "3m8bSEksHO6R"
   },
   "source": [
    "Вывод: больше всего расходов было в первые три дня. "
   ]
  },
  {
   "cell_type": "code",
   "execution_count": 29,
   "metadata": {
    "colab": {
     "base_uri": "https://localhost:8080/",
     "height": 569
    },
    "id": "iY5jWsohFbmY",
    "outputId": "55877400-af31-4442-c398-bdb009590f8f"
   },
   "outputs": [
    {
     "data": {
      "image/png": "[encoded data removed]",
      "text/plain": [
       "<Figure size 720x432 with 1 Axes>"
      ]
     },
     "metadata": {},
     "output_type": "display_data"
    }
   ],
   "source": [
    "# Построим расходы по каждому источнику по дням:\n",
    "plt.figure(figsize=(10,6))\n",
    "sns.lineplot(data=ad_costs, x='day', y='cost', hue='source')\n",
    "plt.title('Расходы на рекламные источники по дням')\n",
    "plt.xlabel('Дата')\n",
    "plt.ylabel('Стоимость')\n",
    "plt.legend(title='Источник')\n",
    "plt.show()"
   ]
  },
  {
   "cell_type": "markdown",
   "metadata": {
    "id": "0ZLkU-TZHI_G"
   },
   "source": [
    "Вывод: Расходы на три источника по дням практически идентичны, выделяется только ютьюб - на него вдвое меньше расходов. "
   ]
  },
  {
   "cell_type": "markdown",
   "metadata": {
    "id": "W9431RB8AWA-"
   },
   "source": [
    "### Исследовать пользователей, завершивших и не завершивших уровень"
   ]
  },
  {
   "cell_type": "code",
   "execution_count": 30,
   "metadata": {
    "colab": {
     "base_uri": "https://localhost:8080/",
     "height": 206
    },
    "id": "4cYwYRJEa4zl",
    "outputId": "50e9d366-5180-4769-feea-1d5186dba499"
   },
   "outputs": [
    {
     "data": {
      "text/html": [
       "<div>\n",
       "<style scoped>\n",
       "    .dataframe tbody tr th:only-of-type {\n",
       "        vertical-align: middle;\n",
       "    }\n",
       "\n",
       "    .dataframe tbody tr th {\n",
       "        vertical-align: top;\n",
       "    }\n",
       "\n",
       "    .dataframe thead th {\n",
       "        text-align: right;\n",
       "    }\n",
       "</style>\n",
       "<table border=\"1\" class=\"dataframe\">\n",
       "  <thead>\n",
       "    <tr style=\"text-align: right;\">\n",
       "      <th></th>\n",
       "      <th>user_id</th>\n",
       "      <th>source</th>\n",
       "      <th>number_buildings</th>\n",
       "      <th>days_in_game</th>\n",
       "      <th>days_to_complete</th>\n",
       "      <th>is_project</th>\n",
       "      <th>completed_game</th>\n",
       "    </tr>\n",
       "  </thead>\n",
       "  <tbody>\n",
       "    <tr>\n",
       "      <th>0</th>\n",
       "      <td>0001f83c-c6ac-4621-b7f0-8a28b283ac30</td>\n",
       "      <td>facebook_ads</td>\n",
       "      <td>13</td>\n",
       "      <td>15</td>\n",
       "      <td>NaN</td>\n",
       "      <td>0</td>\n",
       "      <td>0</td>\n",
       "    </tr>\n",
       "    <tr>\n",
       "      <th>1</th>\n",
       "      <td>00151b4f-ba38-44a8-a650-d7cf130a0105</td>\n",
       "      <td>yandex_direct</td>\n",
       "      <td>9</td>\n",
       "      <td>13</td>\n",
       "      <td>NaN</td>\n",
       "      <td>0</td>\n",
       "      <td>0</td>\n",
       "    </tr>\n",
       "    <tr>\n",
       "      <th>2</th>\n",
       "      <td>001aaea6-3d14-43f1-8ca8-7f48820f17aa</td>\n",
       "      <td>youtube_channel_reklama</td>\n",
       "      <td>4</td>\n",
       "      <td>10</td>\n",
       "      <td>NaN</td>\n",
       "      <td>0</td>\n",
       "      <td>0</td>\n",
       "    </tr>\n",
       "    <tr>\n",
       "      <th>3</th>\n",
       "      <td>001d39dc-366c-4021-9604-6a3b9ff01e25</td>\n",
       "      <td>instagram_new_adverts</td>\n",
       "      <td>8</td>\n",
       "      <td>8</td>\n",
       "      <td>8.00</td>\n",
       "      <td>0</td>\n",
       "      <td>1</td>\n",
       "    </tr>\n",
       "    <tr>\n",
       "      <th>4</th>\n",
       "      <td>002f508f-67b6-479f-814b-b05f00d4e995</td>\n",
       "      <td>facebook_ads</td>\n",
       "      <td>12</td>\n",
       "      <td>18</td>\n",
       "      <td>NaN</td>\n",
       "      <td>0</td>\n",
       "      <td>0</td>\n",
       "    </tr>\n",
       "  </tbody>\n",
       "</table>\n",
       "</div>"
      ],
      "text/plain": [
       "                                user_id                   source  \\\n",
       "0  0001f83c-c6ac-4621-b7f0-8a28b283ac30  facebook_ads              \n",
       "1  00151b4f-ba38-44a8-a650-d7cf130a0105  yandex_direct             \n",
       "2  001aaea6-3d14-43f1-8ca8-7f48820f17aa  youtube_channel_reklama   \n",
       "3  001d39dc-366c-4021-9604-6a3b9ff01e25  instagram_new_adverts     \n",
       "4  002f508f-67b6-479f-814b-b05f00d4e995  facebook_ads              \n",
       "\n",
       "   number_buildings  days_in_game  days_to_complete  is_project  \\\n",
       "0  13                15           NaN                0            \n",
       "1  9                 13           NaN                0            \n",
       "2  4                 10           NaN                0            \n",
       "3  8                 8            8.00               0            \n",
       "4  12                18           NaN                0            \n",
       "\n",
       "   completed_game  \n",
       "0  0               \n",
       "1  0               \n",
       "2  0               \n",
       "3  1               \n",
       "4  0               "
      ]
     },
     "execution_count": 30,
     "metadata": {},
     "output_type": "execute_result"
    }
   ],
   "source": [
    "# Создадим датасет с информацией по пользователям, завершившим или нет уровень:\n",
    "completed_stage_users = set(game_actions[game_actions['event'] == 'finished_stage_1']['user_id'].unique())\n",
    "project_users = set(game_actions[game_actions['event'] == 'project']['user_id'].unique())\n",
    "\n",
    "users_by_completion = (user_source\n",
    "    .merge(game_actions[game_actions['event'] == 'building'].groupby('user_id')['event'].count().rename('number_buildings'), on='user_id', how='left')\n",
    "    .merge(game_actions.sort_values(by=['user_id', 'date']).groupby('user_id')['date'].agg(['first', 'last']).rename(columns={'first': 'first_date', 'last': 'last_date'}), on='user_id', how='left')\n",
    "    .merge(game_actions[game_actions['event'] == 'project'].sort_values(by=['user_id', 'date']).groupby('user_id')['date'].first().rename('date_project'), on='user_id', how='left')\n",
    "    .merge(game_actions[game_actions['event'] == 'finished_stage_1'].sort_values(by=['user_id', 'date']).groupby('user_id')['date'].first().rename('date_finished_stage_1'), on='user_id', how='left')\n",
    "    .assign(\n",
    "        days_in_game=lambda df: (df['last_date'] - df['first_date']).dt.days + 1,\n",
    "        days_to_complete=lambda df: (df['date_finished_stage_1'] - df['first_date']).dt.days + 1,\n",
    "        is_project=lambda df: df['date_project'].notna().astype(int),\n",
    "        completed_game=lambda df: df['user_id'].isin(completed_stage_users | project_users).astype(int),\n",
    "    )\n",
    "    .drop(columns=['first_date', 'last_date', 'date_project', 'date_finished_stage_1'])\n",
    ")\n",
    "\n",
    "users_by_completion.head()"
   ]
  },
  {
   "cell_type": "code",
   "execution_count": 31,
   "metadata": {
    "id": "5E0DwmhvjCaR"
   },
   "outputs": [],
   "source": [
    "# Добавим столбец со статусом завершения игры:\n",
    "final_event = game_actions[game_actions['event'].isin(['project', 'finished_stage_1'])]\n",
    "final_event = final_event.sort_values(by='date').drop_duplicates(subset='user_id', keep='last')[['user_id', 'event']]\n",
    "\n",
    "users_by_completion = users_by_completion.merge(final_event, on='user_id', how='left')\n",
    "users_by_completion['event'] = users_by_completion['event'].fillna('did_not_finish')"
   ]
  },
  {
   "cell_type": "code",
   "execution_count": 32,
   "metadata": {
    "colab": {
     "base_uri": "https://localhost:8080/",
     "height": 646
    },
    "id": "GU-EmsIqmvWM",
    "outputId": "cf890ed7-6663-40bf-e74e-111639f064ea",
    "scrolled": false
   },
   "outputs": [
    {
     "data": {
      "image/png": "[encoded data removed]",
      "text/plain": [
       "<Figure size 1008x504 with 1 Axes>"
      ]
     },
     "metadata": {},
     "output_type": "display_data"
    }
   ],
   "source": [
    "# Построим график с разбивкой числа игроков по дням и статусу завершения игры:\n",
    "plt.figure(figsize=(14, 7))\n",
    "\n",
    "sns.histplot(data=users_by_completion[users_by_completion['completed_game'] == 0]['days_in_game'], color='blue', label='Не завершен', kde=True)\n",
    "sns.histplot(data=users_by_completion[users_by_completion['completed_game'] == 1]['days_in_game'], color='red', label='Завершен', kde=True)\n",
    "\n",
    "plt.xlabel('Дней в игре')\n",
    "plt.ylabel('Число игроков')\n",
    "plt.title('Число игроков по статусу завершения игры и дням в игре')\n",
    "plt.legend(title='Статус завершения игры')\n",
    "\n",
    "plt.show()"
   ]
  },
  {
   "cell_type": "markdown",
   "metadata": {
    "id": "9PrPUObAtHyH"
   },
   "source": [
    "Вывод: Пользователи, которые завершили игру в целом дольше проводили в игре на 2-3 дня. "
   ]
  },
  {
   "cell_type": "code",
   "execution_count": 33,
   "metadata": {
    "scrolled": false
   },
   "outputs": [
    {
     "data": {
      "image/png": "[encoded data removed]",
      "text/plain": [
       "<Figure size 1008x504 with 1 Axes>"
      ]
     },
     "metadata": {},
     "output_type": "display_data"
    }
   ],
   "source": [
    "# Построим график с разбивкой числа игроков по дням и стратегии завершения игры:\n",
    "plt.figure(figsize=(14, 7))\n",
    "\n",
    "sns.histplot(data=users_by_completion[users_by_completion['is_project'] == 0]['days_in_game'], color='blue', label='Победа над врагом', kde=True)\n",
    "sns.histplot(data=users_by_completion[users_by_completion['is_project'] == 1]['days_in_game'], color='red', label='Проект', kde=True)\n",
    "\n",
    "plt.xlabel('Дней в игре')\n",
    "plt.ylabel('Число игроков')\n",
    "plt.title('Число игроков по стратегии завершения игры')\n",
    "plt.legend(title='Стратегия завершения игры')\n",
    "\n",
    "plt.show()"
   ]
  },
  {
   "cell_type": "markdown",
   "metadata": {},
   "source": [
    "Вывод: Те, кто реализуют проект больше проводят времени в игре, но при этом число таких игроков значительно меньше. Это точно повлияет на монитизацию игры, тк те, кто завершают игру через победу на игроками еньше строят."
   ]
  },
  {
   "cell_type": "code",
   "execution_count": 34,
   "metadata": {
    "colab": {
     "base_uri": "https://localhost:8080/",
     "height": 646
    },
    "id": "7fg1sz3LzeMn",
    "outputId": "8ff76ccd-d254-4f30-88f2-257d96040652"
   },
   "outputs": [
    {
     "data": {
      "image/png": "[encoded data removed]",
      "text/plain": [
       "<Figure size 1008x504 with 1 Axes>"
      ]
     },
     "metadata": {},
     "output_type": "display_data"
    }
   ],
   "source": [
    "# Построим график с разбивкой числа игроков по количеству построенных зданий и статусу завершения игры:\n",
    "plt.figure(figsize=(14, 7))\n",
    "\n",
    "sns.histplot(data=users_by_completion[users_by_completion['completed_game'] == 0]['number_buildings'], color='blue', label='Не завершен', kde=True)\n",
    "sns.histplot(data=users_by_completion[users_by_completion['completed_game'] == 1]['number_buildings'], color='red', label='Завершен', kde=True)\n",
    "\n",
    "plt.xlabel('Число зданий')\n",
    "plt.ylabel('Число игроков')\n",
    "plt.title('Число игроков по статусу завершения игры и количеству построенных зданий')\n",
    "plt.legend(title='Статус завершения игры')\n",
    "\n",
    "plt.show()"
   ]
  },
  {
   "cell_type": "markdown",
   "metadata": {
    "id": "M7nINw1p5a_-"
   },
   "source": [
    "Вывод: \n",
    "* те игроки, которые завершили игру построили 10-12 зданий,\n",
    "* те игроки, которые не завершили игру построили вдвое меньше - около 6 зданий. "
   ]
  },
  {
   "cell_type": "markdown",
   "metadata": {
    "id": "B33F8oFWAV8I"
   },
   "source": [
    "### Исследовать топ 10 пользователей, построивших максимальное число строений, какие строения они строили, завершили ли они игру или построили орбитальную станцию"
   ]
  },
  {
   "cell_type": "code",
   "execution_count": 35,
   "metadata": {
    "colab": {
     "base_uri": "https://localhost:8080/",
     "height": 915
    },
    "id": "vSZ6Jjguo4cX",
    "outputId": "15c206bd-9594-4079-8f24-93aabc6bf9aa"
   },
   "outputs": [
    {
     "data": {
      "text/html": [
       "<div>\n",
       "<style scoped>\n",
       "    .dataframe tbody tr th:only-of-type {\n",
       "        vertical-align: middle;\n",
       "    }\n",
       "\n",
       "    .dataframe tbody tr th {\n",
       "        vertical-align: top;\n",
       "    }\n",
       "\n",
       "    .dataframe thead th {\n",
       "        text-align: right;\n",
       "    }\n",
       "</style>\n",
       "<table border=\"1\" class=\"dataframe\">\n",
       "  <thead>\n",
       "    <tr style=\"text-align: right;\">\n",
       "      <th></th>\n",
       "      <th>user_id</th>\n",
       "      <th>source</th>\n",
       "      <th>number_buildings</th>\n",
       "      <th>days_in_game</th>\n",
       "      <th>days_to_complete</th>\n",
       "      <th>is_project</th>\n",
       "      <th>completed_game</th>\n",
       "      <th>event</th>\n",
       "    </tr>\n",
       "  </thead>\n",
       "  <tbody>\n",
       "    <tr>\n",
       "      <th>8799</th>\n",
       "      <td>a5add3ce-1ac4-4b97-aba0-f040efc4c1b0</td>\n",
       "      <td>facebook_ads</td>\n",
       "      <td>20</td>\n",
       "      <td>14</td>\n",
       "      <td>NaN</td>\n",
       "      <td>0</td>\n",
       "      <td>0</td>\n",
       "      <td>did_not_finish</td>\n",
       "    </tr>\n",
       "    <tr>\n",
       "      <th>8644</th>\n",
       "      <td>a2f85d5e-5a53-43ee-9d41-9e1def085562</td>\n",
       "      <td>yandex_direct</td>\n",
       "      <td>20</td>\n",
       "      <td>13</td>\n",
       "      <td>NaN</td>\n",
       "      <td>0</td>\n",
       "      <td>0</td>\n",
       "      <td>did_not_finish</td>\n",
       "    </tr>\n",
       "    <tr>\n",
       "      <th>10120</th>\n",
       "      <td>bf542075-e3a2-4e79-82d8-3838e86d2a25</td>\n",
       "      <td>facebook_ads</td>\n",
       "      <td>20</td>\n",
       "      <td>15</td>\n",
       "      <td>15.00</td>\n",
       "      <td>1</td>\n",
       "      <td>1</td>\n",
       "      <td>finished_stage_1</td>\n",
       "    </tr>\n",
       "    <tr>\n",
       "      <th>1592</th>\n",
       "      <td>1cb5b622-be18-488e-b699-6136a57eb470</td>\n",
       "      <td>yandex_direct</td>\n",
       "      <td>20</td>\n",
       "      <td>11</td>\n",
       "      <td>NaN</td>\n",
       "      <td>0</td>\n",
       "      <td>0</td>\n",
       "      <td>did_not_finish</td>\n",
       "    </tr>\n",
       "    <tr>\n",
       "      <th>11329</th>\n",
       "      <td>d6aca06a-cd75-4cd8-b8cd-240a3c163884</td>\n",
       "      <td>instagram_new_adverts</td>\n",
       "      <td>20</td>\n",
       "      <td>17</td>\n",
       "      <td>17.00</td>\n",
       "      <td>1</td>\n",
       "      <td>1</td>\n",
       "      <td>finished_stage_1</td>\n",
       "    </tr>\n",
       "    <tr>\n",
       "      <th>4139</th>\n",
       "      <td>4c5782eb-6f86-4fde-a2e6-695dc86fa928</td>\n",
       "      <td>yandex_direct</td>\n",
       "      <td>20</td>\n",
       "      <td>12</td>\n",
       "      <td>NaN</td>\n",
       "      <td>0</td>\n",
       "      <td>0</td>\n",
       "      <td>did_not_finish</td>\n",
       "    </tr>\n",
       "    <tr>\n",
       "      <th>13550</th>\n",
       "      <td>ff841992-d93b-462e-bc6e-18c24a514f36</td>\n",
       "      <td>youtube_channel_reklama</td>\n",
       "      <td>20</td>\n",
       "      <td>12</td>\n",
       "      <td>12.00</td>\n",
       "      <td>1</td>\n",
       "      <td>1</td>\n",
       "      <td>finished_stage_1</td>\n",
       "    </tr>\n",
       "    <tr>\n",
       "      <th>8814</th>\n",
       "      <td>a5f59d60-98b8-4455-ae5b-308f44715557</td>\n",
       "      <td>youtube_channel_reklama</td>\n",
       "      <td>20</td>\n",
       "      <td>14</td>\n",
       "      <td>NaN</td>\n",
       "      <td>0</td>\n",
       "      <td>0</td>\n",
       "      <td>did_not_finish</td>\n",
       "    </tr>\n",
       "    <tr>\n",
       "      <th>10937</th>\n",
       "      <td>cefc5aac-4011-4e00-becc-2634c4527713</td>\n",
       "      <td>yandex_direct</td>\n",
       "      <td>20</td>\n",
       "      <td>15</td>\n",
       "      <td>NaN</td>\n",
       "      <td>0</td>\n",
       "      <td>0</td>\n",
       "      <td>did_not_finish</td>\n",
       "    </tr>\n",
       "    <tr>\n",
       "      <th>9780</th>\n",
       "      <td>b8a01939-eb2d-4021-a1fb-c3f2a52fa176</td>\n",
       "      <td>yandex_direct</td>\n",
       "      <td>20</td>\n",
       "      <td>14</td>\n",
       "      <td>NaN</td>\n",
       "      <td>0</td>\n",
       "      <td>0</td>\n",
       "      <td>did_not_finish</td>\n",
       "    </tr>\n",
       "  </tbody>\n",
       "</table>\n",
       "</div>"
      ],
      "text/plain": [
       "                                    user_id                   source  \\\n",
       "8799   a5add3ce-1ac4-4b97-aba0-f040efc4c1b0  facebook_ads              \n",
       "8644   a2f85d5e-5a53-43ee-9d41-9e1def085562  yandex_direct             \n",
       "10120  bf542075-e3a2-4e79-82d8-3838e86d2a25  facebook_ads              \n",
       "1592   1cb5b622-be18-488e-b699-6136a57eb470  yandex_direct             \n",
       "11329  d6aca06a-cd75-4cd8-b8cd-240a3c163884  instagram_new_adverts     \n",
       "4139   4c5782eb-6f86-4fde-a2e6-695dc86fa928  yandex_direct             \n",
       "13550  ff841992-d93b-462e-bc6e-18c24a514f36  youtube_channel_reklama   \n",
       "8814   a5f59d60-98b8-4455-ae5b-308f44715557  youtube_channel_reklama   \n",
       "10937  cefc5aac-4011-4e00-becc-2634c4527713  yandex_direct             \n",
       "9780   b8a01939-eb2d-4021-a1fb-c3f2a52fa176  yandex_direct             \n",
       "\n",
       "       number_buildings  days_in_game  days_to_complete  is_project  \\\n",
       "8799   20                14           NaN                0            \n",
       "8644   20                13           NaN                0            \n",
       "10120  20                15           15.00              1            \n",
       "1592   20                11           NaN                0            \n",
       "11329  20                17           17.00              1            \n",
       "4139   20                12           NaN                0            \n",
       "13550  20                12           12.00              1            \n",
       "8814   20                14           NaN                0            \n",
       "10937  20                15           NaN                0            \n",
       "9780   20                14           NaN                0            \n",
       "\n",
       "       completed_game             event  \n",
       "8799   0               did_not_finish    \n",
       "8644   0               did_not_finish    \n",
       "10120  1               finished_stage_1  \n",
       "1592   0               did_not_finish    \n",
       "11329  1               finished_stage_1  \n",
       "4139   0               did_not_finish    \n",
       "13550  1               finished_stage_1  \n",
       "8814   0               did_not_finish    \n",
       "10937  0               did_not_finish    \n",
       "9780   0               did_not_finish    "
      ]
     },
     "metadata": {},
     "output_type": "display_data"
    },
    {
     "data": {
      "image/png": "[encoded data removed]",
      "text/plain": [
       "<Figure size 720x432 with 1 Axes>"
      ]
     },
     "metadata": {},
     "output_type": "display_data"
    }
   ],
   "source": [
    "# Получим топ 10 пользователей, построивших максимум зданий\n",
    "top_ten_builders = users_by_completion.sort_values('number_buildings', ascending=False).head(10)\n",
    "display(top_ten_builders)\n",
    "\n",
    "# Построим график\n",
    "fig, ax = plt.subplots(figsize=(10, 6))\n",
    "\n",
    "sns.barplot(data=top_ten_builders, x='user_id', y='days_in_game', hue='completed_game', dodge=False, ax=ax)\n",
    "\n",
    "ax.set_title('Топ 10 пользователей построивших здания')\n",
    "ax.set_xlabel('User ID')\n",
    "ax.set_ylabel('Число построенных зданий')\n",
    "plt.legend(title='Игра завершена')\n",
    "plt.xticks(rotation=90)\n",
    "\n",
    "plt.show()"
   ]
  },
  {
   "cell_type": "markdown",
   "metadata": {
    "id": "7aa6NS34GCnk"
   },
   "source": [
    "Вывод: получается в топ 10 строителей входят 7 строителей, которые не завершили игру, учитывая, что цель монетизации именно строительство, стоит исследовать мотивацию пользователей завершать или не завершать игру. "
   ]
  },
  {
   "cell_type": "markdown",
   "metadata": {
    "id": "M9wR_M07AVue"
   },
   "source": [
    "### Исследовать, как менялось стоимость привлечения пользователей от источника."
   ]
  },
  {
   "cell_type": "code",
   "execution_count": 36,
   "metadata": {
    "colab": {
     "base_uri": "https://localhost:8080/",
     "height": 569
    },
    "id": "aus_-hU1Y4Yi",
    "outputId": "cfc71e8b-0e3e-42e3-9c58-42b6f1133fcb"
   },
   "outputs": [
    {
     "data": {
      "image/png": "[encoded data removed]",
      "text/plain": [
       "<Figure size 720x432 with 1 Axes>"
      ]
     },
     "metadata": {},
     "output_type": "display_data"
    }
   ],
   "source": [
    "# Построим распределение расходов по рекламным источникам\n",
    "plt.figure(figsize=(10,6))\n",
    "sns.boxplot(data=ad_costs, x='source', y='cost')\n",
    "plt.title('Распределение расходов по рекламным источникам')\n",
    "plt.xlabel('Рекламный источник')\n",
    "plt.ylabel('Стоимость')\n",
    "plt.show()"
   ]
  },
  {
   "cell_type": "markdown",
   "metadata": {
    "id": "3I8bme57Fho2"
   },
   "source": [
    "Вывод: \n",
    "* Дешевле всего и меньше всего завтрат на рекламу в ютьюб,\n",
    "* Больше всего расходов и дороже всего реклама в Яндекс директе,\n",
    "* фейсбук и инстаграм стоят одинаково. "
   ]
  },
  {
   "cell_type": "code",
   "execution_count": 37,
   "metadata": {
    "colab": {
     "base_uri": "https://localhost:8080/"
    },
    "id": "3_VbQ7q2bsiV",
    "outputId": "c9c3eecd-3600-4e46-8d40-c908e6c79ce3"
   },
   "outputs": [
    {
     "data": {
      "text/plain": [
       "facebook_ads              0.79\n",
       "instagram_new_adverts     0.65\n",
       "yandex_direct             0.46\n",
       "youtube_channel_reklama   0.40\n",
       "dtype: float64"
      ]
     },
     "execution_count": 37,
     "metadata": {},
     "output_type": "execute_result"
    }
   ],
   "source": [
    "# Рассчитаем CAC на одного игрока:\n",
    "users_by_source = users_by_completion['source'].value_counts()\n",
    "\n",
    "total_costs_by_source = ad_costs.groupby('source')['cost'].sum()\n",
    "\n",
    "CAC = total_costs_by_source / users_by_source\n",
    "CAC"
   ]
  },
  {
   "cell_type": "markdown",
   "metadata": {
    "id": "HEnSc3FAcTPJ"
   },
   "source": [
    "Вывод: дороже всего реклама на фейсбуке. Реклама на Яндексе на третьем месте."
   ]
  },
  {
   "cell_type": "markdown",
   "metadata": {
    "id": "oTaGg1dSJehi"
   },
   "source": [
    "### Выводы по результатам EDA"
   ]
  },
  {
   "cell_type": "markdown",
   "metadata": {
    "id": "U3UHxSnTJoLD"
   },
   "source": [
    "- **Поведение пользователей:**\n",
    "    - Максимальное взаимодействие с игрой было 10 мая. Данные по пользователям с игрой как раз с 4 по 10 мая и только по первому этапу игры. Скорее всего дальнейшее падение связано с отсуствием данных о новых пользователях и других уровнях игры, а имеющиеся пользователи постепенно завершили игру.\n",
    "    - Пользователи, которые завершили игру в целом дольше проводили в игре на 2-3 дня.\n",
    "    - Те игроки, которые завершили игру построили 10-12 зданий, которые не завершили - 6 строений.\n",
    "    - в топ 10 строителей входят 7 строителей, которые не завершили игру, учитывая, что цель монетизации именно строительство, стоит исследовать мотивацию пользователей завершать или не завершать игру.\n",
    "- **Строительство зданий:** \n",
    "    - 94% событий составляет строительство зданий, в среднем на одного игрока приходится 10 построенных зданий. \n",
    "    - больше всего построено spaceport 46% и assembly_port 44%.\n",
    "    - первое, что все строили аквтино это assemble_shop, при этом после даты 10 мая его строительство прекратилось, что совпадает с датой датасета, скорее всего чтобы построить spaceport нужно построить assemble_shop\n",
    "- **Рекламные источники:** \n",
    "    -  больше всего расходов на рекламу было в первые три дня;\n",
    "    - больше всего пользователей пришло с яндекс директа и инстаграмма. \n",
    "    - дешевле всего и меньше всего завтрат на рекламу в ютьюб. \n",
    "    - самая дорога реклама на фейсбук, на третьем месте реклама на яндексе."
   ]
  },
  {
   "cell_type": "markdown",
   "metadata": {
    "id": "uuGcI7VYAVpp"
   },
   "source": [
    "## Проанализовать влияние источника перехода в игру на поведение пользователя"
   ]
  },
  {
   "cell_type": "markdown",
   "metadata": {
    "id": "FEqKFwszAVWh"
   },
   "source": [
    "### Как менялось поведение пользователей со временем"
   ]
  },
  {
   "cell_type": "code",
   "execution_count": 38,
   "metadata": {
    "id": "kivN11L3ZPhy"
   },
   "outputs": [],
   "source": [
    "# Cоздадим таблицу с данными по источникам перехода в игру:\n",
    "source_pivot = merged_data.pivot_table(index='date', columns='source', values='user_id', aggfunc='nunique')"
   ]
  },
  {
   "cell_type": "code",
   "execution_count": 39,
   "metadata": {
    "colab": {
     "base_uri": "https://localhost:8080/",
     "height": 492
    },
    "id": "LO3nZpHLPFPg",
    "outputId": "3358bc4c-973f-4b5a-949c-9d5881566386"
   },
   "outputs": [
    {
     "data": {
      "image/png": "[encoded data removed]",
      "text/plain": [
       "<Figure size 1008x360 with 1 Axes>"
      ]
     },
     "metadata": {},
     "output_type": "display_data"
    }
   ],
   "source": [
    "# Отобразим полученные данные:\n",
    "fig, ax = plt.subplots(figsize=(14, 5))\n",
    "source_pivot.plot(ax=ax)\n",
    "ax.set_title('Количество пользователей в разрезе источников')\n",
    "ax.set_xlabel('Дата')\n",
    "ax.set_ylabel('Количество')\n",
    "ax.legend(title='Источник')\n",
    "plt.show()"
   ]
  },
  {
   "cell_type": "markdown",
   "metadata": {
    "id": "C9lDj8_WQMw0"
   },
   "source": [
    "Вывод:\n",
    "* Рост привлечения пользователей у всех источников рекламы приблизительно одинаковый,\n",
    "* Максимальный прирост был в последний день 10 мая,\n",
    "* Больше всего принесла реклама в Яндекс директе. "
   ]
  },
  {
   "cell_type": "markdown",
   "metadata": {
    "id": "I4eWGxa5AVSN"
   },
   "source": [
    "### Как менялось поведение пользователей в зависимости от источника"
   ]
  },
  {
   "cell_type": "code",
   "execution_count": 40,
   "metadata": {
    "colab": {
     "base_uri": "https://localhost:8080/",
     "height": 238
    },
    "id": "oN6RvMumRG23",
    "outputId": "f5002bc6-ed25-4f91-90c1-89e3e1958324"
   },
   "outputs": [
    {
     "data": {
      "text/html": [
       "<div>\n",
       "<style scoped>\n",
       "    .dataframe tbody tr th:only-of-type {\n",
       "        vertical-align: middle;\n",
       "    }\n",
       "\n",
       "    .dataframe tbody tr th {\n",
       "        vertical-align: top;\n",
       "    }\n",
       "\n",
       "    .dataframe thead tr th {\n",
       "        text-align: left;\n",
       "    }\n",
       "\n",
       "    .dataframe thead tr:last-of-type th {\n",
       "        text-align: right;\n",
       "    }\n",
       "</style>\n",
       "<table border=\"1\" class=\"dataframe\">\n",
       "  <thead>\n",
       "    <tr>\n",
       "      <th></th>\n",
       "      <th colspan=\"2\" halign=\"left\">days_in_game</th>\n",
       "    </tr>\n",
       "    <tr>\n",
       "      <th></th>\n",
       "      <th>mean</th>\n",
       "      <th>median</th>\n",
       "    </tr>\n",
       "    <tr>\n",
       "      <th>source</th>\n",
       "      <th></th>\n",
       "      <th></th>\n",
       "    </tr>\n",
       "  </thead>\n",
       "  <tbody>\n",
       "    <tr>\n",
       "      <th>instagram_new_adverts</th>\n",
       "      <td>11.75</td>\n",
       "      <td>12</td>\n",
       "    </tr>\n",
       "    <tr>\n",
       "      <th>facebook_ads</th>\n",
       "      <td>11.68</td>\n",
       "      <td>12</td>\n",
       "    </tr>\n",
       "    <tr>\n",
       "      <th>yandex_direct</th>\n",
       "      <td>11.57</td>\n",
       "      <td>11</td>\n",
       "    </tr>\n",
       "    <tr>\n",
       "      <th>youtube_channel_reklama</th>\n",
       "      <td>11.55</td>\n",
       "      <td>11</td>\n",
       "    </tr>\n",
       "  </tbody>\n",
       "</table>\n",
       "</div>"
      ],
      "text/plain": [
       "                        days_in_game       \n",
       "                                mean median\n",
       "source                                     \n",
       "instagram_new_adverts   11.75         12   \n",
       "facebook_ads            11.68         12   \n",
       "yandex_direct           11.57         11   \n",
       "youtube_channel_reklama 11.55         11   "
      ]
     },
     "execution_count": 40,
     "metadata": {},
     "output_type": "execute_result"
    }
   ],
   "source": [
    "# Посчитаем среднее и медиану дней в игре по источникам рекламы\n",
    "(\n",
    "    users_by_completion[users_by_completion['days_in_game'].notna()]\n",
    "    .groupby('source')\n",
    "    .agg({'days_in_game': ['mean', 'median']})\n",
    "    .sort_values(by=('days_in_game', 'mean'), ascending=False)\n",
    ")"
   ]
  },
  {
   "cell_type": "markdown",
   "metadata": {
    "id": "OXeCNjwVWOPo"
   },
   "source": [
    "Вывод: в независимости от источника рекламы пользователи в среднем одинаково провели дней в игре. "
   ]
  },
  {
   "cell_type": "code",
   "execution_count": 41,
   "metadata": {
    "colab": {
     "base_uri": "https://localhost:8080/",
     "height": 569
    },
    "id": "olCurwUPVcGw",
    "outputId": "f6b657de-77ec-43e2-ffac-868323708b9e"
   },
   "outputs": [
    {
     "data": {
      "image/png": "[encoded data removed]",
      "text/plain": [
       "<Figure size 720x432 with 1 Axes>"
      ]
     },
     "metadata": {},
     "output_type": "display_data"
    }
   ],
   "source": [
    "# Построим боксплот по источникам рекламы:\n",
    "plt.figure(figsize=(10, 6))\n",
    "sns.boxplot(data=users_by_completion, x='source', y='days_in_game')\n",
    "plt.title('Распределение по дням в зависимости от источника рекламы')\n",
    "plt.xlabel('Источник')\n",
    "plt.ylabel('Дней в игре')\n",
    "plt.show()"
   ]
  },
  {
   "cell_type": "code",
   "execution_count": 42,
   "metadata": {
    "colab": {
     "base_uri": "https://localhost:8080/",
     "height": 569
    },
    "id": "OH8LKULDXVLL",
    "outputId": "b184c299-3203-4572-ccc1-a1c6a4dc84e9"
   },
   "outputs": [
    {
     "data": {
      "image/png": "[encoded data removed]",
      "text/plain": [
       "<Figure size 720x432 with 1 Axes>"
      ]
     },
     "metadata": {},
     "output_type": "display_data"
    }
   ],
   "source": [
    "# Добавим еще разделение по завершению игры\n",
    "plt.figure(figsize=(10, 6))\n",
    "sns.boxplot(data=users_by_completion, x='source', y='days_in_game', hue='completed_game')\n",
    "plt.title('Распределение по дням в игре по источникам и завершению игры')\n",
    "plt.xlabel('Источник')\n",
    "plt.ylabel('Дней в игре')\n",
    "plt.legend(title='Игра завершена')\n",
    "plt.show()"
   ]
  },
  {
   "cell_type": "markdown",
   "metadata": {
    "id": "wDnOQNP8Zh57"
   },
   "source": [
    "Вывод: в целом поведение пользователей в части нахождения в игре одинаковое вне зависимости от источника рекламы. "
   ]
  },
  {
   "cell_type": "code",
   "execution_count": 43,
   "metadata": {
    "colab": {
     "base_uri": "https://localhost:8080/",
     "height": 238
    },
    "id": "wwzvMkvPZtjT",
    "outputId": "956eb4a0-62cf-48bf-8240-380214dc8176"
   },
   "outputs": [
    {
     "data": {
      "text/html": [
       "<div>\n",
       "<style scoped>\n",
       "    .dataframe tbody tr th:only-of-type {\n",
       "        vertical-align: middle;\n",
       "    }\n",
       "\n",
       "    .dataframe tbody tr th {\n",
       "        vertical-align: top;\n",
       "    }\n",
       "\n",
       "    .dataframe thead tr th {\n",
       "        text-align: left;\n",
       "    }\n",
       "\n",
       "    .dataframe thead tr:last-of-type th {\n",
       "        text-align: right;\n",
       "    }\n",
       "</style>\n",
       "<table border=\"1\" class=\"dataframe\">\n",
       "  <thead>\n",
       "    <tr>\n",
       "      <th></th>\n",
       "      <th colspan=\"2\" halign=\"left\">number_buildings</th>\n",
       "    </tr>\n",
       "    <tr>\n",
       "      <th></th>\n",
       "      <th>mean</th>\n",
       "      <th>median</th>\n",
       "    </tr>\n",
       "    <tr>\n",
       "      <th>source</th>\n",
       "      <th></th>\n",
       "      <th></th>\n",
       "    </tr>\n",
       "  </thead>\n",
       "  <tbody>\n",
       "    <tr>\n",
       "      <th>facebook_ads</th>\n",
       "      <td>9.59</td>\n",
       "      <td>10</td>\n",
       "    </tr>\n",
       "    <tr>\n",
       "      <th>instagram_new_adverts</th>\n",
       "      <td>9.51</td>\n",
       "      <td>10</td>\n",
       "    </tr>\n",
       "    <tr>\n",
       "      <th>yandex_direct</th>\n",
       "      <td>9.35</td>\n",
       "      <td>10</td>\n",
       "    </tr>\n",
       "    <tr>\n",
       "      <th>youtube_channel_reklama</th>\n",
       "      <td>9.30</td>\n",
       "      <td>10</td>\n",
       "    </tr>\n",
       "  </tbody>\n",
       "</table>\n",
       "</div>"
      ],
      "text/plain": [
       "                        number_buildings       \n",
       "                                    mean median\n",
       "source                                         \n",
       "facebook_ads            9.59              10   \n",
       "instagram_new_adverts   9.51              10   \n",
       "yandex_direct           9.35              10   \n",
       "youtube_channel_reklama 9.30              10   "
      ]
     },
     "execution_count": 43,
     "metadata": {},
     "output_type": "execute_result"
    }
   ],
   "source": [
    "# Посчитаем среднее и медиану дней в игре по источникам рекламы\n",
    "(\n",
    "    users_by_completion[users_by_completion['number_buildings'].notna()]\n",
    "    .groupby('source')\n",
    "    .agg({'number_buildings': ['mean', 'median']})\n",
    "    .sort_values(by=('number_buildings', 'mean'), ascending=False)\n",
    ")"
   ]
  },
  {
   "cell_type": "code",
   "execution_count": 44,
   "metadata": {
    "colab": {
     "base_uri": "https://localhost:8080/",
     "height": 569
    },
    "id": "XkO3MoI3ahZF",
    "outputId": "f682c0d8-9a88-44ba-9dd6-2158070e6818"
   },
   "outputs": [
    {
     "data": {
      "image/png": "[encoded data removed]",
      "text/plain": [
       "<Figure size 720x432 with 1 Axes>"
      ]
     },
     "metadata": {},
     "output_type": "display_data"
    }
   ],
   "source": [
    "# Добавим еще разделение по завершению игры\n",
    "plt.figure(figsize=(10, 6))\n",
    "sns.boxplot(data=users_by_completion, x='source', y='number_buildings', hue='completed_game')\n",
    "plt.title('Распределение по количеству построенных зданий по источникам и завершению игры')\n",
    "plt.xlabel('Источник')\n",
    "plt.ylabel('Количество зданий')\n",
    "plt.legend(title='Игра завершена')\n",
    "plt.show()"
   ]
  },
  {
   "cell_type": "markdown",
   "metadata": {
    "id": "mMCNtoG_aw6G"
   },
   "source": [
    "Вывод: пользователи, которые пришли с фейсбука и инстаграма немного больше построили зданий. "
   ]
  },
  {
   "cell_type": "markdown",
   "metadata": {
    "id": "79POgZmEDVWJ"
   },
   "source": [
    "**Выводы по итогам раздела:**\n",
    "1. Как менялось поведение пользователей со временем\n",
    "    * рост привлечения пользователей у всех источников рекламы приблизительно одинаковый,\n",
    "    * максимальный прирост был в последний день 10 мая,\n",
    "    * больше всего принесла реклама в Яндекс директе.\n",
    "2. Как менялось поведение пользователей в зависимости от источника\n",
    "    * в независимости от источника рекламы пользователи в среднем одинаково провели дней в игре.\n",
    "    * в целом поведение пользователей в части нахождения в игре одинаковое вне зависимости от источника рекламы.\n",
    "    * пользователи, которые пришли с фейсбука и инстаграма немного больше построили зданий."
   ]
  },
  {
   "cell_type": "markdown",
   "metadata": {
    "id": "tEXlb0TIAVN9"
   },
   "source": [
    "## Проверить две статистические гипотезы"
   ]
  },
  {
   "cell_type": "markdown",
   "metadata": {
    "id": "MriwCQi0AVJH"
   },
   "source": [
    "### Время завершения уровня различается в зависимости от способа прохождения"
   ]
  },
  {
   "cell_type": "markdown",
   "metadata": {
    "id": "20ZKYKGWhJ48"
   },
   "source": [
    "Посчитаем статистическую значимость различий во времени завершения уровня различается в зависимости от способа прохождения через реализацию проекта или через победу над первым игроком.\n",
    "\n",
    "Сформулируем гипотезы: \n",
    "- Нулевая: различий во времени завершения уровня различается между группами нет. \n",
    "- Альтернативная: различия во времени между группами есть.\n",
    "\n",
    "Значение alpha - 0.05.\n",
    "\n",
    "Метод проверки гипотез: ttest."
   ]
  },
  {
   "cell_type": "code",
   "execution_count": 45,
   "metadata": {
    "colab": {
     "base_uri": "https://localhost:8080/"
    },
    "id": "I5SxUm7RotDw",
    "outputId": "6f48f383-e5be-4030-c2bb-ff37110c5885"
   },
   "outputs": [
    {
     "name": "stdout",
     "output_type": "stream",
     "text": [
      "Дисперсия для группы с проектом: 12.408867586757813\n",
      "Дисперсия для группы без проекта: 16.849998558288398\n",
      "Число значений в группе с проектом: 1866\n",
      "Число значений в группе без проекта: 3951\n",
      "T-test результаты: Ttest_indResult(statistic=22.379862667936553, pvalue=6.5704667556440105e-105)\n"
     ]
    }
   ],
   "source": [
    "# Разделим датасет на две группы:\n",
    "group_project = users_by_completion[(users_by_completion['completed_game'] == 1) & (users_by_completion['is_project'] == 1)]['days_to_complete']\n",
    "group_no_project = users_by_completion[(users_by_completion['completed_game'] == 1) & (users_by_completion['is_project'] == 0)]['days_to_complete']\n",
    "\n",
    "# Рассчитаем дисперсию каждой группы:\n",
    "variance_project = np.var(group_project, ddof=1)\n",
    "variance_no_project = np.var(group_no_project, ddof=1)\n",
    "\n",
    "# Посчитаем число значений каждой группы:\n",
    "count_project = len(group_project)\n",
    "count_no_project = len(group_no_project)\n",
    "\n",
    "# Проведем t-test\n",
    "results = stats.ttest_ind(group_project, group_no_project, equal_var = False)\n",
    "\n",
    "# Выведем результаты:\n",
    "print('Дисперсия для группы с проектом:', variance_project)\n",
    "print('Дисперсия для группы без проекта:', variance_no_project)\n",
    "print('Число значений в группе с проектом:', count_project)\n",
    "print('Число значений в группе без проекта:', count_no_project)\n",
    "print('T-test результаты:', results)"
   ]
  },
  {
   "cell_type": "code",
   "execution_count": 46,
   "metadata": {
    "colab": {
     "base_uri": "https://localhost:8080/"
    },
    "id": "iL5SJwQSi2ET",
    "outputId": "467d4201-262a-4af8-f33d-7418abc5fb6c"
   },
   "outputs": [
    {
     "name": "stdout",
     "output_type": "stream",
     "text": [
      "p-значение:  3.2852333778220053e-105\n",
      "Отвергаем нулевую гипотезу\n"
     ]
    }
   ],
   "source": [
    "# Выведем результаты теста:\n",
    "pvalue = results.pvalue / 2\n",
    "print('p-значение: ', pvalue)\n",
    "\n",
    "alpha = .05\n",
    "if (pvalue < alpha):\n",
    "    print(\"Отвергаем нулевую гипотезу\")\n",
    "else:\n",
    "    print(\"Не получилось отвергнуть нулевую гипотезу\")"
   ]
  },
  {
   "cell_type": "markdown",
   "metadata": {
    "id": "N6U6WE5Wnnqt"
   },
   "source": [
    "**Вывод:** Полученные  результаты показывают, что существует значительная разница в среднем количестве дней для завершения игры между двумя группами пользователей: теми, кто завершил игру через реализацию проекта, и теми, кто завершил игру, победив первого игрока.\n",
    "\n",
    "Дисперсия выше для группы игроков, победивших первого игрока (16,85), чем для группы игроков, завершивших проект (12,41). Это говорит о том, что время завершения более разбросано для первой группы.\n",
    "\n",
    "Значение t-статистики (22,38) указывает на то, что средние значения двух групп различны, и эта разница является статистически значимой, учитывая очень низкое значение p (6,57e-105).\n",
    "\n",
    "Значение p менее 0,05 обычно указывает на убедительные доказательства против нулевой гипотезы, поэтому мы отвергаем нулевую гипотезу об отсутствии различий в средних значениях. В этом случае p-значение намного ниже 0,05, поэтому есть очень веские доказательства того, что время прохождения игры зависит от способа прохождения игры.\n",
    "\n",
    "Большее t-значение предполагает, что среднее количество дней для завершения игры выше для группы пользователей, завершивших проект, чем для группы пользователей, победивших первого игрока."
   ]
  },
  {
   "cell_type": "markdown",
   "metadata": {
    "id": "eeWG5YqUA1A3"
   },
   "source": [
    "### Количество построенных строений пользователем различается в зависимости источника рекламы"
   ]
  },
  {
   "cell_type": "markdown",
   "metadata": {
    "id": "BBh58fj7vfoH"
   },
   "source": [
    "Посчитаем статистическую значимость различий в количестве построенных строений пользователем различается в зависимости источника рекламы.\n",
    "\n",
    "Сформулируем гипотезы: \n",
    "- Нулевая: различий в количестве построенных строений между группами нет. \n",
    "- Альтернативная: различия в количестве строений между группами есть.\n",
    "\n",
    "Значение alpha - 0.05.\n",
    "\n",
    "Метод проверки гипотез: ANOVA тест."
   ]
  },
  {
   "cell_type": "code",
   "execution_count": 47,
   "metadata": {
    "id": "Lo4c3kRhtU4N"
   },
   "outputs": [],
   "source": [
    "# Разделим датасеты на группы:\n",
    "group_yandex_direct = users_by_completion[users_by_completion['source'] == 'yandex_direct']['number_buildings']\n",
    "group_facebook_ads = users_by_completion[users_by_completion['source'] == 'facebook_ads']['number_buildings']\n",
    "group_instagram_new_adverts = users_by_completion[users_by_completion['source'] == 'instagram_new_adverts']['number_buildings']\n",
    "group_youtube_channel_reklama = users_by_completion[users_by_completion['source'] == 'youtube_channel_reklama']['number_buildings']"
   ]
  },
  {
   "cell_type": "markdown",
   "metadata": {
    "id": "qGkTmHWP6pTt"
   },
   "source": [
    "Чтобы провести статистическую проверку разницы количества построенных зданий в зависимости от источника рекламы, можно использовать дисперсионный анализ (ANOVA). ANOVA — это статистический метод, используемый для проверки различий между двумя или более средними значениями. \n",
    "\n",
    "Прежде чем мы выполним ANOVA, мы должны проверить, выполняются ли предположения:\n",
    "\n",
    "- Нормальность: данные должны быть нормально распределены. Это можно проверить визуально (например, с помощью графика Q-Q) или с помощью статистического теста (например, теста Шапиро-Уилка).\n",
    "- Однородность дисперсии: дисперсия среди групп должна быть примерно одинаковой. Это можно проверить с помощью теста Левена или теста Бартлетта.\n",
    "- Независимые наблюдения: наблюдения в каждой выборке должны быть независимыми друг от друга."
   ]
  },
  {
   "cell_type": "code",
   "execution_count": 48,
   "metadata": {
    "colab": {
     "base_uri": "https://localhost:8080/"
    },
    "id": "sBnepzw-5lel",
    "outputId": "f8f4b989-715a-47ae-b8c1-33ac41df8ef7"
   },
   "outputs": [
    {
     "name": "stdout",
     "output_type": "stream",
     "text": [
      "Yandex:  ShapiroResult(statistic=0.9769560098648071, pvalue=3.0329696912675797e-27)\n",
      "Facebook:  ShapiroResult(statistic=0.9792137145996094, pvalue=1.5382604807735852e-19)\n",
      "Instagram:  ShapiroResult(statistic=0.9786646366119385, pvalue=5.01192287437574e-22)\n",
      "Youtube:  ShapiroResult(statistic=0.9770610928535461, pvalue=2.1506267795788238e-20)\n"
     ]
    }
   ],
   "source": [
    "# Выполним тест Шапиро-Уилка на нормальность:\n",
    "print('Yandex: ', shapiro(group_yandex_direct))\n",
    "print('Facebook: ', shapiro(group_facebook_ads))\n",
    "print('Instagram: ', shapiro(group_instagram_new_adverts))\n",
    "print('Youtube: ', shapiro(group_youtube_channel_reklama))"
   ]
  },
  {
   "cell_type": "markdown",
   "metadata": {
    "id": "s2Cbup-g7I5H"
   },
   "source": [
    "Тк предположения ANOVA нарушаются, можно рассмотреть возможность использования непараметрических альтернатив ANOVA - Mann-Whitney U Test. "
   ]
  },
  {
   "cell_type": "code",
   "execution_count": 49,
   "metadata": {
    "colab": {
     "base_uri": "https://localhost:8080/"
    },
    "id": "sUlz0q1R7Bbs",
    "outputId": "edf32366-ef3c-4d9c-ec2c-e38d8ac5cb30"
   },
   "outputs": [
    {
     "name": "stdout",
     "output_type": "stream",
     "text": [
      "Источники: yandex_direct против facebook_ads\n",
      "Статистика=6343905.500, p=0.014\n",
      "Отвергаем нулевую гипотезу\n",
      "Источники: yandex_direct против instagram_new_adverts\n",
      "Статистика=7890472.000, p=0.102\n",
      "Отвергаем нулевую гипотезу\n",
      "Источники: yandex_direct против youtube_channel_reklama\n",
      "Статистика=6509739.500, p=0.651\n",
      "Отвергаем нулевую гипотезу\n",
      "Источники: facebook_ads против instagram_new_adverts\n",
      "Статистика=4620541.000, p=0.387\n",
      "Отвергаем нулевую гипотезу\n",
      "Источники: facebook_ads против youtube_channel_reklama\n",
      "Статистика=3807069.500, p=0.011\n",
      "Отвергаем нулевую гипотезу\n",
      "Источники: instagram_new_adverts против youtube_channel_reklama\n",
      "Статистика=4618230.000, p=0.066\n",
      "Отвергаем нулевую гипотезу\n"
     ]
    }
   ],
   "source": [
    "# Список источников\n",
    "sources = ['yandex_direct', 'facebook_ads', 'instagram_new_adverts', 'youtube_channel_reklama']\n",
    "\n",
    "# Все парные комбинации\n",
    "source_pairs = list(combinations(sources, 2))\n",
    "\n",
    "# Alpha\n",
    "alpha = 0.05\n",
    "\n",
    "# Скоректированная alpha после коррекции Bonferroni:\n",
    "corrected_alpha = alpha / len(source_pairs)\n",
    "\n",
    "# Для каждой пары\n",
    "for pair in source_pairs:\n",
    "    # Разделим данные на пары\n",
    "    group1 = users_by_completion[users_by_completion['source'] == pair[0]]['number_buildings']\n",
    "    group2 = users_by_completion[users_by_completion['source'] == pair[1]]['number_buildings']\n",
    "\n",
    "    # Проведем Mann-Whitney U test\n",
    "    stat, p = mannwhitneyu(group1, group2, alternative='two-sided')\n",
    "\n",
    "    # Выведем пары и результаты\n",
    "    print(f'Источники: {pair[0]} против {pair[1]}')\n",
    "    print(f'Статистика={stat:.3f}, p={p:.3f}')\n",
    "\n",
    "    # Интерпретация теста\n",
    "    if p > corrected_alpha:\n",
    "      print(\"Отвергаем нулевую гипотезу\")\n",
    "    else:\n",
    "      print(\"Не получилось отвергнуть нулевую гипотезу\")"
   ]
  },
  {
   "cell_type": "markdown",
   "metadata": {
    "id": "JpsKTMeM4ve1"
   },
   "source": [
    "Вывод: Mann-Whitney U test, который мы выполнили для каждой пары источников, показывает, что мы не можем отвергнуть нулевую гипотезу для всех пар источников. Другими словами, на основе этого анализа мы приходим к выводу, что распределения количества зданий, построенных пользователями, статистически одинаковы для каждой пары источников, учитывая, что p-значение превышает скорректированный альфа-уровень.\n",
    "\n",
    "Однако отказ от отклонения нулевой гипотезы не доказывает, что она верна. Это просто означает, что, основываясь на данных и тесте, который мы использовали, у нас нет достаточно веских доказательств, чтобы сказать, что распределения разные.\n",
    "\n",
    "В заключение, хотя могут быть различия, которые этот тест не обнаруживает, основываясь на проведенном анализе, мы не можем сказать, что существует статистическая разница в количестве зданий, построенных пользователями из разных источников."
   ]
  },
  {
   "cell_type": "markdown",
   "metadata": {
    "id": "ib5-tZO3A07x"
   },
   "source": [
    "## Выводы"
   ]
  },
  {
   "cell_type": "markdown",
   "metadata": {
    "id": "oz550tDgBLj9"
   },
   "source": [
    "- **Поведение пользователей:**\n",
    "    - Пользователи, которые завершили игру в целом дольше проводили в игре на 2-3 дня.\n",
    "    - Те игроки, которые завершили игру построили 10-12 зданий, которые не завершили - 6 строений.\n",
    "    - в топ 10 строителей входят 7 строителей, которые не завершили игру, учитывая, что цель монетизации именно строительство, стоит исследовать мотивацию пользователей завершать или не завершать игру.\n",
    "- **Строительство зданий:** \n",
    "    - 94% событий составляет строительство зданий, в среднем на одного игрока приходится 10 построенных зданий. \n",
    "    - больше всего построено spaceport 46% и assembly_port 44%.\n",
    "    - первое, что все строили аквтино это assemble_shop, при этом после даты 10 мая его строительство прекратилось, что совпадает с датой датасета, скорее всего чтобы построить spaceport нужно построить assemble_shop\n",
    "- **Рекламные источники:** \n",
    "    - больше всего расходов на рекламу было в первые три дня;\n",
    "    - больше всего пользователей пришло с яндекс директа и инстаграмма. \n",
    "    - дешевле всего и меньше всего завтрат на рекламу в ютьюб. \n",
    "    - самая дорога реклама на фейсбук, на третьем месте реклама на яндексе.\n",
    "- **Как менялось поведение пользователей со временем**\n",
    "    - рост привлечения пользователей у всех источников рекламы приблизительно одинаковый,\n",
    "    - максимальный прирост был в последний день 10 мая,\n",
    "    - больше всего принесла реклама в Яндекс директе.\n",
    "- ** Как менялось поведение пользователей в зависимости от источника**\n",
    "    * в независимости от источника рекламы пользователи в среднем одинаково провели дней в игре.\n",
    "    * в целом поведение пользователей в части нахождения в игре одинаковое вне зависимости от источника рекламы.\n",
    "    * пользователи, которые пришли с фейсбука и инстаграма немного больше построили зданий.\n",
    "\n",
    "**Статистическая гипотеза: Время завершения уровня различается в зависимости от способа прохождения.**\n",
    "\n",
    "Полученные результаты показывают, что существует значительная разница в среднем количестве дней для завершения игры между двумя группами пользователей: теми, кто завершил игру через реализацию проекта, и теми, кто завершил игру, победив первого игрока.\n",
    "\n",
    "**Статистическая гипотеза: Количество построенных строений пользователем различается в зависимости источника рекламы.**\n",
    "\n",
    "Mann-Whitney U test, который мы выполнили для каждой пары источников, показывает, что мы не можем отвергнуть нулевую гипотезу для всех пар источников. Другими словами, на основе этого анализа мы приходим к выводу, что распределения количества зданий, построенных пользователями, статистически одинаковы для каждой пары источников, учитывая, что p-значение превышает скорректированный альфа-уровень.\n",
    "\n",
    "**Рекомендации:**\n",
    "\n",
    "- Снизить расходы на рекламу в фейсбук и сконцентрироваться на привлечении пользователей через Яндекс Директ и Ютьюб. \n",
    "- Рассмотреть возможность найти более привлекательный обьект для строительства, чем research_center.\n",
    "- Для целей монетизации проекта следует учесть, что число тех, кто завершает игру через проект значительно меньше, все торопятся завершить первый уровень, что логично. Соотвественно следует снизить привлекательность завершения игры через поражение других игроков или вообще убрать такую возможность, и повысить завершение уровня через проект, тк длительность игры выше и больше объектов строится, соотвественно реклама больше показывается. "
   ]
  },
  {
   "cell_type": "markdown",
   "metadata": {
    "id": "-I_Qg-5oA8dj"
   },
   "source": [
    "## Презентация"
   ]
  },
  {
   "cell_type": "markdown",
   "metadata": {
    "id": "E0NqHTTLBA-Y"
   },
   "source": [
    "Ссылка на презентацию: <https://docs.google.com/presentation/d/1wxvivzzHhtr9HF3afgnoVlbbQxmMPqyEFN4Ona1PGzE/edit?usp=sharing>"
   ]
  },
  {
   "cell_type": "markdown",
   "metadata": {},
   "source": [
    "## Дашборд"
   ]
  },
  {
   "cell_type": "code",
   "execution_count": 50,
   "metadata": {},
   "outputs": [
    {
     "data": {
      "text/html": [
       "<div>\n",
       "<style scoped>\n",
       "    .dataframe tbody tr th:only-of-type {\n",
       "        vertical-align: middle;\n",
       "    }\n",
       "\n",
       "    .dataframe tbody tr th {\n",
       "        vertical-align: top;\n",
       "    }\n",
       "\n",
       "    .dataframe thead th {\n",
       "        text-align: right;\n",
       "    }\n",
       "</style>\n",
       "<table border=\"1\" class=\"dataframe\">\n",
       "  <thead>\n",
       "    <tr style=\"text-align: right;\">\n",
       "      <th></th>\n",
       "      <th>event_datetime</th>\n",
       "      <th>event</th>\n",
       "      <th>building_type</th>\n",
       "      <th>user_id</th>\n",
       "      <th>project_type</th>\n",
       "      <th>date</th>\n",
       "      <th>completed_game</th>\n",
       "    </tr>\n",
       "  </thead>\n",
       "  <tbody>\n",
       "    <tr>\n",
       "      <th>0</th>\n",
       "      <td>2020-05-04 00:00:01</td>\n",
       "      <td>building</td>\n",
       "      <td>assembly_shop</td>\n",
       "      <td>55e92310-cb8e-4754-b622-597e124b03de</td>\n",
       "      <td>NaN</td>\n",
       "      <td>2020-05-04</td>\n",
       "      <td>0</td>\n",
       "    </tr>\n",
       "    <tr>\n",
       "      <th>1</th>\n",
       "      <td>2020-05-04 00:00:03</td>\n",
       "      <td>building</td>\n",
       "      <td>assembly_shop</td>\n",
       "      <td>c07b1c10-f477-44dc-81dc-ec82254b1347</td>\n",
       "      <td>NaN</td>\n",
       "      <td>2020-05-04</td>\n",
       "      <td>1</td>\n",
       "    </tr>\n",
       "    <tr>\n",
       "      <th>2</th>\n",
       "      <td>2020-05-04 00:00:16</td>\n",
       "      <td>building</td>\n",
       "      <td>assembly_shop</td>\n",
       "      <td>6edd42cc-e753-4ff6-a947-2107cd560710</td>\n",
       "      <td>NaN</td>\n",
       "      <td>2020-05-04</td>\n",
       "      <td>1</td>\n",
       "    </tr>\n",
       "    <tr>\n",
       "      <th>3</th>\n",
       "      <td>2020-05-04 00:00:16</td>\n",
       "      <td>building</td>\n",
       "      <td>assembly_shop</td>\n",
       "      <td>92c69003-d60a-444a-827f-8cc51bf6bf4c</td>\n",
       "      <td>NaN</td>\n",
       "      <td>2020-05-04</td>\n",
       "      <td>0</td>\n",
       "    </tr>\n",
       "    <tr>\n",
       "      <th>4</th>\n",
       "      <td>2020-05-04 00:00:35</td>\n",
       "      <td>building</td>\n",
       "      <td>assembly_shop</td>\n",
       "      <td>cdc6bb92-0ccb-4490-9866-ef142f09139d</td>\n",
       "      <td>NaN</td>\n",
       "      <td>2020-05-04</td>\n",
       "      <td>1</td>\n",
       "    </tr>\n",
       "  </tbody>\n",
       "</table>\n",
       "</div>"
      ],
      "text/plain": [
       "       event_datetime     event  building_type  \\\n",
       "0 2020-05-04 00:00:01  building  assembly_shop   \n",
       "1 2020-05-04 00:00:03  building  assembly_shop   \n",
       "2 2020-05-04 00:00:16  building  assembly_shop   \n",
       "3 2020-05-04 00:00:16  building  assembly_shop   \n",
       "4 2020-05-04 00:00:35  building  assembly_shop   \n",
       "\n",
       "                                user_id project_type        date  \\\n",
       "0  55e92310-cb8e-4754-b622-597e124b03de  NaN          2020-05-04   \n",
       "1  c07b1c10-f477-44dc-81dc-ec82254b1347  NaN          2020-05-04   \n",
       "2  6edd42cc-e753-4ff6-a947-2107cd560710  NaN          2020-05-04   \n",
       "3  92c69003-d60a-444a-827f-8cc51bf6bf4c  NaN          2020-05-04   \n",
       "4  cdc6bb92-0ccb-4490-9866-ef142f09139d  NaN          2020-05-04   \n",
       "\n",
       "   completed_game  \n",
       "0  0               \n",
       "1  1               \n",
       "2  1               \n",
       "3  0               \n",
       "4  1               "
      ]
     },
     "execution_count": 50,
     "metadata": {},
     "output_type": "execute_result"
    }
   ],
   "source": [
    "dashboard_data = game_actions.assign(completed_game=lambda df: df['user_id'].isin(completed_stage_users | project_users).astype(int))\n",
    "\n",
    "dashboard_data.head()"
   ]
  },
  {
   "cell_type": "code",
   "execution_count": 51,
   "metadata": {},
   "outputs": [],
   "source": [
    "dashboard_data.to_csv('dashboard_data.csv', index=False)"
   ]
  },
  {
   "cell_type": "markdown",
   "metadata": {},
   "source": [
    "Ссылка на дашборд: <https://public.tableau.com/views/Final_project_DA/Dashboard1?:language=en-GB&publish=yes&:display_count=n&:origin=viz_share_link>"
   ]
  }
 ],
 "metadata": {
  "ExecuteTimeLog": [
   {
    "duration": 1258,
    "start_time": "2023-05-22T12:03:42.316Z"
   },
   {
    "duration": 661,
    "start_time": "2023-05-22T12:03:43.576Z"
   },
   {
    "duration": 4,
    "start_time": "2023-05-22T12:03:44.239Z"
   },
   {
    "duration": 272,
    "start_time": "2023-05-22T12:03:44.245Z"
   },
   {
    "duration": 18,
    "start_time": "2023-05-22T12:03:44.519Z"
   },
   {
    "duration": 10,
    "start_time": "2023-05-22T12:03:44.538Z"
   },
   {
    "duration": 8,
    "start_time": "2023-05-22T12:03:44.550Z"
   },
   {
    "duration": 35,
    "start_time": "2023-05-22T12:03:44.559Z"
   },
   {
    "duration": 22,
    "start_time": "2023-05-22T12:03:44.596Z"
   },
   {
    "duration": 14,
    "start_time": "2023-05-22T12:03:44.619Z"
   },
   {
    "duration": 23,
    "start_time": "2023-05-22T12:03:44.634Z"
   },
   {
    "duration": 6,
    "start_time": "2023-05-22T12:03:44.659Z"
   },
   {
    "duration": 5,
    "start_time": "2023-05-22T12:03:44.684Z"
   },
   {
    "duration": 50,
    "start_time": "2023-05-22T12:03:44.693Z"
   },
   {
    "duration": 142,
    "start_time": "2023-05-22T12:03:44.745Z"
   },
   {
    "duration": 98,
    "start_time": "2023-05-22T12:03:44.889Z"
   },
   {
    "duration": 14,
    "start_time": "2023-05-22T12:03:44.988Z"
   },
   {
    "duration": 89,
    "start_time": "2023-05-22T12:03:45.004Z"
   },
   {
    "duration": 72,
    "start_time": "2023-05-22T12:03:45.096Z"
   },
   {
    "duration": 5,
    "start_time": "2023-05-22T12:03:45.170Z"
   },
   {
    "duration": 386,
    "start_time": "2023-05-22T12:03:45.187Z"
   },
   {
    "duration": 75,
    "start_time": "2023-05-22T12:03:45.574Z"
   },
   {
    "duration": 2153,
    "start_time": "2023-05-22T12:03:45.650Z"
   },
   {
    "duration": 57,
    "start_time": "2023-05-22T12:03:47.805Z"
   },
   {
    "duration": 2349,
    "start_time": "2023-05-22T12:03:47.863Z"
   },
   {
    "duration": 454,
    "start_time": "2023-05-22T12:03:50.214Z"
   },
   {
    "duration": 24,
    "start_time": "2023-05-22T12:03:50.670Z"
   },
   {
    "duration": 167,
    "start_time": "2023-05-22T12:03:50.697Z"
   },
   {
    "duration": 268,
    "start_time": "2023-05-22T12:03:50.865Z"
   },
   {
    "duration": 394,
    "start_time": "2023-05-22T12:03:51.134Z"
   },
   {
    "duration": 22,
    "start_time": "2023-05-22T12:03:51.529Z"
   },
   {
    "duration": 430,
    "start_time": "2023-05-22T12:03:51.553Z"
   },
   {
    "duration": 357,
    "start_time": "2023-05-22T12:03:51.984Z"
   },
   {
    "duration": 336,
    "start_time": "2023-05-22T12:03:52.343Z"
   },
   {
    "duration": 173,
    "start_time": "2023-05-22T12:03:52.681Z"
   },
   {
    "duration": 8,
    "start_time": "2023-05-22T12:03:52.856Z"
   },
   {
    "duration": 127,
    "start_time": "2023-05-22T12:03:52.866Z"
   },
   {
    "duration": 241,
    "start_time": "2023-05-22T12:03:52.996Z"
   },
   {
    "duration": 14,
    "start_time": "2023-05-22T12:03:53.238Z"
   },
   {
    "duration": 241,
    "start_time": "2023-05-22T12:03:53.254Z"
   },
   {
    "duration": 446,
    "start_time": "2023-05-22T12:03:53.499Z"
   },
   {
    "duration": 14,
    "start_time": "2023-05-22T12:03:53.946Z"
   },
   {
    "duration": 578,
    "start_time": "2023-05-22T12:03:53.962Z"
   },
   {
    "duration": 10,
    "start_time": "2023-05-22T12:03:54.542Z"
   },
   {
    "duration": 16,
    "start_time": "2023-05-22T12:03:54.554Z"
   },
   {
    "duration": 20,
    "start_time": "2023-05-22T12:03:54.571Z"
   },
   {
    "duration": 40,
    "start_time": "2023-05-22T12:03:54.593Z"
   },
   {
    "duration": 85,
    "start_time": "2023-05-22T12:03:54.634Z"
   },
   {
    "duration": 215,
    "start_time": "2023-05-22T12:19:16.504Z"
   },
   {
    "duration": 54,
    "start_time": "2023-05-22T12:19:44.532Z"
   },
   {
    "duration": 65,
    "start_time": "2023-05-22T12:19:55.082Z"
   },
   {
    "duration": 135,
    "start_time": "2023-05-22T12:20:48.718Z"
   },
   {
    "duration": 74,
    "start_time": "2023-05-22T12:20:54.720Z"
   },
   {
    "duration": 1095,
    "start_time": "2023-05-22T13:12:42.272Z"
   },
   {
    "duration": 409,
    "start_time": "2023-05-22T13:12:43.370Z"
   },
   {
    "duration": 3,
    "start_time": "2023-05-22T13:12:43.781Z"
   },
   {
    "duration": 375,
    "start_time": "2023-05-22T13:12:43.786Z"
   },
   {
    "duration": 22,
    "start_time": "2023-05-22T13:12:44.163Z"
   },
   {
    "duration": 143,
    "start_time": "2023-05-22T13:12:44.186Z"
   },
   {
    "duration": 14,
    "start_time": "2023-05-22T13:12:44.330Z"
   },
   {
    "duration": 18,
    "start_time": "2023-05-22T13:12:44.345Z"
   },
   {
    "duration": 68,
    "start_time": "2023-05-22T13:12:44.365Z"
   },
   {
    "duration": 26,
    "start_time": "2023-05-22T13:12:44.435Z"
   },
   {
    "duration": 55,
    "start_time": "2023-05-22T13:12:44.463Z"
   },
   {
    "duration": 20,
    "start_time": "2023-05-22T13:12:44.519Z"
   },
   {
    "duration": 8,
    "start_time": "2023-05-22T13:12:44.540Z"
   },
   {
    "duration": 32,
    "start_time": "2023-05-22T13:12:44.551Z"
   },
   {
    "duration": 167,
    "start_time": "2023-05-22T13:12:44.595Z"
   },
   {
    "duration": 105,
    "start_time": "2023-05-22T13:12:44.764Z"
   },
   {
    "duration": 24,
    "start_time": "2023-05-22T13:12:44.870Z"
   },
   {
    "duration": 48,
    "start_time": "2023-05-22T13:12:44.907Z"
   },
   {
    "duration": 97,
    "start_time": "2023-05-22T13:12:44.956Z"
   },
   {
    "duration": 5,
    "start_time": "2023-05-22T13:12:45.054Z"
   },
   {
    "duration": 492,
    "start_time": "2023-05-22T13:12:45.062Z"
   },
   {
    "duration": 82,
    "start_time": "2023-05-22T13:12:45.556Z"
   },
   {
    "duration": 2366,
    "start_time": "2023-05-22T13:12:45.640Z"
   },
   {
    "duration": 101,
    "start_time": "2023-05-22T13:12:48.007Z"
   },
   {
    "duration": 2309,
    "start_time": "2023-05-22T13:12:48.109Z"
   },
   {
    "duration": 452,
    "start_time": "2023-05-22T13:12:50.420Z"
   },
   {
    "duration": 28,
    "start_time": "2023-05-22T13:12:50.874Z"
   },
   {
    "duration": 226,
    "start_time": "2023-05-22T13:12:50.903Z"
   },
   {
    "duration": 327,
    "start_time": "2023-05-22T13:12:51.131Z"
   },
   {
    "duration": 375,
    "start_time": "2023-05-22T13:12:51.460Z"
   },
   {
    "duration": 24,
    "start_time": "2023-05-22T13:12:51.837Z"
   },
   {
    "duration": 432,
    "start_time": "2023-05-22T13:12:51.863Z"
   },
   {
    "duration": 404,
    "start_time": "2023-05-22T13:12:52.303Z"
   },
   {
    "duration": 370,
    "start_time": "2023-05-22T13:12:52.709Z"
   },
   {
    "duration": 202,
    "start_time": "2023-05-22T13:12:53.082Z"
   },
   {
    "duration": 37,
    "start_time": "2023-05-22T13:12:53.286Z"
   },
   {
    "duration": 134,
    "start_time": "2023-05-22T13:12:53.326Z"
   },
   {
    "duration": 275,
    "start_time": "2023-05-22T13:12:53.462Z"
   },
   {
    "duration": 15,
    "start_time": "2023-05-22T13:12:53.742Z"
   },
   {
    "duration": 280,
    "start_time": "2023-05-22T13:12:53.759Z"
   },
   {
    "duration": 545,
    "start_time": "2023-05-22T13:12:54.045Z"
   },
   {
    "duration": 43,
    "start_time": "2023-05-22T13:12:54.591Z"
   },
   {
    "duration": 715,
    "start_time": "2023-05-22T13:12:54.639Z"
   },
   {
    "duration": 10,
    "start_time": "2023-05-22T13:12:55.356Z"
   },
   {
    "duration": 12,
    "start_time": "2023-05-22T13:12:55.367Z"
   },
   {
    "duration": 47,
    "start_time": "2023-05-22T13:12:55.389Z"
   },
   {
    "duration": 13,
    "start_time": "2023-05-22T13:12:55.437Z"
   },
   {
    "duration": 75,
    "start_time": "2023-05-22T13:12:55.451Z"
   },
   {
    "duration": 58,
    "start_time": "2023-05-22T15:51:01.750Z"
   },
   {
    "duration": 1801,
    "start_time": "2023-05-22T15:51:10.289Z"
   },
   {
    "duration": 1057,
    "start_time": "2023-05-22T15:51:12.092Z"
   },
   {
    "duration": 4,
    "start_time": "2023-05-22T15:51:13.151Z"
   },
   {
    "duration": 324,
    "start_time": "2023-05-22T15:51:13.157Z"
   },
   {
    "duration": 40,
    "start_time": "2023-05-22T15:51:13.483Z"
   },
   {
    "duration": 20,
    "start_time": "2023-05-22T15:51:13.525Z"
   },
   {
    "duration": 41,
    "start_time": "2023-05-22T15:51:13.546Z"
   },
   {
    "duration": 18,
    "start_time": "2023-05-22T15:51:13.589Z"
   },
   {
    "duration": 53,
    "start_time": "2023-05-22T15:51:13.609Z"
   },
   {
    "duration": 55,
    "start_time": "2023-05-22T15:51:13.666Z"
   },
   {
    "duration": 73,
    "start_time": "2023-05-22T15:51:13.723Z"
   },
   {
    "duration": 7,
    "start_time": "2023-05-22T15:51:13.798Z"
   },
   {
    "duration": 21,
    "start_time": "2023-05-22T15:51:13.806Z"
   },
   {
    "duration": 71,
    "start_time": "2023-05-22T15:51:13.829Z"
   },
   {
    "duration": 177,
    "start_time": "2023-05-22T15:51:13.901Z"
   },
   {
    "duration": 127,
    "start_time": "2023-05-22T15:51:14.080Z"
   },
   {
    "duration": 20,
    "start_time": "2023-05-22T15:51:14.209Z"
   },
   {
    "duration": 51,
    "start_time": "2023-05-22T15:51:14.231Z"
   },
   {
    "duration": 102,
    "start_time": "2023-05-22T15:51:14.283Z"
   },
   {
    "duration": 6,
    "start_time": "2023-05-22T15:51:14.386Z"
   },
   {
    "duration": 654,
    "start_time": "2023-05-22T15:51:14.394Z"
   },
   {
    "duration": 78,
    "start_time": "2023-05-22T15:51:15.050Z"
   },
   {
    "duration": 2557,
    "start_time": "2023-05-22T15:51:15.129Z"
   },
   {
    "duration": 128,
    "start_time": "2023-05-22T15:51:17.688Z"
   },
   {
    "duration": 2712,
    "start_time": "2023-05-22T15:51:17.817Z"
   },
   {
    "duration": 549,
    "start_time": "2023-05-22T15:51:20.531Z"
   },
   {
    "duration": 16,
    "start_time": "2023-05-22T15:51:21.081Z"
   },
   {
    "duration": 265,
    "start_time": "2023-05-22T15:51:21.101Z"
   },
   {
    "duration": 340,
    "start_time": "2023-05-22T15:51:21.368Z"
   },
   {
    "duration": 382,
    "start_time": "2023-05-22T15:51:21.710Z"
   },
   {
    "duration": 50,
    "start_time": "2023-05-22T15:51:22.094Z"
   },
   {
    "duration": 512,
    "start_time": "2023-05-22T15:51:22.146Z"
   },
   {
    "duration": 623,
    "start_time": "2023-05-22T15:51:22.659Z"
   },
   {
    "duration": 417,
    "start_time": "2023-05-22T15:51:23.283Z"
   },
   {
    "duration": 442,
    "start_time": "2023-05-22T15:51:23.702Z"
   },
   {
    "duration": 216,
    "start_time": "2023-05-22T15:51:24.146Z"
   },
   {
    "duration": 9,
    "start_time": "2023-05-22T15:51:24.364Z"
   },
   {
    "duration": 133,
    "start_time": "2023-05-22T15:51:24.374Z"
   },
   {
    "duration": 340,
    "start_time": "2023-05-22T15:51:24.509Z"
   },
   {
    "duration": 23,
    "start_time": "2023-05-22T15:51:24.850Z"
   },
   {
    "duration": 401,
    "start_time": "2023-05-22T15:51:24.876Z"
   },
   {
    "duration": 576,
    "start_time": "2023-05-22T15:51:25.279Z"
   },
   {
    "duration": 20,
    "start_time": "2023-05-22T15:51:25.857Z"
   },
   {
    "duration": 646,
    "start_time": "2023-05-22T15:51:25.878Z"
   },
   {
    "duration": 22,
    "start_time": "2023-05-22T15:51:26.526Z"
   },
   {
    "duration": 18,
    "start_time": "2023-05-22T15:51:26.550Z"
   },
   {
    "duration": 11,
    "start_time": "2023-05-22T15:51:26.570Z"
   },
   {
    "duration": 8,
    "start_time": "2023-05-22T15:51:26.583Z"
   },
   {
    "duration": 86,
    "start_time": "2023-05-22T15:51:26.592Z"
   },
   {
    "duration": 275,
    "start_time": "2023-05-22T15:51:26.680Z"
   },
   {
    "duration": 608,
    "start_time": "2023-05-22T15:54:40.761Z"
   },
   {
    "duration": 737,
    "start_time": "2023-05-22T15:55:36.263Z"
   },
   {
    "duration": 1262,
    "start_time": "2023-05-22T16:51:34.003Z"
   },
   {
    "duration": 804,
    "start_time": "2023-05-22T16:51:35.267Z"
   },
   {
    "duration": 4,
    "start_time": "2023-05-22T16:51:36.072Z"
   },
   {
    "duration": 302,
    "start_time": "2023-05-22T16:51:36.077Z"
   },
   {
    "duration": 22,
    "start_time": "2023-05-22T16:51:36.381Z"
   },
   {
    "duration": 21,
    "start_time": "2023-05-22T16:51:36.417Z"
   },
   {
    "duration": 25,
    "start_time": "2023-05-22T16:51:36.440Z"
   },
   {
    "duration": 12,
    "start_time": "2023-05-22T16:51:36.467Z"
   },
   {
    "duration": 20,
    "start_time": "2023-05-22T16:51:36.481Z"
   },
   {
    "duration": 28,
    "start_time": "2023-05-22T16:51:36.502Z"
   },
   {
    "duration": 44,
    "start_time": "2023-05-22T16:51:36.531Z"
   },
   {
    "duration": 6,
    "start_time": "2023-05-22T16:51:36.576Z"
   },
   {
    "duration": 10,
    "start_time": "2023-05-22T16:51:36.584Z"
   },
   {
    "duration": 52,
    "start_time": "2023-05-22T16:51:36.598Z"
   },
   {
    "duration": 159,
    "start_time": "2023-05-22T16:51:36.652Z"
   },
   {
    "duration": 113,
    "start_time": "2023-05-22T16:51:36.813Z"
   },
   {
    "duration": 15,
    "start_time": "2023-05-22T16:51:36.927Z"
   },
   {
    "duration": 30,
    "start_time": "2023-05-22T16:51:36.943Z"
   },
   {
    "duration": 93,
    "start_time": "2023-05-22T16:51:36.975Z"
   },
   {
    "duration": 5,
    "start_time": "2023-05-22T16:51:37.069Z"
   },
   {
    "duration": 470,
    "start_time": "2023-05-22T16:51:37.076Z"
   },
   {
    "duration": 93,
    "start_time": "2023-05-22T16:51:37.548Z"
   },
   {
    "duration": 2331,
    "start_time": "2023-05-22T16:51:37.643Z"
   },
   {
    "duration": 107,
    "start_time": "2023-05-22T16:51:39.975Z"
   },
   {
    "duration": 2582,
    "start_time": "2023-05-22T16:51:40.084Z"
   },
   {
    "duration": 490,
    "start_time": "2023-05-22T16:51:42.667Z"
   },
   {
    "duration": 21,
    "start_time": "2023-05-22T16:51:43.158Z"
   },
   {
    "duration": 197,
    "start_time": "2023-05-22T16:51:43.180Z"
   },
   {
    "duration": 337,
    "start_time": "2023-05-22T16:51:43.379Z"
   },
   {
    "duration": 367,
    "start_time": "2023-05-22T16:51:43.724Z"
   },
   {
    "duration": 34,
    "start_time": "2023-05-22T16:51:44.092Z"
   },
   {
    "duration": 456,
    "start_time": "2023-05-22T16:51:44.143Z"
   },
   {
    "duration": 745,
    "start_time": "2023-05-22T16:51:44.601Z"
   },
   {
    "duration": 403,
    "start_time": "2023-05-22T16:51:45.348Z"
   },
   {
    "duration": 400,
    "start_time": "2023-05-22T16:51:45.753Z"
   },
   {
    "duration": 181,
    "start_time": "2023-05-22T16:51:46.155Z"
   },
   {
    "duration": 15,
    "start_time": "2023-05-22T16:51:46.338Z"
   },
   {
    "duration": 111,
    "start_time": "2023-05-22T16:51:46.354Z"
   },
   {
    "duration": 262,
    "start_time": "2023-05-22T16:51:46.467Z"
   },
   {
    "duration": 22,
    "start_time": "2023-05-22T16:51:46.731Z"
   },
   {
    "duration": 372,
    "start_time": "2023-05-22T16:51:46.756Z"
   },
   {
    "duration": 564,
    "start_time": "2023-05-22T16:51:47.130Z"
   },
   {
    "duration": 29,
    "start_time": "2023-05-22T16:51:47.696Z"
   },
   {
    "duration": 594,
    "start_time": "2023-05-22T16:51:47.726Z"
   },
   {
    "duration": 12,
    "start_time": "2023-05-22T16:51:48.321Z"
   },
   {
    "duration": 27,
    "start_time": "2023-05-22T16:51:48.334Z"
   },
   {
    "duration": 11,
    "start_time": "2023-05-22T16:51:48.363Z"
   },
   {
    "duration": 7,
    "start_time": "2023-05-22T16:51:48.375Z"
   },
   {
    "duration": 75,
    "start_time": "2023-05-22T16:51:48.383Z"
   },
   {
    "duration": 3,
    "start_time": "2023-05-22T16:51:48.460Z"
   },
   {
    "duration": 157,
    "start_time": "2023-05-22T16:51:48.464Z"
   },
   {
    "duration": 41,
    "start_time": "2023-05-22T17:25:19.688Z"
   },
   {
    "duration": 137,
    "start_time": "2023-05-22T17:27:26.041Z"
   },
   {
    "duration": 69,
    "start_time": "2023-05-22T17:28:54.597Z"
   },
   {
    "duration": 1271,
    "start_time": "2023-05-22T18:01:52.860Z"
   },
   {
    "duration": 954,
    "start_time": "2023-05-22T18:01:54.133Z"
   },
   {
    "duration": 4,
    "start_time": "2023-05-22T18:01:55.089Z"
   },
   {
    "duration": 311,
    "start_time": "2023-05-22T18:01:55.096Z"
   },
   {
    "duration": 51,
    "start_time": "2023-05-22T18:01:55.409Z"
   },
   {
    "duration": 16,
    "start_time": "2023-05-22T18:01:55.462Z"
   },
   {
    "duration": 8,
    "start_time": "2023-05-22T18:01:55.479Z"
   },
   {
    "duration": 17,
    "start_time": "2023-05-22T18:01:55.489Z"
   },
   {
    "duration": 21,
    "start_time": "2023-05-22T18:01:55.507Z"
   },
   {
    "duration": 38,
    "start_time": "2023-05-22T18:01:55.531Z"
   },
   {
    "duration": 24,
    "start_time": "2023-05-22T18:01:55.571Z"
   },
   {
    "duration": 5,
    "start_time": "2023-05-22T18:01:55.597Z"
   },
   {
    "duration": 12,
    "start_time": "2023-05-22T18:01:55.604Z"
   },
   {
    "duration": 64,
    "start_time": "2023-05-22T18:01:55.617Z"
   },
   {
    "duration": 167,
    "start_time": "2023-05-22T18:01:55.683Z"
   },
   {
    "duration": 120,
    "start_time": "2023-05-22T18:01:55.852Z"
   },
   {
    "duration": 10,
    "start_time": "2023-05-22T18:01:55.973Z"
   },
   {
    "duration": 23,
    "start_time": "2023-05-22T18:01:55.984Z"
   },
   {
    "duration": 100,
    "start_time": "2023-05-22T18:01:56.008Z"
   },
   {
    "duration": 7,
    "start_time": "2023-05-22T18:01:56.110Z"
   },
   {
    "duration": 522,
    "start_time": "2023-05-22T18:01:56.124Z"
   },
   {
    "duration": 83,
    "start_time": "2023-05-22T18:01:56.650Z"
   },
   {
    "duration": 2430,
    "start_time": "2023-05-22T18:01:56.734Z"
   },
   {
    "duration": 117,
    "start_time": "2023-05-22T18:01:59.166Z"
   },
   {
    "duration": 2562,
    "start_time": "2023-05-22T18:01:59.285Z"
   },
   {
    "duration": 513,
    "start_time": "2023-05-22T18:02:01.855Z"
   },
   {
    "duration": 16,
    "start_time": "2023-05-22T18:02:02.370Z"
   },
   {
    "duration": 209,
    "start_time": "2023-05-22T18:02:02.389Z"
   },
   {
    "duration": 358,
    "start_time": "2023-05-22T18:02:02.600Z"
   },
   {
    "duration": 369,
    "start_time": "2023-05-22T18:02:02.961Z"
   },
   {
    "duration": 33,
    "start_time": "2023-05-22T18:02:03.339Z"
   },
   {
    "duration": 460,
    "start_time": "2023-05-22T18:02:03.374Z"
   },
   {
    "duration": 568,
    "start_time": "2023-05-22T18:02:03.836Z"
   },
   {
    "duration": 488,
    "start_time": "2023-05-22T18:02:04.406Z"
   },
   {
    "duration": 439,
    "start_time": "2023-05-22T18:02:04.896Z"
   },
   {
    "duration": 191,
    "start_time": "2023-05-22T18:02:05.340Z"
   },
   {
    "duration": 15,
    "start_time": "2023-05-22T18:02:05.535Z"
   },
   {
    "duration": 128,
    "start_time": "2023-05-22T18:02:05.552Z"
   },
   {
    "duration": 263,
    "start_time": "2023-05-22T18:02:05.682Z"
   },
   {
    "duration": 16,
    "start_time": "2023-05-22T18:02:05.947Z"
   },
   {
    "duration": 397,
    "start_time": "2023-05-22T18:02:05.965Z"
   },
   {
    "duration": 602,
    "start_time": "2023-05-22T18:02:06.364Z"
   },
   {
    "duration": 20,
    "start_time": "2023-05-22T18:02:06.968Z"
   },
   {
    "duration": 637,
    "start_time": "2023-05-22T18:02:06.990Z"
   },
   {
    "duration": 12,
    "start_time": "2023-05-22T18:02:07.631Z"
   },
   {
    "duration": 26,
    "start_time": "2023-05-22T18:02:07.645Z"
   },
   {
    "duration": 14,
    "start_time": "2023-05-22T18:02:07.673Z"
   },
   {
    "duration": 7,
    "start_time": "2023-05-22T18:02:07.688Z"
   },
   {
    "duration": 105,
    "start_time": "2023-05-22T18:02:07.696Z"
   },
   {
    "duration": 28,
    "start_time": "2023-05-22T18:02:07.803Z"
   },
   {
    "duration": 1442,
    "start_time": "2023-05-22T18:02:07.833Z"
   }
  ],
  "colab": {
   "provenance": []
  },
  "kernelspec": {
   "display_name": "Python 3 (ipykernel)",
   "language": "python",
   "name": "python3"
  },
  "language_info": {
   "codemirror_mode": {
    "name": "ipython",
    "version": 3
   },
   "file_extension": ".py",
   "mimetype": "text/x-python",
   "name": "python",
   "nbconvert_exporter": "python",
   "pygments_lexer": "ipython3",
   "version": "3.10.4"
  },
  "toc": {
   "base_numbering": 1,
   "nav_menu": {},
   "number_sections": true,
   "sideBar": true,
   "skip_h1_title": true,
   "title_cell": "Table of Contents",
   "title_sidebar": "Contents",
   "toc_cell": false,
   "toc_position": {},
   "toc_section_display": true,
   "toc_window_display": false
  }
 },
 "nbformat": 4,
 "nbformat_minor": 1
}
