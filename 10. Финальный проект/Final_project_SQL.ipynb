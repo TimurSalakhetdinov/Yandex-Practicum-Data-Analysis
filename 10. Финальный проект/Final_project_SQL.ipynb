{
 "cells": [
  {
   "cell_type": "markdown",
   "metadata": {
    "id": "ur5uIcKtuj85"
   },
   "source": [
    "# Финальный проект по SQL"
   ]
  },
  {
   "cell_type": "markdown",
   "metadata": {
    "id": "QeZNoThKuroc"
   },
   "source": [
    "## Информация о проекте"
   ]
  },
  {
   "cell_type": "markdown",
   "metadata": {
    "id": "RhhzBSq4vElb"
   },
   "source": [
    "Коронавирус застал мир врасплох, изменив привычный порядок вещей. В свободное время жители городов больше не выходят на улицу, не посещают кафе и торговые центры. Зато стало больше времени для книг. Это заметили стартаперы — и бросились создавать приложения для тех, кто любит читать.\n",
    "\n",
    "Ваша компания решила быть на волне и купила крупный сервис для чтения книг по подписке. Ваша первая задача как аналитика — проанализировать базу данных.\n",
    "В ней — информация о книгах, издательствах, авторах, а также пользовательские обзоры книг. Эти данные помогут сформулировать ценностное предложение для нового продукта."
   ]
  },
  {
   "cell_type": "markdown",
   "metadata": {
    "id": "vg-k16TTvPgH"
   },
   "source": [
    "## План действий"
   ]
  },
  {
   "cell_type": "markdown",
   "metadata": {
    "id": "ksriCF04vTbZ"
   },
   "source": [
    "### Задания\n",
    "\n",
    "- Посчитайте, сколько книг вышло после 1 января 2000 года;\n",
    "- Для каждой книги посчитайте количество обзоров и среднюю оценку;\n",
    "- Определите издательство, которое выпустило наибольшее число книг толще 50 страниц — так вы исключите из анализа брошюры;\n",
    "- Определите автора с самой высокой средней оценкой книг — учитывайте только книги с 50 и более оценками;\n",
    "- Посчитайте среднее количество обзоров от пользователей, которые поставили больше 48 оценок.\n",
    "\n",
    "### Как выполнить задание?\n",
    "\n",
    "- Опишите цели исследования;\n",
    "- Исследуйте таблицы — выведите первые строки;\n",
    "- Сделайте по одному SQL-запросу для решения каждого задания;\n",
    "- Выведите результат каждого запроса в тетрадке;\n",
    "- Опишите выводы по каждой из решённых задач."
   ]
  },
  {
   "cell_type": "markdown",
   "metadata": {
    "id": "OqtDcE0bvYf7"
   },
   "source": [
    "## Описание данных"
   ]
  },
  {
   "cell_type": "markdown",
   "metadata": {
    "id": "ILLvOCdqL0Qx"
   },
   "source": [
    "**Таблица `books`**\n",
    "\n",
    "Содержит данные о книгах:\n",
    "\n",
    "- `book_id` — идентификатор книги;\n",
    "- `author_id` — идентификатор автора;\n",
    "- `title` — название книги;\n",
    "- `num_pages` — количество страниц;\n",
    "- `publication_date` — дата публикации книги;\n",
    "- `publisher_id` — идентификатор издателя.\n",
    "\n",
    "**Таблица `authors`**\n",
    "\n",
    "Содержит данные об авторах:\n",
    "\n",
    "- `author_id` — идентификатор автора;\n",
    "- `author` — имя автора.\n",
    "\n",
    "**Таблица `publishers`**\n",
    "\n",
    "Содержит данные об издательствах:\n",
    "\n",
    "- `publisher_id` — идентификатор издательства;\n",
    "- `publisher` — название издательства;\n",
    "\n",
    "**Таблица `ratings`**\n",
    "\n",
    "Содержит данные о пользовательских оценках книг:\n",
    "\n",
    "- `rating_id` — идентификатор оценки;\n",
    "- `book_id` — идентификатор книги;\n",
    "- `username` — имя пользователя, оставившего оценку;\n",
    "- `rating` — оценка книги.\n",
    "\n",
    "**Таблица `reviews`**\n",
    "\n",
    "Содержит данные о пользовательских обзорах на книги:\n",
    "\n",
    "- `review_id` — идентификатор обзора;\n",
    "- `book_id` — идентификатор книги;\n",
    "- `username` — имя пользователя, написавшего обзор;\n",
    "- `text` — текст обзора."
   ]
  },
  {
   "cell_type": "markdown",
   "metadata": {
    "id": "pmYeyT1Oxh-F"
   },
   "source": [
    "## Предобработка данных"
   ]
  },
  {
   "cell_type": "markdown",
   "metadata": {
    "id": "zuzp6AgsxllX"
   },
   "source": [
    "### Импортирование библиотек и вывод данных"
   ]
  },
  {
   "cell_type": "code",
   "execution_count": 1,
   "metadata": {
    "colab": {
     "base_uri": "https://localhost:8080/",
     "height": 206
    },
    "id": "aLgIcuvXuuv8",
    "outputId": "898822d2-f623-4928-8ef9-f0317f8d06d0"
   },
   "outputs": [
    {
     "data": {
      "text/html": [
       "<div>\n",
       "<style scoped>\n",
       "    .dataframe tbody tr th:only-of-type {\n",
       "        vertical-align: middle;\n",
       "    }\n",
       "\n",
       "    .dataframe tbody tr th {\n",
       "        vertical-align: top;\n",
       "    }\n",
       "\n",
       "    .dataframe thead th {\n",
       "        text-align: right;\n",
       "    }\n",
       "</style>\n",
       "<table border=\"1\" class=\"dataframe\">\n",
       "  <thead>\n",
       "    <tr style=\"text-align: right;\">\n",
       "      <th></th>\n",
       "      <th>book_id</th>\n",
       "      <th>author_id</th>\n",
       "      <th>title</th>\n",
       "      <th>num_pages</th>\n",
       "      <th>publication_date</th>\n",
       "      <th>publisher_id</th>\n",
       "    </tr>\n",
       "  </thead>\n",
       "  <tbody>\n",
       "    <tr>\n",
       "      <th>0</th>\n",
       "      <td>1</td>\n",
       "      <td>546</td>\n",
       "      <td>'Salem's Lot</td>\n",
       "      <td>594</td>\n",
       "      <td>2005-11-01</td>\n",
       "      <td>93</td>\n",
       "    </tr>\n",
       "    <tr>\n",
       "      <th>1</th>\n",
       "      <td>2</td>\n",
       "      <td>465</td>\n",
       "      <td>1 000 Places to See Before You Die</td>\n",
       "      <td>992</td>\n",
       "      <td>2003-05-22</td>\n",
       "      <td>336</td>\n",
       "    </tr>\n",
       "    <tr>\n",
       "      <th>2</th>\n",
       "      <td>3</td>\n",
       "      <td>407</td>\n",
       "      <td>13 Little Blue Envelopes (Little Blue Envelope...</td>\n",
       "      <td>322</td>\n",
       "      <td>2010-12-21</td>\n",
       "      <td>135</td>\n",
       "    </tr>\n",
       "    <tr>\n",
       "      <th>3</th>\n",
       "      <td>4</td>\n",
       "      <td>82</td>\n",
       "      <td>1491: New Revelations of the Americas Before C...</td>\n",
       "      <td>541</td>\n",
       "      <td>2006-10-10</td>\n",
       "      <td>309</td>\n",
       "    </tr>\n",
       "    <tr>\n",
       "      <th>4</th>\n",
       "      <td>5</td>\n",
       "      <td>125</td>\n",
       "      <td>1776</td>\n",
       "      <td>386</td>\n",
       "      <td>2006-07-04</td>\n",
       "      <td>268</td>\n",
       "    </tr>\n",
       "  </tbody>\n",
       "</table>\n",
       "</div>"
      ],
      "text/plain": [
       "   book_id  author_id                                              title  \\\n",
       "0        1        546                                       'Salem's Lot   \n",
       "1        2        465                 1 000 Places to See Before You Die   \n",
       "2        3        407  13 Little Blue Envelopes (Little Blue Envelope...   \n",
       "3        4         82  1491: New Revelations of the Americas Before C...   \n",
       "4        5        125                                               1776   \n",
       "\n",
       "   num_pages publication_date  publisher_id  \n",
       "0        594       2005-11-01            93  \n",
       "1        992       2003-05-22           336  \n",
       "2        322       2010-12-21           135  \n",
       "3        541       2006-10-10           309  \n",
       "4        386       2006-07-04           268  "
      ]
     },
     "execution_count": 1,
     "metadata": {},
     "output_type": "execute_result"
    }
   ],
   "source": [
    "# импортируем библиотеки\n",
    "import pandas as pd\n",
    "from sqlalchemy import text, create_engine\n",
    "\n",
    "# устанавливаем параметры\n",
    "db_config = {'user': 'praktikum_student', # имя пользователя\n",
    "'pwd': 'Sdf4$2;d-d30pp', # пароль\n",
    "'host': 'rc1b-wcoijxj3yxfsf3fs.mdb.yandexcloud.net',\n",
    "'port': 6432, # порт подключения\n",
    "'db': 'data-analyst-final-project-db'} # название базы данных\n",
    "connection_string = 'postgresql://{user}:{pwd}@{host}:{port}/{db}'.format(**db_config)\n",
    "\n",
    "# сохраняем коннектор\n",
    "engine = create_engine(connection_string, connect_args={'sslmode':'require'})\n",
    "\n",
    "# чтобы выполнить SQL-запрос, используем Pandas\n",
    "query = '''SELECT * FROM books LIMIT 5'''\n",
    "\n",
    "con=engine.connect()\n",
    "\n",
    "pd.io.sql.read_sql(sql=text(query), con = con)"
   ]
  },
  {
   "cell_type": "code",
   "execution_count": 2,
   "metadata": {
    "colab": {
     "base_uri": "https://localhost:8080/",
     "height": 206
    },
    "id": "Yl1RLNMqeuW6",
    "outputId": "9e7eb6f9-7dfb-4a4c-8a40-b85c2582cddf"
   },
   "outputs": [
    {
     "data": {
      "text/html": [
       "<div>\n",
       "<style scoped>\n",
       "    .dataframe tbody tr th:only-of-type {\n",
       "        vertical-align: middle;\n",
       "    }\n",
       "\n",
       "    .dataframe tbody tr th {\n",
       "        vertical-align: top;\n",
       "    }\n",
       "\n",
       "    .dataframe thead th {\n",
       "        text-align: right;\n",
       "    }\n",
       "</style>\n",
       "<table border=\"1\" class=\"dataframe\">\n",
       "  <thead>\n",
       "    <tr style=\"text-align: right;\">\n",
       "      <th></th>\n",
       "      <th>author_id</th>\n",
       "      <th>author</th>\n",
       "    </tr>\n",
       "  </thead>\n",
       "  <tbody>\n",
       "    <tr>\n",
       "      <th>0</th>\n",
       "      <td>1</td>\n",
       "      <td>A.S. Byatt</td>\n",
       "    </tr>\n",
       "    <tr>\n",
       "      <th>1</th>\n",
       "      <td>2</td>\n",
       "      <td>Aesop/Laura Harris/Laura Gibbs</td>\n",
       "    </tr>\n",
       "    <tr>\n",
       "      <th>2</th>\n",
       "      <td>3</td>\n",
       "      <td>Agatha Christie</td>\n",
       "    </tr>\n",
       "    <tr>\n",
       "      <th>3</th>\n",
       "      <td>4</td>\n",
       "      <td>Alan Brennert</td>\n",
       "    </tr>\n",
       "    <tr>\n",
       "      <th>4</th>\n",
       "      <td>5</td>\n",
       "      <td>Alan Moore/David   Lloyd</td>\n",
       "    </tr>\n",
       "  </tbody>\n",
       "</table>\n",
       "</div>"
      ],
      "text/plain": [
       "   author_id                          author\n",
       "0          1                      A.S. Byatt\n",
       "1          2  Aesop/Laura Harris/Laura Gibbs\n",
       "2          3                 Agatha Christie\n",
       "3          4                   Alan Brennert\n",
       "4          5        Alan Moore/David   Lloyd"
      ]
     },
     "execution_count": 2,
     "metadata": {},
     "output_type": "execute_result"
    }
   ],
   "source": [
    "query = '''SELECT * FROM authors LIMIT 5'''\n",
    "\n",
    "con=engine.connect()\n",
    "\n",
    "pd.io.sql.read_sql(sql=text(query), con = con)"
   ]
  },
  {
   "cell_type": "code",
   "execution_count": 3,
   "metadata": {
    "colab": {
     "base_uri": "https://localhost:8080/",
     "height": 206
    },
    "id": "SieaFFcReyMu",
    "outputId": "aeb544c0-f6a8-460a-8746-55a0345e185b"
   },
   "outputs": [
    {
     "data": {
      "text/html": [
       "<div>\n",
       "<style scoped>\n",
       "    .dataframe tbody tr th:only-of-type {\n",
       "        vertical-align: middle;\n",
       "    }\n",
       "\n",
       "    .dataframe tbody tr th {\n",
       "        vertical-align: top;\n",
       "    }\n",
       "\n",
       "    .dataframe thead th {\n",
       "        text-align: right;\n",
       "    }\n",
       "</style>\n",
       "<table border=\"1\" class=\"dataframe\">\n",
       "  <thead>\n",
       "    <tr style=\"text-align: right;\">\n",
       "      <th></th>\n",
       "      <th>publisher_id</th>\n",
       "      <th>publisher</th>\n",
       "    </tr>\n",
       "  </thead>\n",
       "  <tbody>\n",
       "    <tr>\n",
       "      <th>0</th>\n",
       "      <td>1</td>\n",
       "      <td>Ace</td>\n",
       "    </tr>\n",
       "    <tr>\n",
       "      <th>1</th>\n",
       "      <td>2</td>\n",
       "      <td>Ace Book</td>\n",
       "    </tr>\n",
       "    <tr>\n",
       "      <th>2</th>\n",
       "      <td>3</td>\n",
       "      <td>Ace Books</td>\n",
       "    </tr>\n",
       "    <tr>\n",
       "      <th>3</th>\n",
       "      <td>4</td>\n",
       "      <td>Ace Hardcover</td>\n",
       "    </tr>\n",
       "    <tr>\n",
       "      <th>4</th>\n",
       "      <td>5</td>\n",
       "      <td>Addison Wesley Publishing Company</td>\n",
       "    </tr>\n",
       "  </tbody>\n",
       "</table>\n",
       "</div>"
      ],
      "text/plain": [
       "   publisher_id                          publisher\n",
       "0             1                                Ace\n",
       "1             2                           Ace Book\n",
       "2             3                          Ace Books\n",
       "3             4                      Ace Hardcover\n",
       "4             5  Addison Wesley Publishing Company"
      ]
     },
     "execution_count": 3,
     "metadata": {},
     "output_type": "execute_result"
    }
   ],
   "source": [
    "query = '''SELECT * FROM publishers LIMIT 5'''\n",
    "\n",
    "con=engine.connect()\n",
    "\n",
    "pd.io.sql.read_sql(sql=text(query), con = con)"
   ]
  },
  {
   "cell_type": "code",
   "execution_count": 4,
   "metadata": {
    "colab": {
     "base_uri": "https://localhost:8080/",
     "height": 206
    },
    "id": "UBSx8ECne5cj",
    "outputId": "961d0775-e310-4f65-f86b-3c279dff337a"
   },
   "outputs": [
    {
     "data": {
      "text/html": [
       "<div>\n",
       "<style scoped>\n",
       "    .dataframe tbody tr th:only-of-type {\n",
       "        vertical-align: middle;\n",
       "    }\n",
       "\n",
       "    .dataframe tbody tr th {\n",
       "        vertical-align: top;\n",
       "    }\n",
       "\n",
       "    .dataframe thead th {\n",
       "        text-align: right;\n",
       "    }\n",
       "</style>\n",
       "<table border=\"1\" class=\"dataframe\">\n",
       "  <thead>\n",
       "    <tr style=\"text-align: right;\">\n",
       "      <th></th>\n",
       "      <th>rating_id</th>\n",
       "      <th>book_id</th>\n",
       "      <th>username</th>\n",
       "      <th>rating</th>\n",
       "    </tr>\n",
       "  </thead>\n",
       "  <tbody>\n",
       "    <tr>\n",
       "      <th>0</th>\n",
       "      <td>1</td>\n",
       "      <td>1</td>\n",
       "      <td>ryanfranco</td>\n",
       "      <td>4</td>\n",
       "    </tr>\n",
       "    <tr>\n",
       "      <th>1</th>\n",
       "      <td>2</td>\n",
       "      <td>1</td>\n",
       "      <td>grantpatricia</td>\n",
       "      <td>2</td>\n",
       "    </tr>\n",
       "    <tr>\n",
       "      <th>2</th>\n",
       "      <td>3</td>\n",
       "      <td>1</td>\n",
       "      <td>brandtandrea</td>\n",
       "      <td>5</td>\n",
       "    </tr>\n",
       "    <tr>\n",
       "      <th>3</th>\n",
       "      <td>4</td>\n",
       "      <td>2</td>\n",
       "      <td>lorichen</td>\n",
       "      <td>3</td>\n",
       "    </tr>\n",
       "    <tr>\n",
       "      <th>4</th>\n",
       "      <td>5</td>\n",
       "      <td>2</td>\n",
       "      <td>mariokeller</td>\n",
       "      <td>2</td>\n",
       "    </tr>\n",
       "  </tbody>\n",
       "</table>\n",
       "</div>"
      ],
      "text/plain": [
       "   rating_id  book_id       username  rating\n",
       "0          1        1     ryanfranco       4\n",
       "1          2        1  grantpatricia       2\n",
       "2          3        1   brandtandrea       5\n",
       "3          4        2       lorichen       3\n",
       "4          5        2    mariokeller       2"
      ]
     },
     "execution_count": 4,
     "metadata": {},
     "output_type": "execute_result"
    }
   ],
   "source": [
    "query = '''SELECT * FROM ratings LIMIT 5'''\n",
    "\n",
    "con=engine.connect()\n",
    "\n",
    "pd.io.sql.read_sql(sql=text(query), con = con)"
   ]
  },
  {
   "cell_type": "code",
   "execution_count": 5,
   "metadata": {
    "colab": {
     "base_uri": "https://localhost:8080/",
     "height": 206
    },
    "id": "EsEWxufJe6AM",
    "outputId": "468960b0-7338-4491-9aa8-16950b1f748f"
   },
   "outputs": [
    {
     "data": {
      "text/html": [
       "<div>\n",
       "<style scoped>\n",
       "    .dataframe tbody tr th:only-of-type {\n",
       "        vertical-align: middle;\n",
       "    }\n",
       "\n",
       "    .dataframe tbody tr th {\n",
       "        vertical-align: top;\n",
       "    }\n",
       "\n",
       "    .dataframe thead th {\n",
       "        text-align: right;\n",
       "    }\n",
       "</style>\n",
       "<table border=\"1\" class=\"dataframe\">\n",
       "  <thead>\n",
       "    <tr style=\"text-align: right;\">\n",
       "      <th></th>\n",
       "      <th>review_id</th>\n",
       "      <th>book_id</th>\n",
       "      <th>username</th>\n",
       "      <th>text</th>\n",
       "    </tr>\n",
       "  </thead>\n",
       "  <tbody>\n",
       "    <tr>\n",
       "      <th>0</th>\n",
       "      <td>1</td>\n",
       "      <td>1</td>\n",
       "      <td>brandtandrea</td>\n",
       "      <td>Mention society tell send professor analysis. ...</td>\n",
       "    </tr>\n",
       "    <tr>\n",
       "      <th>1</th>\n",
       "      <td>2</td>\n",
       "      <td>1</td>\n",
       "      <td>ryanfranco</td>\n",
       "      <td>Foot glass pretty audience hit themselves. Amo...</td>\n",
       "    </tr>\n",
       "    <tr>\n",
       "      <th>2</th>\n",
       "      <td>3</td>\n",
       "      <td>2</td>\n",
       "      <td>lorichen</td>\n",
       "      <td>Listen treat keep worry. Miss husband tax but ...</td>\n",
       "    </tr>\n",
       "    <tr>\n",
       "      <th>3</th>\n",
       "      <td>4</td>\n",
       "      <td>3</td>\n",
       "      <td>johnsonamanda</td>\n",
       "      <td>Finally month interesting blue could nature cu...</td>\n",
       "    </tr>\n",
       "    <tr>\n",
       "      <th>4</th>\n",
       "      <td>5</td>\n",
       "      <td>3</td>\n",
       "      <td>scotttamara</td>\n",
       "      <td>Nation purpose heavy give wait song will. List...</td>\n",
       "    </tr>\n",
       "  </tbody>\n",
       "</table>\n",
       "</div>"
      ],
      "text/plain": [
       "   review_id  book_id       username  \\\n",
       "0          1        1   brandtandrea   \n",
       "1          2        1     ryanfranco   \n",
       "2          3        2       lorichen   \n",
       "3          4        3  johnsonamanda   \n",
       "4          5        3    scotttamara   \n",
       "\n",
       "                                                text  \n",
       "0  Mention society tell send professor analysis. ...  \n",
       "1  Foot glass pretty audience hit themselves. Amo...  \n",
       "2  Listen treat keep worry. Miss husband tax but ...  \n",
       "3  Finally month interesting blue could nature cu...  \n",
       "4  Nation purpose heavy give wait song will. List...  "
      ]
     },
     "execution_count": 5,
     "metadata": {},
     "output_type": "execute_result"
    }
   ],
   "source": [
    "query = '''SELECT * FROM reviews LIMIT 5'''\n",
    "\n",
    "con=engine.connect()\n",
    "\n",
    "pd.io.sql.read_sql(sql=text(query), con = con)"
   ]
  },
  {
   "cell_type": "markdown",
   "metadata": {
    "id": "iurAVSZrMN0t"
   },
   "source": [
    "## Задания\n",
    "1. Посчитайте, сколько книг вышло после 1 января 2000 года"
   ]
  },
  {
   "cell_type": "code",
   "execution_count": 6,
   "metadata": {
    "colab": {
     "base_uri": "https://localhost:8080/",
     "height": 81
    },
    "id": "Qm4LDb_WMq9D",
    "outputId": "6cf14a92-3f2b-4002-f46e-fcf7915524ba"
   },
   "outputs": [
    {
     "data": {
      "text/html": [
       "<div>\n",
       "<style scoped>\n",
       "    .dataframe tbody tr th:only-of-type {\n",
       "        vertical-align: middle;\n",
       "    }\n",
       "\n",
       "    .dataframe tbody tr th {\n",
       "        vertical-align: top;\n",
       "    }\n",
       "\n",
       "    .dataframe thead th {\n",
       "        text-align: right;\n",
       "    }\n",
       "</style>\n",
       "<table border=\"1\" class=\"dataframe\">\n",
       "  <thead>\n",
       "    <tr style=\"text-align: right;\">\n",
       "      <th></th>\n",
       "      <th>count</th>\n",
       "    </tr>\n",
       "  </thead>\n",
       "  <tbody>\n",
       "    <tr>\n",
       "      <th>0</th>\n",
       "      <td>819</td>\n",
       "    </tr>\n",
       "  </tbody>\n",
       "</table>\n",
       "</div>"
      ],
      "text/plain": [
       "   count\n",
       "0    819"
      ]
     },
     "execution_count": 6,
     "metadata": {},
     "output_type": "execute_result"
    }
   ],
   "source": [
    "query = '''SELECT COUNT(DISTINCT book_id) \n",
    "           FROM books \n",
    "           WHERE publication_date > '2000-01-01'\n",
    "        '''\n",
    "\n",
    "con=engine.connect()\n",
    "\n",
    "pd.io.sql.read_sql(sql=text(query), con = con)"
   ]
  },
  {
   "cell_type": "markdown",
   "metadata": {
    "id": "opTDdxITNi8W"
   },
   "source": [
    "Вывод: 819 книг вышло после 1 января 2000 года. "
   ]
  },
  {
   "cell_type": "markdown",
   "metadata": {
    "id": "8K3ppF6cMQb3"
   },
   "source": [
    "2. Для каждой книги посчитайте количество обзоров и среднюю оценку;"
   ]
  },
  {
   "cell_type": "code",
   "execution_count": 7,
   "metadata": {
    "colab": {
     "base_uri": "https://localhost:8080/",
     "height": 424
    },
    "id": "C8g1tC1zMra9",
    "outputId": "44748cb4-7165-4d70-9ab7-68971979338f"
   },
   "outputs": [
    {
     "data": {
      "text/html": [
       "<div>\n",
       "<style scoped>\n",
       "    .dataframe tbody tr th:only-of-type {\n",
       "        vertical-align: middle;\n",
       "    }\n",
       "\n",
       "    .dataframe tbody tr th {\n",
       "        vertical-align: top;\n",
       "    }\n",
       "\n",
       "    .dataframe thead th {\n",
       "        text-align: right;\n",
       "    }\n",
       "</style>\n",
       "<table border=\"1\" class=\"dataframe\">\n",
       "  <thead>\n",
       "    <tr style=\"text-align: right;\">\n",
       "      <th></th>\n",
       "      <th>title</th>\n",
       "      <th>rev_number</th>\n",
       "      <th>avg_rating</th>\n",
       "    </tr>\n",
       "  </thead>\n",
       "  <tbody>\n",
       "    <tr>\n",
       "      <th>0</th>\n",
       "      <td>The Count of Monte Cristo</td>\n",
       "      <td>5.0</td>\n",
       "      <td>4.217391</td>\n",
       "    </tr>\n",
       "    <tr>\n",
       "      <th>1</th>\n",
       "      <td>Count Zero (Sprawl  #2)</td>\n",
       "      <td>2.0</td>\n",
       "      <td>2.500000</td>\n",
       "    </tr>\n",
       "    <tr>\n",
       "      <th>2</th>\n",
       "      <td>The Botany of Desire: A Plant's-Eye View of th...</td>\n",
       "      <td>2.0</td>\n",
       "      <td>3.500000</td>\n",
       "    </tr>\n",
       "    <tr>\n",
       "      <th>3</th>\n",
       "      <td>The Poisonwood Bible</td>\n",
       "      <td>5.0</td>\n",
       "      <td>4.363636</td>\n",
       "    </tr>\n",
       "    <tr>\n",
       "      <th>4</th>\n",
       "      <td>The Canterbury Tales</td>\n",
       "      <td>3.0</td>\n",
       "      <td>3.333333</td>\n",
       "    </tr>\n",
       "    <tr>\n",
       "      <th>...</th>\n",
       "      <td>...</td>\n",
       "      <td>...</td>\n",
       "      <td>...</td>\n",
       "    </tr>\n",
       "    <tr>\n",
       "      <th>994</th>\n",
       "      <td>In the Heart of the Sea: The Tragedy of the Wh...</td>\n",
       "      <td>3.0</td>\n",
       "      <td>3.333333</td>\n",
       "    </tr>\n",
       "    <tr>\n",
       "      <th>995</th>\n",
       "      <td>Of Love and Other Demons</td>\n",
       "      <td>2.0</td>\n",
       "      <td>4.500000</td>\n",
       "    </tr>\n",
       "    <tr>\n",
       "      <th>996</th>\n",
       "      <td>Welcome to Temptation (Dempseys  #1)</td>\n",
       "      <td>2.0</td>\n",
       "      <td>5.000000</td>\n",
       "    </tr>\n",
       "    <tr>\n",
       "      <th>997</th>\n",
       "      <td>World's End (The Sandman  #8)</td>\n",
       "      <td>2.0</td>\n",
       "      <td>4.500000</td>\n",
       "    </tr>\n",
       "    <tr>\n",
       "      <th>998</th>\n",
       "      <td>Holes (Holes  #1)</td>\n",
       "      <td>5.0</td>\n",
       "      <td>3.967742</td>\n",
       "    </tr>\n",
       "  </tbody>\n",
       "</table>\n",
       "<p>999 rows × 3 columns</p>\n",
       "</div>"
      ],
      "text/plain": [
       "                                                 title  rev_number  avg_rating\n",
       "0                            The Count of Monte Cristo         5.0    4.217391\n",
       "1                              Count Zero (Sprawl  #2)         2.0    2.500000\n",
       "2    The Botany of Desire: A Plant's-Eye View of th...         2.0    3.500000\n",
       "3                                 The Poisonwood Bible         5.0    4.363636\n",
       "4                                 The Canterbury Tales         3.0    3.333333\n",
       "..                                                 ...         ...         ...\n",
       "994  In the Heart of the Sea: The Tragedy of the Wh...         3.0    3.333333\n",
       "995                           Of Love and Other Demons         2.0    4.500000\n",
       "996               Welcome to Temptation (Dempseys  #1)         2.0    5.000000\n",
       "997                      World's End (The Sandman  #8)         2.0    4.500000\n",
       "998                                  Holes (Holes  #1)         5.0    3.967742\n",
       "\n",
       "[999 rows x 3 columns]"
      ]
     },
     "execution_count": 7,
     "metadata": {},
     "output_type": "execute_result"
    }
   ],
   "source": [
    "query = ''' SELECT b.title, \n",
    "                   SUM(rev_cnt) AS rev_number,\n",
    "                   AVG(avg_rating) AS avg_rating \n",
    "            FROM books b\n",
    "            LEFT JOIN (SELECT book_id, \n",
    "                              COUNT(review_id) AS rev_cnt\n",
    "                       FROM reviews\n",
    "                       GROUP BY book_id) AS cnt_1\n",
    "            ON b.book_id = cnt_1.book_id\n",
    "            LEFT JOIN (SELECT book_id, \n",
    "                              AVG(rating) AS avg_rating\n",
    "                       FROM ratings\n",
    "                       GROUP BY book_id) AS cnt_2\n",
    "            ON b.book_id = cnt_2.book_id\n",
    "            GROUP BY b.title\n",
    "        '''\n",
    "\n",
    "con=engine.connect()\n",
    "\n",
    "pd.io.sql.read_sql(sql=text(query), con = con)"
   ]
  },
  {
   "cell_type": "markdown",
   "metadata": {},
   "source": [
    "Благодарю за совместную работу и хочу поздравить, ты большой молодец, что прошёл такой путь и освоил программу, надеюсь у тебя сбудутся все намеченные планы.\n",
    "\n",
    "У Практикума развивается сообщество выпускников, так что рекомендую про него не забывать, в случае необходимости.\n",
    "\n",
    "\n",
    "Запомнилось, что у тебя и была функция для первичного анализа, что ценно само по себе, так как стремление автоматизировать повторяющиеся задачи полезно и важно для аналитика. Есть библиотека `pandas profiling`, при помощи которой удобно разбираться с первичным анализом. Здорово, что и рекомендации внедряешь в работу, разделители, `parse_dates`, спасибо за взаимодействие и желаю успехов!) \n",
    "\n",
    "\n",
    "Оформление презентаций дело субъективное и зачастую в разных компаниях имеются свои требования, но вот видео от Яндекса по созданию презентаций https://www.youtube.com/watch?v=S0r0fMJa9eA, а ещё на платформе практикума открылся бесплатный курс по созданию презентаций, рекомендую.\n",
    "\n",
    "Для более глубокого изучения tableau, в случае необходимости рекомендую материал https://tableau.pro/m01, этот курс делает классная команда, у них бывают и другие интересные мини курсы. Но в последнее время российские компании уходят от tableau или уже ушли, поэтому возможно придётся познакомиться с другими инструментами.\n",
    "\n",
    "Задачи на статистику или вокруг неё часто возникают на собеседовании, для укрепления этого фундамента рекомендую статью для выбора критерия проверки гипотез https://lit-review.ru/biostatistika/vybor-statisticheskogo-kriteriya/, https://statpsy.ru/ - информация по критериям проверки гипотез.\n",
    "\n",
    "Визуализации данных для аналитиков очень важны, при помощи них легче доносить желаемые мысли, а для того, чтобы лучше отобразить, нужно понимать, какие вообще существуют визуализации, делюсь с тобой своей подборкой для разных случае жизни https://www.notion.so/d9392e1cb71f48cfb1fbf7f557a2b7e7 \n",
    "\n",
    "\n",
    "SQL важный навык, который нужно поддерживать для этого существует много тренажёров:\n",
    "* Статья на хабр с топ-тренажёрами: https://techrocks.ru/2019/11/22/7-sites-to-perfect-sql-query-writing-skills/\n",
    "* задачки SQL - https://habr.com/ru/company/dcmiran/blog/500360/\n",
    "* https://sqlzoo.net/\n"
   ]
  },
  {
   "cell_type": "code",
   "execution_count": 8,
   "metadata": {},
   "outputs": [
    {
     "data": {
      "text/html": [
       "<div>\n",
       "<style scoped>\n",
       "    .dataframe tbody tr th:only-of-type {\n",
       "        vertical-align: middle;\n",
       "    }\n",
       "\n",
       "    .dataframe tbody tr th {\n",
       "        vertical-align: top;\n",
       "    }\n",
       "\n",
       "    .dataframe thead th {\n",
       "        text-align: right;\n",
       "    }\n",
       "</style>\n",
       "<table border=\"1\" class=\"dataframe\">\n",
       "  <thead>\n",
       "    <tr style=\"text-align: right;\">\n",
       "      <th></th>\n",
       "      <th>count</th>\n",
       "    </tr>\n",
       "  </thead>\n",
       "  <tbody>\n",
       "    <tr>\n",
       "      <th>0</th>\n",
       "      <td>2793</td>\n",
       "    </tr>\n",
       "  </tbody>\n",
       "</table>\n",
       "</div>"
      ],
      "text/plain": [
       "   count\n",
       "0   2793"
      ]
     },
     "execution_count": 8,
     "metadata": {},
     "output_type": "execute_result"
    }
   ],
   "source": [
    "# рассчитаем число отзвов в изначальной таблице:\n",
    "query = '''SELECT COUNT(review_id)\n",
    "           FROM reviews\n",
    "        '''\n",
    "\n",
    "con=engine.connect()\n",
    "\n",
    "pd.io.sql.read_sql(sql=text(query), con = con)"
   ]
  },
  {
   "cell_type": "code",
   "execution_count": 9,
   "metadata": {},
   "outputs": [
    {
     "data": {
      "text/html": [
       "<div>\n",
       "<style scoped>\n",
       "    .dataframe tbody tr th:only-of-type {\n",
       "        vertical-align: middle;\n",
       "    }\n",
       "\n",
       "    .dataframe tbody tr th {\n",
       "        vertical-align: top;\n",
       "    }\n",
       "\n",
       "    .dataframe thead th {\n",
       "        text-align: right;\n",
       "    }\n",
       "</style>\n",
       "<table border=\"1\" class=\"dataframe\">\n",
       "  <thead>\n",
       "    <tr style=\"text-align: right;\">\n",
       "      <th></th>\n",
       "      <th>total_reviews</th>\n",
       "    </tr>\n",
       "  </thead>\n",
       "  <tbody>\n",
       "    <tr>\n",
       "      <th>0</th>\n",
       "      <td>2793.0</td>\n",
       "    </tr>\n",
       "  </tbody>\n",
       "</table>\n",
       "</div>"
      ],
      "text/plain": [
       "   total_reviews\n",
       "0         2793.0"
      ]
     },
     "execution_count": 9,
     "metadata": {},
     "output_type": "execute_result"
    }
   ],
   "source": [
    "total_reviews_query = ''' \n",
    "SELECT SUM(rev_cnt) AS total_reviews \n",
    "FROM (\n",
    "            SELECT b.title, \n",
    "                   SUM(rev_cnt) AS rev_cnt,\n",
    "                   AVG(avg_rating)   \n",
    "            FROM books b\n",
    "            LEFT JOIN (SELECT book_id, \n",
    "                              COUNT(review_id) AS rev_cnt\n",
    "                       FROM reviews\n",
    "                       GROUP BY book_id) AS cnt_1\n",
    "            ON b.book_id = cnt_1.book_id\n",
    "            LEFT JOIN (SELECT book_id, \n",
    "                              AVG(rating) AS avg_rating\n",
    "                       FROM ratings\n",
    "                       GROUP BY book_id) AS cnt_2\n",
    "            ON b.book_id = cnt_2.book_id\n",
    "            GROUP BY b.title\n",
    "            ) AS derived_table\n",
    "        '''\n",
    "pd.io.sql.read_sql(sql=text(total_reviews_query), con = con)"
   ]
  },
  {
   "cell_type": "markdown",
   "metadata": {
    "id": "XFpztrP3aWb0"
   },
   "source": [
    "Вывод: больше всего обзоров у Twilight (Twilight #1)"
   ]
  },
  {
   "cell_type": "markdown",
   "metadata": {
    "id": "GxMXmo9QMTui"
   },
   "source": [
    "3. Определите издательство, которое выпустило наибольшее число книг толще 50 страниц — так вы исключите из анализа брошюры;"
   ]
  },
  {
   "cell_type": "code",
   "execution_count": 10,
   "metadata": {
    "colab": {
     "base_uri": "https://localhost:8080/",
     "height": 81
    },
    "id": "xbiJVealMr9V",
    "outputId": "654aba14-b72b-433d-a059-39da1ce7946e"
   },
   "outputs": [
    {
     "data": {
      "text/html": [
       "<div>\n",
       "<style scoped>\n",
       "    .dataframe tbody tr th:only-of-type {\n",
       "        vertical-align: middle;\n",
       "    }\n",
       "\n",
       "    .dataframe tbody tr th {\n",
       "        vertical-align: top;\n",
       "    }\n",
       "\n",
       "    .dataframe thead th {\n",
       "        text-align: right;\n",
       "    }\n",
       "</style>\n",
       "<table border=\"1\" class=\"dataframe\">\n",
       "  <thead>\n",
       "    <tr style=\"text-align: right;\">\n",
       "      <th></th>\n",
       "      <th>publisher</th>\n",
       "    </tr>\n",
       "  </thead>\n",
       "  <tbody>\n",
       "    <tr>\n",
       "      <th>0</th>\n",
       "      <td>Penguin Books</td>\n",
       "    </tr>\n",
       "  </tbody>\n",
       "</table>\n",
       "</div>"
      ],
      "text/plain": [
       "       publisher\n",
       "0  Penguin Books"
      ]
     },
     "execution_count": 10,
     "metadata": {},
     "output_type": "execute_result"
    }
   ],
   "source": [
    "query = '''SELECT pb.publisher\n",
    "           FROM books b\n",
    "           JOIN publishers pb ON b.publisher_id = pb.publisher_id\n",
    "           WHERE b.num_pages > 50\n",
    "           GROUP BY pb.publisher\n",
    "           ORDER BY COUNT(b.book_id) DESC\n",
    "           LIMIT 1\n",
    "        '''\n",
    "\n",
    "con=engine.connect()\n",
    "\n",
    "pd.io.sql.read_sql(sql=text(query), con = con)"
   ]
  },
  {
   "cell_type": "markdown",
   "metadata": {
    "id": "LFOIIjUNaW_O"
   },
   "source": [
    "Вывод: издательство, которое выпустило наибольшее число книг толще 50 страниц - Penguin Books"
   ]
  },
  {
   "cell_type": "markdown",
   "metadata": {
    "id": "1PQYvmzcMWZ6"
   },
   "source": [
    "4. Определите автора с самой высокой средней оценкой книг — учитывайте только книги с 50 и более оценками;"
   ]
  },
  {
   "cell_type": "code",
   "execution_count": 11,
   "metadata": {
    "colab": {
     "base_uri": "https://localhost:8080/",
     "height": 81
    },
    "id": "yt5qmPVsMsXH",
    "outputId": "1c4c6bb5-48f2-4722-813f-efeed79e8279"
   },
   "outputs": [
    {
     "data": {
      "text/html": [
       "<div>\n",
       "<style scoped>\n",
       "    .dataframe tbody tr th:only-of-type {\n",
       "        vertical-align: middle;\n",
       "    }\n",
       "\n",
       "    .dataframe tbody tr th {\n",
       "        vertical-align: top;\n",
       "    }\n",
       "\n",
       "    .dataframe thead th {\n",
       "        text-align: right;\n",
       "    }\n",
       "</style>\n",
       "<table border=\"1\" class=\"dataframe\">\n",
       "  <thead>\n",
       "    <tr style=\"text-align: right;\">\n",
       "      <th></th>\n",
       "      <th>author</th>\n",
       "      <th>round</th>\n",
       "    </tr>\n",
       "  </thead>\n",
       "  <tbody>\n",
       "    <tr>\n",
       "      <th>0</th>\n",
       "      <td>J.K. Rowling/Mary GrandPré</td>\n",
       "      <td>4.29</td>\n",
       "    </tr>\n",
       "  </tbody>\n",
       "</table>\n",
       "</div>"
      ],
      "text/plain": [
       "                       author  round\n",
       "0  J.K. Rowling/Mary GrandPré   4.29"
      ]
     },
     "execution_count": 11,
     "metadata": {},
     "output_type": "execute_result"
    }
   ],
   "source": [
    "query = '''SELECT a.author,\n",
    "                  ROUND(AVG(ra.rating),2)\n",
    "           FROM books b\n",
    "           JOIN authors a ON b.author_id = a.author_id\n",
    "           JOIN ratings ra ON b.book_id = ra.book_id\n",
    "           GROUP BY a.author\n",
    "           HAVING COUNT(ra.rating_id) > 50\n",
    "           ORDER BY AVG(ra.rating) DESC\n",
    "           LIMIT 1\n",
    "        '''\n",
    "\n",
    "con=engine.connect()\n",
    "\n",
    "pd.io.sql.read_sql(sql=text(query), con = con)"
   ]
  },
  {
   "cell_type": "markdown",
   "metadata": {
    "id": "CZRyxxUNaXnk"
   },
   "source": [
    "Вывод: автора с самой высокой средней оценкой книг J.K. Rowling/Mary GrandPré"
   ]
  },
  {
   "cell_type": "markdown",
   "metadata": {
    "id": "QJPiAKjYMYY_"
   },
   "source": [
    "5. Посчитайте среднее количество обзоров от пользователей, которые поставили больше 48 оценок."
   ]
  },
  {
   "cell_type": "code",
   "execution_count": 12,
   "metadata": {
    "colab": {
     "base_uri": "https://localhost:8080/",
     "height": 81
    },
    "id": "l69OSeMOMep9",
    "outputId": "e5e7eb90-20b5-4083-e43b-7374f7811083"
   },
   "outputs": [
    {
     "data": {
      "text/html": [
       "<div>\n",
       "<style scoped>\n",
       "    .dataframe tbody tr th:only-of-type {\n",
       "        vertical-align: middle;\n",
       "    }\n",
       "\n",
       "    .dataframe tbody tr th {\n",
       "        vertical-align: top;\n",
       "    }\n",
       "\n",
       "    .dataframe thead th {\n",
       "        text-align: right;\n",
       "    }\n",
       "</style>\n",
       "<table border=\"1\" class=\"dataframe\">\n",
       "  <thead>\n",
       "    <tr style=\"text-align: right;\">\n",
       "      <th></th>\n",
       "      <th>average_reviews</th>\n",
       "    </tr>\n",
       "  </thead>\n",
       "  <tbody>\n",
       "    <tr>\n",
       "      <th>0</th>\n",
       "      <td>24.0</td>\n",
       "    </tr>\n",
       "  </tbody>\n",
       "</table>\n",
       "</div>"
      ],
      "text/plain": [
       "   average_reviews\n",
       "0             24.0"
      ]
     },
     "execution_count": 12,
     "metadata": {},
     "output_type": "execute_result"
    }
   ],
   "source": [
    "query = '''SELECT AVG(review_count) as average_reviews\n",
    "           FROM \n",
    "               (\n",
    "                SELECT r.username, COUNT(distinct r.review_id) as review_count\n",
    "                FROM reviews r\n",
    "                WHERE r.username IN (\n",
    "                          SELECT ra.username\n",
    "                          FROM ratings ra\n",
    "                          GROUP BY ra.username\n",
    "                          HAVING COUNT(ra.rating_id) > 48\n",
    "                                      )\n",
    "                GROUP BY r.username\n",
    "              ) sub;\n",
    "        '''\n",
    "\n",
    "con=engine.connect()\n",
    "\n",
    "pd.io.sql.read_sql(sql=text(query), con = con)"
   ]
  },
  {
   "cell_type": "markdown",
   "metadata": {
    "id": "fjXHcMm7aVKS"
   },
   "source": [
    "Вывод: среднее количество обзоров от пользователей, которые поставили больше 48 оценок - 24"
   ]
  }
 ],
 "metadata": {
  "ExecuteTimeLog": [
   {
    "duration": 61,
    "start_time": "2023-05-31T11:06:18.205Z"
   },
   {
    "duration": 12093,
    "start_time": "2023-05-31T11:06:23.591Z"
   },
   {
    "duration": 154,
    "start_time": "2023-05-31T11:06:35.686Z"
   },
   {
    "duration": 51,
    "start_time": "2023-05-31T11:06:35.842Z"
   },
   {
    "duration": 65,
    "start_time": "2023-05-31T11:06:35.896Z"
   },
   {
    "duration": 56,
    "start_time": "2023-05-31T11:06:35.963Z"
   },
   {
    "duration": 62,
    "start_time": "2023-05-31T11:06:36.029Z"
   },
   {
    "duration": 108,
    "start_time": "2023-05-31T11:06:36.092Z"
   },
   {
    "duration": 64,
    "start_time": "2023-05-31T11:06:36.202Z"
   },
   {
    "duration": 55,
    "start_time": "2023-05-31T11:06:36.268Z"
   },
   {
    "duration": 69,
    "start_time": "2023-05-31T11:06:36.326Z"
   },
   {
    "duration": 65,
    "start_time": "2023-05-31T11:06:36.397Z"
   },
   {
    "duration": 64,
    "start_time": "2023-05-31T11:09:53.793Z"
   },
   {
    "duration": 70,
    "start_time": "2023-05-31T11:10:36.937Z"
   },
   {
    "duration": 129,
    "start_time": "2023-05-31T11:10:52.138Z"
   },
   {
    "duration": 13666,
    "start_time": "2023-05-31T11:11:06.779Z"
   },
   {
    "duration": 165,
    "start_time": "2023-05-31T11:11:20.448Z"
   },
   {
    "duration": 60,
    "start_time": "2023-05-31T11:11:20.615Z"
   },
   {
    "duration": 67,
    "start_time": "2023-05-31T11:11:20.678Z"
   },
   {
    "duration": 56,
    "start_time": "2023-05-31T11:11:20.748Z"
   },
   {
    "duration": 87,
    "start_time": "2023-05-31T11:11:20.810Z"
   },
   {
    "duration": 113,
    "start_time": "2023-05-31T11:11:20.899Z"
   },
   {
    "duration": 69,
    "start_time": "2023-05-31T11:11:21.014Z"
   },
   {
    "duration": 81,
    "start_time": "2023-05-31T11:11:21.085Z"
   },
   {
    "duration": 81,
    "start_time": "2023-05-31T11:11:21.170Z"
   },
   {
    "duration": 58,
    "start_time": "2023-05-31T11:11:21.254Z"
   },
   {
    "duration": 72,
    "start_time": "2023-05-31T11:11:21.317Z"
   },
   {
    "duration": 69,
    "start_time": "2023-05-31T11:11:30.409Z"
   },
   {
    "duration": 81,
    "start_time": "2023-05-31T11:11:37.585Z"
   },
   {
    "duration": 39,
    "start_time": "2023-05-31T11:12:34.697Z"
   },
   {
    "duration": 38,
    "start_time": "2023-05-31T11:12:58.168Z"
   },
   {
    "duration": 128,
    "start_time": "2023-05-31T11:13:58.248Z"
   },
   {
    "duration": 52,
    "start_time": "2023-05-31T11:14:10.610Z"
   },
   {
    "duration": 88,
    "start_time": "2023-05-31T11:17:27.009Z"
   },
   {
    "duration": 39,
    "start_time": "2023-05-31T11:18:00.369Z"
   },
   {
    "duration": 144,
    "start_time": "2023-05-31T11:18:22.234Z"
   },
   {
    "duration": 5999,
    "start_time": "2023-05-31T14:42:01.527Z"
   },
   {
    "duration": 37,
    "start_time": "2023-05-31T14:42:07.528Z"
   },
   {
    "duration": 9,
    "start_time": "2023-05-31T14:42:07.567Z"
   },
   {
    "duration": 10,
    "start_time": "2023-05-31T14:42:07.578Z"
   },
   {
    "duration": 11,
    "start_time": "2023-05-31T14:42:07.591Z"
   },
   {
    "duration": 27,
    "start_time": "2023-05-31T14:42:07.603Z"
   },
   {
    "duration": 29,
    "start_time": "2023-05-31T14:42:07.631Z"
   },
   {
    "duration": 10,
    "start_time": "2023-05-31T14:42:07.661Z"
   },
   {
    "duration": 20,
    "start_time": "2023-05-31T14:42:07.672Z"
   },
   {
    "duration": 9,
    "start_time": "2023-05-31T14:42:07.694Z"
   },
   {
    "duration": 17,
    "start_time": "2023-05-31T14:42:07.704Z"
   },
   {
    "duration": 16,
    "start_time": "2023-05-31T14:42:07.722Z"
   },
   {
    "duration": 14,
    "start_time": "2023-05-31T14:43:18.160Z"
   },
   {
    "duration": 15,
    "start_time": "2023-05-31T14:43:29.374Z"
   },
   {
    "duration": 17,
    "start_time": "2023-05-31T14:43:37.438Z"
   },
   {
    "duration": 118,
    "start_time": "2023-05-31T14:57:40.927Z"
   },
   {
    "duration": 20,
    "start_time": "2023-05-31T14:58:05.095Z"
   },
   {
    "duration": 17,
    "start_time": "2023-05-31T15:01:11.376Z"
   },
   {
    "duration": 25,
    "start_time": "2023-05-31T15:05:20.392Z"
   },
   {
    "duration": 18,
    "start_time": "2023-05-31T15:05:49.452Z"
   },
   {
    "duration": 18,
    "start_time": "2023-05-31T15:05:55.653Z"
   },
   {
    "duration": 11,
    "start_time": "2023-05-31T15:06:20.474Z"
   },
   {
    "duration": 56,
    "start_time": "2023-05-31T15:07:22.437Z"
   },
   {
    "duration": 6470,
    "start_time": "2023-05-31T15:08:46.390Z"
   },
   {
    "duration": 28,
    "start_time": "2023-05-31T15:08:52.862Z"
   },
   {
    "duration": 8,
    "start_time": "2023-05-31T15:08:52.892Z"
   },
   {
    "duration": 10,
    "start_time": "2023-05-31T15:08:52.902Z"
   },
   {
    "duration": 25,
    "start_time": "2023-05-31T15:08:52.914Z"
   },
   {
    "duration": 8,
    "start_time": "2023-05-31T15:08:52.941Z"
   },
   {
    "duration": 20,
    "start_time": "2023-05-31T15:08:52.950Z"
   },
   {
    "duration": 9,
    "start_time": "2023-05-31T15:08:52.971Z"
   },
   {
    "duration": 19,
    "start_time": "2023-05-31T15:08:52.981Z"
   },
   {
    "duration": 39,
    "start_time": "2023-05-31T15:08:53.002Z"
   },
   {
    "duration": 18,
    "start_time": "2023-05-31T15:08:53.043Z"
   },
   {
    "duration": 11,
    "start_time": "2023-05-31T15:08:53.062Z"
   }
  ],
  "colab": {
   "provenance": []
  },
  "kernelspec": {
   "display_name": "Python 3 (ipykernel)",
   "language": "python",
   "name": "python3"
  },
  "language_info": {
   "codemirror_mode": {
    "name": "ipython",
    "version": 3
   },
   "file_extension": ".py",
   "mimetype": "text/x-python",
   "name": "python",
   "nbconvert_exporter": "python",
   "pygments_lexer": "ipython3",
   "version": "3.10.4"
  },
  "toc": {
   "base_numbering": 1,
   "nav_menu": {},
   "number_sections": true,
   "sideBar": true,
   "skip_h1_title": true,
   "title_cell": "Table of Contents",
   "title_sidebar": "Contents",
   "toc_cell": false,
   "toc_position": {},
   "toc_section_display": true,
   "toc_window_display": false
  }
 },
 "nbformat": 4,
 "nbformat_minor": 1
}
