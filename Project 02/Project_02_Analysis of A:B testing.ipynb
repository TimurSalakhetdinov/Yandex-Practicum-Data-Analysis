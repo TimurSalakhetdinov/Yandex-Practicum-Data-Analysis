{
 "cells": [
  {
   "cell_type": "markdown",
   "metadata": {
    "id": "hJ96iI02AlZh"
   },
   "source": [
    "# A/B тест крупного интернет магазина"
   ]
  },
  {
   "cell_type": "markdown",
   "metadata": {
    "id": "tKyis8qHBXdS"
   },
   "source": [
    "## Информация о проекте"
   ]
  },
  {
   "cell_type": "markdown",
   "metadata": {
    "id": "u7SIZyEoC0jL"
   },
   "source": [
    "Вместе с отделом маркетинга мы подготовили список гипотез для увеличения выручки.\n",
    "Необходимо приоритизировать гипотезы, запустить A/B-тест и проанализировать результаты. "
   ]
  },
  {
   "cell_type": "markdown",
   "metadata": {
    "id": "wsDK9_MsC-a8"
   },
   "source": [
    "## План действий"
   ]
  },
  {
   "cell_type": "markdown",
   "metadata": {
    "id": "KRoCYBTuDFD8"
   },
   "source": [
    "1. Загрузить данные и подготовить их к анализу.\n",
    "2. Приоритизировать гипотезы.\n",
    "3. Провести анализ A/B теста. \n",
    "6. Сделать выводы. "
   ]
  },
  {
   "cell_type": "markdown",
   "metadata": {
    "id": "A1w4zR61T57z"
   },
   "source": [
    "## Описание данных"
   ]
  },
  {
   "cell_type": "markdown",
   "metadata": {
    "id": "_eeina8rT5y8"
   },
   "source": [
    "**Данные для первой части**\n",
    "\n",
    "Файл hypothesis.csv\n",
    "\n",
    "- Hypothesis — краткое описание гипотезы;\n",
    "- Reach — охват пользователей по 10-балльной шкале;\n",
    "- Impact — влияние на пользователей по 10-балльной шкале;\n",
    "Confidence — уверенность в гипотезе по 10-балльной шкале;\n",
    "- Efforts — затраты ресурсов на проверку гипотезы по 10-балльной шкале. Чем больше значение Efforts, тем дороже проверка гипотезы.\n",
    "\n",
    "**Данные для второй части**\n",
    "\n",
    "Файл orders.csv\n",
    "\n",
    "- transactionId — идентификатор заказа;\n",
    "- visitorId — идентификатор пользователя, совершившего заказ;\n",
    "- date — дата, когда был совершён заказ;\n",
    "- revenue — выручка заказа;\n",
    "- group — группа A/B-теста, в которую попал заказ.\n",
    "\n",
    "Файл visitors.csv\n",
    "\n",
    "- date — дата;\n",
    "- group — группа A/B-теста;\n",
    "- visitors — количество пользователей в указанную дату в указанной группе A/B-теста"
   ]
  },
  {
   "cell_type": "markdown",
   "metadata": {
    "id": "vsOyKHqgHnoo"
   },
   "source": [
    "## Предобработка данных"
   ]
  },
  {
   "cell_type": "markdown",
   "metadata": {
    "id": "Z2asbOwYHnh4"
   },
   "source": [
    "### Импортирование библиотек и вывод данных"
   ]
  },
  {
   "cell_type": "code",
   "execution_count": 1,
   "metadata": {
    "id": "qwL-O-xAHRmB"
   },
   "outputs": [],
   "source": [
    "# Импортируем библиотеки:\n",
    "import pandas as pd\n",
    "import numpy as np\n",
    "import scipy.stats as stats\n",
    "import datetime as dt\n",
    "from datetime import datetime, timedelta\n",
    "from matplotlib import pyplot as plt\n",
    "from pandas.plotting import register_matplotlib_converters\n",
    "\n",
    "# Закрепим формат float:\n",
    "pd.set_option('display.float_format', '{:,.2f}'.format)\n",
    "\n",
    "# Уберем предупреждения:\n",
    "import warnings\n",
    "warnings.simplefilter('ignore')\n",
    "\n",
    "# Сброс ограничений на количество выводимых данных:\n",
    "pd.set_option('display.max_rows', None)\n",
    "pd.set_option('display.max_columns', None)\n",
    "pd.set_option('display.max_colwidth', False)\n",
    "\n",
    "# конвертеры, которые позволяют использовать типы pandas в matplotlib  \n",
    "register_matplotlib_converters()"
   ]
  },
  {
   "cell_type": "markdown",
   "metadata": {
    "id": "mom4dkIjH1F1"
   },
   "source": [
    "### Загрузка данных и подготовка их к анализу"
   ]
  },
  {
   "cell_type": "code",
   "execution_count": 2,
   "metadata": {
    "id": "9NPUpgNSDBnZ"
   },
   "outputs": [],
   "source": [
    "# Загрузим данные:\n",
    "try: # мой путь\n",
    "    hypothesis = pd.read_csv('hypothesis.csv')\n",
    "    orders = pd.read_csv('orders.csv')\n",
    "    visitors = pd.read_csv('visitors.csv')\n",
    "except: # яндексовский путь\n",
    "    hypothesis = pd.read_csv('/datasets/hypothesis.csv')\n",
    "    orders = pd.read_csv('/datasets/orders.csv')\n",
    "    visitors = pd.read_csv('/datasets/visitors.csv')"
   ]
  },
  {
   "cell_type": "code",
   "execution_count": 3,
   "metadata": {
    "id": "PU0Ote9AC8HR"
   },
   "outputs": [],
   "source": [
    "# Создадим фукнцию для вывода всех необходимых характеристик данных:\n",
    "def analize(table):\n",
    "    display(table.head(10))\n",
    "    display(table.info())\n",
    "    display(table.describe())\n",
    "    display('Число пропусков:', table.isnull().sum())\n",
    "    display('Число дубликатов:', table.duplicated().sum())"
   ]
  },
  {
   "cell_type": "code",
   "execution_count": 4,
   "metadata": {
    "colab": {
     "base_uri": "https://localhost:8080/",
     "height": 1000
    },
    "id": "VxV64DFNBg11",
    "outputId": "7f21cef1-84a3-419b-bcfa-fe0fcf26a2f0",
    "scrolled": false
   },
   "outputs": [
    {
     "data": {
      "text/html": [
       "<div>\n",
       "<style scoped>\n",
       "    .dataframe tbody tr th:only-of-type {\n",
       "        vertical-align: middle;\n",
       "    }\n",
       "\n",
       "    .dataframe tbody tr th {\n",
       "        vertical-align: top;\n",
       "    }\n",
       "\n",
       "    .dataframe thead th {\n",
       "        text-align: right;\n",
       "    }\n",
       "</style>\n",
       "<table border=\"1\" class=\"dataframe\">\n",
       "  <thead>\n",
       "    <tr style=\"text-align: right;\">\n",
       "      <th></th>\n",
       "      <th>Hypothesis</th>\n",
       "      <th>Reach</th>\n",
       "      <th>Impact</th>\n",
       "      <th>Confidence</th>\n",
       "      <th>Efforts</th>\n",
       "    </tr>\n",
       "  </thead>\n",
       "  <tbody>\n",
       "    <tr>\n",
       "      <th>0</th>\n",
       "      <td>Добавить два новых канала привлечения трафика, что позволит привлекать на 30% больше пользователей</td>\n",
       "      <td>3</td>\n",
       "      <td>10</td>\n",
       "      <td>8</td>\n",
       "      <td>6</td>\n",
       "    </tr>\n",
       "    <tr>\n",
       "      <th>1</th>\n",
       "      <td>Запустить собственную службу доставки, что сократит срок доставки заказов</td>\n",
       "      <td>2</td>\n",
       "      <td>5</td>\n",
       "      <td>4</td>\n",
       "      <td>10</td>\n",
       "    </tr>\n",
       "    <tr>\n",
       "      <th>2</th>\n",
       "      <td>Добавить блоки рекомендаций товаров на сайт интернет магазина, чтобы повысить конверсию и средний чек заказа</td>\n",
       "      <td>8</td>\n",
       "      <td>3</td>\n",
       "      <td>7</td>\n",
       "      <td>3</td>\n",
       "    </tr>\n",
       "    <tr>\n",
       "      <th>3</th>\n",
       "      <td>Изменить структура категорий, что увеличит конверсию, т.к. пользователи быстрее найдут нужный товар</td>\n",
       "      <td>8</td>\n",
       "      <td>3</td>\n",
       "      <td>3</td>\n",
       "      <td>8</td>\n",
       "    </tr>\n",
       "    <tr>\n",
       "      <th>4</th>\n",
       "      <td>Изменить цвет фона главной страницы, чтобы увеличить вовлеченность пользователей</td>\n",
       "      <td>3</td>\n",
       "      <td>1</td>\n",
       "      <td>1</td>\n",
       "      <td>1</td>\n",
       "    </tr>\n",
       "    <tr>\n",
       "      <th>5</th>\n",
       "      <td>Добавить страницу отзывов клиентов о магазине, что позволит увеличить количество заказов</td>\n",
       "      <td>3</td>\n",
       "      <td>2</td>\n",
       "      <td>2</td>\n",
       "      <td>3</td>\n",
       "    </tr>\n",
       "    <tr>\n",
       "      <th>6</th>\n",
       "      <td>Показать на главной странице баннеры с актуальными акциями и распродажами, чтобы увеличить конверсию</td>\n",
       "      <td>5</td>\n",
       "      <td>3</td>\n",
       "      <td>8</td>\n",
       "      <td>3</td>\n",
       "    </tr>\n",
       "    <tr>\n",
       "      <th>7</th>\n",
       "      <td>Добавить форму подписки на все основные страницы, чтобы собрать базу клиентов для email-рассылок</td>\n",
       "      <td>10</td>\n",
       "      <td>7</td>\n",
       "      <td>8</td>\n",
       "      <td>5</td>\n",
       "    </tr>\n",
       "    <tr>\n",
       "      <th>8</th>\n",
       "      <td>Запустить акцию, дающую скидку на товар в день рождения</td>\n",
       "      <td>1</td>\n",
       "      <td>9</td>\n",
       "      <td>9</td>\n",
       "      <td>5</td>\n",
       "    </tr>\n",
       "  </tbody>\n",
       "</table>\n",
       "</div>"
      ],
      "text/plain": [
       "                                                                                                     Hypothesis  \\\n",
       "0  Добавить два новых канала привлечения трафика, что позволит привлекать на 30% больше пользователей             \n",
       "1  Запустить собственную службу доставки, что сократит срок доставки заказов                                      \n",
       "2  Добавить блоки рекомендаций товаров на сайт интернет магазина, чтобы повысить конверсию и средний чек заказа   \n",
       "3  Изменить структура категорий, что увеличит конверсию, т.к. пользователи быстрее найдут нужный товар            \n",
       "4  Изменить цвет фона главной страницы, чтобы увеличить вовлеченность пользователей                               \n",
       "5  Добавить страницу отзывов клиентов о магазине, что позволит увеличить количество заказов                       \n",
       "6  Показать на главной странице баннеры с актуальными акциями и распродажами, чтобы увеличить конверсию           \n",
       "7  Добавить форму подписки на все основные страницы, чтобы собрать базу клиентов для email-рассылок               \n",
       "8  Запустить акцию, дающую скидку на товар в день рождения                                                        \n",
       "\n",
       "   Reach  Impact  Confidence  Efforts  \n",
       "0  3      10      8           6        \n",
       "1  2      5       4           10       \n",
       "2  8      3       7           3        \n",
       "3  8      3       3           8        \n",
       "4  3      1       1           1        \n",
       "5  3      2       2           3        \n",
       "6  5      3       8           3        \n",
       "7  10     7       8           5        \n",
       "8  1      9       9           5        "
      ]
     },
     "metadata": {},
     "output_type": "display_data"
    },
    {
     "name": "stdout",
     "output_type": "stream",
     "text": [
      "<class 'pandas.core.frame.DataFrame'>\n",
      "RangeIndex: 9 entries, 0 to 8\n",
      "Data columns (total 5 columns):\n",
      " #   Column      Non-Null Count  Dtype \n",
      "---  ------      --------------  ----- \n",
      " 0   Hypothesis  9 non-null      object\n",
      " 1   Reach       9 non-null      int64 \n",
      " 2   Impact      9 non-null      int64 \n",
      " 3   Confidence  9 non-null      int64 \n",
      " 4   Efforts     9 non-null      int64 \n",
      "dtypes: int64(4), object(1)\n",
      "memory usage: 488.0+ bytes\n"
     ]
    },
    {
     "data": {
      "text/plain": [
       "None"
      ]
     },
     "metadata": {},
     "output_type": "display_data"
    },
    {
     "data": {
      "text/html": [
       "<div>\n",
       "<style scoped>\n",
       "    .dataframe tbody tr th:only-of-type {\n",
       "        vertical-align: middle;\n",
       "    }\n",
       "\n",
       "    .dataframe tbody tr th {\n",
       "        vertical-align: top;\n",
       "    }\n",
       "\n",
       "    .dataframe thead th {\n",
       "        text-align: right;\n",
       "    }\n",
       "</style>\n",
       "<table border=\"1\" class=\"dataframe\">\n",
       "  <thead>\n",
       "    <tr style=\"text-align: right;\">\n",
       "      <th></th>\n",
       "      <th>Reach</th>\n",
       "      <th>Impact</th>\n",
       "      <th>Confidence</th>\n",
       "      <th>Efforts</th>\n",
       "    </tr>\n",
       "  </thead>\n",
       "  <tbody>\n",
       "    <tr>\n",
       "      <th>count</th>\n",
       "      <td>9.00</td>\n",
       "      <td>9.00</td>\n",
       "      <td>9.00</td>\n",
       "      <td>9.00</td>\n",
       "    </tr>\n",
       "    <tr>\n",
       "      <th>mean</th>\n",
       "      <td>4.78</td>\n",
       "      <td>4.78</td>\n",
       "      <td>5.56</td>\n",
       "      <td>4.89</td>\n",
       "    </tr>\n",
       "    <tr>\n",
       "      <th>std</th>\n",
       "      <td>3.15</td>\n",
       "      <td>3.19</td>\n",
       "      <td>3.05</td>\n",
       "      <td>2.80</td>\n",
       "    </tr>\n",
       "    <tr>\n",
       "      <th>min</th>\n",
       "      <td>1.00</td>\n",
       "      <td>1.00</td>\n",
       "      <td>1.00</td>\n",
       "      <td>1.00</td>\n",
       "    </tr>\n",
       "    <tr>\n",
       "      <th>25%</th>\n",
       "      <td>3.00</td>\n",
       "      <td>3.00</td>\n",
       "      <td>3.00</td>\n",
       "      <td>3.00</td>\n",
       "    </tr>\n",
       "    <tr>\n",
       "      <th>50%</th>\n",
       "      <td>3.00</td>\n",
       "      <td>3.00</td>\n",
       "      <td>7.00</td>\n",
       "      <td>5.00</td>\n",
       "    </tr>\n",
       "    <tr>\n",
       "      <th>75%</th>\n",
       "      <td>8.00</td>\n",
       "      <td>7.00</td>\n",
       "      <td>8.00</td>\n",
       "      <td>6.00</td>\n",
       "    </tr>\n",
       "    <tr>\n",
       "      <th>max</th>\n",
       "      <td>10.00</td>\n",
       "      <td>10.00</td>\n",
       "      <td>9.00</td>\n",
       "      <td>10.00</td>\n",
       "    </tr>\n",
       "  </tbody>\n",
       "</table>\n",
       "</div>"
      ],
      "text/plain": [
       "       Reach  Impact  Confidence  Efforts\n",
       "count 9.00   9.00    9.00        9.00    \n",
       "mean  4.78   4.78    5.56        4.89    \n",
       "std   3.15   3.19    3.05        2.80    \n",
       "min   1.00   1.00    1.00        1.00    \n",
       "25%   3.00   3.00    3.00        3.00    \n",
       "50%   3.00   3.00    7.00        5.00    \n",
       "75%   8.00   7.00    8.00        6.00    \n",
       "max   10.00  10.00   9.00        10.00   "
      ]
     },
     "metadata": {},
     "output_type": "display_data"
    },
    {
     "data": {
      "text/plain": [
       "'Число пропусков:'"
      ]
     },
     "metadata": {},
     "output_type": "display_data"
    },
    {
     "data": {
      "text/plain": [
       "Hypothesis    0\n",
       "Reach         0\n",
       "Impact        0\n",
       "Confidence    0\n",
       "Efforts       0\n",
       "dtype: int64"
      ]
     },
     "metadata": {},
     "output_type": "display_data"
    },
    {
     "data": {
      "text/plain": [
       "'Число дубликатов:'"
      ]
     },
     "metadata": {},
     "output_type": "display_data"
    },
    {
     "data": {
      "text/plain": [
       "0"
      ]
     },
     "metadata": {},
     "output_type": "display_data"
    }
   ],
   "source": [
    "# Выведем поочередно все датасеты, первый - информация о гипотезах:\n",
    "analize(hypothesis)"
   ]
  },
  {
   "cell_type": "code",
   "execution_count": 5,
   "metadata": {
    "colab": {
     "base_uri": "https://localhost:8080/",
     "height": 1000
    },
    "id": "ZEJsefyaBa1a",
    "outputId": "c5e12029-cba8-4a60-d7c8-342d0c026f1f"
   },
   "outputs": [
    {
     "data": {
      "text/html": [
       "<div>\n",
       "<style scoped>\n",
       "    .dataframe tbody tr th:only-of-type {\n",
       "        vertical-align: middle;\n",
       "    }\n",
       "\n",
       "    .dataframe tbody tr th {\n",
       "        vertical-align: top;\n",
       "    }\n",
       "\n",
       "    .dataframe thead th {\n",
       "        text-align: right;\n",
       "    }\n",
       "</style>\n",
       "<table border=\"1\" class=\"dataframe\">\n",
       "  <thead>\n",
       "    <tr style=\"text-align: right;\">\n",
       "      <th></th>\n",
       "      <th>transactionId</th>\n",
       "      <th>visitorId</th>\n",
       "      <th>date</th>\n",
       "      <th>revenue</th>\n",
       "      <th>group</th>\n",
       "    </tr>\n",
       "  </thead>\n",
       "  <tbody>\n",
       "    <tr>\n",
       "      <th>0</th>\n",
       "      <td>3667963787</td>\n",
       "      <td>3312258926</td>\n",
       "      <td>2019-08-15</td>\n",
       "      <td>1650</td>\n",
       "      <td>B</td>\n",
       "    </tr>\n",
       "    <tr>\n",
       "      <th>1</th>\n",
       "      <td>2804400009</td>\n",
       "      <td>3642806036</td>\n",
       "      <td>2019-08-15</td>\n",
       "      <td>730</td>\n",
       "      <td>B</td>\n",
       "    </tr>\n",
       "    <tr>\n",
       "      <th>2</th>\n",
       "      <td>2961555356</td>\n",
       "      <td>4069496402</td>\n",
       "      <td>2019-08-15</td>\n",
       "      <td>400</td>\n",
       "      <td>A</td>\n",
       "    </tr>\n",
       "    <tr>\n",
       "      <th>3</th>\n",
       "      <td>3797467345</td>\n",
       "      <td>1196621759</td>\n",
       "      <td>2019-08-15</td>\n",
       "      <td>9759</td>\n",
       "      <td>B</td>\n",
       "    </tr>\n",
       "    <tr>\n",
       "      <th>4</th>\n",
       "      <td>2282983706</td>\n",
       "      <td>2322279887</td>\n",
       "      <td>2019-08-15</td>\n",
       "      <td>2308</td>\n",
       "      <td>B</td>\n",
       "    </tr>\n",
       "    <tr>\n",
       "      <th>5</th>\n",
       "      <td>182168103</td>\n",
       "      <td>935554773</td>\n",
       "      <td>2019-08-15</td>\n",
       "      <td>2210</td>\n",
       "      <td>B</td>\n",
       "    </tr>\n",
       "    <tr>\n",
       "      <th>6</th>\n",
       "      <td>398296753</td>\n",
       "      <td>2900797465</td>\n",
       "      <td>2019-08-15</td>\n",
       "      <td>1860</td>\n",
       "      <td>B</td>\n",
       "    </tr>\n",
       "    <tr>\n",
       "      <th>7</th>\n",
       "      <td>2626614568</td>\n",
       "      <td>78758296</td>\n",
       "      <td>2019-08-15</td>\n",
       "      <td>1044</td>\n",
       "      <td>A</td>\n",
       "    </tr>\n",
       "    <tr>\n",
       "      <th>8</th>\n",
       "      <td>1576988021</td>\n",
       "      <td>295230930</td>\n",
       "      <td>2019-08-15</td>\n",
       "      <td>13710</td>\n",
       "      <td>A</td>\n",
       "    </tr>\n",
       "    <tr>\n",
       "      <th>9</th>\n",
       "      <td>1506739906</td>\n",
       "      <td>1882260405</td>\n",
       "      <td>2019-08-15</td>\n",
       "      <td>1855</td>\n",
       "      <td>B</td>\n",
       "    </tr>\n",
       "  </tbody>\n",
       "</table>\n",
       "</div>"
      ],
      "text/plain": [
       "   transactionId   visitorId        date  revenue group\n",
       "0  3667963787     3312258926  2019-08-15  1650     B   \n",
       "1  2804400009     3642806036  2019-08-15  730      B   \n",
       "2  2961555356     4069496402  2019-08-15  400      A   \n",
       "3  3797467345     1196621759  2019-08-15  9759     B   \n",
       "4  2282983706     2322279887  2019-08-15  2308     B   \n",
       "5  182168103      935554773   2019-08-15  2210     B   \n",
       "6  398296753      2900797465  2019-08-15  1860     B   \n",
       "7  2626614568     78758296    2019-08-15  1044     A   \n",
       "8  1576988021     295230930   2019-08-15  13710    A   \n",
       "9  1506739906     1882260405  2019-08-15  1855     B   "
      ]
     },
     "metadata": {},
     "output_type": "display_data"
    },
    {
     "name": "stdout",
     "output_type": "stream",
     "text": [
      "<class 'pandas.core.frame.DataFrame'>\n",
      "RangeIndex: 1197 entries, 0 to 1196\n",
      "Data columns (total 5 columns):\n",
      " #   Column         Non-Null Count  Dtype \n",
      "---  ------         --------------  ----- \n",
      " 0   transactionId  1197 non-null   int64 \n",
      " 1   visitorId      1197 non-null   int64 \n",
      " 2   date           1197 non-null   object\n",
      " 3   revenue        1197 non-null   int64 \n",
      " 4   group          1197 non-null   object\n",
      "dtypes: int64(3), object(2)\n",
      "memory usage: 46.9+ KB\n"
     ]
    },
    {
     "data": {
      "text/plain": [
       "None"
      ]
     },
     "metadata": {},
     "output_type": "display_data"
    },
    {
     "data": {
      "text/html": [
       "<div>\n",
       "<style scoped>\n",
       "    .dataframe tbody tr th:only-of-type {\n",
       "        vertical-align: middle;\n",
       "    }\n",
       "\n",
       "    .dataframe tbody tr th {\n",
       "        vertical-align: top;\n",
       "    }\n",
       "\n",
       "    .dataframe thead th {\n",
       "        text-align: right;\n",
       "    }\n",
       "</style>\n",
       "<table border=\"1\" class=\"dataframe\">\n",
       "  <thead>\n",
       "    <tr style=\"text-align: right;\">\n",
       "      <th></th>\n",
       "      <th>transactionId</th>\n",
       "      <th>visitorId</th>\n",
       "      <th>revenue</th>\n",
       "    </tr>\n",
       "  </thead>\n",
       "  <tbody>\n",
       "    <tr>\n",
       "      <th>count</th>\n",
       "      <td>1,197.00</td>\n",
       "      <td>1,197.00</td>\n",
       "      <td>1,197.00</td>\n",
       "    </tr>\n",
       "    <tr>\n",
       "      <th>mean</th>\n",
       "      <td>2,155,621,385.53</td>\n",
       "      <td>2,165,960,143.10</td>\n",
       "      <td>8,348.01</td>\n",
       "    </tr>\n",
       "    <tr>\n",
       "      <th>std</th>\n",
       "      <td>1,229,084,904.76</td>\n",
       "      <td>1,236,014,192.15</td>\n",
       "      <td>39,191.13</td>\n",
       "    </tr>\n",
       "    <tr>\n",
       "      <th>min</th>\n",
       "      <td>1,062,393.00</td>\n",
       "      <td>5,114,589.00</td>\n",
       "      <td>50.00</td>\n",
       "    </tr>\n",
       "    <tr>\n",
       "      <th>25%</th>\n",
       "      <td>1,166,775,572.00</td>\n",
       "      <td>1,111,826,046.00</td>\n",
       "      <td>1,220.00</td>\n",
       "    </tr>\n",
       "    <tr>\n",
       "      <th>50%</th>\n",
       "      <td>2,145,193,898.00</td>\n",
       "      <td>2,217,984,702.00</td>\n",
       "      <td>2,978.00</td>\n",
       "    </tr>\n",
       "    <tr>\n",
       "      <th>75%</th>\n",
       "      <td>3,237,740,112.00</td>\n",
       "      <td>3,177,606,451.00</td>\n",
       "      <td>8,290.00</td>\n",
       "    </tr>\n",
       "    <tr>\n",
       "      <th>max</th>\n",
       "      <td>4,293,855,558.00</td>\n",
       "      <td>4,283,872,382.00</td>\n",
       "      <td>1,294,500.00</td>\n",
       "    </tr>\n",
       "  </tbody>\n",
       "</table>\n",
       "</div>"
      ],
      "text/plain": [
       "         transactionId        visitorId      revenue\n",
       "count 1,197.00         1,197.00         1,197.00    \n",
       "mean  2,155,621,385.53 2,165,960,143.10 8,348.01    \n",
       "std   1,229,084,904.76 1,236,014,192.15 39,191.13   \n",
       "min   1,062,393.00     5,114,589.00     50.00       \n",
       "25%   1,166,775,572.00 1,111,826,046.00 1,220.00    \n",
       "50%   2,145,193,898.00 2,217,984,702.00 2,978.00    \n",
       "75%   3,237,740,112.00 3,177,606,451.00 8,290.00    \n",
       "max   4,293,855,558.00 4,283,872,382.00 1,294,500.00"
      ]
     },
     "metadata": {},
     "output_type": "display_data"
    },
    {
     "data": {
      "text/plain": [
       "'Число пропусков:'"
      ]
     },
     "metadata": {},
     "output_type": "display_data"
    },
    {
     "data": {
      "text/plain": [
       "transactionId    0\n",
       "visitorId        0\n",
       "date             0\n",
       "revenue          0\n",
       "group            0\n",
       "dtype: int64"
      ]
     },
     "metadata": {},
     "output_type": "display_data"
    },
    {
     "data": {
      "text/plain": [
       "'Число дубликатов:'"
      ]
     },
     "metadata": {},
     "output_type": "display_data"
    },
    {
     "data": {
      "text/plain": [
       "0"
      ]
     },
     "metadata": {},
     "output_type": "display_data"
    }
   ],
   "source": [
    "# Информация о заказах:\n",
    "analize(orders)"
   ]
  },
  {
   "cell_type": "code",
   "execution_count": 6,
   "metadata": {
    "colab": {
     "base_uri": "https://localhost:8080/",
     "height": 969
    },
    "id": "9ArYOM6-AnEA",
    "outputId": "a119607e-c2d5-4cf6-8e45-e3662c127d36"
   },
   "outputs": [
    {
     "data": {
      "text/html": [
       "<div>\n",
       "<style scoped>\n",
       "    .dataframe tbody tr th:only-of-type {\n",
       "        vertical-align: middle;\n",
       "    }\n",
       "\n",
       "    .dataframe tbody tr th {\n",
       "        vertical-align: top;\n",
       "    }\n",
       "\n",
       "    .dataframe thead th {\n",
       "        text-align: right;\n",
       "    }\n",
       "</style>\n",
       "<table border=\"1\" class=\"dataframe\">\n",
       "  <thead>\n",
       "    <tr style=\"text-align: right;\">\n",
       "      <th></th>\n",
       "      <th>date</th>\n",
       "      <th>group</th>\n",
       "      <th>visitors</th>\n",
       "    </tr>\n",
       "  </thead>\n",
       "  <tbody>\n",
       "    <tr>\n",
       "      <th>0</th>\n",
       "      <td>2019-08-01</td>\n",
       "      <td>A</td>\n",
       "      <td>719</td>\n",
       "    </tr>\n",
       "    <tr>\n",
       "      <th>1</th>\n",
       "      <td>2019-08-02</td>\n",
       "      <td>A</td>\n",
       "      <td>619</td>\n",
       "    </tr>\n",
       "    <tr>\n",
       "      <th>2</th>\n",
       "      <td>2019-08-03</td>\n",
       "      <td>A</td>\n",
       "      <td>507</td>\n",
       "    </tr>\n",
       "    <tr>\n",
       "      <th>3</th>\n",
       "      <td>2019-08-04</td>\n",
       "      <td>A</td>\n",
       "      <td>717</td>\n",
       "    </tr>\n",
       "    <tr>\n",
       "      <th>4</th>\n",
       "      <td>2019-08-05</td>\n",
       "      <td>A</td>\n",
       "      <td>756</td>\n",
       "    </tr>\n",
       "    <tr>\n",
       "      <th>5</th>\n",
       "      <td>2019-08-06</td>\n",
       "      <td>A</td>\n",
       "      <td>667</td>\n",
       "    </tr>\n",
       "    <tr>\n",
       "      <th>6</th>\n",
       "      <td>2019-08-07</td>\n",
       "      <td>A</td>\n",
       "      <td>644</td>\n",
       "    </tr>\n",
       "    <tr>\n",
       "      <th>7</th>\n",
       "      <td>2019-08-08</td>\n",
       "      <td>A</td>\n",
       "      <td>610</td>\n",
       "    </tr>\n",
       "    <tr>\n",
       "      <th>8</th>\n",
       "      <td>2019-08-09</td>\n",
       "      <td>A</td>\n",
       "      <td>617</td>\n",
       "    </tr>\n",
       "    <tr>\n",
       "      <th>9</th>\n",
       "      <td>2019-08-10</td>\n",
       "      <td>A</td>\n",
       "      <td>406</td>\n",
       "    </tr>\n",
       "  </tbody>\n",
       "</table>\n",
       "</div>"
      ],
      "text/plain": [
       "         date group  visitors\n",
       "0  2019-08-01  A     719     \n",
       "1  2019-08-02  A     619     \n",
       "2  2019-08-03  A     507     \n",
       "3  2019-08-04  A     717     \n",
       "4  2019-08-05  A     756     \n",
       "5  2019-08-06  A     667     \n",
       "6  2019-08-07  A     644     \n",
       "7  2019-08-08  A     610     \n",
       "8  2019-08-09  A     617     \n",
       "9  2019-08-10  A     406     "
      ]
     },
     "metadata": {},
     "output_type": "display_data"
    },
    {
     "name": "stdout",
     "output_type": "stream",
     "text": [
      "<class 'pandas.core.frame.DataFrame'>\n",
      "RangeIndex: 62 entries, 0 to 61\n",
      "Data columns (total 3 columns):\n",
      " #   Column    Non-Null Count  Dtype \n",
      "---  ------    --------------  ----- \n",
      " 0   date      62 non-null     object\n",
      " 1   group     62 non-null     object\n",
      " 2   visitors  62 non-null     int64 \n",
      "dtypes: int64(1), object(2)\n",
      "memory usage: 1.6+ KB\n"
     ]
    },
    {
     "data": {
      "text/plain": [
       "None"
      ]
     },
     "metadata": {},
     "output_type": "display_data"
    },
    {
     "data": {
      "text/html": [
       "<div>\n",
       "<style scoped>\n",
       "    .dataframe tbody tr th:only-of-type {\n",
       "        vertical-align: middle;\n",
       "    }\n",
       "\n",
       "    .dataframe tbody tr th {\n",
       "        vertical-align: top;\n",
       "    }\n",
       "\n",
       "    .dataframe thead th {\n",
       "        text-align: right;\n",
       "    }\n",
       "</style>\n",
       "<table border=\"1\" class=\"dataframe\">\n",
       "  <thead>\n",
       "    <tr style=\"text-align: right;\">\n",
       "      <th></th>\n",
       "      <th>visitors</th>\n",
       "    </tr>\n",
       "  </thead>\n",
       "  <tbody>\n",
       "    <tr>\n",
       "      <th>count</th>\n",
       "      <td>62.00</td>\n",
       "    </tr>\n",
       "    <tr>\n",
       "      <th>mean</th>\n",
       "      <td>607.29</td>\n",
       "    </tr>\n",
       "    <tr>\n",
       "      <th>std</th>\n",
       "      <td>114.40</td>\n",
       "    </tr>\n",
       "    <tr>\n",
       "      <th>min</th>\n",
       "      <td>361.00</td>\n",
       "    </tr>\n",
       "    <tr>\n",
       "      <th>25%</th>\n",
       "      <td>534.00</td>\n",
       "    </tr>\n",
       "    <tr>\n",
       "      <th>50%</th>\n",
       "      <td>624.50</td>\n",
       "    </tr>\n",
       "    <tr>\n",
       "      <th>75%</th>\n",
       "      <td>710.50</td>\n",
       "    </tr>\n",
       "    <tr>\n",
       "      <th>max</th>\n",
       "      <td>770.00</td>\n",
       "    </tr>\n",
       "  </tbody>\n",
       "</table>\n",
       "</div>"
      ],
      "text/plain": [
       "       visitors\n",
       "count 62.00    \n",
       "mean  607.29   \n",
       "std   114.40   \n",
       "min   361.00   \n",
       "25%   534.00   \n",
       "50%   624.50   \n",
       "75%   710.50   \n",
       "max   770.00   "
      ]
     },
     "metadata": {},
     "output_type": "display_data"
    },
    {
     "data": {
      "text/plain": [
       "'Число пропусков:'"
      ]
     },
     "metadata": {},
     "output_type": "display_data"
    },
    {
     "data": {
      "text/plain": [
       "date        0\n",
       "group       0\n",
       "visitors    0\n",
       "dtype: int64"
      ]
     },
     "metadata": {},
     "output_type": "display_data"
    },
    {
     "data": {
      "text/plain": [
       "'Число дубликатов:'"
      ]
     },
     "metadata": {},
     "output_type": "display_data"
    },
    {
     "data": {
      "text/plain": [
       "0"
      ]
     },
     "metadata": {},
     "output_type": "display_data"
    }
   ],
   "source": [
    "# Информация о расходах:\n",
    "analize(visitors)"
   ]
  },
  {
   "cell_type": "code",
   "execution_count": 7,
   "metadata": {},
   "outputs": [],
   "source": [
    "# Изменим тип данных столбцов с датами:\n",
    "orders['date'] = orders['date'].map(\n",
    "    lambda x: dt.datetime.strptime(x, '%Y-%m-%d')\n",
    ")\n",
    "\n",
    "visitors['date'] = visitors['date'].map(\n",
    "    lambda x: dt.datetime.strptime(x, '%Y-%m-%d')\n",
    ")"
   ]
  },
  {
   "cell_type": "code",
   "execution_count": 8,
   "metadata": {
    "scrolled": false
   },
   "outputs": [
    {
     "name": "stdout",
     "output_type": "stream",
     "text": [
      "<class 'pandas.core.frame.DataFrame'>\n",
      "RangeIndex: 1197 entries, 0 to 1196\n",
      "Data columns (total 5 columns):\n",
      " #   Column         Non-Null Count  Dtype         \n",
      "---  ------         --------------  -----         \n",
      " 0   transactionId  1197 non-null   int64         \n",
      " 1   visitorId      1197 non-null   int64         \n",
      " 2   date           1197 non-null   datetime64[ns]\n",
      " 3   revenue        1197 non-null   int64         \n",
      " 4   group          1197 non-null   object        \n",
      "dtypes: datetime64[ns](1), int64(3), object(1)\n",
      "memory usage: 46.9+ KB\n",
      "None\n",
      "<class 'pandas.core.frame.DataFrame'>\n",
      "RangeIndex: 62 entries, 0 to 61\n",
      "Data columns (total 3 columns):\n",
      " #   Column    Non-Null Count  Dtype         \n",
      "---  ------    --------------  -----         \n",
      " 0   date      62 non-null     datetime64[ns]\n",
      " 1   group     62 non-null     object        \n",
      " 2   visitors  62 non-null     int64         \n",
      "dtypes: datetime64[ns](1), int64(1), object(1)\n",
      "memory usage: 1.6+ KB\n"
     ]
    }
   ],
   "source": [
    "print(orders.info())\n",
    "visitors.info()"
   ]
  },
  {
   "cell_type": "code",
   "execution_count": 9,
   "metadata": {},
   "outputs": [
    {
     "data": {
      "text/plain": [
       "Index(['transaction_id', 'visitor_id', 'date', 'revenue', 'group'], dtype='object')"
      ]
     },
     "execution_count": 9,
     "metadata": {},
     "output_type": "execute_result"
    }
   ],
   "source": [
    "# Изменим названия столбцов на snake case:\n",
    "orders.columns = (orders.columns\n",
    "                .str.replace('(?<=[a-z])(?=[A-Z])', '_', regex=True)\n",
    "                .str.lower()\n",
    "             )\n",
    "\n",
    "orders.columns"
   ]
  },
  {
   "cell_type": "code",
   "execution_count": 10,
   "metadata": {},
   "outputs": [
    {
     "name": "stdout",
     "output_type": "stream",
     "text": [
      "['B' 'A']\n"
     ]
    }
   ],
   "source": [
    "# Выявим сколько групп в АВ-тесте:\n",
    "print(orders['group'].unique())"
   ]
  },
  {
   "cell_type": "code",
   "execution_count": 11,
   "metadata": {
    "scrolled": true
   },
   "outputs": [
    {
     "name": "stdout",
     "output_type": "stream",
     "text": [
      "2019-08-01 00:00:00\n",
      "2019-08-31 00:00:00\n"
     ]
    }
   ],
   "source": [
    "# Также определим даты начала и окончания теста:\n",
    "print(min(orders['date']))\n",
    "print(max(orders['date']))"
   ]
  },
  {
   "cell_type": "code",
   "execution_count": 12,
   "metadata": {},
   "outputs": [
    {
     "name": "stdout",
     "output_type": "stream",
     "text": [
      "Количество пользователей в обеих группах: 58\n",
      "Всего уникальных пользователей: 1031\n"
     ]
    }
   ],
   "source": [
    "# Проверим не попадают ли какие либо пользователи в обе группы А и В:\n",
    "orders_a = orders[orders['group'] == 'A']\n",
    "orders_b = orders[orders['group'] == 'B']\n",
    "\n",
    "intersection = set(orders_a['visitor_id']).intersection(set(orders_b['visitor_id']))\n",
    "\n",
    "print('Количество пользователей в обеих группах:', len(intersection))\n",
    "print('Всего уникальных пользователей:', len(orders['visitor_id'].unique()))"
   ]
  },
  {
   "cell_type": "markdown",
   "metadata": {
    "id": "DX6llQSTUh66"
   },
   "source": [
    "## Приоритизация гипотез"
   ]
  },
  {
   "cell_type": "markdown",
   "metadata": {},
   "source": [
    "ICE — один из самых популярных способов приоритизации задач. \n",
    "\n",
    "ICE = Impact * Confidence / Efforts\n",
    "\n",
    "У этого метода есть модификация RICE:\n",
    "\n",
    "RICE = Reach * Impact * Confidence / Efforts\n",
    "\n",
    "Фреймворк RICE состоит из четырёх компонент:\n",
    "- Reach — скольких пользователей затронет изменение, которое вы хотите внести;\n",
    "- Impact — насколько сильно изменение повлияет на пользователей, их опыт и удовлетворение от продукта;\n",
    "- Confidence — насколько вы уверены, что это изменение повлияет на пользователей именно так; \n",
    "- Efforts — сколько стоит протестировать эту гипотезу. \n",
    "\n",
    "Параметры фреймворков ICE и RICE оценивают в удобных шкалах: например, от 0 до 10 или в числах ряда Фибоначчи."
   ]
  },
  {
   "cell_type": "code",
   "execution_count": 13,
   "metadata": {
    "colab": {
     "base_uri": "https://localhost:8080/",
     "height": 332
    },
    "id": "le8xCZopUn1S",
    "outputId": "dcb11591-5369-424e-d2ac-9a18893b47da",
    "scrolled": true
   },
   "outputs": [
    {
     "data": {
      "text/html": [
       "<div>\n",
       "<style scoped>\n",
       "    .dataframe tbody tr th:only-of-type {\n",
       "        vertical-align: middle;\n",
       "    }\n",
       "\n",
       "    .dataframe tbody tr th {\n",
       "        vertical-align: top;\n",
       "    }\n",
       "\n",
       "    .dataframe thead th {\n",
       "        text-align: right;\n",
       "    }\n",
       "</style>\n",
       "<table border=\"1\" class=\"dataframe\">\n",
       "  <thead>\n",
       "    <tr style=\"text-align: right;\">\n",
       "      <th></th>\n",
       "      <th>Hypothesis</th>\n",
       "      <th>Reach</th>\n",
       "      <th>Impact</th>\n",
       "      <th>Confidence</th>\n",
       "      <th>Efforts</th>\n",
       "    </tr>\n",
       "  </thead>\n",
       "  <tbody>\n",
       "    <tr>\n",
       "      <th>0</th>\n",
       "      <td>Добавить два новых канала привлечения трафика, что позволит привлекать на 30% больше пользователей</td>\n",
       "      <td>3</td>\n",
       "      <td>10</td>\n",
       "      <td>8</td>\n",
       "      <td>6</td>\n",
       "    </tr>\n",
       "    <tr>\n",
       "      <th>1</th>\n",
       "      <td>Запустить собственную службу доставки, что сократит срок доставки заказов</td>\n",
       "      <td>2</td>\n",
       "      <td>5</td>\n",
       "      <td>4</td>\n",
       "      <td>10</td>\n",
       "    </tr>\n",
       "    <tr>\n",
       "      <th>2</th>\n",
       "      <td>Добавить блоки рекомендаций товаров на сайт интернет магазина, чтобы повысить конверсию и средний чек заказа</td>\n",
       "      <td>8</td>\n",
       "      <td>3</td>\n",
       "      <td>7</td>\n",
       "      <td>3</td>\n",
       "    </tr>\n",
       "    <tr>\n",
       "      <th>3</th>\n",
       "      <td>Изменить структура категорий, что увеличит конверсию, т.к. пользователи быстрее найдут нужный товар</td>\n",
       "      <td>8</td>\n",
       "      <td>3</td>\n",
       "      <td>3</td>\n",
       "      <td>8</td>\n",
       "    </tr>\n",
       "    <tr>\n",
       "      <th>4</th>\n",
       "      <td>Изменить цвет фона главной страницы, чтобы увеличить вовлеченность пользователей</td>\n",
       "      <td>3</td>\n",
       "      <td>1</td>\n",
       "      <td>1</td>\n",
       "      <td>1</td>\n",
       "    </tr>\n",
       "    <tr>\n",
       "      <th>5</th>\n",
       "      <td>Добавить страницу отзывов клиентов о магазине, что позволит увеличить количество заказов</td>\n",
       "      <td>3</td>\n",
       "      <td>2</td>\n",
       "      <td>2</td>\n",
       "      <td>3</td>\n",
       "    </tr>\n",
       "    <tr>\n",
       "      <th>6</th>\n",
       "      <td>Показать на главной странице баннеры с актуальными акциями и распродажами, чтобы увеличить конверсию</td>\n",
       "      <td>5</td>\n",
       "      <td>3</td>\n",
       "      <td>8</td>\n",
       "      <td>3</td>\n",
       "    </tr>\n",
       "    <tr>\n",
       "      <th>7</th>\n",
       "      <td>Добавить форму подписки на все основные страницы, чтобы собрать базу клиентов для email-рассылок</td>\n",
       "      <td>10</td>\n",
       "      <td>7</td>\n",
       "      <td>8</td>\n",
       "      <td>5</td>\n",
       "    </tr>\n",
       "    <tr>\n",
       "      <th>8</th>\n",
       "      <td>Запустить акцию, дающую скидку на товар в день рождения</td>\n",
       "      <td>1</td>\n",
       "      <td>9</td>\n",
       "      <td>9</td>\n",
       "      <td>5</td>\n",
       "    </tr>\n",
       "  </tbody>\n",
       "</table>\n",
       "</div>"
      ],
      "text/plain": [
       "                                                                                                     Hypothesis  \\\n",
       "0  Добавить два новых канала привлечения трафика, что позволит привлекать на 30% больше пользователей             \n",
       "1  Запустить собственную службу доставки, что сократит срок доставки заказов                                      \n",
       "2  Добавить блоки рекомендаций товаров на сайт интернет магазина, чтобы повысить конверсию и средний чек заказа   \n",
       "3  Изменить структура категорий, что увеличит конверсию, т.к. пользователи быстрее найдут нужный товар            \n",
       "4  Изменить цвет фона главной страницы, чтобы увеличить вовлеченность пользователей                               \n",
       "5  Добавить страницу отзывов клиентов о магазине, что позволит увеличить количество заказов                       \n",
       "6  Показать на главной странице баннеры с актуальными акциями и распродажами, чтобы увеличить конверсию           \n",
       "7  Добавить форму подписки на все основные страницы, чтобы собрать базу клиентов для email-рассылок               \n",
       "8  Запустить акцию, дающую скидку на товар в день рождения                                                        \n",
       "\n",
       "   Reach  Impact  Confidence  Efforts  \n",
       "0  3      10      8           6        \n",
       "1  2      5       4           10       \n",
       "2  8      3       7           3        \n",
       "3  8      3       3           8        \n",
       "4  3      1       1           1        \n",
       "5  3      2       2           3        \n",
       "6  5      3       8           3        \n",
       "7  10     7       8           5        \n",
       "8  1      9       9           5        "
      ]
     },
     "metadata": {},
     "output_type": "display_data"
    }
   ],
   "source": [
    "display(hypothesis)"
   ]
  },
  {
   "cell_type": "markdown",
   "metadata": {
    "id": "aLW8QmJbZHd9"
   },
   "source": [
    "### Фреймворк ICE"
   ]
  },
  {
   "cell_type": "markdown",
   "metadata": {
    "id": "Xa1PVbRIariQ"
   },
   "source": [
    "Применим фреймворк ICE для приоритизации гипотез. Отсортируем их по убыванию приоритета."
   ]
  },
  {
   "cell_type": "code",
   "execution_count": 14,
   "metadata": {
    "colab": {
     "base_uri": "https://localhost:8080/",
     "height": 332
    },
    "id": "IpQRcngtUxIa",
    "outputId": "5289143f-10bb-4dd5-ae40-05cccf9631cb"
   },
   "outputs": [
    {
     "data": {
      "text/html": [
       "<div>\n",
       "<style scoped>\n",
       "    .dataframe tbody tr th:only-of-type {\n",
       "        vertical-align: middle;\n",
       "    }\n",
       "\n",
       "    .dataframe tbody tr th {\n",
       "        vertical-align: top;\n",
       "    }\n",
       "\n",
       "    .dataframe thead th {\n",
       "        text-align: right;\n",
       "    }\n",
       "</style>\n",
       "<table border=\"1\" class=\"dataframe\">\n",
       "  <thead>\n",
       "    <tr style=\"text-align: right;\">\n",
       "      <th></th>\n",
       "      <th>Hypothesis</th>\n",
       "      <th>ICE</th>\n",
       "    </tr>\n",
       "  </thead>\n",
       "  <tbody>\n",
       "    <tr>\n",
       "      <th>8</th>\n",
       "      <td>Запустить акцию, дающую скидку на товар в день рождения</td>\n",
       "      <td>16.20</td>\n",
       "    </tr>\n",
       "    <tr>\n",
       "      <th>0</th>\n",
       "      <td>Добавить два новых канала привлечения трафика, что позволит привлекать на 30% больше пользователей</td>\n",
       "      <td>13.30</td>\n",
       "    </tr>\n",
       "    <tr>\n",
       "      <th>7</th>\n",
       "      <td>Добавить форму подписки на все основные страницы, чтобы собрать базу клиентов для email-рассылок</td>\n",
       "      <td>11.20</td>\n",
       "    </tr>\n",
       "    <tr>\n",
       "      <th>6</th>\n",
       "      <td>Показать на главной странице баннеры с актуальными акциями и распродажами, чтобы увеличить конверсию</td>\n",
       "      <td>8.00</td>\n",
       "    </tr>\n",
       "    <tr>\n",
       "      <th>2</th>\n",
       "      <td>Добавить блоки рекомендаций товаров на сайт интернет магазина, чтобы повысить конверсию и средний чек заказа</td>\n",
       "      <td>7.00</td>\n",
       "    </tr>\n",
       "    <tr>\n",
       "      <th>1</th>\n",
       "      <td>Запустить собственную службу доставки, что сократит срок доставки заказов</td>\n",
       "      <td>2.00</td>\n",
       "    </tr>\n",
       "    <tr>\n",
       "      <th>5</th>\n",
       "      <td>Добавить страницу отзывов клиентов о магазине, что позволит увеличить количество заказов</td>\n",
       "      <td>1.30</td>\n",
       "    </tr>\n",
       "    <tr>\n",
       "      <th>3</th>\n",
       "      <td>Изменить структура категорий, что увеличит конверсию, т.к. пользователи быстрее найдут нужный товар</td>\n",
       "      <td>1.10</td>\n",
       "    </tr>\n",
       "    <tr>\n",
       "      <th>4</th>\n",
       "      <td>Изменить цвет фона главной страницы, чтобы увеличить вовлеченность пользователей</td>\n",
       "      <td>1.00</td>\n",
       "    </tr>\n",
       "  </tbody>\n",
       "</table>\n",
       "</div>"
      ],
      "text/plain": [
       "                                                                                                     Hypothesis  \\\n",
       "8  Запустить акцию, дающую скидку на товар в день рождения                                                        \n",
       "0  Добавить два новых канала привлечения трафика, что позволит привлекать на 30% больше пользователей             \n",
       "7  Добавить форму подписки на все основные страницы, чтобы собрать базу клиентов для email-рассылок               \n",
       "6  Показать на главной странице баннеры с актуальными акциями и распродажами, чтобы увеличить конверсию           \n",
       "2  Добавить блоки рекомендаций товаров на сайт интернет магазина, чтобы повысить конверсию и средний чек заказа   \n",
       "1  Запустить собственную службу доставки, что сократит срок доставки заказов                                      \n",
       "5  Добавить страницу отзывов клиентов о магазине, что позволит увеличить количество заказов                       \n",
       "3  Изменить структура категорий, что увеличит конверсию, т.к. пользователи быстрее найдут нужный товар            \n",
       "4  Изменить цвет фона главной страницы, чтобы увеличить вовлеченность пользователей                               \n",
       "\n",
       "    ICE  \n",
       "8 16.20  \n",
       "0 13.30  \n",
       "7 11.20  \n",
       "6 8.00   \n",
       "2 7.00   \n",
       "1 2.00   \n",
       "5 1.30   \n",
       "3 1.10   \n",
       "4 1.00   "
      ]
     },
     "metadata": {},
     "output_type": "display_data"
    }
   ],
   "source": [
    "hypothesis['ICE'] = round((hypothesis['Impact'] * hypothesis['Confidence']) / hypothesis['Efforts'], 1)\n",
    "\n",
    "display(hypothesis[['Hypothesis', 'ICE']].sort_values(by='ICE', ascending=False))"
   ]
  },
  {
   "cell_type": "markdown",
   "metadata": {
    "id": "WdJKEVq3ePiZ"
   },
   "source": [
    "Вывод: По фремворку ICE наиболее перкпективные гипотезы 8, 0, 7, 6."
   ]
  },
  {
   "cell_type": "markdown",
   "metadata": {
    "id": "wxYp9WlPeoiV"
   },
   "source": [
    "### Фреймворк RICE "
   ]
  },
  {
   "cell_type": "markdown",
   "metadata": {
    "id": "9oYAgl2ceyf3"
   },
   "source": [
    "Применим фреймворк RICE для приоритизации гипотез. Отсортируем их по убыванию приоритета."
   ]
  },
  {
   "cell_type": "code",
   "execution_count": 15,
   "metadata": {
    "colab": {
     "base_uri": "https://localhost:8080/",
     "height": 332
    },
    "id": "tnCGHFundYqS",
    "outputId": "36a68b59-4df9-46b9-a4f5-ec4eec42dc6f"
   },
   "outputs": [
    {
     "data": {
      "text/html": [
       "<div>\n",
       "<style scoped>\n",
       "    .dataframe tbody tr th:only-of-type {\n",
       "        vertical-align: middle;\n",
       "    }\n",
       "\n",
       "    .dataframe tbody tr th {\n",
       "        vertical-align: top;\n",
       "    }\n",
       "\n",
       "    .dataframe thead th {\n",
       "        text-align: right;\n",
       "    }\n",
       "</style>\n",
       "<table border=\"1\" class=\"dataframe\">\n",
       "  <thead>\n",
       "    <tr style=\"text-align: right;\">\n",
       "      <th></th>\n",
       "      <th>Hypothesis</th>\n",
       "      <th>RICE</th>\n",
       "    </tr>\n",
       "  </thead>\n",
       "  <tbody>\n",
       "    <tr>\n",
       "      <th>7</th>\n",
       "      <td>Добавить форму подписки на все основные страницы, чтобы собрать базу клиентов для email-рассылок</td>\n",
       "      <td>112.00</td>\n",
       "    </tr>\n",
       "    <tr>\n",
       "      <th>2</th>\n",
       "      <td>Добавить блоки рекомендаций товаров на сайт интернет магазина, чтобы повысить конверсию и средний чек заказа</td>\n",
       "      <td>56.00</td>\n",
       "    </tr>\n",
       "    <tr>\n",
       "      <th>0</th>\n",
       "      <td>Добавить два новых канала привлечения трафика, что позволит привлекать на 30% больше пользователей</td>\n",
       "      <td>40.00</td>\n",
       "    </tr>\n",
       "    <tr>\n",
       "      <th>6</th>\n",
       "      <td>Показать на главной странице баннеры с актуальными акциями и распродажами, чтобы увеличить конверсию</td>\n",
       "      <td>40.00</td>\n",
       "    </tr>\n",
       "    <tr>\n",
       "      <th>8</th>\n",
       "      <td>Запустить акцию, дающую скидку на товар в день рождения</td>\n",
       "      <td>16.20</td>\n",
       "    </tr>\n",
       "    <tr>\n",
       "      <th>3</th>\n",
       "      <td>Изменить структура категорий, что увеличит конверсию, т.к. пользователи быстрее найдут нужный товар</td>\n",
       "      <td>9.00</td>\n",
       "    </tr>\n",
       "    <tr>\n",
       "      <th>1</th>\n",
       "      <td>Запустить собственную службу доставки, что сократит срок доставки заказов</td>\n",
       "      <td>4.00</td>\n",
       "    </tr>\n",
       "    <tr>\n",
       "      <th>5</th>\n",
       "      <td>Добавить страницу отзывов клиентов о магазине, что позволит увеличить количество заказов</td>\n",
       "      <td>4.00</td>\n",
       "    </tr>\n",
       "    <tr>\n",
       "      <th>4</th>\n",
       "      <td>Изменить цвет фона главной страницы, чтобы увеличить вовлеченность пользователей</td>\n",
       "      <td>3.00</td>\n",
       "    </tr>\n",
       "  </tbody>\n",
       "</table>\n",
       "</div>"
      ],
      "text/plain": [
       "                                                                                                     Hypothesis  \\\n",
       "7  Добавить форму подписки на все основные страницы, чтобы собрать базу клиентов для email-рассылок               \n",
       "2  Добавить блоки рекомендаций товаров на сайт интернет магазина, чтобы повысить конверсию и средний чек заказа   \n",
       "0  Добавить два новых канала привлечения трафика, что позволит привлекать на 30% больше пользователей             \n",
       "6  Показать на главной странице баннеры с актуальными акциями и распродажами, чтобы увеличить конверсию           \n",
       "8  Запустить акцию, дающую скидку на товар в день рождения                                                        \n",
       "3  Изменить структура категорий, что увеличит конверсию, т.к. пользователи быстрее найдут нужный товар            \n",
       "1  Запустить собственную службу доставки, что сократит срок доставки заказов                                      \n",
       "5  Добавить страницу отзывов клиентов о магазине, что позволит увеличить количество заказов                       \n",
       "4  Изменить цвет фона главной страницы, чтобы увеличить вовлеченность пользователей                               \n",
       "\n",
       "    RICE  \n",
       "7 112.00  \n",
       "2 56.00   \n",
       "0 40.00   \n",
       "6 40.00   \n",
       "8 16.20   \n",
       "3 9.00    \n",
       "1 4.00    \n",
       "5 4.00    \n",
       "4 3.00    "
      ]
     },
     "metadata": {},
     "output_type": "display_data"
    }
   ],
   "source": [
    "hypothesis['RICE'] = round((hypothesis['Reach'] * hypothesis['Impact'] * hypothesis['Confidence']) / hypothesis['Efforts'], 1)\n",
    "\n",
    "display(hypothesis[['Hypothesis', 'RICE']].sort_values(by='RICE', ascending=False))"
   ]
  },
  {
   "cell_type": "markdown",
   "metadata": {
    "id": "wd6XWfHFfjiV"
   },
   "source": [
    "Вывод: По фремворку RICE наиболее перкпективные гипотезы 7, 2, 0, 6."
   ]
  },
  {
   "cell_type": "markdown",
   "metadata": {
    "id": "faic9V91f4Q4"
   },
   "source": [
    "**Вывод по результатам приоритизации:** \n",
    "- При применении RICE изменились песпективные гипотезы - на первое место вышла гипотеза 7, а 8я опустилась на 5е место. \n",
    "- Причина, по которой 7я гипотеза вышла на первое место - она имеет максимальный показатель Reach (охват пользователей) 10.\n",
    "- По моему мнению показатель охвата пользователей очень важный, поэтому остановимся на фремворке RICH."
   ]
  },
  {
   "cell_type": "markdown",
   "metadata": {
    "id": "oLLAQ97un1wT"
   },
   "source": [
    "## Анализ A/B теста"
   ]
  },
  {
   "cell_type": "markdown",
   "metadata": {
    "id": "zL3nJGe0rCTw"
   },
   "source": [
    "Мы провели A/B тест и получили результаты, которые описаны в файлах orders.csv и visitors.csv. Теперь проанализируем A/B тест. "
   ]
  },
  {
   "cell_type": "markdown",
   "metadata": {
    "id": "kFwzwiY0C8K4"
   },
   "source": [
    "### Стабильность кумулятивных метрик"
   ]
  },
  {
   "cell_type": "markdown",
   "metadata": {
    "id": "07F22PthuoHC"
   },
   "source": [
    "Построим график кумулятивной выручки по группам. "
   ]
  },
  {
   "cell_type": "code",
   "execution_count": 16,
   "metadata": {
    "colab": {
     "base_uri": "https://localhost:8080/",
     "height": 422
    },
    "id": "aoXHgjDctvUv",
    "outputId": "fe3d7f7d-dad8-4bd5-db8a-03a36e9a36db"
   },
   "outputs": [
    {
     "data": {
      "text/plain": [
       "<matplotlib.legend.Legend at 0x7f0236f27cd0>"
      ]
     },
     "execution_count": 16,
     "metadata": {},
     "output_type": "execute_result"
    },
    {
     "data": {
      "image/png": "[encoded data removed]",
      "text/plain": [
       "<Figure size 720x432 with 1 Axes>"
      ]
     },
     "metadata": {
      "needs_background": "light"
     },
     "output_type": "display_data"
    }
   ],
   "source": [
    "datesGroups = orders[['date', 'group']].drop_duplicates()\n",
    "\n",
    "ordersAggregated = datesGroups.apply(\n",
    "    lambda x: orders[\n",
    "        np.logical_and(\n",
    "            orders['date'] <= x['date'], orders['group'] == x['group']\n",
    "        )\n",
    "    ].agg(\n",
    "        {\n",
    "            'date': 'max',\n",
    "            'group': 'max',\n",
    "            'transaction_id': 'nunique',\n",
    "            'visitor_id': 'nunique',\n",
    "            'revenue': 'sum',\n",
    "        }\n",
    "    ),\n",
    "    axis=1,\n",
    ").sort_values(by=['date', 'group'])\n",
    "\n",
    "visitorsAggregated = datesGroups.apply(\n",
    "    lambda x: visitors[\n",
    "        np.logical_and(\n",
    "            visitors['date'] <= x['date'], visitors['group'] == x['group']\n",
    "        )\n",
    "    ].agg({'date': 'max', 'group': 'max', 'visitors': 'sum'}),\n",
    "    axis=1,\n",
    ").sort_values(by=['date', 'group'])\n",
    "\n",
    "cumulativeData = ordersAggregated.merge(\n",
    "    visitorsAggregated, left_on=['date', 'group'], right_on=['date', 'group']\n",
    ")\n",
    "cumulativeData.columns = [\n",
    "    'date',\n",
    "    'group',\n",
    "    'orders',\n",
    "    'buyers',\n",
    "    'revenue',\n",
    "    'visitors',\n",
    "]\n",
    "\n",
    "# датафрейм с кумулятивным количеством заказов и кумулятивной выручкой по дням в группе А\n",
    "cumulativeRevenueA = cumulativeData[cumulativeData['group']=='A'][['date','revenue', 'orders']]\n",
    "\n",
    "# датафрейм с кумулятивным количеством заказов и кумулятивной выручкой по дням в группе B\n",
    "cumulativeRevenueB = cumulativeData[cumulativeData['group']=='B'][['date','revenue', 'orders']]\n",
    "\n",
    "# Строим график выручки группы А\n",
    "plt.plot(cumulativeRevenueA['date'], cumulativeRevenueA['revenue'], label='A')\n",
    "\n",
    "# Строим график выручки группы B\n",
    "plt.plot(cumulativeRevenueB['date'], cumulativeRevenueB['revenue'], label='B')\n",
    "\n",
    "plt.gcf().set_size_inches(10, 6)\n",
    "\n",
    "plt.title(\"Кумулятивная выручка по группам\")\n",
    "plt.xlabel('Дата')\n",
    "plt.ylabel('Выручка')\n",
    "plt.legend() "
   ]
  },
  {
   "cell_type": "markdown",
   "metadata": {
    "id": "DUXk7ins-UQE"
   },
   "source": [
    "**Вывод:** Сегмент В лидирует на все отрезке времени, но в середине сильно вырвался вперед возможно есть аномальный заказы."
   ]
  },
  {
   "cell_type": "markdown",
   "metadata": {
    "id": "TxTHIVD2FAOq"
   },
   "source": [
    "Построим график кумулятивного среднего чека по группам."
   ]
  },
  {
   "cell_type": "code",
   "execution_count": 17,
   "metadata": {
    "colab": {
     "base_uri": "https://localhost:8080/",
     "height": 422
    },
    "id": "9NL5zYBvfzom",
    "outputId": "b1f1bcd3-bc0d-4670-e06a-33b2035e32cb"
   },
   "outputs": [
    {
     "data": {
      "text/plain": [
       "Text(0, 0.5, 'Средний чек')"
      ]
     },
     "execution_count": 17,
     "metadata": {},
     "output_type": "execute_result"
    },
    {
     "data": {
      "image/png": "[encoded data removed]",
      "text/plain": [
       "<Figure size 720x432 with 1 Axes>"
      ]
     },
     "metadata": {
      "needs_background": "light"
     },
     "output_type": "display_data"
    }
   ],
   "source": [
    "plt.plot(cumulativeRevenueA['date'], cumulativeRevenueA['revenue']/cumulativeRevenueA['orders'], label='A')\n",
    "plt.plot(cumulativeRevenueB['date'], cumulativeRevenueB['revenue']/cumulativeRevenueB['orders'], label='B')\n",
    "plt.gcf().set_size_inches(10, 6)\n",
    "plt.legend()\n",
    "plt.title(\"Кумулятивный средний чек по группам\")\n",
    "plt.xlabel('Дата')\n",
    "plt.ylabel('Средний чек')"
   ]
  },
  {
   "cell_type": "markdown",
   "metadata": {
    "id": "dAXdryZZNgm2"
   },
   "source": [
    "**Вывод:** Есть сильные колебания по В сегменту, решения по метрике принимать рано, нужно проверить на выбросы."
   ]
  },
  {
   "cell_type": "markdown",
   "metadata": {
    "id": "qo3yWw5PT6gD"
   },
   "source": [
    "Построим график относительного изменения кумулятивного среднего чека группы B к группе A. "
   ]
  },
  {
   "cell_type": "code",
   "execution_count": 18,
   "metadata": {
    "colab": {
     "base_uri": "https://localhost:8080/",
     "height": 422
    },
    "id": "sENjybt1F1sg",
    "outputId": "56156570-8a80-4fc3-b570-2859dfc1c068"
   },
   "outputs": [
    {
     "data": {
      "text/plain": [
       "Text(0, 0.5, 'Изменение среднего чека')"
      ]
     },
     "execution_count": 18,
     "metadata": {},
     "output_type": "execute_result"
    },
    {
     "data": {
      "image/png": "[encoded data removed]",
      "text/plain": [
       "<Figure size 720x432 with 1 Axes>"
      ]
     },
     "metadata": {
      "needs_background": "light"
     },
     "output_type": "display_data"
    }
   ],
   "source": [
    "# собираем данные в одном датафрейме\n",
    "mergedCumulativeRevenue = cumulativeRevenueA.merge(cumulativeRevenueB, left_on='date', \n",
    "                                                    right_on='date', how='left', suffixes=['A', 'B'])\n",
    "\n",
    "# cтроим отношение средних чеков\n",
    "plt.plot(mergedCumulativeRevenue['date'], (mergedCumulativeRevenue['revenueB']/\n",
    "                                           mergedCumulativeRevenue['ordersB'])/(mergedCumulativeRevenue['revenueA']/\n",
    "                                                                                mergedCumulativeRevenue['ordersA'])-1)\n",
    "\n",
    "# добавляем ось X\n",
    "plt.axhline(y=0, color='black', linestyle='--') \n",
    "plt.gcf().set_size_inches(10, 6)\n",
    "plt.title(\"Относительное изменение кумулятивного среднего чека группы B к группе A\")\n",
    "plt.xlabel('Дата')\n",
    "plt.ylabel('Изменение среднего чека')"
   ]
  },
  {
   "cell_type": "markdown",
   "metadata": {
    "id": "6zNOuVYAUrRq"
   },
   "source": [
    "**Вывод:** Результаты теста сильно менялись. Скорее всего были аномальные заказы."
   ]
  },
  {
   "cell_type": "markdown",
   "metadata": {
    "id": "xcrvNMeBWX0a"
   },
   "source": [
    "Построим график кумулятивного среднего количества заказов на посетителя по группам"
   ]
  },
  {
   "cell_type": "code",
   "execution_count": 19,
   "metadata": {
    "colab": {
     "base_uri": "https://localhost:8080/",
     "height": 422
    },
    "id": "cKCd2vFsUmm9",
    "outputId": "f6af980c-2f51-4a9b-a09a-eeaf7d2ab1b6"
   },
   "outputs": [
    {
     "data": {
      "text/plain": [
       "Text(0, 0.5, 'Среднее количество заказов')"
      ]
     },
     "execution_count": 19,
     "metadata": {},
     "output_type": "execute_result"
    },
    {
     "data": {
      "image/png": "[encoded data removed]",
      "text/plain": [
       "<Figure size 720x432 with 1 Axes>"
      ]
     },
     "metadata": {
      "needs_background": "light"
     },
     "output_type": "display_data"
    }
   ],
   "source": [
    "# считаем кумулятивную конверсию\n",
    "cumulativeData['conversion'] = cumulativeData['orders']/cumulativeData['visitors']\n",
    "\n",
    "# отделяем данные по группе A\n",
    "cumulativeDataA = cumulativeData[cumulativeData['group']=='A']\n",
    "\n",
    "# отделяем данные по группе B\n",
    "cumulativeDataB = cumulativeData[cumulativeData['group']=='B']\n",
    "\n",
    "# строим графики\n",
    "plt.plot(cumulativeDataA['date'], cumulativeDataA['conversion'], label='A')\n",
    "plt.plot(cumulativeDataB['date'], cumulativeDataB['conversion'], label='B')\n",
    "plt.gcf().set_size_inches(10, 6)\n",
    "plt.legend()\n",
    "plt.title(\"Кумулятивное среднее количество заказов на посетителя по группам\")\n",
    "plt.xlabel('Дата')\n",
    "plt.ylabel('Среднее количество заказов')"
   ]
  },
  {
   "cell_type": "markdown",
   "metadata": {
    "id": "NC3rGJdga5nZ"
   },
   "source": [
    "**Вывод:** Есть сильные колебания по В сегменту, В сегмент сильно превышает сегмент А, решения по метрике принимать рано, нужно проверить на выбросы."
   ]
  },
  {
   "cell_type": "markdown",
   "metadata": {
    "id": "dun5yRSxcssg"
   },
   "source": [
    "Построим график относительного изменения кумулятивного среднего количества заказов на посетителя группы B к группе A."
   ]
  },
  {
   "cell_type": "code",
   "execution_count": 20,
   "metadata": {
    "colab": {
     "base_uri": "https://localhost:8080/",
     "height": 422
    },
    "id": "dBCJ25OLa6YG",
    "outputId": "7e05d87f-5d13-4a67-de5e-4639b810954e"
   },
   "outputs": [
    {
     "data": {
      "text/plain": [
       "Text(0, 0.5, 'Изменение кумулятивного среднего количества заказов')"
      ]
     },
     "execution_count": 20,
     "metadata": {},
     "output_type": "execute_result"
    },
    {
     "data": {
      "image/png": "[encoded data removed]",
      "text/plain": [
       "<Figure size 720x432 with 1 Axes>"
      ]
     },
     "metadata": {
      "needs_background": "light"
     },
     "output_type": "display_data"
    }
   ],
   "source": [
    "cumulativeData['conversion'] = (\n",
    "    cumulativeData['orders'] / cumulativeData['visitors']\n",
    ")\n",
    "\n",
    "cumulativeDataA = cumulativeData[cumulativeData['group'] == 'A']\n",
    "cumulativeDataB = cumulativeData[cumulativeData['group'] == 'B']\n",
    "\n",
    "mergedCumulativeConversions = cumulativeDataA[['date','conversion']].merge(\n",
    "    cumulativeDataB[['date','conversion']], left_on='date', right_on='date', how='left', suffixes=['A', 'B'])\n",
    "\n",
    "plt.plot(mergedCumulativeConversions['date'], mergedCumulativeConversions['conversionB']/\n",
    "         mergedCumulativeConversions['conversionA']-1, label=\"Относительный прирост конверсии группы B относительно группы A\")\n",
    "plt.legend()\n",
    "\n",
    "plt.axhline(y=0, color='black', linestyle='--')\n",
    "plt.axhline(y=0.1, color='black', linestyle='--')\n",
    "plt.axhline(y=0.2, color='black', linestyle='--')\n",
    "plt.gcf().set_size_inches(10, 6)\n",
    "plt.title(\"Относительное изменение кумулятивного среднего количества заказов на посетителя группы B к группе A.\")\n",
    "plt.xlabel('Дата')\n",
    "plt.ylabel('Изменение кумулятивного среднего количества заказов')"
   ]
  },
  {
   "cell_type": "markdown",
   "metadata": {
    "id": "E3V_XF1TejK7"
   },
   "source": [
    "**Вывод:** Вначале группа В проигрывала А, но затем резко выросла и зафиксировалась на 15%."
   ]
  },
  {
   "cell_type": "markdown",
   "metadata": {
    "id": "h-a_OeWXDNn0"
   },
   "source": [
    "### Анализ выбросов"
   ]
  },
  {
   "cell_type": "markdown",
   "metadata": {
    "id": "sSwV8LFffAoX"
   },
   "source": [
    "Построим точечный график количества заказов по пользователям. "
   ]
  },
  {
   "cell_type": "code",
   "execution_count": 21,
   "metadata": {
    "colab": {
     "base_uri": "https://localhost:8080/",
     "height": 422
    },
    "id": "Djh74T7reYpZ",
    "outputId": "85447f24-ef72-4c36-d380-e497d61b44c7"
   },
   "outputs": [
    {
     "data": {
      "text/plain": [
       "Text(0, 0.5, 'Заказы по пользователям')"
      ]
     },
     "execution_count": 21,
     "metadata": {},
     "output_type": "execute_result"
    },
    {
     "data": {
      "image/png": "[encoded data removed]",
      "text/plain": [
       "<Figure size 720x432 with 1 Axes>"
      ]
     },
     "metadata": {
      "needs_background": "light"
     },
     "output_type": "display_data"
    }
   ],
   "source": [
    "ordersByUsers = (\n",
    "    orders.groupby('visitor_id', as_index=False)\n",
    "    .agg({'transaction_id': 'nunique'})\n",
    ")\n",
    "ordersByUsers.columns = ['visitor_id', 'orders']\n",
    "\n",
    "# серия из чисел от 0 до количества наблюдений в ordersByUsers\n",
    "x_values = pd.Series(range(0, len(ordersByUsers)))\n",
    "plt.gcf().set_size_inches(10, 6)\n",
    "plt.scatter(x_values, ordersByUsers['orders']) \n",
    "plt.title(\"Количество заказов по пользователям\")\n",
    "plt.xlabel('Количество')\n",
    "plt.ylabel('Заказы по пользователям')"
   ]
  },
  {
   "cell_type": "markdown",
   "metadata": {
    "id": "pP8aENdigBZb"
   },
   "source": [
    "**Вывод:** Есть небольшое число пользователей с заказами более 6 шт. - они могут быть аномальными. "
   ]
  },
  {
   "cell_type": "markdown",
   "metadata": {
    "id": "aVtfH_AUg9an"
   },
   "source": [
    "Посчитаем 95-й и 99-й перцентили количества заказов на пользователя. Выберем границу для определения аномальных пользователей."
   ]
  },
  {
   "cell_type": "code",
   "execution_count": 22,
   "metadata": {
    "colab": {
     "base_uri": "https://localhost:8080/"
    },
    "id": "zVYm7vb_g9HX",
    "outputId": "c07f2d8f-a79b-4488-c43e-8e7bef29b767"
   },
   "outputs": [
    {
     "name": "stdout",
     "output_type": "stream",
     "text": [
      "[1. 2. 4.]\n"
     ]
    }
   ],
   "source": [
    "print(np.percentile(ordersByUsers['orders'], [90, 95, 99])) "
   ]
  },
  {
   "cell_type": "markdown",
   "metadata": {
    "id": "6DptDYgneigv"
   },
   "source": [
    "**Вывод:** \n",
    "- В 1% заказов входят аномальные пользователи с более 4 заказов. \n",
    "- Предлагается установить нижнюю границу на уровне 4 заказов."
   ]
  },
  {
   "cell_type": "markdown",
   "metadata": {
    "id": "IjGM84gRhzKh"
   },
   "source": [
    "Построим точечный график стоимостей заказов."
   ]
  },
  {
   "cell_type": "code",
   "execution_count": 23,
   "metadata": {
    "colab": {
     "base_uri": "https://localhost:8080/",
     "height": 313
    },
    "id": "fWy2lUt_h31H",
    "outputId": "4dd65981-5d36-4926-8233-fa12a943b52e",
    "scrolled": true
   },
   "outputs": [
    {
     "data": {
      "text/plain": [
       "Text(0, 0.5, 'Стоимость заказов')"
      ]
     },
     "execution_count": 23,
     "metadata": {},
     "output_type": "execute_result"
    },
    {
     "data": {
      "image/png": "[encoded data removed]",
      "text/plain": [
       "<Figure size 432x288 with 1 Axes>"
      ]
     },
     "metadata": {
      "needs_background": "light"
     },
     "output_type": "display_data"
    }
   ],
   "source": [
    "x_values = pd.Series(range(0, len(orders['revenue'])))\n",
    "\n",
    "plt.scatter(x_values, orders['revenue'])\n",
    "plt.title(\"График стоимостей заказов\")\n",
    "plt.xlabel('Количество')\n",
    "plt.ylabel('Стоимость заказов')"
   ]
  },
  {
   "cell_type": "code",
   "execution_count": 24,
   "metadata": {},
   "outputs": [
    {
     "data": {
      "text/plain": [
       "Text(0, 0.5, 'Стоимость заказов')"
      ]
     },
     "execution_count": 24,
     "metadata": {},
     "output_type": "execute_result"
    },
    {
     "data": {
      "image/png": "[encoded data removed]",
      "text/plain": [
       "<Figure size 432x288 with 1 Axes>"
      ]
     },
     "metadata": {
      "needs_background": "light"
     },
     "output_type": "display_data"
    }
   ],
   "source": [
    "# ограничим ось Y, чтобы увидеть основную часть заказов:\n",
    "x_values = pd.Series(range(0, len(orders['revenue'])))\n",
    "plt.scatter(x_values, orders['revenue'])\n",
    "\n",
    "plt.ylim(0, 28000)\n",
    "plt.title(\"График стоимостей заказов\")\n",
    "plt.xlabel('Количество')\n",
    "plt.ylabel('Стоимость заказов')"
   ]
  },
  {
   "cell_type": "markdown",
   "metadata": {
    "id": "MgIGMOsFi_vX"
   },
   "source": [
    "**Вывод:** Есть пару аномальных значений. "
   ]
  },
  {
   "cell_type": "markdown",
   "metadata": {
    "id": "JWTufInlh67v"
   },
   "source": [
    "Посчитаем 95-й и 99-й перцентили стоимости заказов. Выберем границу для определения аномальных заказов."
   ]
  },
  {
   "cell_type": "code",
   "execution_count": 25,
   "metadata": {
    "colab": {
     "base_uri": "https://localhost:8080/"
    },
    "id": "1ceHrcGAiCvr",
    "outputId": "f8779ade-5384-4d6f-bc2a-a9f421153c14"
   },
   "outputs": [
    {
     "name": "stdout",
     "output_type": "stream",
     "text": [
      "[18168.  28000.  58233.2]\n"
     ]
    }
   ],
   "source": [
    "print(np.percentile(orders['revenue'], [90, 95, 99]))"
   ]
  },
  {
   "cell_type": "markdown",
   "metadata": {
    "id": "fY2iud7miDLh"
   },
   "source": [
    "**Вывод:** \n",
    "- 95й персентиль стоимости заказов - 28 тыс., 99й - 58 тыс. \n",
    "- Предлагается выбрать нижнюю границу стоимости заказов на уровне 95-го перцентиля - 28 тыс. "
   ]
  },
  {
   "cell_type": "markdown",
   "metadata": {
    "id": "iEv_uRe5CmgK"
   },
   "source": [
    "### Расчет статистической значимости сырых данных"
   ]
  },
  {
   "cell_type": "markdown",
   "metadata": {},
   "source": [
    "Посчитаем статистическую значимость различий в среднем числе заказов на пользователя и среднем чеке между группами по «сырым» данным — без удаления аномальных пользователей.\n",
    "\n",
    "Сформулируем гипотезы: \n",
    "- Нулевая: различий в среднем количестве заказов на пользователя между группами нет. \n",
    "- Альтернативная: различия в среднем между группами есть.\n",
    "\n",
    "Значение alpha - 0.05.\n",
    "\n",
    "Метод проверки гипотез: непараметрический тест Уилкоксона-Манна-Уитни."
   ]
  },
  {
   "cell_type": "code",
   "execution_count": 26,
   "metadata": {
    "colab": {
     "base_uri": "https://localhost:8080/"
    },
    "id": "LS29fRTHiaJl",
    "outputId": "0bef1c04-75c0-45d9-d0fe-63ec1683234d"
   },
   "outputs": [
    {
     "name": "stdout",
     "output_type": "stream",
     "text": [
      "p-value: 0.017\n",
      "Различие в средних В к А: 0.138\n"
     ]
    }
   ],
   "source": [
    "# Посчитаем статистическую значимость различий в среднем количестве заказов на посетителя между группами по «сырым» данным:\n",
    "visitorsADaily = visitors[visitors['group'] == 'A'][['date', 'visitors']]\n",
    "visitorsADaily.columns = ['date', 'visitorsPerDateA']\n",
    "\n",
    "visitorsACummulative = visitorsADaily.apply(\n",
    "    lambda x: visitorsADaily[visitorsADaily['date'] <= x['date']].agg(\n",
    "        {'date': 'max', 'visitorsPerDateA': 'sum'}\n",
    "    ),\n",
    "    axis=1,\n",
    ")\n",
    "visitorsACummulative.columns = ['date', 'visitorsCummulativeA']\n",
    "\n",
    "visitorsBDaily = visitors[visitors['group'] == 'B'][['date', 'visitors']]\n",
    "visitorsBDaily.columns = ['date', 'visitorsPerDateB']\n",
    "\n",
    "visitorsBCummulative = visitorsBDaily.apply(\n",
    "    lambda x: visitorsBDaily[visitorsBDaily['date'] <= x['date']].agg(\n",
    "        {'date': 'max', 'visitorsPerDateB': 'sum'}\n",
    "    ),\n",
    "    axis=1,\n",
    ")\n",
    "visitorsBCummulative.columns = ['date', 'visitorsCummulativeB']\n",
    "\n",
    "ordersADaily = (\n",
    "    orders[orders['group'] == 'A'][['date', 'transaction_id', 'visitor_id', 'revenue']]\n",
    "    .groupby('date', as_index=False)\n",
    "    .agg({'transaction_id': pd.Series.nunique, 'revenue': 'sum'})\n",
    ")\n",
    "ordersADaily.columns = ['date', 'ordersPerDateA', 'revenuePerDateA']\n",
    "\n",
    "ordersACummulative = ordersADaily.apply(\n",
    "    lambda x: ordersADaily[ordersADaily['date'] <= x['date']].agg(\n",
    "        {'date': 'max', 'ordersPerDateA': 'sum', 'revenuePerDateA': 'sum'}\n",
    "    ),\n",
    "    axis=1,\n",
    ").sort_values(by=['date'])\n",
    "ordersACummulative.columns = [\n",
    "    'date',\n",
    "    'ordersCummulativeA',\n",
    "    'revenueCummulativeA',\n",
    "]\n",
    "\n",
    "ordersBDaily = (\n",
    "    orders[orders['group'] == 'B'][['date', 'transaction_id', 'visitor_id', 'revenue']]\n",
    "    .groupby('date', as_index=False)\n",
    "    .agg({'transaction_id': pd.Series.nunique, 'revenue': 'sum'})\n",
    ")\n",
    "ordersBDaily.columns = ['date', 'ordersPerDateB', 'revenuePerDateB']\n",
    "\n",
    "ordersBCummulative = ordersBDaily.apply(\n",
    "    lambda x: ordersBDaily[ordersBDaily['date'] <= x['date']].agg(\n",
    "        {'date': 'max', 'ordersPerDateB': 'sum', 'revenuePerDateB': 'sum'}\n",
    "    ),\n",
    "    axis=1,\n",
    ").sort_values(by=['date'])\n",
    "ordersBCummulative.columns = [\n",
    "    'date',\n",
    "    'ordersCummulativeB',\n",
    "    'revenueCummulativeB',\n",
    "]\n",
    "\n",
    "data = (\n",
    "    ordersADaily.merge(\n",
    "        ordersBDaily, left_on='date', right_on='date', how='left'\n",
    "    )\n",
    "    .merge(ordersACummulative, left_on='date', right_on='date', how='left')\n",
    "    .merge(ordersBCummulative, left_on='date', right_on='date', how='left')\n",
    "    .merge(visitorsADaily, left_on='date', right_on='date', how='left')\n",
    "    .merge(visitorsBDaily, left_on='date', right_on='date', how='left')\n",
    "    .merge(visitorsACummulative, left_on='date', right_on='date', how='left')\n",
    "    .merge(visitorsBCummulative, left_on='date', right_on='date', how='left')\n",
    ")\n",
    "\n",
    "ordersByUsersA = (\n",
    "    orders[orders['group'] == 'A']\n",
    "    .groupby('visitor_id', as_index=False)\n",
    "    .agg({'transaction_id': pd.Series.nunique})\n",
    ")\n",
    "ordersByUsersA.columns = ['visitor_id', 'orders']\n",
    "\n",
    "ordersByUsersB = (\n",
    "    orders[orders['group'] == 'B']\n",
    "    .groupby('visitor_id', as_index=False)\n",
    "    .agg({'transaction_id': pd.Series.nunique})\n",
    ")\n",
    "ordersByUsersB.columns = ['visitor_id', 'orders'] \n",
    "\n",
    "sampleA = pd.concat(\n",
    "    [\n",
    "        ordersByUsersA['orders'],\n",
    "        pd.Series(\n",
    "            0,\n",
    "            index=np.arange(\n",
    "                data['visitorsPerDateA'].sum() - len(ordersByUsersA['orders'])\n",
    "            ),\n",
    "            name='orders',\n",
    "        ),\n",
    "    ],\n",
    "    axis=0,\n",
    ")\n",
    "\n",
    "sampleB = pd.concat(\n",
    "    [\n",
    "        ordersByUsersB['orders'],\n",
    "        pd.Series(\n",
    "            0,\n",
    "            index=np.arange(\n",
    "                data['visitorsPerDateB'].sum() - len(ordersByUsersB['orders'])\n",
    "            ),\n",
    "            name='orders',\n",
    "        ),\n",
    "    ],\n",
    "    axis=0,\n",
    ")\n",
    "\n",
    "print('p-value:', \"{0:.3f}\".format(stats.mannwhitneyu(sampleA, sampleB)[1]))\n",
    "\n",
    "print('Различие в средних В к А:', \"{0:.3f}\".format((data['ordersPerDateB'].sum()/\n",
    "                                                                              data['visitorsPerDateB'].sum())/\n",
    "                       (data['ordersPerDateA'].sum()/data['visitorsPerDateA'].sum())-1))"
   ]
  },
  {
   "cell_type": "markdown",
   "metadata": {
    "id": "qS6Q2pu9iast"
   },
   "source": [
    "**Вывод:** P-value меньше 0.05, поэтому нулевую гипотезу отвергаем. В среднем количестве заказов между группами есть статистически значимые отличия. Относительный прирост среднего группы В к группе А равен 13,8%.  "
   ]
  },
  {
   "cell_type": "markdown",
   "metadata": {},
   "source": [
    "Теперь проверим статистическую значимость различий в среднем чеке между сегментами. \n",
    "\n",
    "- Нулевая гипотеза: различий в среднем чеке между группами нет. \n",
    "- Альтернативная гипотеза: различия в среднем чеке между группами есть. \n",
    "\n",
    "Значение alpha - 0.05.\n",
    "\n",
    "Метод проверки гипотез: непараметрический тест Уилкоксона-Манна-Уитни."
   ]
  },
  {
   "cell_type": "code",
   "execution_count": 27,
   "metadata": {
    "colab": {
     "base_uri": "https://localhost:8080/"
    },
    "id": "In5AbWm5ibLw",
    "outputId": "9c703b72-1acb-43ae-ef15-a71a72aae972"
   },
   "outputs": [
    {
     "name": "stdout",
     "output_type": "stream",
     "text": [
      "p-value: 0.729\n",
      "Различие в средних В к А: 0.259\n"
     ]
    }
   ],
   "source": [
    "# Посчитаем статистическую значимость различий в среднем чеке заказа между группами по «сырым» данным.\n",
    "print('p-value:', '{0:.3f}'.format(stats.mannwhitneyu(orders[orders['group']=='A']['revenue'], \n",
    "                                          orders[orders['group']=='B']['revenue'])[1]))\n",
    "\n",
    "print('Различие в средних В к А:', '{0:.3f}'.format(orders[orders['group']=='B']['revenue'].mean()/\n",
    "                                                    orders[orders['group']=='A']['revenue'].mean()-1))"
   ]
  },
  {
   "cell_type": "markdown",
   "metadata": {
    "id": "5uIDtIVqiOJV"
   },
   "source": [
    "Посчитаем статистическую значимость различий в среднем чеке заказа между группами по «сырым» данным. "
   ]
  },
  {
   "cell_type": "markdown",
   "metadata": {
    "id": "wBIT2xumibdu"
   },
   "source": [
    "**Вывод:** P-value сильно выше 0.05 - статистически значимых отличий в среднем чеке заказа между группами нет. Относительное различие среднего чека между сегментами 25,9%. Наблюдаемое различие не значимо, получено случайно из-за единичных выбросов."
   ]
  },
  {
   "cell_type": "markdown",
   "metadata": {
    "id": "hN2cNAr7CvxY"
   },
   "source": [
    "### Расчет статистической значимости очищенных данных"
   ]
  },
  {
   "cell_type": "markdown",
   "metadata": {
    "id": "FvAizkVr51Uv"
   },
   "source": [
    "Ранее сделали расчет, что 95й персентиль стоимости заказов - 28 тыс., 99й - 58 тыс. 95-й и 99-й перцентили числа заказов на одного пользователя равны 2 и 4 заказам на пользователя. \n",
    "\n",
    "За аномальных пользователей примем тех, кто купил более 4х заказов (99й персентиль) и потратил более 28 тыс. (95й персентиль). "
   ]
  },
  {
   "cell_type": "markdown",
   "metadata": {
    "id": "-1pTkbZYiOGS"
   },
   "source": [
    "Посчитаем статистическую значимость различий в среднем количестве заказов на посетителя между группами по «очищенным» данным."
   ]
  },
  {
   "cell_type": "code",
   "execution_count": 28,
   "metadata": {
    "colab": {
     "base_uri": "https://localhost:8080/"
    },
    "id": "-cDvbK6IicZG",
    "outputId": "e4011393-1090-47fd-cca3-77c36cbc207a"
   },
   "outputs": [
    {
     "name": "stdout",
     "output_type": "stream",
     "text": [
      "p-value: 0.018\n",
      "Различие в средних В к А: 0.148\n"
     ]
    }
   ],
   "source": [
    "usersWithManyOrders = pd.concat(\n",
    "    [\n",
    "        ordersByUsersA[ordersByUsersA['orders'] > 3]['visitor_id'],\n",
    "        ordersByUsersB[ordersByUsersB['orders'] > 3]['visitor_id'],\n",
    "    ],\n",
    "    axis=0,\n",
    ")\n",
    "usersWithExpensiveOrders = orders[orders['revenue'] > 28000]['visitor_id']\n",
    "\n",
    "abnormalUsers = (\n",
    "    pd.concat([usersWithManyOrders, usersWithExpensiveOrders], axis=0)\n",
    "    .drop_duplicates()\n",
    "    .sort_values()\n",
    ")\n",
    "\n",
    "sampleAFiltered = pd.concat(\n",
    "    [\n",
    "        ordersByUsersA[\n",
    "            np.logical_not(ordersByUsersA['visitor_id'].isin(abnormalUsers))\n",
    "        ]['orders'],\n",
    "        pd.Series(\n",
    "            0,\n",
    "            index=np.arange(\n",
    "                data['visitorsPerDateA'].sum() - len(ordersByUsersA['orders'])\n",
    "            ),\n",
    "            name='orders',\n",
    "        ),\n",
    "    ],\n",
    "    axis=0,\n",
    ")\n",
    "\n",
    "sampleBFiltered = pd.concat(\n",
    "    [\n",
    "        ordersByUsersB[\n",
    "            np.logical_not(ordersByUsersB['visitor_id'].isin(abnormalUsers))\n",
    "        ]['orders'],\n",
    "        pd.Series(\n",
    "            0,\n",
    "            index=np.arange(\n",
    "                data['visitorsPerDateB'].sum() - len(ordersByUsersB['orders'])\n",
    "            ),\n",
    "            name='orders',\n",
    "        ),\n",
    "    ],\n",
    "    axis=0,\n",
    ")\n",
    "\n",
    "print('p-value:', '{0:.3f}'.format(stats.mannwhitneyu(sampleAFiltered, sampleBFiltered)[1]))\n",
    "print('Различие в средних В к А:', '{0:.3f}'.format(sampleBFiltered.mean()/sampleAFiltered.mean()-1)) "
   ]
  },
  {
   "cell_type": "markdown",
   "metadata": {
    "id": "jGKCS0iIic0L"
   },
   "source": [
    "**Вывод:** Как из с сырыми данными, статистическая значимость достигнута. Сегмент В лучше чем А. Относительный прирост среднего группы В к группе А равен 14,8%."
   ]
  },
  {
   "cell_type": "markdown",
   "metadata": {
    "id": "omWd5aiQiN_M"
   },
   "source": [
    "Посчитаем статистическую значимость различий в среднем чеке заказа между группами по «очищенным» данным. "
   ]
  },
  {
   "cell_type": "code",
   "execution_count": 29,
   "metadata": {
    "colab": {
     "base_uri": "https://localhost:8080/"
    },
    "id": "L5MjtieQidf9",
    "outputId": "a7dfae12-7ca0-4e16-f3d6-402d9b8370c1"
   },
   "outputs": [
    {
     "name": "stdout",
     "output_type": "stream",
     "text": [
      "p-value: 0.977\n",
      "Различие в средних В к А: -0.017\n"
     ]
    }
   ],
   "source": [
    "print('p-value:', \n",
    "    '{0:.3f}'.format(\n",
    "        stats.mannwhitneyu(\n",
    "            orders[\n",
    "                np.logical_and(\n",
    "                    orders['group'] == 'A',\n",
    "                    np.logical_not(orders['visitor_id'].isin(abnormalUsers)),\n",
    "                )\n",
    "            ]['revenue'],\n",
    "            orders[\n",
    "                np.logical_and(\n",
    "                    orders['group'] == 'B',\n",
    "                    np.logical_not(orders['visitor_id'].isin(abnormalUsers)),\n",
    "                )\n",
    "            ]['revenue'],\n",
    "        )[1]\n",
    "    )\n",
    ")\n",
    "\n",
    "print('Различие в средних В к А:', \n",
    "    \"{0:.3f}\".format(\n",
    "        orders[\n",
    "            np.logical_and(\n",
    "                orders['group'] == 'B',\n",
    "                np.logical_not(orders['visitor_id'].isin(abnormalUsers)),\n",
    "            )\n",
    "        ]['revenue'].mean()\n",
    "        / orders[\n",
    "            np.logical_and(\n",
    "                orders['group'] == 'A',\n",
    "                np.logical_not(orders['visitor_id'].isin(abnormalUsers)),\n",
    "            )\n",
    "        ]['revenue'].mean()\n",
    "        - 1\n",
    "    )\n",
    ")"
   ]
  },
  {
   "cell_type": "markdown",
   "metadata": {
    "id": "O6eXc0Wnid6d"
   },
   "source": [
    "**Вывод:** P-value сильно выше 0.05 - статистически значимых отличий в среднем чеке заказа по очищенным данным между группами нет. Относительное различие среднего чека между сегментами по сравнению с сырыми данными снизилось по сравнению с сырыми данными."
   ]
  },
  {
   "cell_type": "markdown",
   "metadata": {
    "id": "PQvlNFfl8qKd"
   },
   "source": [
    "## Выводы по результатам теста"
   ]
  },
  {
   "cell_type": "markdown",
   "metadata": {
    "id": "l3CLwqkv_NGF"
   },
   "source": [
    "- Учитывая динамику на графиках тест можно остановить, его продолжение не повлияет на результаты. \n",
    "- По результатам теста есть различие в среднем количестве заказов между группами А и В как на сырых, так и на очищенных данных. Группа В значительно лучше А по данной метрике. Относительный прирост среднего группы В к группе А равен 14,8%.\n",
    "-  При этом различия в среднем чеке между группами А и В отсутствует, т.е. предложенная гипотеза не приводит к росту среднего чека, а только к росту числа заказов. "
   ]
  },
  {
   "cell_type": "code",
   "execution_count": null,
   "metadata": {},
   "outputs": [],
   "source": []
  }
 ],
 "metadata": {
  "ExecuteTimeLog": [
   {
    "duration": 1120,
    "start_time": "2023-03-23T07:19:57.016Z"
   },
   {
    "duration": 112,
    "start_time": "2023-03-23T07:19:58.138Z"
   },
   {
    "duration": 4,
    "start_time": "2023-03-23T07:19:58.252Z"
   },
   {
    "duration": 45,
    "start_time": "2023-03-23T07:19:58.258Z"
   },
   {
    "duration": 38,
    "start_time": "2023-03-23T07:19:58.305Z"
   },
   {
    "duration": 62,
    "start_time": "2023-03-23T07:19:58.344Z"
   },
   {
    "duration": 9,
    "start_time": "2023-03-23T07:19:58.407Z"
   },
   {
    "duration": 11,
    "start_time": "2023-03-23T07:19:58.418Z"
   },
   {
    "duration": 12,
    "start_time": "2023-03-23T07:19:58.431Z"
   },
   {
    "duration": 615,
    "start_time": "2023-03-23T07:19:58.444Z"
   },
   {
    "duration": 307,
    "start_time": "2023-03-23T07:19:59.061Z"
   },
   {
    "duration": 413,
    "start_time": "2023-03-23T07:19:59.369Z"
   },
   {
    "duration": 337,
    "start_time": "2023-03-23T07:19:59.784Z"
   },
   {
    "duration": 419,
    "start_time": "2023-03-23T07:20:00.123Z"
   },
   {
    "duration": 173,
    "start_time": "2023-03-23T07:20:00.543Z"
   },
   {
    "duration": 4,
    "start_time": "2023-03-23T07:20:00.718Z"
   },
   {
    "duration": 186,
    "start_time": "2023-03-23T07:20:00.723Z"
   },
   {
    "duration": 5,
    "start_time": "2023-03-23T07:20:00.911Z"
   },
   {
    "duration": 394,
    "start_time": "2023-03-23T07:20:00.918Z"
   },
   {
    "duration": 10,
    "start_time": "2023-03-23T07:20:01.314Z"
   },
   {
    "duration": 76,
    "start_time": "2023-03-23T07:20:01.325Z"
   },
   {
    "duration": 81,
    "start_time": "2023-03-23T07:20:01.402Z"
   },
   {
    "duration": 1367,
    "start_time": "2023-03-23T08:04:44.033Z"
   },
   {
    "duration": 277,
    "start_time": "2023-03-23T08:04:50.423Z"
   },
   {
    "duration": 4,
    "start_time": "2023-03-23T08:04:57.845Z"
   },
   {
    "duration": 42,
    "start_time": "2023-03-23T08:04:58.624Z"
   },
   {
    "duration": 46,
    "start_time": "2023-03-23T08:05:43.353Z"
   },
   {
    "duration": 7,
    "start_time": "2023-03-23T08:29:40.172Z"
   },
   {
    "duration": 108,
    "start_time": "2023-03-23T08:29:40.181Z"
   },
   {
    "duration": 3,
    "start_time": "2023-03-23T08:29:40.290Z"
   },
   {
    "duration": 47,
    "start_time": "2023-03-23T08:29:40.296Z"
   },
   {
    "duration": 60,
    "start_time": "2023-03-23T08:29:40.346Z"
   },
   {
    "duration": 38,
    "start_time": "2023-03-23T08:29:40.408Z"
   },
   {
    "duration": 314,
    "start_time": "2023-03-23T08:29:40.475Z"
   },
   {
    "duration": 0,
    "start_time": "2023-03-23T08:29:40.791Z"
   },
   {
    "duration": 185,
    "start_time": "2023-03-23T08:31:59.010Z"
   },
   {
    "duration": 4,
    "start_time": "2023-03-23T08:33:57.465Z"
   },
   {
    "duration": 232,
    "start_time": "2023-03-23T08:34:02.820Z"
   },
   {
    "duration": 245,
    "start_time": "2023-03-23T08:34:21.980Z"
   },
   {
    "duration": 11,
    "start_time": "2023-03-23T08:34:52.138Z"
   },
   {
    "duration": 1136,
    "start_time": "2023-03-23T08:36:02.740Z"
   },
   {
    "duration": 99,
    "start_time": "2023-03-23T08:36:03.878Z"
   },
   {
    "duration": 3,
    "start_time": "2023-03-23T08:36:03.979Z"
   },
   {
    "duration": 59,
    "start_time": "2023-03-23T08:36:03.984Z"
   },
   {
    "duration": 70,
    "start_time": "2023-03-23T08:36:04.046Z"
   },
   {
    "duration": 75,
    "start_time": "2023-03-23T08:36:04.118Z"
   },
   {
    "duration": 17,
    "start_time": "2023-03-23T08:36:04.195Z"
   },
   {
    "duration": 143,
    "start_time": "2023-03-23T08:36:04.215Z"
   },
   {
    "duration": 132,
    "start_time": "2023-03-23T08:36:41.656Z"
   },
   {
    "duration": 11,
    "start_time": "2023-03-23T08:37:11.768Z"
   },
   {
    "duration": 10,
    "start_time": "2023-03-23T08:37:28.731Z"
   },
   {
    "duration": 21,
    "start_time": "2023-03-23T08:37:38.389Z"
   },
   {
    "duration": 7,
    "start_time": "2023-03-23T08:39:33.032Z"
   },
   {
    "duration": 11,
    "start_time": "2023-03-23T08:39:45.619Z"
   },
   {
    "duration": 4,
    "start_time": "2023-03-23T08:39:49.293Z"
   },
   {
    "duration": 5,
    "start_time": "2023-03-23T08:39:54.697Z"
   },
   {
    "duration": 5,
    "start_time": "2023-03-23T08:40:15.767Z"
   },
   {
    "duration": 5,
    "start_time": "2023-03-23T08:40:37.441Z"
   },
   {
    "duration": 5,
    "start_time": "2023-03-23T08:41:38.641Z"
   },
   {
    "duration": 4,
    "start_time": "2023-03-23T08:47:56.451Z"
   },
   {
    "duration": 5,
    "start_time": "2023-03-23T08:48:45.737Z"
   },
   {
    "duration": 8,
    "start_time": "2023-03-23T08:49:09.682Z"
   },
   {
    "duration": 6,
    "start_time": "2023-03-23T08:50:09.254Z"
   },
   {
    "duration": 13,
    "start_time": "2023-03-23T08:57:58.598Z"
   },
   {
    "duration": 8,
    "start_time": "2023-03-23T09:04:59.255Z"
   },
   {
    "duration": 7,
    "start_time": "2023-03-23T09:05:46.792Z"
   },
   {
    "duration": 7,
    "start_time": "2023-03-23T09:06:02.938Z"
   },
   {
    "duration": 7,
    "start_time": "2023-03-23T09:06:18.299Z"
   },
   {
    "duration": 6,
    "start_time": "2023-03-23T09:07:03.875Z"
   },
   {
    "duration": 8,
    "start_time": "2023-03-23T09:07:55.796Z"
   },
   {
    "duration": 8,
    "start_time": "2023-03-23T09:09:11.836Z"
   },
   {
    "duration": 48,
    "start_time": "2023-03-23T09:11:06.641Z"
   },
   {
    "duration": 7,
    "start_time": "2023-03-23T09:11:43.006Z"
   },
   {
    "duration": 12,
    "start_time": "2023-03-23T09:12:10.425Z"
   },
   {
    "duration": 7,
    "start_time": "2023-03-23T09:12:20.314Z"
   },
   {
    "duration": 8,
    "start_time": "2023-03-23T09:12:41.621Z"
   },
   {
    "duration": 39,
    "start_time": "2023-03-23T09:17:07.433Z"
   },
   {
    "duration": 10,
    "start_time": "2023-03-23T09:17:28.430Z"
   },
   {
    "duration": 11,
    "start_time": "2023-03-23T09:17:28.442Z"
   },
   {
    "duration": 10,
    "start_time": "2023-03-23T09:17:28.455Z"
   },
   {
    "duration": 31,
    "start_time": "2023-03-23T09:17:28.467Z"
   },
   {
    "duration": 0,
    "start_time": "2023-03-23T09:17:28.500Z"
   },
   {
    "duration": 1,
    "start_time": "2023-03-23T09:17:28.501Z"
   },
   {
    "duration": 0,
    "start_time": "2023-03-23T09:17:28.503Z"
   },
   {
    "duration": 0,
    "start_time": "2023-03-23T09:17:28.504Z"
   },
   {
    "duration": 0,
    "start_time": "2023-03-23T09:17:28.505Z"
   },
   {
    "duration": 0,
    "start_time": "2023-03-23T09:17:28.506Z"
   },
   {
    "duration": 0,
    "start_time": "2023-03-23T09:17:28.507Z"
   },
   {
    "duration": 0,
    "start_time": "2023-03-23T09:17:28.508Z"
   },
   {
    "duration": 118,
    "start_time": "2023-03-23T09:17:28.532Z"
   },
   {
    "duration": 0,
    "start_time": "2023-03-23T09:17:28.653Z"
   },
   {
    "duration": 0,
    "start_time": "2023-03-23T09:17:28.654Z"
   },
   {
    "duration": 0,
    "start_time": "2023-03-23T09:17:28.655Z"
   },
   {
    "duration": 588,
    "start_time": "2023-03-23T09:18:00.383Z"
   },
   {
    "duration": 222,
    "start_time": "2023-03-23T09:18:05.495Z"
   },
   {
    "duration": 348,
    "start_time": "2023-03-23T09:18:11.558Z"
   },
   {
    "duration": 232,
    "start_time": "2023-03-23T09:18:17.453Z"
   },
   {
    "duration": 400,
    "start_time": "2023-03-23T09:18:26.152Z"
   },
   {
    "duration": 146,
    "start_time": "2023-03-23T09:18:40.931Z"
   },
   {
    "duration": 4,
    "start_time": "2023-03-23T09:18:47.168Z"
   },
   {
    "duration": 153,
    "start_time": "2023-03-23T09:18:50.524Z"
   },
   {
    "duration": 5,
    "start_time": "2023-03-23T09:18:54.540Z"
   },
   {
    "duration": 352,
    "start_time": "2023-03-23T09:19:56.327Z"
   },
   {
    "duration": 12,
    "start_time": "2023-03-23T09:20:02.069Z"
   },
   {
    "duration": 33,
    "start_time": "2023-03-23T09:20:21.109Z"
   },
   {
    "duration": 14,
    "start_time": "2023-03-23T09:20:37.268Z"
   },
   {
    "duration": 47,
    "start_time": "2023-03-23T09:23:45.747Z"
   },
   {
    "duration": 405,
    "start_time": "2023-03-23T09:28:02.708Z"
   },
   {
    "duration": 138,
    "start_time": "2023-03-23T09:40:34.433Z"
   },
   {
    "duration": 137,
    "start_time": "2023-03-23T09:40:49.401Z"
   },
   {
    "duration": 173,
    "start_time": "2023-03-23T09:41:05.974Z"
   },
   {
    "duration": 147,
    "start_time": "2023-03-23T09:41:28.469Z"
   },
   {
    "duration": 153,
    "start_time": "2023-03-23T09:41:49.264Z"
   },
   {
    "duration": 399,
    "start_time": "2023-03-23T10:29:36.433Z"
   },
   {
    "duration": 412,
    "start_time": "2023-03-23T10:29:42.444Z"
   },
   {
    "duration": 403,
    "start_time": "2023-03-23T10:30:32.923Z"
   },
   {
    "duration": 34,
    "start_time": "2023-03-23T10:31:26.392Z"
   },
   {
    "duration": 14,
    "start_time": "2023-03-23T10:31:42.059Z"
   },
   {
    "duration": 16,
    "start_time": "2023-03-23T10:37:04.179Z"
   },
   {
    "duration": 16,
    "start_time": "2023-03-23T10:45:07.341Z"
   },
   {
    "duration": 4223,
    "start_time": "2023-03-23T10:46:11.918Z"
   },
   {
    "duration": 17,
    "start_time": "2023-03-23T10:46:36.503Z"
   },
   {
    "duration": 3613,
    "start_time": "2023-03-23T10:46:59.319Z"
   },
   {
    "duration": 110,
    "start_time": "2023-03-23T10:47:02.935Z"
   },
   {
    "duration": 4,
    "start_time": "2023-03-23T10:47:03.048Z"
   },
   {
    "duration": 55,
    "start_time": "2023-03-23T10:47:03.054Z"
   },
   {
    "duration": 77,
    "start_time": "2023-03-23T10:47:03.112Z"
   },
   {
    "duration": 47,
    "start_time": "2023-03-23T10:47:03.191Z"
   },
   {
    "duration": 52,
    "start_time": "2023-03-23T10:47:03.241Z"
   },
   {
    "duration": 27,
    "start_time": "2023-03-23T10:47:03.295Z"
   },
   {
    "duration": 169,
    "start_time": "2023-03-23T10:47:03.325Z"
   },
   {
    "duration": 1,
    "start_time": "2023-03-23T10:47:03.497Z"
   },
   {
    "duration": 0,
    "start_time": "2023-03-23T10:47:03.501Z"
   },
   {
    "duration": 0,
    "start_time": "2023-03-23T10:47:03.503Z"
   },
   {
    "duration": 0,
    "start_time": "2023-03-23T10:47:03.504Z"
   },
   {
    "duration": 0,
    "start_time": "2023-03-23T10:47:03.506Z"
   },
   {
    "duration": 0,
    "start_time": "2023-03-23T10:47:03.507Z"
   },
   {
    "duration": 1,
    "start_time": "2023-03-23T10:47:03.508Z"
   },
   {
    "duration": 0,
    "start_time": "2023-03-23T10:47:03.510Z"
   },
   {
    "duration": 0,
    "start_time": "2023-03-23T10:47:03.511Z"
   },
   {
    "duration": 0,
    "start_time": "2023-03-23T10:47:03.512Z"
   },
   {
    "duration": 0,
    "start_time": "2023-03-23T10:47:03.513Z"
   },
   {
    "duration": 0,
    "start_time": "2023-03-23T10:47:03.514Z"
   },
   {
    "duration": 0,
    "start_time": "2023-03-23T10:47:03.515Z"
   },
   {
    "duration": 0,
    "start_time": "2023-03-23T10:47:03.517Z"
   },
   {
    "duration": 0,
    "start_time": "2023-03-23T10:47:03.518Z"
   },
   {
    "duration": 0,
    "start_time": "2023-03-23T10:47:03.519Z"
   },
   {
    "duration": 0,
    "start_time": "2023-03-23T10:47:03.521Z"
   },
   {
    "duration": 0,
    "start_time": "2023-03-23T10:47:03.522Z"
   },
   {
    "duration": 0,
    "start_time": "2023-03-23T10:47:03.523Z"
   },
   {
    "duration": 0,
    "start_time": "2023-03-23T10:47:03.524Z"
   },
   {
    "duration": 13,
    "start_time": "2023-03-23T10:54:03.397Z"
   },
   {
    "duration": 10,
    "start_time": "2023-03-23T10:54:12.230Z"
   },
   {
    "duration": 19,
    "start_time": "2023-03-23T10:54:50.671Z"
   },
   {
    "duration": 13,
    "start_time": "2023-03-23T10:55:52.044Z"
   },
   {
    "duration": 43,
    "start_time": "2023-03-23T10:57:21.614Z"
   },
   {
    "duration": 1158,
    "start_time": "2023-03-23T10:59:48.937Z"
   },
   {
    "duration": 120,
    "start_time": "2023-03-23T10:59:50.102Z"
   },
   {
    "duration": 4,
    "start_time": "2023-03-23T10:59:50.224Z"
   },
   {
    "duration": 73,
    "start_time": "2023-03-23T10:59:50.230Z"
   },
   {
    "duration": 61,
    "start_time": "2023-03-23T10:59:50.308Z"
   },
   {
    "duration": 66,
    "start_time": "2023-03-23T10:59:50.383Z"
   },
   {
    "duration": 15,
    "start_time": "2023-03-23T10:59:50.451Z"
   },
   {
    "duration": 44,
    "start_time": "2023-03-23T10:59:50.469Z"
   },
   {
    "duration": 25,
    "start_time": "2023-03-23T10:59:50.516Z"
   },
   {
    "duration": 151,
    "start_time": "2023-03-23T11:00:20.356Z"
   },
   {
    "duration": 9,
    "start_time": "2023-03-23T11:00:26.872Z"
   },
   {
    "duration": 5,
    "start_time": "2023-03-23T11:00:50.068Z"
   },
   {
    "duration": 1432,
    "start_time": "2023-03-23T11:04:23.337Z"
   },
   {
    "duration": 135,
    "start_time": "2023-03-23T11:04:24.772Z"
   },
   {
    "duration": 4,
    "start_time": "2023-03-23T11:04:24.909Z"
   },
   {
    "duration": 52,
    "start_time": "2023-03-23T11:04:24.916Z"
   },
   {
    "duration": 52,
    "start_time": "2023-03-23T11:04:24.970Z"
   },
   {
    "duration": 65,
    "start_time": "2023-03-23T11:04:25.024Z"
   },
   {
    "duration": 29,
    "start_time": "2023-03-23T11:04:25.091Z"
   },
   {
    "duration": 18,
    "start_time": "2023-03-23T11:04:25.122Z"
   },
   {
    "duration": 9,
    "start_time": "2023-03-23T11:04:25.142Z"
   },
   {
    "duration": 30,
    "start_time": "2023-03-23T11:04:25.155Z"
   },
   {
    "duration": 10,
    "start_time": "2023-03-23T11:04:25.189Z"
   },
   {
    "duration": 20,
    "start_time": "2023-03-23T11:04:25.201Z"
   },
   {
    "duration": 13,
    "start_time": "2023-03-23T11:04:25.223Z"
   },
   {
    "duration": 16,
    "start_time": "2023-03-23T11:04:25.238Z"
   },
   {
    "duration": 34,
    "start_time": "2023-03-23T11:04:25.256Z"
   },
   {
    "duration": 717,
    "start_time": "2023-03-23T11:04:25.292Z"
   },
   {
    "duration": 281,
    "start_time": "2023-03-23T11:04:26.014Z"
   },
   {
    "duration": 339,
    "start_time": "2023-03-23T11:04:26.304Z"
   },
   {
    "duration": 301,
    "start_time": "2023-03-23T11:04:26.645Z"
   },
   {
    "duration": 436,
    "start_time": "2023-03-23T11:04:26.948Z"
   },
   {
    "duration": 234,
    "start_time": "2023-03-23T11:04:27.388Z"
   },
   {
    "duration": 6,
    "start_time": "2023-03-23T11:04:27.625Z"
   },
   {
    "duration": 272,
    "start_time": "2023-03-23T11:04:27.633Z"
   },
   {
    "duration": 182,
    "start_time": "2023-03-23T11:04:27.916Z"
   },
   {
    "duration": 4,
    "start_time": "2023-03-23T11:04:28.100Z"
   },
   {
    "duration": 448,
    "start_time": "2023-03-23T11:04:28.107Z"
   },
   {
    "duration": 41,
    "start_time": "2023-03-23T11:04:28.557Z"
   },
   {
    "duration": 38,
    "start_time": "2023-03-23T11:04:28.603Z"
   },
   {
    "duration": 22,
    "start_time": "2023-03-23T11:04:28.643Z"
   },
   {
    "duration": 1187,
    "start_time": "2023-03-23T18:01:46.289Z"
   },
   {
    "duration": 253,
    "start_time": "2023-03-23T18:01:47.477Z"
   },
   {
    "duration": 3,
    "start_time": "2023-03-23T18:01:47.731Z"
   },
   {
    "duration": 42,
    "start_time": "2023-03-23T18:01:47.736Z"
   },
   {
    "duration": 29,
    "start_time": "2023-03-23T18:01:47.780Z"
   },
   {
    "duration": 23,
    "start_time": "2023-03-23T18:01:47.811Z"
   },
   {
    "duration": 11,
    "start_time": "2023-03-23T18:01:47.836Z"
   },
   {
    "duration": 22,
    "start_time": "2023-03-23T18:01:47.885Z"
   },
   {
    "duration": 8,
    "start_time": "2023-03-23T18:01:47.909Z"
   },
   {
    "duration": 16,
    "start_time": "2023-03-23T18:01:47.920Z"
   },
   {
    "duration": 7,
    "start_time": "2023-03-23T18:01:47.938Z"
   },
   {
    "duration": 8,
    "start_time": "2023-03-23T18:01:47.947Z"
   },
   {
    "duration": 11,
    "start_time": "2023-03-23T18:01:47.956Z"
   },
   {
    "duration": 12,
    "start_time": "2023-03-23T18:01:47.985Z"
   },
   {
    "duration": 11,
    "start_time": "2023-03-23T18:01:47.999Z"
   },
   {
    "duration": 498,
    "start_time": "2023-03-23T18:01:48.012Z"
   },
   {
    "duration": 183,
    "start_time": "2023-03-23T18:01:48.512Z"
   },
   {
    "duration": 310,
    "start_time": "2023-03-23T18:01:48.696Z"
   },
   {
    "duration": 212,
    "start_time": "2023-03-23T18:01:49.008Z"
   },
   {
    "duration": 304,
    "start_time": "2023-03-23T18:01:49.222Z"
   },
   {
    "duration": 132,
    "start_time": "2023-03-23T18:01:49.527Z"
   },
   {
    "duration": 4,
    "start_time": "2023-03-23T18:01:49.661Z"
   },
   {
    "duration": 137,
    "start_time": "2023-03-23T18:01:49.667Z"
   },
   {
    "duration": 128,
    "start_time": "2023-03-23T18:01:49.806Z"
   },
   {
    "duration": 4,
    "start_time": "2023-03-23T18:01:49.935Z"
   },
   {
    "duration": 321,
    "start_time": "2023-03-23T18:01:49.940Z"
   },
   {
    "duration": 10,
    "start_time": "2023-03-23T18:01:50.263Z"
   },
   {
    "duration": 30,
    "start_time": "2023-03-23T18:01:50.288Z"
   },
   {
    "duration": 12,
    "start_time": "2023-03-23T18:01:50.320Z"
   }
  ],
  "colab": {
   "provenance": []
  },
  "kernelspec": {
   "display_name": "Python 3 (ipykernel)",
   "language": "python",
   "name": "python3"
  },
  "language_info": {
   "codemirror_mode": {
    "name": "ipython",
    "version": 3
   },
   "file_extension": ".py",
   "mimetype": "text/x-python",
   "name": "python",
   "nbconvert_exporter": "python",
   "pygments_lexer": "ipython3",
   "version": "3.10.4"
  },
  "toc": {
   "base_numbering": 1,
   "nav_menu": {},
   "number_sections": true,
   "sideBar": true,
   "skip_h1_title": true,
   "title_cell": "Table of Contents",
   "title_sidebar": "Contents",
   "toc_cell": false,
   "toc_position": {},
   "toc_section_display": true,
   "toc_window_display": false
  }
 },
 "nbformat": 4,
 "nbformat_minor": 1
}
