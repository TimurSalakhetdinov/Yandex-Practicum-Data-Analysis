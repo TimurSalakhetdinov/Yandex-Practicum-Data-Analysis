{
  "cells": [
    {
      "cell_type": "markdown",
      "metadata": {
        "id": "xSE1c_EMVFfR"
      },
      "source": [
        "# Анализ результатов А/А/В эксперимента внедрения нового шрифта в мобильном приложении"
      ]
    },
    {
      "cell_type": "markdown",
      "metadata": {
        "id": "rjM4xVevVO0o"
      },
      "source": [
        "## Информация о проекте"
      ]
    },
    {
      "cell_type": "markdown",
      "metadata": {
        "id": "MOVr0VfBDwsj"
      },
      "source": [
        "Данные предоставлены от стартапа, который продаёт продукты питания. Нужно разобраться, как ведут себя пользователи вашего мобильного приложения.\n",
        "\n",
        "Изучим воронку продаж. Узнаем, как пользователи доходят до покупки. Сколько пользователей доходит до покупки, а сколько — «застревает» на предыдущих шагах.\n",
        "\n",
        "После этого исследуем результаты A/A/B-эксперимента. Дизайнеры захотели поменять шрифты во всём приложении, а менеджеры испугались, что пользователям будет непривычно. Договорились принять решение по результатам A/A/B-теста. Пользователей разбили на 3 группы: 2 контрольные со старыми шрифтами и одну экспериментальную — с новыми. Выясним, какой шрифт лучше.\n",
        "\n",
        "Создание двух групп A вместо одной имеет определённые преимущества. Если две контрольные группы окажутся равны, вы можете быть уверены в точности проведенного тестирования. Если же между значениями A и A будут существенные различия, это поможет обнаружить факторы, которые привели к искажению результатов. Сравнение контрольных групп также помогает понять, сколько времени и данных потребуется для дальнейших тестов.\n"
      ]
    },
    {
      "cell_type": "markdown",
      "metadata": {
        "id": "Ea-C-bY4VNwY"
      },
      "source": [
        "## План действий"
      ]
    },
    {
      "cell_type": "markdown",
      "metadata": {
        "id": "SMH9LaCrVZSb"
      },
      "source": [
        "1. Загрузить данные и подготовить их к анализу.\n",
        "2. Изучить и проверить данные.\n",
        "3. Изучить воронку событий. \n",
        "6. Изучите результаты эксперимента. "
      ]
    },
    {
      "cell_type": "markdown",
      "metadata": {
        "id": "FmLfjKhJVcOt"
      },
      "source": [
        "## Описание данных"
      ]
    },
    {
      "cell_type": "markdown",
      "metadata": {
        "id": "MCTLlen-VmcX"
      },
      "source": [
        "Каждая запись в логе — это действие пользователя, или событие. \n",
        "- EventName — название события;\n",
        "- DeviceIDHash — уникальный идентификатор пользователя;\n",
        "- EventTimestamp — время события;\n",
        "- ExpId — номер эксперимента: 246 и 247 — контрольные группы, а 248 — экспериментальная."
      ]
    },
    {
      "cell_type": "markdown",
      "metadata": {
        "id": "eexgn7Y7VgkZ"
      },
      "source": [
        "## Предобработка данных"
      ]
    },
    {
      "cell_type": "markdown",
      "metadata": {
        "id": "OwDTRS5OVm_R"
      },
      "source": [
        "### Импортирование библиотек и вывод данных"
      ]
    },
    {
      "cell_type": "code",
      "execution_count": null,
      "metadata": {
        "id": "VUTBebSoU_Z8"
      },
      "outputs": [],
      "source": [
        "# Импортируем библиотеки:\n",
        "import pandas as pd\n",
        "import numpy as np\n",
        "import scipy.stats as stats\n",
        "from scipy import stats as st\n",
        "from scipy.stats import mannwhitneyu\n",
        "from datetime import datetime, timedelta\n",
        "from matplotlib import pyplot as plt\n",
        "from pandas.plotting import register_matplotlib_converters\n",
        "from plotly import graph_objects as go\n",
        "from statsmodels.stats.proportion import proportions_ztest\n",
        "\n",
        "# Закрепим формат float:\n",
        "pd.set_option('display.float_format', '{:,.2f}'.format)\n",
        "\n",
        "# Уберем предупреждения:\n",
        "import warnings\n",
        "warnings.simplefilter('ignore')\n",
        "\n",
        "# Сброс ограничений на количество выводимых данных:\n",
        "pd.set_option('display.max_rows', None)\n",
        "pd.set_option('display.max_columns', None)\n",
        "\n",
        "# конвертеры, которые позволяют использовать типы pandas в matplotlib  \n",
        "register_matplotlib_converters()"
      ]
    },
    {
      "cell_type": "markdown",
      "metadata": {
        "id": "oF__5SDoEKAf"
      },
      "source": [
        "### Загрузка данных и подготовка их к анализу"
      ]
    },
    {
      "cell_type": "code",
      "execution_count": null,
      "metadata": {
        "id": "Y6YGNCObEHf7"
      },
      "outputs": [],
      "source": [
        "# Загрузим данные:\n",
        "try: # мой путь\n",
        "    df = pd.read_csv('logs_exp.csv', sep='\\t')\n",
        "except: # яндексовский путь\n",
        "    df = pd.read_csv('/datasets/logs_exp.csv', sep='\\t')"
      ]
    },
    {
      "cell_type": "code",
      "execution_count": null,
      "metadata": {
        "id": "GLMPqsnkEM3k"
      },
      "outputs": [],
      "source": [
        "# Создадим фукнцию для вывода всех необходимых характеристик данных:\n",
        "def analize(table):\n",
        "    display(table.head(10))\n",
        "    display(table.info())\n",
        "    display(table.describe())\n",
        "    display('Число пропусков:', table.isnull().sum())\n",
        "    display('Число дубликатов:', table.duplicated().sum())"
      ]
    },
    {
      "cell_type": "code",
      "execution_count": null,
      "metadata": {
        "colab": {
          "base_uri": "https://localhost:8080/",
          "height": 1000
        },
        "id": "v93-76CMKf0n",
        "outputId": "7e14e5b4-b572-45a8-d3b1-3a912cbb55ae"
      },
      "outputs": [
        {
          "output_type": "display_data",
          "data": {
            "text/plain": [
              "                 EventName         DeviceIDHash  EventTimestamp  ExpId\n",
              "0         MainScreenAppear  4575588528974610257      1564029816    246\n",
              "1         MainScreenAppear  7416695313311560658      1564053102    246\n",
              "2  PaymentScreenSuccessful  3518123091307005509      1564054127    248\n",
              "3         CartScreenAppear  3518123091307005509      1564054127    248\n",
              "4  PaymentScreenSuccessful  6217807653094995999      1564055322    248\n",
              "5         CartScreenAppear  6217807653094995999      1564055323    248\n",
              "6       OffersScreenAppear  8351860793733343758      1564066242    246\n",
              "7         MainScreenAppear  5682100281902512875      1564085677    246\n",
              "8         MainScreenAppear  1850981295691852772      1564086702    247\n",
              "9         MainScreenAppear  5407636962369102641      1564112112    246"
            ],
            "text/html": [
              "\n",
              "  <div id=\"df-96ce204c-2a84-42ff-b99f-0a931e4f3408\">\n",
              "    <div class=\"colab-df-container\">\n",
              "      <div>\n",
              "<style scoped>\n",
              "    .dataframe tbody tr th:only-of-type {\n",
              "        vertical-align: middle;\n",
              "    }\n",
              "\n",
              "    .dataframe tbody tr th {\n",
              "        vertical-align: top;\n",
              "    }\n",
              "\n",
              "    .dataframe thead th {\n",
              "        text-align: right;\n",
              "    }\n",
              "</style>\n",
              "<table border=\"1\" class=\"dataframe\">\n",
              "  <thead>\n",
              "    <tr style=\"text-align: right;\">\n",
              "      <th></th>\n",
              "      <th>EventName</th>\n",
              "      <th>DeviceIDHash</th>\n",
              "      <th>EventTimestamp</th>\n",
              "      <th>ExpId</th>\n",
              "    </tr>\n",
              "  </thead>\n",
              "  <tbody>\n",
              "    <tr>\n",
              "      <th>0</th>\n",
              "      <td>MainScreenAppear</td>\n",
              "      <td>4575588528974610257</td>\n",
              "      <td>1564029816</td>\n",
              "      <td>246</td>\n",
              "    </tr>\n",
              "    <tr>\n",
              "      <th>1</th>\n",
              "      <td>MainScreenAppear</td>\n",
              "      <td>7416695313311560658</td>\n",
              "      <td>1564053102</td>\n",
              "      <td>246</td>\n",
              "    </tr>\n",
              "    <tr>\n",
              "      <th>2</th>\n",
              "      <td>PaymentScreenSuccessful</td>\n",
              "      <td>3518123091307005509</td>\n",
              "      <td>1564054127</td>\n",
              "      <td>248</td>\n",
              "    </tr>\n",
              "    <tr>\n",
              "      <th>3</th>\n",
              "      <td>CartScreenAppear</td>\n",
              "      <td>3518123091307005509</td>\n",
              "      <td>1564054127</td>\n",
              "      <td>248</td>\n",
              "    </tr>\n",
              "    <tr>\n",
              "      <th>4</th>\n",
              "      <td>PaymentScreenSuccessful</td>\n",
              "      <td>6217807653094995999</td>\n",
              "      <td>1564055322</td>\n",
              "      <td>248</td>\n",
              "    </tr>\n",
              "    <tr>\n",
              "      <th>5</th>\n",
              "      <td>CartScreenAppear</td>\n",
              "      <td>6217807653094995999</td>\n",
              "      <td>1564055323</td>\n",
              "      <td>248</td>\n",
              "    </tr>\n",
              "    <tr>\n",
              "      <th>6</th>\n",
              "      <td>OffersScreenAppear</td>\n",
              "      <td>8351860793733343758</td>\n",
              "      <td>1564066242</td>\n",
              "      <td>246</td>\n",
              "    </tr>\n",
              "    <tr>\n",
              "      <th>7</th>\n",
              "      <td>MainScreenAppear</td>\n",
              "      <td>5682100281902512875</td>\n",
              "      <td>1564085677</td>\n",
              "      <td>246</td>\n",
              "    </tr>\n",
              "    <tr>\n",
              "      <th>8</th>\n",
              "      <td>MainScreenAppear</td>\n",
              "      <td>1850981295691852772</td>\n",
              "      <td>1564086702</td>\n",
              "      <td>247</td>\n",
              "    </tr>\n",
              "    <tr>\n",
              "      <th>9</th>\n",
              "      <td>MainScreenAppear</td>\n",
              "      <td>5407636962369102641</td>\n",
              "      <td>1564112112</td>\n",
              "      <td>246</td>\n",
              "    </tr>\n",
              "  </tbody>\n",
              "</table>\n",
              "</div>\n",
              "      <button class=\"colab-df-convert\" onclick=\"convertToInteractive('df-96ce204c-2a84-42ff-b99f-0a931e4f3408')\"\n",
              "              title=\"Convert this dataframe to an interactive table.\"\n",
              "              style=\"display:none;\">\n",
              "        \n",
              "  <svg xmlns=\"http://www.w3.org/2000/svg\" height=\"24px\"viewBox=\"0 0 24 24\"\n",
              "       width=\"24px\">\n",
              "    <path d=\"M0 0h24v24H0V0z\" fill=\"none\"/>\n",
              "    <path d=\"M18.56 5.44l.94 2.06.94-2.06 2.06-.94-2.06-.94-.94-2.06-.94 2.06-2.06.94zm-11 1L8.5 8.5l.94-2.06 2.06-.94-2.06-.94L8.5 2.5l-.94 2.06-2.06.94zm10 10l.94 2.06.94-2.06 2.06-.94-2.06-.94-.94-2.06-.94 2.06-2.06.94z\"/><path d=\"M17.41 7.96l-1.37-1.37c-.4-.4-.92-.59-1.43-.59-.52 0-1.04.2-1.43.59L10.3 9.45l-7.72 7.72c-.78.78-.78 2.05 0 2.83L4 21.41c.39.39.9.59 1.41.59.51 0 1.02-.2 1.41-.59l7.78-7.78 2.81-2.81c.8-.78.8-2.07 0-2.86zM5.41 20L4 18.59l7.72-7.72 1.47 1.35L5.41 20z\"/>\n",
              "  </svg>\n",
              "      </button>\n",
              "      \n",
              "  <style>\n",
              "    .colab-df-container {\n",
              "      display:flex;\n",
              "      flex-wrap:wrap;\n",
              "      gap: 12px;\n",
              "    }\n",
              "\n",
              "    .colab-df-convert {\n",
              "      background-color: #E8F0FE;\n",
              "      border: none;\n",
              "      border-radius: 50%;\n",
              "      cursor: pointer;\n",
              "      display: none;\n",
              "      fill: #1967D2;\n",
              "      height: 32px;\n",
              "      padding: 0 0 0 0;\n",
              "      width: 32px;\n",
              "    }\n",
              "\n",
              "    .colab-df-convert:hover {\n",
              "      background-color: #E2EBFA;\n",
              "      box-shadow: 0px 1px 2px rgba(60, 64, 67, 0.3), 0px 1px 3px 1px rgba(60, 64, 67, 0.15);\n",
              "      fill: #174EA6;\n",
              "    }\n",
              "\n",
              "    [theme=dark] .colab-df-convert {\n",
              "      background-color: #3B4455;\n",
              "      fill: #D2E3FC;\n",
              "    }\n",
              "\n",
              "    [theme=dark] .colab-df-convert:hover {\n",
              "      background-color: #434B5C;\n",
              "      box-shadow: 0px 1px 3px 1px rgba(0, 0, 0, 0.15);\n",
              "      filter: drop-shadow(0px 1px 2px rgba(0, 0, 0, 0.3));\n",
              "      fill: #FFFFFF;\n",
              "    }\n",
              "  </style>\n",
              "\n",
              "      <script>\n",
              "        const buttonEl =\n",
              "          document.querySelector('#df-96ce204c-2a84-42ff-b99f-0a931e4f3408 button.colab-df-convert');\n",
              "        buttonEl.style.display =\n",
              "          google.colab.kernel.accessAllowed ? 'block' : 'none';\n",
              "\n",
              "        async function convertToInteractive(key) {\n",
              "          const element = document.querySelector('#df-96ce204c-2a84-42ff-b99f-0a931e4f3408');\n",
              "          const dataTable =\n",
              "            await google.colab.kernel.invokeFunction('convertToInteractive',\n",
              "                                                     [key], {});\n",
              "          if (!dataTable) return;\n",
              "\n",
              "          const docLinkHtml = 'Like what you see? Visit the ' +\n",
              "            '<a target=\"_blank\" href=https://colab.research.google.com/notebooks/data_table.ipynb>data table notebook</a>'\n",
              "            + ' to learn more about interactive tables.';\n",
              "          element.innerHTML = '';\n",
              "          dataTable['output_type'] = 'display_data';\n",
              "          await google.colab.output.renderOutput(dataTable, element);\n",
              "          const docLink = document.createElement('div');\n",
              "          docLink.innerHTML = docLinkHtml;\n",
              "          element.appendChild(docLink);\n",
              "        }\n",
              "      </script>\n",
              "    </div>\n",
              "  </div>\n",
              "  "
            ]
          },
          "metadata": {}
        },
        {
          "output_type": "stream",
          "name": "stdout",
          "text": [
            "<class 'pandas.core.frame.DataFrame'>\n",
            "RangeIndex: 244126 entries, 0 to 244125\n",
            "Data columns (total 4 columns):\n",
            " #   Column          Non-Null Count   Dtype \n",
            "---  ------          --------------   ----- \n",
            " 0   EventName       244126 non-null  object\n",
            " 1   DeviceIDHash    244126 non-null  int64 \n",
            " 2   EventTimestamp  244126 non-null  int64 \n",
            " 3   ExpId           244126 non-null  int64 \n",
            "dtypes: int64(3), object(1)\n",
            "memory usage: 7.5+ MB\n"
          ]
        },
        {
          "output_type": "display_data",
          "data": {
            "text/plain": [
              "None"
            ]
          },
          "metadata": {}
        },
        {
          "output_type": "display_data",
          "data": {
            "text/plain": [
              "                      DeviceIDHash   EventTimestamp      ExpId\n",
              "count                   244,126.00       244,126.00 244,126.00\n",
              "mean  4,627,568,124,591,259,648.00 1,564,913,915.84     247.02\n",
              "std   2,642,424,998,963,961,856.00       177,134.32       0.82\n",
              "min       6,888,746,892,508,752.00 1,564,029,816.00     246.00\n",
              "25%   2,372,212,476,992,240,640.00 1,564,756,580.25     246.00\n",
              "50%   4,623,191,541,214,045,184.00 1,564,919,395.00     247.00\n",
              "75%   6,932,517,045,703,054,336.00 1,565,074,511.00     248.00\n",
              "max   9,222,603,179,720,523,776.00 1,565,212,517.00     248.00"
            ],
            "text/html": [
              "\n",
              "  <div id=\"df-6c22b744-53bf-43ed-99d1-e63abbfc27ad\">\n",
              "    <div class=\"colab-df-container\">\n",
              "      <div>\n",
              "<style scoped>\n",
              "    .dataframe tbody tr th:only-of-type {\n",
              "        vertical-align: middle;\n",
              "    }\n",
              "\n",
              "    .dataframe tbody tr th {\n",
              "        vertical-align: top;\n",
              "    }\n",
              "\n",
              "    .dataframe thead th {\n",
              "        text-align: right;\n",
              "    }\n",
              "</style>\n",
              "<table border=\"1\" class=\"dataframe\">\n",
              "  <thead>\n",
              "    <tr style=\"text-align: right;\">\n",
              "      <th></th>\n",
              "      <th>DeviceIDHash</th>\n",
              "      <th>EventTimestamp</th>\n",
              "      <th>ExpId</th>\n",
              "    </tr>\n",
              "  </thead>\n",
              "  <tbody>\n",
              "    <tr>\n",
              "      <th>count</th>\n",
              "      <td>244,126.00</td>\n",
              "      <td>244,126.00</td>\n",
              "      <td>244,126.00</td>\n",
              "    </tr>\n",
              "    <tr>\n",
              "      <th>mean</th>\n",
              "      <td>4,627,568,124,591,259,648.00</td>\n",
              "      <td>1,564,913,915.84</td>\n",
              "      <td>247.02</td>\n",
              "    </tr>\n",
              "    <tr>\n",
              "      <th>std</th>\n",
              "      <td>2,642,424,998,963,961,856.00</td>\n",
              "      <td>177,134.32</td>\n",
              "      <td>0.82</td>\n",
              "    </tr>\n",
              "    <tr>\n",
              "      <th>min</th>\n",
              "      <td>6,888,746,892,508,752.00</td>\n",
              "      <td>1,564,029,816.00</td>\n",
              "      <td>246.00</td>\n",
              "    </tr>\n",
              "    <tr>\n",
              "      <th>25%</th>\n",
              "      <td>2,372,212,476,992,240,640.00</td>\n",
              "      <td>1,564,756,580.25</td>\n",
              "      <td>246.00</td>\n",
              "    </tr>\n",
              "    <tr>\n",
              "      <th>50%</th>\n",
              "      <td>4,623,191,541,214,045,184.00</td>\n",
              "      <td>1,564,919,395.00</td>\n",
              "      <td>247.00</td>\n",
              "    </tr>\n",
              "    <tr>\n",
              "      <th>75%</th>\n",
              "      <td>6,932,517,045,703,054,336.00</td>\n",
              "      <td>1,565,074,511.00</td>\n",
              "      <td>248.00</td>\n",
              "    </tr>\n",
              "    <tr>\n",
              "      <th>max</th>\n",
              "      <td>9,222,603,179,720,523,776.00</td>\n",
              "      <td>1,565,212,517.00</td>\n",
              "      <td>248.00</td>\n",
              "    </tr>\n",
              "  </tbody>\n",
              "</table>\n",
              "</div>\n",
              "      <button class=\"colab-df-convert\" onclick=\"convertToInteractive('df-6c22b744-53bf-43ed-99d1-e63abbfc27ad')\"\n",
              "              title=\"Convert this dataframe to an interactive table.\"\n",
              "              style=\"display:none;\">\n",
              "        \n",
              "  <svg xmlns=\"http://www.w3.org/2000/svg\" height=\"24px\"viewBox=\"0 0 24 24\"\n",
              "       width=\"24px\">\n",
              "    <path d=\"M0 0h24v24H0V0z\" fill=\"none\"/>\n",
              "    <path d=\"M18.56 5.44l.94 2.06.94-2.06 2.06-.94-2.06-.94-.94-2.06-.94 2.06-2.06.94zm-11 1L8.5 8.5l.94-2.06 2.06-.94-2.06-.94L8.5 2.5l-.94 2.06-2.06.94zm10 10l.94 2.06.94-2.06 2.06-.94-2.06-.94-.94-2.06-.94 2.06-2.06.94z\"/><path d=\"M17.41 7.96l-1.37-1.37c-.4-.4-.92-.59-1.43-.59-.52 0-1.04.2-1.43.59L10.3 9.45l-7.72 7.72c-.78.78-.78 2.05 0 2.83L4 21.41c.39.39.9.59 1.41.59.51 0 1.02-.2 1.41-.59l7.78-7.78 2.81-2.81c.8-.78.8-2.07 0-2.86zM5.41 20L4 18.59l7.72-7.72 1.47 1.35L5.41 20z\"/>\n",
              "  </svg>\n",
              "      </button>\n",
              "      \n",
              "  <style>\n",
              "    .colab-df-container {\n",
              "      display:flex;\n",
              "      flex-wrap:wrap;\n",
              "      gap: 12px;\n",
              "    }\n",
              "\n",
              "    .colab-df-convert {\n",
              "      background-color: #E8F0FE;\n",
              "      border: none;\n",
              "      border-radius: 50%;\n",
              "      cursor: pointer;\n",
              "      display: none;\n",
              "      fill: #1967D2;\n",
              "      height: 32px;\n",
              "      padding: 0 0 0 0;\n",
              "      width: 32px;\n",
              "    }\n",
              "\n",
              "    .colab-df-convert:hover {\n",
              "      background-color: #E2EBFA;\n",
              "      box-shadow: 0px 1px 2px rgba(60, 64, 67, 0.3), 0px 1px 3px 1px rgba(60, 64, 67, 0.15);\n",
              "      fill: #174EA6;\n",
              "    }\n",
              "\n",
              "    [theme=dark] .colab-df-convert {\n",
              "      background-color: #3B4455;\n",
              "      fill: #D2E3FC;\n",
              "    }\n",
              "\n",
              "    [theme=dark] .colab-df-convert:hover {\n",
              "      background-color: #434B5C;\n",
              "      box-shadow: 0px 1px 3px 1px rgba(0, 0, 0, 0.15);\n",
              "      filter: drop-shadow(0px 1px 2px rgba(0, 0, 0, 0.3));\n",
              "      fill: #FFFFFF;\n",
              "    }\n",
              "  </style>\n",
              "\n",
              "      <script>\n",
              "        const buttonEl =\n",
              "          document.querySelector('#df-6c22b744-53bf-43ed-99d1-e63abbfc27ad button.colab-df-convert');\n",
              "        buttonEl.style.display =\n",
              "          google.colab.kernel.accessAllowed ? 'block' : 'none';\n",
              "\n",
              "        async function convertToInteractive(key) {\n",
              "          const element = document.querySelector('#df-6c22b744-53bf-43ed-99d1-e63abbfc27ad');\n",
              "          const dataTable =\n",
              "            await google.colab.kernel.invokeFunction('convertToInteractive',\n",
              "                                                     [key], {});\n",
              "          if (!dataTable) return;\n",
              "\n",
              "          const docLinkHtml = 'Like what you see? Visit the ' +\n",
              "            '<a target=\"_blank\" href=https://colab.research.google.com/notebooks/data_table.ipynb>data table notebook</a>'\n",
              "            + ' to learn more about interactive tables.';\n",
              "          element.innerHTML = '';\n",
              "          dataTable['output_type'] = 'display_data';\n",
              "          await google.colab.output.renderOutput(dataTable, element);\n",
              "          const docLink = document.createElement('div');\n",
              "          docLink.innerHTML = docLinkHtml;\n",
              "          element.appendChild(docLink);\n",
              "        }\n",
              "      </script>\n",
              "    </div>\n",
              "  </div>\n",
              "  "
            ]
          },
          "metadata": {}
        },
        {
          "output_type": "display_data",
          "data": {
            "text/plain": [
              "'Число пропусков:'"
            ],
            "application/vnd.google.colaboratory.intrinsic+json": {
              "type": "string"
            }
          },
          "metadata": {}
        },
        {
          "output_type": "display_data",
          "data": {
            "text/plain": [
              "EventName         0\n",
              "DeviceIDHash      0\n",
              "EventTimestamp    0\n",
              "ExpId             0\n",
              "dtype: int64"
            ]
          },
          "metadata": {}
        },
        {
          "output_type": "display_data",
          "data": {
            "text/plain": [
              "'Число дубликатов:'"
            ],
            "application/vnd.google.colaboratory.intrinsic+json": {
              "type": "string"
            }
          },
          "metadata": {}
        },
        {
          "output_type": "display_data",
          "data": {
            "text/plain": [
              "413"
            ]
          },
          "metadata": {}
        }
      ],
      "source": [
        "analize(df)"
      ]
    },
    {
      "cell_type": "markdown",
      "metadata": {
        "id": "IXRGDfTqviEp"
      },
      "source": [
        "**Вывод:** \n",
        "- Названия столбцов не camel case\n",
        "- Пропусков нет\n",
        "- Есть 453 дубликата\n",
        "- Тип данных у EventTimestamp неверный"
      ]
    },
    {
      "cell_type": "markdown",
      "metadata": {
        "id": "srkMYEQ2W6Zq"
      },
      "source": [
        "Проведем предобработку данных. "
      ]
    },
    {
      "cell_type": "code",
      "execution_count": null,
      "metadata": {
        "colab": {
          "base_uri": "https://localhost:8080/"
        },
        "id": "KAkzJtYyKj3S",
        "outputId": "6f0d23d1-481a-4f58-c94c-92d1cefd7c5f"
      },
      "outputs": [
        {
          "output_type": "execute_result",
          "data": {
            "text/plain": [
              "Index(['event_name', 'device_idhash', 'event_timestamp', 'exp_id'], dtype='object')"
            ]
          },
          "metadata": {},
          "execution_count": 5
        }
      ],
      "source": [
        "# Заменим названия столбцов на snake case:\n",
        "df.columns = (df.columns\n",
        "                .str.replace('(?<=[a-z])(?=[A-Z])', '_', regex=True)\n",
        "                .str.lower()\n",
        "             )\n",
        "\n",
        "df.columns"
      ]
    },
    {
      "cell_type": "code",
      "execution_count": null,
      "metadata": {
        "colab": {
          "base_uri": "https://localhost:8080/"
        },
        "id": "GRfHkyp29wRm",
        "outputId": "6d16ec9a-1414-4d0b-967e-634a92ca1433"
      },
      "outputs": [
        {
          "output_type": "execute_result",
          "data": {
            "text/plain": [
              "0"
            ]
          },
          "metadata": {},
          "execution_count": 6
        }
      ],
      "source": [
        "# Удалим дубликаты:\n",
        "df = df.drop_duplicates().reset_index(drop=True)\n",
        "df.duplicated().sum()"
      ]
    },
    {
      "cell_type": "code",
      "execution_count": null,
      "metadata": {
        "colab": {
          "base_uri": "https://localhost:8080/"
        },
        "id": "2DKLGJoDvCNN",
        "outputId": "7482f173-d3c8-41f5-ee30-db568fcdf910"
      },
      "outputs": [
        {
          "output_type": "stream",
          "name": "stdout",
          "text": [
            "<class 'pandas.core.frame.DataFrame'>\n",
            "RangeIndex: 243713 entries, 0 to 243712\n",
            "Data columns (total 6 columns):\n",
            " #   Column           Non-Null Count   Dtype         \n",
            "---  ------           --------------   -----         \n",
            " 0   event_name       243713 non-null  object        \n",
            " 1   device_idhash    243713 non-null  int64         \n",
            " 2   event_timestamp  243713 non-null  int64         \n",
            " 3   exp_id           243713 non-null  int64         \n",
            " 4   date_time        243713 non-null  datetime64[ns]\n",
            " 5   date             243713 non-null  datetime64[ns]\n",
            "dtypes: datetime64[ns](2), int64(3), object(1)\n",
            "memory usage: 11.2+ MB\n"
          ]
        }
      ],
      "source": [
        "# Добавим столбец даты и времени, а также отдельный столбец дат\n",
        "df['date_time'] = pd.to_datetime(df['event_timestamp'], unit='s')\n",
        "df['date'] = df['date_time'].apply(lambda x: x.date())\n",
        "df['date'] = pd.to_datetime(df['date'])\n",
        "df.info()"
      ]
    },
    {
      "cell_type": "code",
      "execution_count": null,
      "metadata": {
        "colab": {
          "base_uri": "https://localhost:8080/"
        },
        "id": "7Nsn2L6AW6Zr",
        "outputId": "b3d4704b-aa96-4e8e-e410-3e7422b89813"
      },
      "outputs": [
        {
          "output_type": "stream",
          "name": "stdout",
          "text": [
            "[246 248 247]\n"
          ]
        }
      ],
      "source": [
        "# Выявим сколько групп в ААВ-тесте:\n",
        "print(df['exp_id'].unique())"
      ]
    },
    {
      "cell_type": "code",
      "execution_count": null,
      "metadata": {
        "colab": {
          "base_uri": "https://localhost:8080/",
          "height": 81
        },
        "id": "a2QH_9WFW6Zr",
        "outputId": "b1503402-e747-423a-b888-1a4f25c09e5e"
      },
      "outputs": [
        {
          "output_type": "execute_result",
          "data": {
            "text/plain": [
              "Empty DataFrame\n",
              "Columns: [exp_id]\n",
              "Index: []"
            ],
            "text/html": [
              "\n",
              "  <div id=\"df-81e40bba-d46b-40d2-9369-06b49639937b\">\n",
              "    <div class=\"colab-df-container\">\n",
              "      <div>\n",
              "<style scoped>\n",
              "    .dataframe tbody tr th:only-of-type {\n",
              "        vertical-align: middle;\n",
              "    }\n",
              "\n",
              "    .dataframe tbody tr th {\n",
              "        vertical-align: top;\n",
              "    }\n",
              "\n",
              "    .dataframe thead th {\n",
              "        text-align: right;\n",
              "    }\n",
              "</style>\n",
              "<table border=\"1\" class=\"dataframe\">\n",
              "  <thead>\n",
              "    <tr style=\"text-align: right;\">\n",
              "      <th></th>\n",
              "      <th>exp_id</th>\n",
              "    </tr>\n",
              "    <tr>\n",
              "      <th>device_idhash</th>\n",
              "      <th></th>\n",
              "    </tr>\n",
              "  </thead>\n",
              "  <tbody>\n",
              "  </tbody>\n",
              "</table>\n",
              "</div>\n",
              "      <button class=\"colab-df-convert\" onclick=\"convertToInteractive('df-81e40bba-d46b-40d2-9369-06b49639937b')\"\n",
              "              title=\"Convert this dataframe to an interactive table.\"\n",
              "              style=\"display:none;\">\n",
              "        \n",
              "  <svg xmlns=\"http://www.w3.org/2000/svg\" height=\"24px\"viewBox=\"0 0 24 24\"\n",
              "       width=\"24px\">\n",
              "    <path d=\"M0 0h24v24H0V0z\" fill=\"none\"/>\n",
              "    <path d=\"M18.56 5.44l.94 2.06.94-2.06 2.06-.94-2.06-.94-.94-2.06-.94 2.06-2.06.94zm-11 1L8.5 8.5l.94-2.06 2.06-.94-2.06-.94L8.5 2.5l-.94 2.06-2.06.94zm10 10l.94 2.06.94-2.06 2.06-.94-2.06-.94-.94-2.06-.94 2.06-2.06.94z\"/><path d=\"M17.41 7.96l-1.37-1.37c-.4-.4-.92-.59-1.43-.59-.52 0-1.04.2-1.43.59L10.3 9.45l-7.72 7.72c-.78.78-.78 2.05 0 2.83L4 21.41c.39.39.9.59 1.41.59.51 0 1.02-.2 1.41-.59l7.78-7.78 2.81-2.81c.8-.78.8-2.07 0-2.86zM5.41 20L4 18.59l7.72-7.72 1.47 1.35L5.41 20z\"/>\n",
              "  </svg>\n",
              "      </button>\n",
              "      \n",
              "  <style>\n",
              "    .colab-df-container {\n",
              "      display:flex;\n",
              "      flex-wrap:wrap;\n",
              "      gap: 12px;\n",
              "    }\n",
              "\n",
              "    .colab-df-convert {\n",
              "      background-color: #E8F0FE;\n",
              "      border: none;\n",
              "      border-radius: 50%;\n",
              "      cursor: pointer;\n",
              "      display: none;\n",
              "      fill: #1967D2;\n",
              "      height: 32px;\n",
              "      padding: 0 0 0 0;\n",
              "      width: 32px;\n",
              "    }\n",
              "\n",
              "    .colab-df-convert:hover {\n",
              "      background-color: #E2EBFA;\n",
              "      box-shadow: 0px 1px 2px rgba(60, 64, 67, 0.3), 0px 1px 3px 1px rgba(60, 64, 67, 0.15);\n",
              "      fill: #174EA6;\n",
              "    }\n",
              "\n",
              "    [theme=dark] .colab-df-convert {\n",
              "      background-color: #3B4455;\n",
              "      fill: #D2E3FC;\n",
              "    }\n",
              "\n",
              "    [theme=dark] .colab-df-convert:hover {\n",
              "      background-color: #434B5C;\n",
              "      box-shadow: 0px 1px 3px 1px rgba(0, 0, 0, 0.15);\n",
              "      filter: drop-shadow(0px 1px 2px rgba(0, 0, 0, 0.3));\n",
              "      fill: #FFFFFF;\n",
              "    }\n",
              "  </style>\n",
              "\n",
              "      <script>\n",
              "        const buttonEl =\n",
              "          document.querySelector('#df-81e40bba-d46b-40d2-9369-06b49639937b button.colab-df-convert');\n",
              "        buttonEl.style.display =\n",
              "          google.colab.kernel.accessAllowed ? 'block' : 'none';\n",
              "\n",
              "        async function convertToInteractive(key) {\n",
              "          const element = document.querySelector('#df-81e40bba-d46b-40d2-9369-06b49639937b');\n",
              "          const dataTable =\n",
              "            await google.colab.kernel.invokeFunction('convertToInteractive',\n",
              "                                                     [key], {});\n",
              "          if (!dataTable) return;\n",
              "\n",
              "          const docLinkHtml = 'Like what you see? Visit the ' +\n",
              "            '<a target=\"_blank\" href=https://colab.research.google.com/notebooks/data_table.ipynb>data table notebook</a>'\n",
              "            + ' to learn more about interactive tables.';\n",
              "          element.innerHTML = '';\n",
              "          dataTable['output_type'] = 'display_data';\n",
              "          await google.colab.output.renderOutput(dataTable, element);\n",
              "          const docLink = document.createElement('div');\n",
              "          docLink.innerHTML = docLinkHtml;\n",
              "          element.appendChild(docLink);\n",
              "        }\n",
              "      </script>\n",
              "    </div>\n",
              "  </div>\n",
              "  "
            ]
          },
          "metadata": {},
          "execution_count": 9
        }
      ],
      "source": [
        "# Проверим не попадают ли какие либо пользователи в группы:\n",
        "df_grouped = df.groupby('device_idhash').agg({'exp_id': 'nunique'})\n",
        "users_in_multiple_groups = df_grouped.query('exp_id > 1')\n",
        "users_in_multiple_groups"
      ]
    },
    {
      "cell_type": "markdown",
      "metadata": {
        "id": "H0H16KQLW6Zr"
      },
      "source": [
        "**Вывод:** одни и те же пользователи не попали в разные группы"
      ]
    },
    {
      "cell_type": "markdown",
      "metadata": {
        "id": "ZORXL6_P-Gty"
      },
      "source": [
        "## Изучить и проверить данные"
      ]
    },
    {
      "cell_type": "code",
      "execution_count": null,
      "metadata": {
        "colab": {
          "base_uri": "https://localhost:8080/"
        },
        "id": "e7ez5PgXy0ij",
        "outputId": "dd1c2be7-f0dc-4f43-e4d2-b738d0ccb246"
      },
      "outputs": [
        {
          "output_type": "stream",
          "name": "stdout",
          "text": [
            "Число событий в логе: 243713\n",
            "Число пользователей в логе: 7551\n",
            "Число в среднем событий на пользователя: event_name   32.28\n",
            "dtype: float64\n"
          ]
        }
      ],
      "source": [
        "# Сколько всего событий в логе\n",
        "print(f'Число событий в логе: {len(df)}')\n",
        "\n",
        "# Сколько всего пользователей в логе\n",
        "print(f'Число пользователей в логе: {df[\"device_idhash\"].nunique()}')\n",
        "\n",
        "# Сколько в среднем событий приходится на пользователя\n",
        "print(f\"Число в среднем событий на пользователя: {round(df.groupby('device_idhash').agg({'event_name':'count'}).mean(), 2)}\")"
      ]
    },
    {
      "cell_type": "code",
      "execution_count": null,
      "metadata": {
        "colab": {
          "base_uri": "https://localhost:8080/"
        },
        "id": "c4BbZE_PFUgn",
        "outputId": "fafb2aeb-029f-4155-aa78-a8778324db19"
      },
      "outputs": [
        {
          "output_type": "stream",
          "name": "stdout",
          "text": [
            "Период, за который есть данные: (Timestamp('2019-07-25 00:00:00'), '-', Timestamp('2019-08-07 00:00:00'))\n"
          ]
        }
      ],
      "source": [
        "# Проверим за какой период есть данные:\n",
        "print(f\"Период, за который есть данные: {df['date'].min(), '-', df['date'].max()}\")"
      ]
    },
    {
      "cell_type": "code",
      "execution_count": null,
      "metadata": {
        "colab": {
          "base_uri": "https://localhost:8080/",
          "height": 454
        },
        "id": "Y8d3sb4WQXgi",
        "outputId": "255bba0f-6854-4cfe-9acf-70e6aaec9ddb"
      },
      "outputs": [
        {
          "output_type": "execute_result",
          "data": {
            "text/plain": [
              "<Axes: >"
            ]
          },
          "metadata": {},
          "execution_count": 12
        },
        {
          "output_type": "display_data",
          "data": {
            "text/plain": [
              "<Figure size 1400x500 with 1 Axes>"
            ],
            "image/png": "[encoded data removed]"
          },
          "metadata": {}
        }
      ],
      "source": [
        "# Построим гистограмму по дате и времени, чтобы проверить насколько полные данные имеем:\n",
        "df['date_time'].hist(bins=14*24, figsize=(14, 5))"
      ]
    },
    {
      "cell_type": "code",
      "execution_count": null,
      "metadata": {
        "colab": {
          "base_uri": "https://localhost:8080/",
          "height": 454
        },
        "id": "qGodd0vCW6Zs",
        "outputId": "56a9d319-01a1-4af9-e59c-9fe100428cf0"
      },
      "outputs": [
        {
          "output_type": "execute_result",
          "data": {
            "text/plain": [
              "<Axes: >"
            ]
          },
          "metadata": {},
          "execution_count": 13
        },
        {
          "output_type": "display_data",
          "data": {
            "text/plain": [
              "<Figure size 1400x500 with 1 Axes>"
            ],
            "image/png": "[encoded data removed]"
          },
          "metadata": {}
        }
      ],
      "source": [
        "# код ревьюера\n",
        "df['date_time'].hist(bins=14*24, figsize=(14, 5))"
      ]
    },
    {
      "cell_type": "markdown",
      "metadata": {
        "id": "qoqBUSL7TwHT"
      },
      "source": [
        "**Вывод:** Данных до 31 июля 2019 почти нет, основная масса данных за август, поэтому предлагается сделать срез данных и откинуть ненужные. "
      ]
    },
    {
      "cell_type": "code",
      "execution_count": null,
      "metadata": {
        "colab": {
          "base_uri": "https://localhost:8080/",
          "height": 451
        },
        "id": "v4UWat5BSw-G",
        "outputId": "b9a722c1-7015-42c0-c79f-d42fae37cecf"
      },
      "outputs": [
        {
          "output_type": "execute_result",
          "data": {
            "text/plain": [
              "<Axes: >"
            ]
          },
          "metadata": {},
          "execution_count": 14
        },
        {
          "output_type": "display_data",
          "data": {
            "text/plain": [
              "<Figure size 1400x500 with 1 Axes>"
            ],
            "image/png": "[encoded data removed]"
          },
          "metadata": {}
        }
      ],
      "source": [
        "# Уберем лишние данные:\n",
        "df_flt = df.query('date > \"2019-07-31\"')\n",
        "df_flt['date_time'].hist(bins=14*24, figsize=(14, 5))"
      ]
    },
    {
      "cell_type": "code",
      "execution_count": null,
      "metadata": {
        "colab": {
          "base_uri": "https://localhost:8080/"
        },
        "id": "3SFwWEcUVzfY",
        "outputId": "536731f6-eb61-4e94-e662-87ee766ecf88"
      },
      "outputs": [
        {
          "output_type": "stream",
          "name": "stdout",
          "text": [
            "Число событий в логе: 5, было: 5\n",
            "\n",
            "Потеряно событий: 2826\n",
            "Доля исключенных событий от всех данных: 1.16%\n",
            "\n",
            "Потеряно пользователей: 17\n",
            "Доля исключенных пользователей от всех данных: 755000.23%\n",
            "\n",
            "Экспериментальные группы: exp_id\n",
            "246    5\n",
            "247    5\n",
            "248    5\n",
            "Name: event_name, dtype: int64\n"
          ]
        }
      ],
      "source": [
        "# Много ли событий и пользователей мы потеряли, отбросив старые данные\n",
        "print(f\"Число событий в логе: {df_flt['event_name'].nunique()}, было: {df['event_name'].nunique()}\")\n",
        "print()\n",
        "print(f\"Потеряно событий: {len(df) - len(df_flt)}\")\n",
        "print(f\"Доля исключенных событий от всех данных: {(len(df) - len(df_flt))/len(df):.2%}\")\n",
        "print()\n",
        "print(f\"Потеряно пользователей: {df['device_idhash'].nunique() - df_flt['device_idhash'].nunique()}\")\n",
        "print(f\"Доля исключенных пользователей от всех данных: {int(df['device_idhash'].nunique()) - int(df_flt['device_idhash'].nunique())/int(df['device_idhash'].nunique()):.2%}\")\n",
        "\n",
        "print()\n",
        "# Проверим, что у нас есть пользователи из всех трёх экспериментальных групп\n",
        "print(f\"Экспериментальные группы: {df_flt.groupby('exp_id')['event_name'].nunique()}\")"
      ]
    },
    {
      "cell_type": "markdown",
      "metadata": {
        "id": "-hPKhJLIYPgp"
      },
      "source": [
        "**Вывод:** Практически не изменилось число пользователей после среза, экспериментальные группы есть все три, число событий в группах тоже сохранилось. "
      ]
    },
    {
      "cell_type": "markdown",
      "metadata": {
        "id": "buRmOT5UY76Z"
      },
      "source": [
        "## Изучить воронку событий"
      ]
    },
    {
      "cell_type": "code",
      "execution_count": null,
      "metadata": {
        "colab": {
          "base_uri": "https://localhost:8080/",
          "height": 206
        },
        "id": "VkX6MiTcaIZY",
        "outputId": "489e740e-4fbb-4f83-ad14-779fac61e449"
      },
      "outputs": [
        {
          "output_type": "execute_result",
          "data": {
            "text/plain": [
              "                event_name   count\n",
              "0         MainScreenAppear  117328\n",
              "1       OffersScreenAppear   46333\n",
              "2         CartScreenAppear   42303\n",
              "3  PaymentScreenSuccessful   33918\n",
              "4                 Tutorial    1005"
            ],
            "text/html": [
              "\n",
              "  <div id=\"df-2f07e403-3ced-4a91-b5e2-22e44adb4758\">\n",
              "    <div class=\"colab-df-container\">\n",
              "      <div>\n",
              "<style scoped>\n",
              "    .dataframe tbody tr th:only-of-type {\n",
              "        vertical-align: middle;\n",
              "    }\n",
              "\n",
              "    .dataframe tbody tr th {\n",
              "        vertical-align: top;\n",
              "    }\n",
              "\n",
              "    .dataframe thead th {\n",
              "        text-align: right;\n",
              "    }\n",
              "</style>\n",
              "<table border=\"1\" class=\"dataframe\">\n",
              "  <thead>\n",
              "    <tr style=\"text-align: right;\">\n",
              "      <th></th>\n",
              "      <th>event_name</th>\n",
              "      <th>count</th>\n",
              "    </tr>\n",
              "  </thead>\n",
              "  <tbody>\n",
              "    <tr>\n",
              "      <th>0</th>\n",
              "      <td>MainScreenAppear</td>\n",
              "      <td>117328</td>\n",
              "    </tr>\n",
              "    <tr>\n",
              "      <th>1</th>\n",
              "      <td>OffersScreenAppear</td>\n",
              "      <td>46333</td>\n",
              "    </tr>\n",
              "    <tr>\n",
              "      <th>2</th>\n",
              "      <td>CartScreenAppear</td>\n",
              "      <td>42303</td>\n",
              "    </tr>\n",
              "    <tr>\n",
              "      <th>3</th>\n",
              "      <td>PaymentScreenSuccessful</td>\n",
              "      <td>33918</td>\n",
              "    </tr>\n",
              "    <tr>\n",
              "      <th>4</th>\n",
              "      <td>Tutorial</td>\n",
              "      <td>1005</td>\n",
              "    </tr>\n",
              "  </tbody>\n",
              "</table>\n",
              "</div>\n",
              "      <button class=\"colab-df-convert\" onclick=\"convertToInteractive('df-2f07e403-3ced-4a91-b5e2-22e44adb4758')\"\n",
              "              title=\"Convert this dataframe to an interactive table.\"\n",
              "              style=\"display:none;\">\n",
              "        \n",
              "  <svg xmlns=\"http://www.w3.org/2000/svg\" height=\"24px\"viewBox=\"0 0 24 24\"\n",
              "       width=\"24px\">\n",
              "    <path d=\"M0 0h24v24H0V0z\" fill=\"none\"/>\n",
              "    <path d=\"M18.56 5.44l.94 2.06.94-2.06 2.06-.94-2.06-.94-.94-2.06-.94 2.06-2.06.94zm-11 1L8.5 8.5l.94-2.06 2.06-.94-2.06-.94L8.5 2.5l-.94 2.06-2.06.94zm10 10l.94 2.06.94-2.06 2.06-.94-2.06-.94-.94-2.06-.94 2.06-2.06.94z\"/><path d=\"M17.41 7.96l-1.37-1.37c-.4-.4-.92-.59-1.43-.59-.52 0-1.04.2-1.43.59L10.3 9.45l-7.72 7.72c-.78.78-.78 2.05 0 2.83L4 21.41c.39.39.9.59 1.41.59.51 0 1.02-.2 1.41-.59l7.78-7.78 2.81-2.81c.8-.78.8-2.07 0-2.86zM5.41 20L4 18.59l7.72-7.72 1.47 1.35L5.41 20z\"/>\n",
              "  </svg>\n",
              "      </button>\n",
              "      \n",
              "  <style>\n",
              "    .colab-df-container {\n",
              "      display:flex;\n",
              "      flex-wrap:wrap;\n",
              "      gap: 12px;\n",
              "    }\n",
              "\n",
              "    .colab-df-convert {\n",
              "      background-color: #E8F0FE;\n",
              "      border: none;\n",
              "      border-radius: 50%;\n",
              "      cursor: pointer;\n",
              "      display: none;\n",
              "      fill: #1967D2;\n",
              "      height: 32px;\n",
              "      padding: 0 0 0 0;\n",
              "      width: 32px;\n",
              "    }\n",
              "\n",
              "    .colab-df-convert:hover {\n",
              "      background-color: #E2EBFA;\n",
              "      box-shadow: 0px 1px 2px rgba(60, 64, 67, 0.3), 0px 1px 3px 1px rgba(60, 64, 67, 0.15);\n",
              "      fill: #174EA6;\n",
              "    }\n",
              "\n",
              "    [theme=dark] .colab-df-convert {\n",
              "      background-color: #3B4455;\n",
              "      fill: #D2E3FC;\n",
              "    }\n",
              "\n",
              "    [theme=dark] .colab-df-convert:hover {\n",
              "      background-color: #434B5C;\n",
              "      box-shadow: 0px 1px 3px 1px rgba(0, 0, 0, 0.15);\n",
              "      filter: drop-shadow(0px 1px 2px rgba(0, 0, 0, 0.3));\n",
              "      fill: #FFFFFF;\n",
              "    }\n",
              "  </style>\n",
              "\n",
              "      <script>\n",
              "        const buttonEl =\n",
              "          document.querySelector('#df-2f07e403-3ced-4a91-b5e2-22e44adb4758 button.colab-df-convert');\n",
              "        buttonEl.style.display =\n",
              "          google.colab.kernel.accessAllowed ? 'block' : 'none';\n",
              "\n",
              "        async function convertToInteractive(key) {\n",
              "          const element = document.querySelector('#df-2f07e403-3ced-4a91-b5e2-22e44adb4758');\n",
              "          const dataTable =\n",
              "            await google.colab.kernel.invokeFunction('convertToInteractive',\n",
              "                                                     [key], {});\n",
              "          if (!dataTable) return;\n",
              "\n",
              "          const docLinkHtml = 'Like what you see? Visit the ' +\n",
              "            '<a target=\"_blank\" href=https://colab.research.google.com/notebooks/data_table.ipynb>data table notebook</a>'\n",
              "            + ' to learn more about interactive tables.';\n",
              "          element.innerHTML = '';\n",
              "          dataTable['output_type'] = 'display_data';\n",
              "          await google.colab.output.renderOutput(dataTable, element);\n",
              "          const docLink = document.createElement('div');\n",
              "          docLink.innerHTML = docLinkHtml;\n",
              "          element.appendChild(docLink);\n",
              "        }\n",
              "      </script>\n",
              "    </div>\n",
              "  </div>\n",
              "  "
            ]
          },
          "metadata": {},
          "execution_count": 16
        }
      ],
      "source": [
        "# Посмотрим, какие события есть в логах, как часто они встречаются.\n",
        "event_counts = df_flt['event_name'].value_counts().reset_index()\n",
        "event_counts.columns = ['event_name', 'count']\n",
        "\n",
        "# Отсортируем события по частоте.\n",
        "event_counts = event_counts.sort_values('count', ascending=False)\n",
        "event_counts"
      ]
    },
    {
      "cell_type": "code",
      "execution_count": null,
      "metadata": {
        "colab": {
          "base_uri": "https://localhost:8080/",
          "height": 175
        },
        "id": "5u7fXE3KZv5O",
        "outputId": "e4d74d22-8b26-4aa3-d813-c0eb220f8092"
      },
      "outputs": [
        {
          "output_type": "execute_result",
          "data": {
            "text/plain": [
              "                event_name  user_count  conversion\n",
              "0         MainScreenAppear        7419       98.47\n",
              "1       OffersScreenAppear        4593       60.96\n",
              "2         CartScreenAppear        3734       49.56\n",
              "3  PaymentScreenSuccessful        3539       46.97"
            ],
            "text/html": [
              "\n",
              "  <div id=\"df-42d49076-84dd-4f6d-a760-6687d470a5c1\">\n",
              "    <div class=\"colab-df-container\">\n",
              "      <div>\n",
              "<style scoped>\n",
              "    .dataframe tbody tr th:only-of-type {\n",
              "        vertical-align: middle;\n",
              "    }\n",
              "\n",
              "    .dataframe tbody tr th {\n",
              "        vertical-align: top;\n",
              "    }\n",
              "\n",
              "    .dataframe thead th {\n",
              "        text-align: right;\n",
              "    }\n",
              "</style>\n",
              "<table border=\"1\" class=\"dataframe\">\n",
              "  <thead>\n",
              "    <tr style=\"text-align: right;\">\n",
              "      <th></th>\n",
              "      <th>event_name</th>\n",
              "      <th>user_count</th>\n",
              "      <th>conversion</th>\n",
              "    </tr>\n",
              "  </thead>\n",
              "  <tbody>\n",
              "    <tr>\n",
              "      <th>0</th>\n",
              "      <td>MainScreenAppear</td>\n",
              "      <td>7419</td>\n",
              "      <td>98.47</td>\n",
              "    </tr>\n",
              "    <tr>\n",
              "      <th>1</th>\n",
              "      <td>OffersScreenAppear</td>\n",
              "      <td>4593</td>\n",
              "      <td>60.96</td>\n",
              "    </tr>\n",
              "    <tr>\n",
              "      <th>2</th>\n",
              "      <td>CartScreenAppear</td>\n",
              "      <td>3734</td>\n",
              "      <td>49.56</td>\n",
              "    </tr>\n",
              "    <tr>\n",
              "      <th>3</th>\n",
              "      <td>PaymentScreenSuccessful</td>\n",
              "      <td>3539</td>\n",
              "      <td>46.97</td>\n",
              "    </tr>\n",
              "  </tbody>\n",
              "</table>\n",
              "</div>\n",
              "      <button class=\"colab-df-convert\" onclick=\"convertToInteractive('df-42d49076-84dd-4f6d-a760-6687d470a5c1')\"\n",
              "              title=\"Convert this dataframe to an interactive table.\"\n",
              "              style=\"display:none;\">\n",
              "        \n",
              "  <svg xmlns=\"http://www.w3.org/2000/svg\" height=\"24px\"viewBox=\"0 0 24 24\"\n",
              "       width=\"24px\">\n",
              "    <path d=\"M0 0h24v24H0V0z\" fill=\"none\"/>\n",
              "    <path d=\"M18.56 5.44l.94 2.06.94-2.06 2.06-.94-2.06-.94-.94-2.06-.94 2.06-2.06.94zm-11 1L8.5 8.5l.94-2.06 2.06-.94-2.06-.94L8.5 2.5l-.94 2.06-2.06.94zm10 10l.94 2.06.94-2.06 2.06-.94-2.06-.94-.94-2.06-.94 2.06-2.06.94z\"/><path d=\"M17.41 7.96l-1.37-1.37c-.4-.4-.92-.59-1.43-.59-.52 0-1.04.2-1.43.59L10.3 9.45l-7.72 7.72c-.78.78-.78 2.05 0 2.83L4 21.41c.39.39.9.59 1.41.59.51 0 1.02-.2 1.41-.59l7.78-7.78 2.81-2.81c.8-.78.8-2.07 0-2.86zM5.41 20L4 18.59l7.72-7.72 1.47 1.35L5.41 20z\"/>\n",
              "  </svg>\n",
              "      </button>\n",
              "      \n",
              "  <style>\n",
              "    .colab-df-container {\n",
              "      display:flex;\n",
              "      flex-wrap:wrap;\n",
              "      gap: 12px;\n",
              "    }\n",
              "\n",
              "    .colab-df-convert {\n",
              "      background-color: #E8F0FE;\n",
              "      border: none;\n",
              "      border-radius: 50%;\n",
              "      cursor: pointer;\n",
              "      display: none;\n",
              "      fill: #1967D2;\n",
              "      height: 32px;\n",
              "      padding: 0 0 0 0;\n",
              "      width: 32px;\n",
              "    }\n",
              "\n",
              "    .colab-df-convert:hover {\n",
              "      background-color: #E2EBFA;\n",
              "      box-shadow: 0px 1px 2px rgba(60, 64, 67, 0.3), 0px 1px 3px 1px rgba(60, 64, 67, 0.15);\n",
              "      fill: #174EA6;\n",
              "    }\n",
              "\n",
              "    [theme=dark] .colab-df-convert {\n",
              "      background-color: #3B4455;\n",
              "      fill: #D2E3FC;\n",
              "    }\n",
              "\n",
              "    [theme=dark] .colab-df-convert:hover {\n",
              "      background-color: #434B5C;\n",
              "      box-shadow: 0px 1px 3px 1px rgba(0, 0, 0, 0.15);\n",
              "      filter: drop-shadow(0px 1px 2px rgba(0, 0, 0, 0.3));\n",
              "      fill: #FFFFFF;\n",
              "    }\n",
              "  </style>\n",
              "\n",
              "      <script>\n",
              "        const buttonEl =\n",
              "          document.querySelector('#df-42d49076-84dd-4f6d-a760-6687d470a5c1 button.colab-df-convert');\n",
              "        buttonEl.style.display =\n",
              "          google.colab.kernel.accessAllowed ? 'block' : 'none';\n",
              "\n",
              "        async function convertToInteractive(key) {\n",
              "          const element = document.querySelector('#df-42d49076-84dd-4f6d-a760-6687d470a5c1');\n",
              "          const dataTable =\n",
              "            await google.colab.kernel.invokeFunction('convertToInteractive',\n",
              "                                                     [key], {});\n",
              "          if (!dataTable) return;\n",
              "\n",
              "          const docLinkHtml = 'Like what you see? Visit the ' +\n",
              "            '<a target=\"_blank\" href=https://colab.research.google.com/notebooks/data_table.ipynb>data table notebook</a>'\n",
              "            + ' to learn more about interactive tables.';\n",
              "          element.innerHTML = '';\n",
              "          dataTable['output_type'] = 'display_data';\n",
              "          await google.colab.output.renderOutput(dataTable, element);\n",
              "          const docLink = document.createElement('div');\n",
              "          docLink.innerHTML = docLinkHtml;\n",
              "          element.appendChild(docLink);\n",
              "        }\n",
              "      </script>\n",
              "    </div>\n",
              "  </div>\n",
              "  "
            ]
          },
          "metadata": {},
          "execution_count": 17
        }
      ],
      "source": [
        "# Посчитаем, сколько пользователей совершали каждое из этих событий\n",
        "user_counts = df_flt.groupby('event_name')['device_idhash'].nunique().reset_index()\n",
        "user_counts.columns = ['event_name', 'user_count']\n",
        "\n",
        "# Исключим tutorial из выборки\n",
        "user_counts = user_counts[user_counts['event_name'] != 'Tutorial']\n",
        "\n",
        "# Отсортируем события по числу пользователей\n",
        "user_counts = user_counts.sort_values('user_count', ascending=False).reset_index(drop=True)\n",
        "\n",
        "# Посчитаем долю пользователей, которые хоть раз совершали событие\n",
        "user_counts['conversion'] = round(user_counts['user_count'] / \n",
        "                                   df_flt['device_idhash'].nunique()*100, 2)\n",
        "user_counts"
      ]
    },
    {
      "cell_type": "markdown",
      "metadata": {
        "id": "stt2GeeglwZR"
      },
      "source": [
        "**Вывод:** \n",
        "* Скорее всего Tutorial это не обязательный элемент в мобильном приложении, который можно закрыть при первом скачиваниии. Его не будем учитывать. \n",
        "* Далее идет следующая цепочка действий: MainScreenAppear - OffersScreenAppear * CartScreenAppear - PaymentScreenSuccessful, т.е. главный экран - экран с предложениями - корзина - экран успешной оплаты."
      ]
    },
    {
      "cell_type": "markdown",
      "metadata": {
        "id": "tv-KDFaVZ1Tq"
      },
      "source": [
        "По воронке событий посчитаем, какая доля пользователей проходит на следующий шаг воронки (от числа пользователей на предыдущем). То есть для последовательности событий A → B → C посчитаем отношение числа пользователей с событием B к количеству пользователей с событием A, а также отношение числа пользователей с событием C к количеству пользователей с событием B."
      ]
    },
    {
      "cell_type": "code",
      "execution_count": null,
      "metadata": {
        "colab": {
          "base_uri": "https://localhost:8080/",
          "height": 175
        },
        "id": "OK4bZIINst-R",
        "outputId": "36fc7cb3-8166-45b0-99e3-716c53f77a53"
      },
      "outputs": [
        {
          "output_type": "execute_result",
          "data": {
            "text/plain": [
              "                event_name  user_count  conversion  conversion_per_step\n",
              "0         MainScreenAppear        7419       98.47               100.00\n",
              "1       OffersScreenAppear        4593       60.96                61.91\n",
              "2         CartScreenAppear        3734       49.56                81.30\n",
              "3  PaymentScreenSuccessful        3539       46.97                94.78"
            ],
            "text/html": [
              "\n",
              "  <div id=\"df-799ea1e4-271a-495d-ada6-a936c5c35d65\">\n",
              "    <div class=\"colab-df-container\">\n",
              "      <div>\n",
              "<style scoped>\n",
              "    .dataframe tbody tr th:only-of-type {\n",
              "        vertical-align: middle;\n",
              "    }\n",
              "\n",
              "    .dataframe tbody tr th {\n",
              "        vertical-align: top;\n",
              "    }\n",
              "\n",
              "    .dataframe thead th {\n",
              "        text-align: right;\n",
              "    }\n",
              "</style>\n",
              "<table border=\"1\" class=\"dataframe\">\n",
              "  <thead>\n",
              "    <tr style=\"text-align: right;\">\n",
              "      <th></th>\n",
              "      <th>event_name</th>\n",
              "      <th>user_count</th>\n",
              "      <th>conversion</th>\n",
              "      <th>conversion_per_step</th>\n",
              "    </tr>\n",
              "  </thead>\n",
              "  <tbody>\n",
              "    <tr>\n",
              "      <th>0</th>\n",
              "      <td>MainScreenAppear</td>\n",
              "      <td>7419</td>\n",
              "      <td>98.47</td>\n",
              "      <td>100.00</td>\n",
              "    </tr>\n",
              "    <tr>\n",
              "      <th>1</th>\n",
              "      <td>OffersScreenAppear</td>\n",
              "      <td>4593</td>\n",
              "      <td>60.96</td>\n",
              "      <td>61.91</td>\n",
              "    </tr>\n",
              "    <tr>\n",
              "      <th>2</th>\n",
              "      <td>CartScreenAppear</td>\n",
              "      <td>3734</td>\n",
              "      <td>49.56</td>\n",
              "      <td>81.30</td>\n",
              "    </tr>\n",
              "    <tr>\n",
              "      <th>3</th>\n",
              "      <td>PaymentScreenSuccessful</td>\n",
              "      <td>3539</td>\n",
              "      <td>46.97</td>\n",
              "      <td>94.78</td>\n",
              "    </tr>\n",
              "  </tbody>\n",
              "</table>\n",
              "</div>\n",
              "      <button class=\"colab-df-convert\" onclick=\"convertToInteractive('df-799ea1e4-271a-495d-ada6-a936c5c35d65')\"\n",
              "              title=\"Convert this dataframe to an interactive table.\"\n",
              "              style=\"display:none;\">\n",
              "        \n",
              "  <svg xmlns=\"http://www.w3.org/2000/svg\" height=\"24px\"viewBox=\"0 0 24 24\"\n",
              "       width=\"24px\">\n",
              "    <path d=\"M0 0h24v24H0V0z\" fill=\"none\"/>\n",
              "    <path d=\"M18.56 5.44l.94 2.06.94-2.06 2.06-.94-2.06-.94-.94-2.06-.94 2.06-2.06.94zm-11 1L8.5 8.5l.94-2.06 2.06-.94-2.06-.94L8.5 2.5l-.94 2.06-2.06.94zm10 10l.94 2.06.94-2.06 2.06-.94-2.06-.94-.94-2.06-.94 2.06-2.06.94z\"/><path d=\"M17.41 7.96l-1.37-1.37c-.4-.4-.92-.59-1.43-.59-.52 0-1.04.2-1.43.59L10.3 9.45l-7.72 7.72c-.78.78-.78 2.05 0 2.83L4 21.41c.39.39.9.59 1.41.59.51 0 1.02-.2 1.41-.59l7.78-7.78 2.81-2.81c.8-.78.8-2.07 0-2.86zM5.41 20L4 18.59l7.72-7.72 1.47 1.35L5.41 20z\"/>\n",
              "  </svg>\n",
              "      </button>\n",
              "      \n",
              "  <style>\n",
              "    .colab-df-container {\n",
              "      display:flex;\n",
              "      flex-wrap:wrap;\n",
              "      gap: 12px;\n",
              "    }\n",
              "\n",
              "    .colab-df-convert {\n",
              "      background-color: #E8F0FE;\n",
              "      border: none;\n",
              "      border-radius: 50%;\n",
              "      cursor: pointer;\n",
              "      display: none;\n",
              "      fill: #1967D2;\n",
              "      height: 32px;\n",
              "      padding: 0 0 0 0;\n",
              "      width: 32px;\n",
              "    }\n",
              "\n",
              "    .colab-df-convert:hover {\n",
              "      background-color: #E2EBFA;\n",
              "      box-shadow: 0px 1px 2px rgba(60, 64, 67, 0.3), 0px 1px 3px 1px rgba(60, 64, 67, 0.15);\n",
              "      fill: #174EA6;\n",
              "    }\n",
              "\n",
              "    [theme=dark] .colab-df-convert {\n",
              "      background-color: #3B4455;\n",
              "      fill: #D2E3FC;\n",
              "    }\n",
              "\n",
              "    [theme=dark] .colab-df-convert:hover {\n",
              "      background-color: #434B5C;\n",
              "      box-shadow: 0px 1px 3px 1px rgba(0, 0, 0, 0.15);\n",
              "      filter: drop-shadow(0px 1px 2px rgba(0, 0, 0, 0.3));\n",
              "      fill: #FFFFFF;\n",
              "    }\n",
              "  </style>\n",
              "\n",
              "      <script>\n",
              "        const buttonEl =\n",
              "          document.querySelector('#df-799ea1e4-271a-495d-ada6-a936c5c35d65 button.colab-df-convert');\n",
              "        buttonEl.style.display =\n",
              "          google.colab.kernel.accessAllowed ? 'block' : 'none';\n",
              "\n",
              "        async function convertToInteractive(key) {\n",
              "          const element = document.querySelector('#df-799ea1e4-271a-495d-ada6-a936c5c35d65');\n",
              "          const dataTable =\n",
              "            await google.colab.kernel.invokeFunction('convertToInteractive',\n",
              "                                                     [key], {});\n",
              "          if (!dataTable) return;\n",
              "\n",
              "          const docLinkHtml = 'Like what you see? Visit the ' +\n",
              "            '<a target=\"_blank\" href=https://colab.research.google.com/notebooks/data_table.ipynb>data table notebook</a>'\n",
              "            + ' to learn more about interactive tables.';\n",
              "          element.innerHTML = '';\n",
              "          dataTable['output_type'] = 'display_data';\n",
              "          await google.colab.output.renderOutput(dataTable, element);\n",
              "          const docLink = document.createElement('div');\n",
              "          docLink.innerHTML = docLinkHtml;\n",
              "          element.appendChild(docLink);\n",
              "        }\n",
              "      </script>\n",
              "    </div>\n",
              "  </div>\n",
              "  "
            ]
          },
          "metadata": {},
          "execution_count": 18
        }
      ],
      "source": [
        "# Посчитаем число пользователей пользователей проходит на следующий шаг воронки \n",
        "user_counts['conversion_per_step'] = round((user_counts['user_count'] / \n",
        "                                            user_counts['user_count'].shift(1, \n",
        "                                            fill_value=user_counts.loc[0, \n",
        "                                                        'user_count']))*100, 2)\n",
        "user_counts"
      ]
    },
    {
      "cell_type": "code",
      "execution_count": null,
      "metadata": {
        "colab": {
          "base_uri": "https://localhost:8080/",
          "height": 542
        },
        "id": "1CMbFG11lBGj",
        "outputId": "40c00540-4b02-4a3c-9266-56097145ed5e"
      },
      "outputs": [
        {
          "output_type": "display_data",
          "data": {
            "text/html": [
              "<html>\n",
              "<head><meta charset=\"utf-8\" /></head>\n",
              "<body>\n",
              "    <div>            <script src=\"https://cdnjs.cloudflare.com/ajax/libs/mathjax/2.7.5/MathJax.js?config=TeX-AMS-MML_SVG\"></script><script type=\"text/javascript\">if (window.MathJax && window.MathJax.Hub && window.MathJax.Hub.Config) {window.MathJax.Hub.Config({SVG: {font: \"STIX-Web\"}});}</script>                <script type=\"text/javascript\">window.PlotlyConfig = {MathJaxConfig: 'local'};</script>\n",
              "        <script src=\"https://cdn.plot.ly/plotly-2.18.2.min.js\"></script>                <div id=\"06212ab4-ff61-42e5-bbc0-f017bb8904e4\" class=\"plotly-graph-div\" style=\"height:525px; width:100%;\"></div>            <script type=\"text/javascript\">                                    window.PLOTLYENV=window.PLOTLYENV || {};                                    if (document.getElementById(\"06212ab4-ff61-42e5-bbc0-f017bb8904e4\")) {                    Plotly.newPlot(                        \"06212ab4-ff61-42e5-bbc0-f017bb8904e4\",                        [{\"textinfo\":\"value+percent previous\",\"x\":[7419,4593,3734,3539],\"y\":[\"\\u0413\\u043b\\u0430\\u0432\\u043d\\u044b\\u0439 \\u044d\\u043a\\u0440\\u0430\\u043d\",\"\\u042d\\u043a\\u0440\\u0430\\u043d \\u0441\\u043e \\u0441\\u043f\\u0435\\u0446\\u043f\\u0440\\u0435\\u0434\\u043b\\u043e\\u0436\\u0435\\u043d\\u0438\\u044f\\u043c\\u0438\",\"\\u041a\\u043e\\u0440\\u0437\\u0438\\u043d\\u0430\",\"\\u0423\\u0441\\u043f\\u0435\\u0449\\u043d\\u0430\\u044f \\u043e\\u043f\\u043b\\u0430\\u0442\\u0430\"],\"type\":\"funnel\"}],                        {\"template\":{\"data\":{\"histogram2dcontour\":[{\"type\":\"histogram2dcontour\",\"colorbar\":{\"outlinewidth\":0,\"ticks\":\"\"},\"colorscale\":[[0.0,\"#0d0887\"],[0.1111111111111111,\"#46039f\"],[0.2222222222222222,\"#7201a8\"],[0.3333333333333333,\"#9c179e\"],[0.4444444444444444,\"#bd3786\"],[0.5555555555555556,\"#d8576b\"],[0.6666666666666666,\"#ed7953\"],[0.7777777777777778,\"#fb9f3a\"],[0.8888888888888888,\"#fdca26\"],[1.0,\"#f0f921\"]]}],\"choropleth\":[{\"type\":\"choropleth\",\"colorbar\":{\"outlinewidth\":0,\"ticks\":\"\"}}],\"histogram2d\":[{\"type\":\"histogram2d\",\"colorbar\":{\"outlinewidth\":0,\"ticks\":\"\"},\"colorscale\":[[0.0,\"#0d0887\"],[0.1111111111111111,\"#46039f\"],[0.2222222222222222,\"#7201a8\"],[0.3333333333333333,\"#9c179e\"],[0.4444444444444444,\"#bd3786\"],[0.5555555555555556,\"#d8576b\"],[0.6666666666666666,\"#ed7953\"],[0.7777777777777778,\"#fb9f3a\"],[0.8888888888888888,\"#fdca26\"],[1.0,\"#f0f921\"]]}],\"heatmap\":[{\"type\":\"heatmap\",\"colorbar\":{\"outlinewidth\":0,\"ticks\":\"\"},\"colorscale\":[[0.0,\"#0d0887\"],[0.1111111111111111,\"#46039f\"],[0.2222222222222222,\"#7201a8\"],[0.3333333333333333,\"#9c179e\"],[0.4444444444444444,\"#bd3786\"],[0.5555555555555556,\"#d8576b\"],[0.6666666666666666,\"#ed7953\"],[0.7777777777777778,\"#fb9f3a\"],[0.8888888888888888,\"#fdca26\"],[1.0,\"#f0f921\"]]}],\"heatmapgl\":[{\"type\":\"heatmapgl\",\"colorbar\":{\"outlinewidth\":0,\"ticks\":\"\"},\"colorscale\":[[0.0,\"#0d0887\"],[0.1111111111111111,\"#46039f\"],[0.2222222222222222,\"#7201a8\"],[0.3333333333333333,\"#9c179e\"],[0.4444444444444444,\"#bd3786\"],[0.5555555555555556,\"#d8576b\"],[0.6666666666666666,\"#ed7953\"],[0.7777777777777778,\"#fb9f3a\"],[0.8888888888888888,\"#fdca26\"],[1.0,\"#f0f921\"]]}],\"contourcarpet\":[{\"type\":\"contourcarpet\",\"colorbar\":{\"outlinewidth\":0,\"ticks\":\"\"}}],\"contour\":[{\"type\":\"contour\",\"colorbar\":{\"outlinewidth\":0,\"ticks\":\"\"},\"colorscale\":[[0.0,\"#0d0887\"],[0.1111111111111111,\"#46039f\"],[0.2222222222222222,\"#7201a8\"],[0.3333333333333333,\"#9c179e\"],[0.4444444444444444,\"#bd3786\"],[0.5555555555555556,\"#d8576b\"],[0.6666666666666666,\"#ed7953\"],[0.7777777777777778,\"#fb9f3a\"],[0.8888888888888888,\"#fdca26\"],[1.0,\"#f0f921\"]]}],\"surface\":[{\"type\":\"surface\",\"colorbar\":{\"outlinewidth\":0,\"ticks\":\"\"},\"colorscale\":[[0.0,\"#0d0887\"],[0.1111111111111111,\"#46039f\"],[0.2222222222222222,\"#7201a8\"],[0.3333333333333333,\"#9c179e\"],[0.4444444444444444,\"#bd3786\"],[0.5555555555555556,\"#d8576b\"],[0.6666666666666666,\"#ed7953\"],[0.7777777777777778,\"#fb9f3a\"],[0.8888888888888888,\"#fdca26\"],[1.0,\"#f0f921\"]]}],\"mesh3d\":[{\"type\":\"mesh3d\",\"colorbar\":{\"outlinewidth\":0,\"ticks\":\"\"}}],\"scatter\":[{\"fillpattern\":{\"fillmode\":\"overlay\",\"size\":10,\"solidity\":0.2},\"type\":\"scatter\"}],\"parcoords\":[{\"type\":\"parcoords\",\"line\":{\"colorbar\":{\"outlinewidth\":0,\"ticks\":\"\"}}}],\"scatterpolargl\":[{\"type\":\"scatterpolargl\",\"marker\":{\"colorbar\":{\"outlinewidth\":0,\"ticks\":\"\"}}}],\"bar\":[{\"error_x\":{\"color\":\"#2a3f5f\"},\"error_y\":{\"color\":\"#2a3f5f\"},\"marker\":{\"line\":{\"color\":\"#E5ECF6\",\"width\":0.5},\"pattern\":{\"fillmode\":\"overlay\",\"size\":10,\"solidity\":0.2}},\"type\":\"bar\"}],\"scattergeo\":[{\"type\":\"scattergeo\",\"marker\":{\"colorbar\":{\"outlinewidth\":0,\"ticks\":\"\"}}}],\"scatterpolar\":[{\"type\":\"scatterpolar\",\"marker\":{\"colorbar\":{\"outlinewidth\":0,\"ticks\":\"\"}}}],\"histogram\":[{\"marker\":{\"pattern\":{\"fillmode\":\"overlay\",\"size\":10,\"solidity\":0.2}},\"type\":\"histogram\"}],\"scattergl\":[{\"type\":\"scattergl\",\"marker\":{\"colorbar\":{\"outlinewidth\":0,\"ticks\":\"\"}}}],\"scatter3d\":[{\"type\":\"scatter3d\",\"line\":{\"colorbar\":{\"outlinewidth\":0,\"ticks\":\"\"}},\"marker\":{\"colorbar\":{\"outlinewidth\":0,\"ticks\":\"\"}}}],\"scattermapbox\":[{\"type\":\"scattermapbox\",\"marker\":{\"colorbar\":{\"outlinewidth\":0,\"ticks\":\"\"}}}],\"scatterternary\":[{\"type\":\"scatterternary\",\"marker\":{\"colorbar\":{\"outlinewidth\":0,\"ticks\":\"\"}}}],\"scattercarpet\":[{\"type\":\"scattercarpet\",\"marker\":{\"colorbar\":{\"outlinewidth\":0,\"ticks\":\"\"}}}],\"carpet\":[{\"aaxis\":{\"endlinecolor\":\"#2a3f5f\",\"gridcolor\":\"white\",\"linecolor\":\"white\",\"minorgridcolor\":\"white\",\"startlinecolor\":\"#2a3f5f\"},\"baxis\":{\"endlinecolor\":\"#2a3f5f\",\"gridcolor\":\"white\",\"linecolor\":\"white\",\"minorgridcolor\":\"white\",\"startlinecolor\":\"#2a3f5f\"},\"type\":\"carpet\"}],\"table\":[{\"cells\":{\"fill\":{\"color\":\"#EBF0F8\"},\"line\":{\"color\":\"white\"}},\"header\":{\"fill\":{\"color\":\"#C8D4E3\"},\"line\":{\"color\":\"white\"}},\"type\":\"table\"}],\"barpolar\":[{\"marker\":{\"line\":{\"color\":\"#E5ECF6\",\"width\":0.5},\"pattern\":{\"fillmode\":\"overlay\",\"size\":10,\"solidity\":0.2}},\"type\":\"barpolar\"}],\"pie\":[{\"automargin\":true,\"type\":\"pie\"}]},\"layout\":{\"autotypenumbers\":\"strict\",\"colorway\":[\"#636efa\",\"#EF553B\",\"#00cc96\",\"#ab63fa\",\"#FFA15A\",\"#19d3f3\",\"#FF6692\",\"#B6E880\",\"#FF97FF\",\"#FECB52\"],\"font\":{\"color\":\"#2a3f5f\"},\"hovermode\":\"closest\",\"hoverlabel\":{\"align\":\"left\"},\"paper_bgcolor\":\"white\",\"plot_bgcolor\":\"#E5ECF6\",\"polar\":{\"bgcolor\":\"#E5ECF6\",\"angularaxis\":{\"gridcolor\":\"white\",\"linecolor\":\"white\",\"ticks\":\"\"},\"radialaxis\":{\"gridcolor\":\"white\",\"linecolor\":\"white\",\"ticks\":\"\"}},\"ternary\":{\"bgcolor\":\"#E5ECF6\",\"aaxis\":{\"gridcolor\":\"white\",\"linecolor\":\"white\",\"ticks\":\"\"},\"baxis\":{\"gridcolor\":\"white\",\"linecolor\":\"white\",\"ticks\":\"\"},\"caxis\":{\"gridcolor\":\"white\",\"linecolor\":\"white\",\"ticks\":\"\"}},\"coloraxis\":{\"colorbar\":{\"outlinewidth\":0,\"ticks\":\"\"}},\"colorscale\":{\"sequential\":[[0.0,\"#0d0887\"],[0.1111111111111111,\"#46039f\"],[0.2222222222222222,\"#7201a8\"],[0.3333333333333333,\"#9c179e\"],[0.4444444444444444,\"#bd3786\"],[0.5555555555555556,\"#d8576b\"],[0.6666666666666666,\"#ed7953\"],[0.7777777777777778,\"#fb9f3a\"],[0.8888888888888888,\"#fdca26\"],[1.0,\"#f0f921\"]],\"sequentialminus\":[[0.0,\"#0d0887\"],[0.1111111111111111,\"#46039f\"],[0.2222222222222222,\"#7201a8\"],[0.3333333333333333,\"#9c179e\"],[0.4444444444444444,\"#bd3786\"],[0.5555555555555556,\"#d8576b\"],[0.6666666666666666,\"#ed7953\"],[0.7777777777777778,\"#fb9f3a\"],[0.8888888888888888,\"#fdca26\"],[1.0,\"#f0f921\"]],\"diverging\":[[0,\"#8e0152\"],[0.1,\"#c51b7d\"],[0.2,\"#de77ae\"],[0.3,\"#f1b6da\"],[0.4,\"#fde0ef\"],[0.5,\"#f7f7f7\"],[0.6,\"#e6f5d0\"],[0.7,\"#b8e186\"],[0.8,\"#7fbc41\"],[0.9,\"#4d9221\"],[1,\"#276419\"]]},\"xaxis\":{\"gridcolor\":\"white\",\"linecolor\":\"white\",\"ticks\":\"\",\"title\":{\"standoff\":15},\"zerolinecolor\":\"white\",\"automargin\":true,\"zerolinewidth\":2},\"yaxis\":{\"gridcolor\":\"white\",\"linecolor\":\"white\",\"ticks\":\"\",\"title\":{\"standoff\":15},\"zerolinecolor\":\"white\",\"automargin\":true,\"zerolinewidth\":2},\"scene\":{\"xaxis\":{\"backgroundcolor\":\"#E5ECF6\",\"gridcolor\":\"white\",\"linecolor\":\"white\",\"showbackground\":true,\"ticks\":\"\",\"zerolinecolor\":\"white\",\"gridwidth\":2},\"yaxis\":{\"backgroundcolor\":\"#E5ECF6\",\"gridcolor\":\"white\",\"linecolor\":\"white\",\"showbackground\":true,\"ticks\":\"\",\"zerolinecolor\":\"white\",\"gridwidth\":2},\"zaxis\":{\"backgroundcolor\":\"#E5ECF6\",\"gridcolor\":\"white\",\"linecolor\":\"white\",\"showbackground\":true,\"ticks\":\"\",\"zerolinecolor\":\"white\",\"gridwidth\":2}},\"shapedefaults\":{\"line\":{\"color\":\"#2a3f5f\"}},\"annotationdefaults\":{\"arrowcolor\":\"#2a3f5f\",\"arrowhead\":0,\"arrowwidth\":1},\"geo\":{\"bgcolor\":\"white\",\"landcolor\":\"#E5ECF6\",\"subunitcolor\":\"white\",\"showland\":true,\"showlakes\":true,\"lakecolor\":\"white\"},\"title\":{\"x\":0.05},\"mapbox\":{\"style\":\"light\"}}},\"title\":{\"text\":\"\\u0412\\u043e\\u0440\\u043e\\u043d\\u043a\\u0430 \\u0441\\u043e\\u0431\\u044b\\u0442\\u0438\\u0439\"}},                        {\"responsive\": true}                    ).then(function(){\n",
              "                            \n",
              "var gd = document.getElementById('06212ab4-ff61-42e5-bbc0-f017bb8904e4');\n",
              "var x = new MutationObserver(function (mutations, observer) {{\n",
              "        var display = window.getComputedStyle(gd).display;\n",
              "        if (!display || display === 'none') {{\n",
              "            console.log([gd, 'removed!']);\n",
              "            Plotly.purge(gd);\n",
              "            observer.disconnect();\n",
              "        }}\n",
              "}});\n",
              "\n",
              "// Listen for the removal of the full notebook cells\n",
              "var notebookContainer = gd.closest('#notebook-container');\n",
              "if (notebookContainer) {{\n",
              "    x.observe(notebookContainer, {childList: true});\n",
              "}}\n",
              "\n",
              "// Listen for the clearing of the current output cell\n",
              "var outputEl = gd.closest('.output');\n",
              "if (outputEl) {{\n",
              "    x.observe(outputEl, {childList: true});\n",
              "}}\n",
              "\n",
              "                        })                };                            </script>        </div>\n",
              "</body>\n",
              "</html>"
            ]
          },
          "metadata": {}
        }
      ],
      "source": [
        "# Изобразим воронку событий\n",
        "fig = go.Figure(go.Funnel(y = ['Главный экран', 'Экран со спецпредложениями', 'Корзина', 'Успещная оплата'],\n",
        "                          x = user_counts['user_count'],\n",
        "                          textinfo = 'value + percent previous'\n",
        "                      ))\n",
        "\n",
        "fig.update_layout(title_text = 'Воронка событий')\n",
        "fig.show()"
      ]
    },
    {
      "cell_type": "markdown",
      "metadata": {
        "id": "k2RsHfGBZ1Pe"
      },
      "source": [
        "**Вывод:** \n",
        "- Больше всего теряется пользователей на этапе перехода от главного экрана к экрану со скидками. \n",
        "- До оплаты доходят 47% пользователей. \n",
        "- Стоит изучить причины того, что 38% клиентов отваливаются при просмотре главного экрана и не совершают дальнейший действий и только 50% доходит до оплаты, причины могут быть различные: \n",
        "    * технические, \n",
        "    * кривой UI/UX, \n",
        "    * реклама привлекла нецелевых клиентов - пользователю показаны неинтересные ему товары, стоимость товаров слишком высокая и прочее. "
      ]
    },
    {
      "cell_type": "markdown",
      "metadata": {
        "id": "ND3kYzYWtC0h"
      },
      "source": [
        "## Изучить результаты эксперимента"
      ]
    },
    {
      "cell_type": "markdown",
      "metadata": {
        "id": "FjnBNCJjTkCs"
      },
      "source": [
        "Посчитаем сколько пользователей в каждой экспериментальной группе. "
      ]
    },
    {
      "cell_type": "code",
      "execution_count": null,
      "metadata": {
        "colab": {
          "base_uri": "https://localhost:8080/"
        },
        "id": "4sxj8BlvaKEZ",
        "outputId": "eed3cf81-6da2-4beb-d0b3-0418011bd196"
      },
      "outputs": [
        {
          "output_type": "stream",
          "name": "stdout",
          "text": [
            "   exp_id  user_count\n",
            "0     246        2484\n",
            "1     247        2513\n",
            "2     248        2537\n"
          ]
        },
        {
          "output_type": "execute_result",
          "data": {
            "text/plain": [
              "2484"
            ]
          },
          "metadata": {},
          "execution_count": 20
        }
      ],
      "source": [
        "# Сгруппируем данные по экспериментам и вычислим количество пользователей:\n",
        "exp_counts = df_flt.groupby('exp_id')['device_idhash'].nunique().reset_index()\n",
        "exp_counts.columns = ['exp_id', 'user_count']\n",
        "\n",
        "print(exp_counts)\n",
        "exp_counts.loc[0, 'user_count']"
      ]
    },
    {
      "cell_type": "markdown",
      "metadata": {
        "id": "PHF1-uxVxyhY"
      },
      "source": [
        "**Вывод:** Число пользователей в каждой экспериментальной группе практически одинаковое. "
      ]
    },
    {
      "cell_type": "markdown",
      "metadata": {
        "id": "6r_a18VoqXxB"
      },
      "source": [
        "Посчитаем число пользователей, совершивших каждое событие в каждой из контрольных групп, а также добавим общее число пользователей по каждой группе. "
      ]
    },
    {
      "cell_type": "code",
      "execution_count": null,
      "metadata": {
        "colab": {
          "base_uri": "https://localhost:8080/",
          "height": 206
        },
        "id": "BszAg17fZBj9",
        "outputId": "a63af4a5-d9c0-433b-95fc-294ac884202a"
      },
      "outputs": [
        {
          "output_type": "execute_result",
          "data": {
            "text/plain": [
              "exp_id               event_name   246   247   248\n",
              "0              MainScreenAppear  2450  2476  2493\n",
              "1            OffersScreenAppear  1542  1520  1531\n",
              "2              CartScreenAppear  1266  1238  1230\n",
              "3       PaymentScreenSuccessful  1200  1158  1181\n",
              "4                   Total_users  2483  2512  2535"
            ],
            "text/html": [
              "\n",
              "  <div id=\"df-120513a7-bba5-4904-b85d-733b083e94d4\">\n",
              "    <div class=\"colab-df-container\">\n",
              "      <div>\n",
              "<style scoped>\n",
              "    .dataframe tbody tr th:only-of-type {\n",
              "        vertical-align: middle;\n",
              "    }\n",
              "\n",
              "    .dataframe tbody tr th {\n",
              "        vertical-align: top;\n",
              "    }\n",
              "\n",
              "    .dataframe thead th {\n",
              "        text-align: right;\n",
              "    }\n",
              "</style>\n",
              "<table border=\"1\" class=\"dataframe\">\n",
              "  <thead>\n",
              "    <tr style=\"text-align: right;\">\n",
              "      <th>exp_id</th>\n",
              "      <th>event_name</th>\n",
              "      <th>246</th>\n",
              "      <th>247</th>\n",
              "      <th>248</th>\n",
              "    </tr>\n",
              "  </thead>\n",
              "  <tbody>\n",
              "    <tr>\n",
              "      <th>0</th>\n",
              "      <td>MainScreenAppear</td>\n",
              "      <td>2450</td>\n",
              "      <td>2476</td>\n",
              "      <td>2493</td>\n",
              "    </tr>\n",
              "    <tr>\n",
              "      <th>1</th>\n",
              "      <td>OffersScreenAppear</td>\n",
              "      <td>1542</td>\n",
              "      <td>1520</td>\n",
              "      <td>1531</td>\n",
              "    </tr>\n",
              "    <tr>\n",
              "      <th>2</th>\n",
              "      <td>CartScreenAppear</td>\n",
              "      <td>1266</td>\n",
              "      <td>1238</td>\n",
              "      <td>1230</td>\n",
              "    </tr>\n",
              "    <tr>\n",
              "      <th>3</th>\n",
              "      <td>PaymentScreenSuccessful</td>\n",
              "      <td>1200</td>\n",
              "      <td>1158</td>\n",
              "      <td>1181</td>\n",
              "    </tr>\n",
              "    <tr>\n",
              "      <th>4</th>\n",
              "      <td>Total_users</td>\n",
              "      <td>2483</td>\n",
              "      <td>2512</td>\n",
              "      <td>2535</td>\n",
              "    </tr>\n",
              "  </tbody>\n",
              "</table>\n",
              "</div>\n",
              "      <button class=\"colab-df-convert\" onclick=\"convertToInteractive('df-120513a7-bba5-4904-b85d-733b083e94d4')\"\n",
              "              title=\"Convert this dataframe to an interactive table.\"\n",
              "              style=\"display:none;\">\n",
              "        \n",
              "  <svg xmlns=\"http://www.w3.org/2000/svg\" height=\"24px\"viewBox=\"0 0 24 24\"\n",
              "       width=\"24px\">\n",
              "    <path d=\"M0 0h24v24H0V0z\" fill=\"none\"/>\n",
              "    <path d=\"M18.56 5.44l.94 2.06.94-2.06 2.06-.94-2.06-.94-.94-2.06-.94 2.06-2.06.94zm-11 1L8.5 8.5l.94-2.06 2.06-.94-2.06-.94L8.5 2.5l-.94 2.06-2.06.94zm10 10l.94 2.06.94-2.06 2.06-.94-2.06-.94-.94-2.06-.94 2.06-2.06.94z\"/><path d=\"M17.41 7.96l-1.37-1.37c-.4-.4-.92-.59-1.43-.59-.52 0-1.04.2-1.43.59L10.3 9.45l-7.72 7.72c-.78.78-.78 2.05 0 2.83L4 21.41c.39.39.9.59 1.41.59.51 0 1.02-.2 1.41-.59l7.78-7.78 2.81-2.81c.8-.78.8-2.07 0-2.86zM5.41 20L4 18.59l7.72-7.72 1.47 1.35L5.41 20z\"/>\n",
              "  </svg>\n",
              "      </button>\n",
              "      \n",
              "  <style>\n",
              "    .colab-df-container {\n",
              "      display:flex;\n",
              "      flex-wrap:wrap;\n",
              "      gap: 12px;\n",
              "    }\n",
              "\n",
              "    .colab-df-convert {\n",
              "      background-color: #E8F0FE;\n",
              "      border: none;\n",
              "      border-radius: 50%;\n",
              "      cursor: pointer;\n",
              "      display: none;\n",
              "      fill: #1967D2;\n",
              "      height: 32px;\n",
              "      padding: 0 0 0 0;\n",
              "      width: 32px;\n",
              "    }\n",
              "\n",
              "    .colab-df-convert:hover {\n",
              "      background-color: #E2EBFA;\n",
              "      box-shadow: 0px 1px 2px rgba(60, 64, 67, 0.3), 0px 1px 3px 1px rgba(60, 64, 67, 0.15);\n",
              "      fill: #174EA6;\n",
              "    }\n",
              "\n",
              "    [theme=dark] .colab-df-convert {\n",
              "      background-color: #3B4455;\n",
              "      fill: #D2E3FC;\n",
              "    }\n",
              "\n",
              "    [theme=dark] .colab-df-convert:hover {\n",
              "      background-color: #434B5C;\n",
              "      box-shadow: 0px 1px 3px 1px rgba(0, 0, 0, 0.15);\n",
              "      filter: drop-shadow(0px 1px 2px rgba(0, 0, 0, 0.3));\n",
              "      fill: #FFFFFF;\n",
              "    }\n",
              "  </style>\n",
              "\n",
              "      <script>\n",
              "        const buttonEl =\n",
              "          document.querySelector('#df-120513a7-bba5-4904-b85d-733b083e94d4 button.colab-df-convert');\n",
              "        buttonEl.style.display =\n",
              "          google.colab.kernel.accessAllowed ? 'block' : 'none';\n",
              "\n",
              "        async function convertToInteractive(key) {\n",
              "          const element = document.querySelector('#df-120513a7-bba5-4904-b85d-733b083e94d4');\n",
              "          const dataTable =\n",
              "            await google.colab.kernel.invokeFunction('convertToInteractive',\n",
              "                                                     [key], {});\n",
              "          if (!dataTable) return;\n",
              "\n",
              "          const docLinkHtml = 'Like what you see? Visit the ' +\n",
              "            '<a target=\"_blank\" href=https://colab.research.google.com/notebooks/data_table.ipynb>data table notebook</a>'\n",
              "            + ' to learn more about interactive tables.';\n",
              "          element.innerHTML = '';\n",
              "          dataTable['output_type'] = 'display_data';\n",
              "          await google.colab.output.renderOutput(dataTable, element);\n",
              "          const docLink = document.createElement('div');\n",
              "          docLink.innerHTML = docLinkHtml;\n",
              "          element.appendChild(docLink);\n",
              "        }\n",
              "      </script>\n",
              "    </div>\n",
              "  </div>\n",
              "  "
            ]
          },
          "metadata": {},
          "execution_count": 21
        }
      ],
      "source": [
        "# Создадим сводную таблицу, рассчитав количество пользователей по группам и событиям\n",
        "users_exp = (df_flt[df_flt['event_name'] != 'Tutorial']\n",
        "                   .pivot_table(index='event_name', columns = 'exp_id', \n",
        "                                values = 'device_idhash', aggfunc = 'nunique', \n",
        "                                margins=True, margins_name='Total_users')\n",
        "                   .sort_values(by=246, ascending = False)\n",
        "                   .reset_index())\n",
        "\n",
        "users_exp = users_exp.drop('Total_users', axis=1)\n",
        "users_exp = users_exp.loc[users_exp.index != 0].append(users_exp.loc[0]).reset_index(drop=True)\n",
        "users_exp"
      ]
    },
    {
      "cell_type": "code",
      "execution_count": null,
      "metadata": {
        "colab": {
          "base_uri": "https://localhost:8080/",
          "height": 238
        },
        "id": "0c2wB9X2f022",
        "outputId": "b6791c27-206e-41ae-8e7a-49fa03aa45cc"
      },
      "outputs": [
        {
          "output_type": "execute_result",
          "data": {
            "text/plain": [
              "exp_id                    246   247   248  246+247\n",
              "event_name                                        \n",
              "MainScreenAppear         2450  2476  2493     4926\n",
              "OffersScreenAppear       1542  1520  1531     3062\n",
              "CartScreenAppear         1266  1238  1230     2504\n",
              "PaymentScreenSuccessful  1200  1158  1181     2358\n",
              "Total_users              2483  2512  2535     4995"
            ],
            "text/html": [
              "\n",
              "  <div id=\"df-0395b607-4c22-4f19-9314-a0a9fe5d865f\">\n",
              "    <div class=\"colab-df-container\">\n",
              "      <div>\n",
              "<style scoped>\n",
              "    .dataframe tbody tr th:only-of-type {\n",
              "        vertical-align: middle;\n",
              "    }\n",
              "\n",
              "    .dataframe tbody tr th {\n",
              "        vertical-align: top;\n",
              "    }\n",
              "\n",
              "    .dataframe thead th {\n",
              "        text-align: right;\n",
              "    }\n",
              "</style>\n",
              "<table border=\"1\" class=\"dataframe\">\n",
              "  <thead>\n",
              "    <tr style=\"text-align: right;\">\n",
              "      <th>exp_id</th>\n",
              "      <th>246</th>\n",
              "      <th>247</th>\n",
              "      <th>248</th>\n",
              "      <th>246+247</th>\n",
              "    </tr>\n",
              "    <tr>\n",
              "      <th>event_name</th>\n",
              "      <th></th>\n",
              "      <th></th>\n",
              "      <th></th>\n",
              "      <th></th>\n",
              "    </tr>\n",
              "  </thead>\n",
              "  <tbody>\n",
              "    <tr>\n",
              "      <th>MainScreenAppear</th>\n",
              "      <td>2450</td>\n",
              "      <td>2476</td>\n",
              "      <td>2493</td>\n",
              "      <td>4926</td>\n",
              "    </tr>\n",
              "    <tr>\n",
              "      <th>OffersScreenAppear</th>\n",
              "      <td>1542</td>\n",
              "      <td>1520</td>\n",
              "      <td>1531</td>\n",
              "      <td>3062</td>\n",
              "    </tr>\n",
              "    <tr>\n",
              "      <th>CartScreenAppear</th>\n",
              "      <td>1266</td>\n",
              "      <td>1238</td>\n",
              "      <td>1230</td>\n",
              "      <td>2504</td>\n",
              "    </tr>\n",
              "    <tr>\n",
              "      <th>PaymentScreenSuccessful</th>\n",
              "      <td>1200</td>\n",
              "      <td>1158</td>\n",
              "      <td>1181</td>\n",
              "      <td>2358</td>\n",
              "    </tr>\n",
              "    <tr>\n",
              "      <th>Total_users</th>\n",
              "      <td>2483</td>\n",
              "      <td>2512</td>\n",
              "      <td>2535</td>\n",
              "      <td>4995</td>\n",
              "    </tr>\n",
              "  </tbody>\n",
              "</table>\n",
              "</div>\n",
              "      <button class=\"colab-df-convert\" onclick=\"convertToInteractive('df-0395b607-4c22-4f19-9314-a0a9fe5d865f')\"\n",
              "              title=\"Convert this dataframe to an interactive table.\"\n",
              "              style=\"display:none;\">\n",
              "        \n",
              "  <svg xmlns=\"http://www.w3.org/2000/svg\" height=\"24px\"viewBox=\"0 0 24 24\"\n",
              "       width=\"24px\">\n",
              "    <path d=\"M0 0h24v24H0V0z\" fill=\"none\"/>\n",
              "    <path d=\"M18.56 5.44l.94 2.06.94-2.06 2.06-.94-2.06-.94-.94-2.06-.94 2.06-2.06.94zm-11 1L8.5 8.5l.94-2.06 2.06-.94-2.06-.94L8.5 2.5l-.94 2.06-2.06.94zm10 10l.94 2.06.94-2.06 2.06-.94-2.06-.94-.94-2.06-.94 2.06-2.06.94z\"/><path d=\"M17.41 7.96l-1.37-1.37c-.4-.4-.92-.59-1.43-.59-.52 0-1.04.2-1.43.59L10.3 9.45l-7.72 7.72c-.78.78-.78 2.05 0 2.83L4 21.41c.39.39.9.59 1.41.59.51 0 1.02-.2 1.41-.59l7.78-7.78 2.81-2.81c.8-.78.8-2.07 0-2.86zM5.41 20L4 18.59l7.72-7.72 1.47 1.35L5.41 20z\"/>\n",
              "  </svg>\n",
              "      </button>\n",
              "      \n",
              "  <style>\n",
              "    .colab-df-container {\n",
              "      display:flex;\n",
              "      flex-wrap:wrap;\n",
              "      gap: 12px;\n",
              "    }\n",
              "\n",
              "    .colab-df-convert {\n",
              "      background-color: #E8F0FE;\n",
              "      border: none;\n",
              "      border-radius: 50%;\n",
              "      cursor: pointer;\n",
              "      display: none;\n",
              "      fill: #1967D2;\n",
              "      height: 32px;\n",
              "      padding: 0 0 0 0;\n",
              "      width: 32px;\n",
              "    }\n",
              "\n",
              "    .colab-df-convert:hover {\n",
              "      background-color: #E2EBFA;\n",
              "      box-shadow: 0px 1px 2px rgba(60, 64, 67, 0.3), 0px 1px 3px 1px rgba(60, 64, 67, 0.15);\n",
              "      fill: #174EA6;\n",
              "    }\n",
              "\n",
              "    [theme=dark] .colab-df-convert {\n",
              "      background-color: #3B4455;\n",
              "      fill: #D2E3FC;\n",
              "    }\n",
              "\n",
              "    [theme=dark] .colab-df-convert:hover {\n",
              "      background-color: #434B5C;\n",
              "      box-shadow: 0px 1px 3px 1px rgba(0, 0, 0, 0.15);\n",
              "      filter: drop-shadow(0px 1px 2px rgba(0, 0, 0, 0.3));\n",
              "      fill: #FFFFFF;\n",
              "    }\n",
              "  </style>\n",
              "\n",
              "      <script>\n",
              "        const buttonEl =\n",
              "          document.querySelector('#df-0395b607-4c22-4f19-9314-a0a9fe5d865f button.colab-df-convert');\n",
              "        buttonEl.style.display =\n",
              "          google.colab.kernel.accessAllowed ? 'block' : 'none';\n",
              "\n",
              "        async function convertToInteractive(key) {\n",
              "          const element = document.querySelector('#df-0395b607-4c22-4f19-9314-a0a9fe5d865f');\n",
              "          const dataTable =\n",
              "            await google.colab.kernel.invokeFunction('convertToInteractive',\n",
              "                                                     [key], {});\n",
              "          if (!dataTable) return;\n",
              "\n",
              "          const docLinkHtml = 'Like what you see? Visit the ' +\n",
              "            '<a target=\"_blank\" href=https://colab.research.google.com/notebooks/data_table.ipynb>data table notebook</a>'\n",
              "            + ' to learn more about interactive tables.';\n",
              "          element.innerHTML = '';\n",
              "          dataTable['output_type'] = 'display_data';\n",
              "          await google.colab.output.renderOutput(dataTable, element);\n",
              "          const docLink = document.createElement('div');\n",
              "          docLink.innerHTML = docLinkHtml;\n",
              "          element.appendChild(docLink);\n",
              "        }\n",
              "      </script>\n",
              "    </div>\n",
              "  </div>\n",
              "  "
            ]
          },
          "metadata": {},
          "execution_count": 22
        }
      ],
      "source": [
        "#  добавим столбец с объединенной контрольной группой\n",
        "users_exp['246+247'] = users_exp[246] + users_exp[247]\n",
        "users_exp.set_index('event_name', inplace=True)\n",
        "users_exp"
      ]
    },
    {
      "cell_type": "code",
      "execution_count": null,
      "metadata": {
        "id": "5enhQrqkrtMM"
      },
      "outputs": [],
      "source": [
        "# Создадим функцию для проверки отличия между группами через z-test\n",
        "def z_test(group1, group2, event_name, alpha):\n",
        "    # количество пользователей при событии\n",
        "    g_users_1 = users_exp.loc[event_name, group1]\n",
        "    g_users_2 = users_exp.loc[event_name, group2] \n",
        "    # общее количество пользователей\n",
        "    t_users_1 = users_exp.loc['Total_users', group1] \n",
        "    t_users_2 = users_exp.loc['Total_users', group2] \n",
        "    \n",
        "    p1 = g_users_1 / t_users_1\n",
        "    p2 = g_users_2 / t_users_2\n",
        "\n",
        "    p_combined = (g_users_1 + g_users_2) / (t_users_1 + t_users_2)\n",
        "    difference = p1 - p2 \n",
        "\n",
        "    z_value = difference / np.sqrt(p_combined * (1 - p_combined) * (1/t_users_1 + 1/t_users_2))\n",
        "\n",
        "    distr = st.norm(0, 1)\n",
        "\n",
        "    p_value = (1 - distr.cdf(abs(z_value))) * 2\n",
        "\n",
        "    print('Событие:', event_name)\n",
        "    print('p-значение: ', '{0:.2%}'.format(p_value))\n",
        "\n",
        "    if p_value < alpha:\n",
        "        print('Отвергаем нулевую гипотезу: между долями есть значимая разница')\n",
        "    else:\n",
        "        print('Не получилось отвергнуть нулевую гипотезу, нет оснований считать доли разными')"
      ]
    },
    {
      "cell_type": "markdown",
      "metadata": {
        "id": "44TLKsnltZmW"
      },
      "source": [
        "Есть 2 контрольные группы для А/А-эксперимента, чтобы проверить корректность всех механизмов и расчётов. Проверим, находят ли статистические критерии разницу между выборками 246 и 247. Выберем самое популярное событие. Посчитаем число пользователей, совершивших это событие в каждой из контрольных групп. Посчитаем долю пользователей, совершивших это событие. Проверим, будет ли отличие между группами статистически достоверным. "
      ]
    },
    {
      "cell_type": "markdown",
      "metadata": {
        "id": "zlVPrCzLW6Zv"
      },
      "source": [
        "Посчитаем статистическую значимость различий между выборками 246, 247, 246+247 и 248.\n",
        "\n",
        "Сформулируем гипотезы: \n",
        "- Нулевая: доли уникальных посетителей, побывавших на этапе воронки, одинаковы. \n",
        "- Альтернативная: между долями уникальных посетителей, побывавших на этапе воронки, есть значимая разница.\n",
        "\n",
        "Значение alpha - 0.05. Предлагается выбрать 0.05, тк несмотря на большие размеры долей выборок, у нас большое количество проверок - 16, что увеличит вероятность ошибки первого рода.\n",
        "\n",
        "Метод проверки гипотез: Z-тест."
      ]
    },
    {
      "cell_type": "code",
      "execution_count": null,
      "metadata": {
        "colab": {
          "base_uri": "https://localhost:8080/"
        },
        "id": "wTI5VU7UvhPt",
        "outputId": "1d4f73a3-36fc-4265-b995-9453534e091a"
      },
      "outputs": [
        {
          "output_type": "stream",
          "name": "stdout",
          "text": [
            "Событие: MainScreenAppear\n",
            "p-значение:  75.27%\n",
            "Не получилось отвергнуть нулевую гипотезу, нет оснований считать доли разными\n",
            "\n",
            "Событие: OffersScreenAppear\n",
            "p-значение:  24.79%\n",
            "Не получилось отвергнуть нулевую гипотезу, нет оснований считать доли разными\n",
            "\n",
            "Событие: CartScreenAppear\n",
            "p-значение:  22.87%\n",
            "Не получилось отвергнуть нулевую гипотезу, нет оснований считать доли разными\n",
            "\n",
            "Событие: PaymentScreenSuccessful\n",
            "p-значение:  11.45%\n",
            "Не получилось отвергнуть нулевую гипотезу, нет оснований считать доли разными\n",
            "\n"
          ]
        }
      ],
      "source": [
        "# сделаем список из событий и прогоним функцию по экпериментам 246 и 247\n",
        "list = user_counts['event_name'].values.tolist()\n",
        "\n",
        "for i in list:\n",
        "  z_test(246, 247, i, 0.05)\n",
        "  print()"
      ]
    },
    {
      "cell_type": "markdown",
      "metadata": {
        "id": "71dg_gJ1wGbW"
      },
      "source": [
        "**Вывод:** \n",
        "- Статистические критерии не нашли разницу между выборками 246 и 247 по событиям. \n",
        "- Разбиение на группы было сделано корректно. Можно быть уверененным в точности проведенного тестирования."
      ]
    },
    {
      "cell_type": "markdown",
      "metadata": {
        "id": "Bttgn2dQu8mH"
      },
      "source": [
        "Аналогично поступим с группой с изменённым шрифтом. Сравним результаты с каждой из контрольных групп в отдельности по каждому событию. Сравним результаты с объединённой контрольной группой. Какие выводы из эксперимента можно сделать?"
      ]
    },
    {
      "cell_type": "code",
      "execution_count": null,
      "metadata": {
        "colab": {
          "base_uri": "https://localhost:8080/"
        },
        "id": "8bbdIwMtwWBi",
        "outputId": "35642572-0472-425e-a21b-639b7fcc346f"
      },
      "outputs": [
        {
          "output_type": "stream",
          "name": "stdout",
          "text": [
            "Событие: MainScreenAppear\n",
            "p-значение:  33.87%\n",
            "Не получилось отвергнуть нулевую гипотезу, нет оснований считать доли разными\n",
            "\n",
            "Событие: OffersScreenAppear\n",
            "p-значение:  21.44%\n",
            "Не получилось отвергнуть нулевую гипотезу, нет оснований считать доли разными\n",
            "\n",
            "Событие: CartScreenAppear\n",
            "p-значение:  8.07%\n",
            "Не получилось отвергнуть нулевую гипотезу, нет оснований считать доли разными\n",
            "\n",
            "Событие: PaymentScreenSuccessful\n",
            "p-значение:  21.69%\n",
            "Не получилось отвергнуть нулевую гипотезу, нет оснований считать доли разными\n",
            "\n"
          ]
        }
      ],
      "source": [
        "# прогоним функцию по экпериментам 246 и 248\n",
        "for i in list:\n",
        "  z_test(246, 248, i, 0.05)\n",
        "  print()"
      ]
    },
    {
      "cell_type": "markdown",
      "metadata": {
        "id": "i2XnaC2vwxtp"
      },
      "source": [
        "**Вывод:** Статистические критерии не нашли разницу между контрольной выборкой 246 и группой с измененным шрифтом 248. "
      ]
    },
    {
      "cell_type": "code",
      "execution_count": null,
      "metadata": {
        "colab": {
          "base_uri": "https://localhost:8080/"
        },
        "id": "u8JJppSPwqJT",
        "outputId": "8c3390fd-255f-40e4-f6ec-d60ea7550d63"
      },
      "outputs": [
        {
          "output_type": "stream",
          "name": "stdout",
          "text": [
            "Событие: MainScreenAppear\n",
            "p-значение:  51.95%\n",
            "Не получилось отвергнуть нулевую гипотезу, нет оснований считать доли разными\n",
            "\n",
            "Событие: OffersScreenAppear\n",
            "p-значение:  93.34%\n",
            "Не получилось отвергнуть нулевую гипотезу, нет оснований считать доли разными\n",
            "\n",
            "Событие: CartScreenAppear\n",
            "p-значение:  58.78%\n",
            "Не получилось отвергнуть нулевую гипотезу, нет оснований считать доли разными\n",
            "\n",
            "Событие: PaymentScreenSuccessful\n",
            "p-значение:  72.76%\n",
            "Не получилось отвергнуть нулевую гипотезу, нет оснований считать доли разными\n",
            "\n"
          ]
        }
      ],
      "source": [
        "# прогоним функцию по экпериментам 247 и 248\n",
        "for i in list:\n",
        "  z_test(247, 248, i, 0.05)\n",
        "  print()"
      ]
    },
    {
      "cell_type": "markdown",
      "metadata": {
        "id": "6l2phdFgxBbM"
      },
      "source": [
        "**Вывод:** Статистические критерии не нашли разницу между контрольной выборкой 247 и группой с измененным шрифтом 248. "
      ]
    },
    {
      "cell_type": "code",
      "execution_count": null,
      "metadata": {
        "colab": {
          "base_uri": "https://localhost:8080/"
        },
        "id": "B71o4FxsxstQ",
        "outputId": "cd15dded-66c9-4959-d83b-8a6fcf23b82d"
      },
      "outputs": [
        {
          "output_type": "stream",
          "name": "stdout",
          "text": [
            "Событие: MainScreenAppear\n",
            "p-значение:  34.87%\n",
            "Не получилось отвергнуть нулевую гипотезу, нет оснований считать доли разными\n",
            "\n",
            "Событие: OffersScreenAppear\n",
            "p-значение:  44.58%\n",
            "Не получилось отвергнуть нулевую гипотезу, нет оснований считать доли разными\n",
            "\n",
            "Событие: CartScreenAppear\n",
            "p-значение:  18.68%\n",
            "Не получилось отвергнуть нулевую гипотезу, нет оснований считать доли разными\n",
            "\n",
            "Событие: PaymentScreenSuccessful\n",
            "p-значение:  61.08%\n",
            "Не получилось отвергнуть нулевую гипотезу, нет оснований считать доли разными\n",
            "\n"
          ]
        }
      ],
      "source": [
        "# прогоним функцию по экпериментам 246+247 и 248\n",
        "for i in list:\n",
        "  z_test('246+247', 248, i, 0.05)\n",
        "  print()"
      ]
    },
    {
      "cell_type": "markdown",
      "metadata": {
        "id": "BF95isvnxudf"
      },
      "source": [
        "**Вывод:** \n",
        "- Статистические критерии не нашли разницу между объединенной контрольной выборкой 246+247 и группой с измененным шрифтом 248.\n",
        "- Было проведено 16 тестов, все тесты не показали статистически значимой разницы между данными.\n",
        "- При множественном сравнении существует проблема роста ошибки первого рода, при множественной проверке растет риск ложноположительного результата. Однако уменьшение значения альфа здесь не имеет смысла, так как это не изменит результаты."
      ]
    },
    {
      "cell_type": "markdown",
      "metadata": {
        "id": "PtIEL66RxIiZ"
      },
      "source": [
        "**Выводы:**\n",
        "- За основу были взяты данные за август 2019. Данные за июль были отброшены, тк тест был запущен 1-го августа, а предыдущие события - это старые логи, которые \"доехали\" в выборку.\n",
        "- Изучение данных и воронки событий выявило, что только 62% пользователей переходят от главного экрана на экран с товаром. Требуется провести дополнительный анализ отказа клиентов от дальнейших действий.\n",
        "- Событие Tutorial, мы отбросили, тк оно не имеет значимость в воронке событий. \n",
        "- До оплаты товара доходит только 50% пользователей, что требует также дополнительного анализа. \n",
        "- Оценка контрольных групп 246 и 247 показала, что различий между выборками нет - разбиение на группы было сделано корректно, можно быть уверененным в точности проведенного тестирования.\n",
        "- Результаты теста говорят, что между контрольными выборками 246 и 247 и выборкой 248 с новым шрифтом нет отличий, соотвественно менеджеры могут быть спокойны в плане изменений. \n",
        "\n",
        "**Рекомендации:**\n",
        "- Провести дополнительный анализ, почему 38% пользователей не переходят с главного экрана на экран с товарами и почему только 50% доходят до оплаты. "
      ]
    }
  ],
  "metadata": {
    "ExecuteTimeLog": [
      {
        "duration": 1357,
        "start_time": "2023-04-01T19:32:52.045Z"
      },
      {
        "duration": 757,
        "start_time": "2023-04-01T19:32:53.404Z"
      },
      {
        "duration": 3,
        "start_time": "2023-04-01T19:32:54.163Z"
      },
      {
        "duration": 162,
        "start_time": "2023-04-01T19:32:54.168Z"
      },
      {
        "duration": 6,
        "start_time": "2023-04-01T19:32:54.332Z"
      },
      {
        "duration": 136,
        "start_time": "2023-04-01T19:32:54.339Z"
      },
      {
        "duration": 775,
        "start_time": "2023-04-01T19:32:54.476Z"
      },
      {
        "duration": 90,
        "start_time": "2023-04-01T19:32:55.253Z"
      },
      {
        "duration": 6,
        "start_time": "2023-04-01T19:32:55.345Z"
      },
      {
        "duration": 274,
        "start_time": "2023-04-01T19:32:55.352Z"
      },
      {
        "duration": 175,
        "start_time": "2023-04-01T19:32:55.628Z"
      },
      {
        "duration": 29,
        "start_time": "2023-04-01T19:32:55.804Z"
      },
      {
        "duration": 35,
        "start_time": "2023-04-01T19:32:55.835Z"
      },
      {
        "duration": 53,
        "start_time": "2023-04-01T19:32:55.872Z"
      },
      {
        "duration": 9,
        "start_time": "2023-04-01T19:32:55.926Z"
      },
      {
        "duration": 459,
        "start_time": "2023-04-01T19:32:55.936Z"
      },
      {
        "duration": 35,
        "start_time": "2023-04-01T19:32:56.397Z"
      },
      {
        "duration": 118,
        "start_time": "2023-04-01T19:32:56.433Z"
      },
      {
        "duration": 16,
        "start_time": "2023-04-01T19:32:56.553Z"
      },
      {
        "duration": 13,
        "start_time": "2023-04-01T19:32:56.570Z"
      },
      {
        "duration": 11,
        "start_time": "2023-04-01T19:32:56.584Z"
      },
      {
        "duration": 13,
        "start_time": "2023-04-01T19:32:56.597Z"
      },
      {
        "duration": 13,
        "start_time": "2023-04-01T19:32:56.611Z"
      },
      {
        "duration": 9,
        "start_time": "2023-04-01T19:32:56.625Z"
      },
      {
        "duration": 8,
        "start_time": "2023-04-01T19:32:56.635Z"
      },
      {
        "duration": 30,
        "start_time": "2023-04-01T19:32:56.645Z"
      },
      {
        "duration": 619,
        "start_time": "2023-04-01T19:44:25.546Z"
      },
      {
        "duration": 1487,
        "start_time": "2023-04-02T07:14:43.935Z"
      },
      {
        "duration": 703,
        "start_time": "2023-04-02T07:14:45.425Z"
      },
      {
        "duration": 4,
        "start_time": "2023-04-02T07:14:46.129Z"
      },
      {
        "duration": 190,
        "start_time": "2023-04-02T07:14:46.134Z"
      },
      {
        "duration": 5,
        "start_time": "2023-04-02T07:14:46.326Z"
      },
      {
        "duration": 166,
        "start_time": "2023-04-02T07:14:46.333Z"
      },
      {
        "duration": 6,
        "start_time": "2023-04-02T07:19:12.100Z"
      },
      {
        "duration": 251,
        "start_time": "2023-04-02T07:19:12.113Z"
      },
      {
        "duration": 4,
        "start_time": "2023-04-02T07:19:12.366Z"
      },
      {
        "duration": 153,
        "start_time": "2023-04-02T07:19:12.372Z"
      },
      {
        "duration": 5,
        "start_time": "2023-04-02T07:19:12.528Z"
      },
      {
        "duration": 136,
        "start_time": "2023-04-02T07:19:12.535Z"
      },
      {
        "duration": 1011,
        "start_time": "2023-04-02T07:19:12.673Z"
      },
      {
        "duration": 113,
        "start_time": "2023-04-02T07:19:13.685Z"
      },
      {
        "duration": 8,
        "start_time": "2023-04-02T07:19:13.810Z"
      },
      {
        "duration": 300,
        "start_time": "2023-04-02T07:19:13.822Z"
      },
      {
        "duration": 739,
        "start_time": "2023-04-02T07:19:14.124Z"
      },
      {
        "duration": 211,
        "start_time": "2023-04-02T07:19:14.865Z"
      },
      {
        "duration": 55,
        "start_time": "2023-04-02T07:19:15.088Z"
      },
      {
        "duration": 61,
        "start_time": "2023-04-02T07:19:15.146Z"
      },
      {
        "duration": 67,
        "start_time": "2023-04-02T07:19:15.209Z"
      },
      {
        "duration": 22,
        "start_time": "2023-04-02T07:19:15.277Z"
      },
      {
        "duration": 221,
        "start_time": "2023-04-02T07:19:15.302Z"
      },
      {
        "duration": 96,
        "start_time": "2023-04-02T07:19:15.525Z"
      },
      {
        "duration": 168,
        "start_time": "2023-04-02T07:19:15.623Z"
      },
      {
        "duration": 16,
        "start_time": "2023-04-02T07:19:15.796Z"
      },
      {
        "duration": 31,
        "start_time": "2023-04-02T07:19:15.817Z"
      },
      {
        "duration": 13,
        "start_time": "2023-04-02T07:19:15.850Z"
      },
      {
        "duration": 9,
        "start_time": "2023-04-02T07:19:15.864Z"
      },
      {
        "duration": 14,
        "start_time": "2023-04-02T07:19:15.875Z"
      },
      {
        "duration": 31,
        "start_time": "2023-04-02T07:19:15.898Z"
      },
      {
        "duration": 16,
        "start_time": "2023-04-02T07:19:15.931Z"
      },
      {
        "duration": 12,
        "start_time": "2023-04-02T07:19:15.949Z"
      },
      {
        "duration": 132,
        "start_time": "2023-04-02T07:26:31.372Z"
      },
      {
        "duration": 5,
        "start_time": "2023-04-02T07:26:39.421Z"
      },
      {
        "duration": 53,
        "start_time": "2023-04-02T08:06:36.914Z"
      },
      {
        "duration": 71,
        "start_time": "2023-04-02T08:07:21.823Z"
      },
      {
        "duration": 68,
        "start_time": "2023-04-02T08:08:16.227Z"
      },
      {
        "duration": 61,
        "start_time": "2023-04-02T08:19:59.975Z"
      },
      {
        "duration": 15,
        "start_time": "2023-04-02T08:20:38.247Z"
      },
      {
        "duration": 1360,
        "start_time": "2023-04-02T08:20:46.087Z"
      },
      {
        "duration": 11,
        "start_time": "2023-04-02T08:20:53.907Z"
      },
      {
        "duration": 89,
        "start_time": "2023-04-02T08:21:07.094Z"
      },
      {
        "duration": 18,
        "start_time": "2023-04-02T08:21:14.642Z"
      },
      {
        "duration": 13,
        "start_time": "2023-04-02T08:21:22.052Z"
      },
      {
        "duration": 12,
        "start_time": "2023-04-02T08:21:26.343Z"
      },
      {
        "duration": 26,
        "start_time": "2023-04-02T08:25:33.582Z"
      },
      {
        "duration": 27,
        "start_time": "2023-04-02T08:25:49.162Z"
      },
      {
        "duration": 27,
        "start_time": "2023-04-02T08:26:14.586Z"
      },
      {
        "duration": 604,
        "start_time": "2023-04-02T08:27:00.721Z"
      },
      {
        "duration": 714,
        "start_time": "2023-04-02T08:30:15.023Z"
      },
      {
        "duration": 72,
        "start_time": "2023-04-02T08:31:46.751Z"
      },
      {
        "duration": 88,
        "start_time": "2023-04-02T08:35:44.290Z"
      },
      {
        "duration": 88,
        "start_time": "2023-04-02T08:38:43.017Z"
      },
      {
        "duration": 55,
        "start_time": "2023-04-02T09:26:28.620Z"
      },
      {
        "duration": 98,
        "start_time": "2023-04-02T09:27:30.361Z"
      },
      {
        "duration": 149,
        "start_time": "2023-04-02T09:33:27.911Z"
      },
      {
        "duration": 1445,
        "start_time": "2023-04-02T09:33:47.427Z"
      },
      {
        "duration": 66,
        "start_time": "2023-04-02T09:33:57.642Z"
      },
      {
        "duration": 247,
        "start_time": "2023-04-02T09:44:04.211Z"
      },
      {
        "duration": 1195,
        "start_time": "2023-04-02T10:05:48.347Z"
      },
      {
        "duration": 225,
        "start_time": "2023-04-02T10:05:49.544Z"
      },
      {
        "duration": 4,
        "start_time": "2023-04-02T10:05:49.771Z"
      },
      {
        "duration": 190,
        "start_time": "2023-04-02T10:05:49.777Z"
      },
      {
        "duration": 6,
        "start_time": "2023-04-02T10:05:49.969Z"
      },
      {
        "duration": 173,
        "start_time": "2023-04-02T10:05:49.976Z"
      },
      {
        "duration": 962,
        "start_time": "2023-04-02T10:05:50.150Z"
      },
      {
        "duration": 4,
        "start_time": "2023-04-02T10:05:51.114Z"
      },
      {
        "duration": 118,
        "start_time": "2023-04-02T10:05:51.120Z"
      },
      {
        "duration": 29,
        "start_time": "2023-04-02T10:05:51.241Z"
      },
      {
        "duration": 18,
        "start_time": "2023-04-02T10:05:51.272Z"
      },
      {
        "duration": 801,
        "start_time": "2023-04-02T10:05:51.292Z"
      },
      {
        "duration": 637,
        "start_time": "2023-04-02T10:05:52.095Z"
      },
      {
        "duration": 679,
        "start_time": "2023-04-02T10:05:52.734Z"
      },
      {
        "duration": 149,
        "start_time": "2023-04-02T10:05:53.415Z"
      },
      {
        "duration": 0,
        "start_time": "2023-04-02T10:05:53.566Z"
      },
      {
        "duration": 0,
        "start_time": "2023-04-02T10:05:53.568Z"
      },
      {
        "duration": 0,
        "start_time": "2023-04-02T10:05:53.570Z"
      },
      {
        "duration": 1,
        "start_time": "2023-04-02T10:05:53.571Z"
      },
      {
        "duration": 0,
        "start_time": "2023-04-02T10:05:53.573Z"
      },
      {
        "duration": 0,
        "start_time": "2023-04-02T10:05:53.588Z"
      },
      {
        "duration": 5,
        "start_time": "2023-04-02T10:06:03.704Z"
      },
      {
        "duration": 262,
        "start_time": "2023-04-02T10:06:03.711Z"
      },
      {
        "duration": 4,
        "start_time": "2023-04-02T10:06:03.975Z"
      },
      {
        "duration": 157,
        "start_time": "2023-04-02T10:06:03.981Z"
      },
      {
        "duration": 6,
        "start_time": "2023-04-02T10:06:04.140Z"
      },
      {
        "duration": 145,
        "start_time": "2023-04-02T10:06:04.148Z"
      },
      {
        "duration": 1142,
        "start_time": "2023-04-02T10:06:04.295Z"
      },
      {
        "duration": 4,
        "start_time": "2023-04-02T10:06:05.439Z"
      },
      {
        "duration": 93,
        "start_time": "2023-04-02T10:06:05.445Z"
      },
      {
        "duration": 26,
        "start_time": "2023-04-02T10:06:05.540Z"
      },
      {
        "duration": 27,
        "start_time": "2023-04-02T10:06:05.568Z"
      },
      {
        "duration": 681,
        "start_time": "2023-04-02T10:06:05.597Z"
      },
      {
        "duration": 808,
        "start_time": "2023-04-02T10:06:06.280Z"
      },
      {
        "duration": 688,
        "start_time": "2023-04-02T10:06:07.093Z"
      },
      {
        "duration": 49,
        "start_time": "2023-04-02T10:06:07.783Z"
      },
      {
        "duration": 0,
        "start_time": "2023-04-02T10:06:07.834Z"
      },
      {
        "duration": 0,
        "start_time": "2023-04-02T10:06:07.835Z"
      },
      {
        "duration": 0,
        "start_time": "2023-04-02T10:06:07.836Z"
      },
      {
        "duration": 0,
        "start_time": "2023-04-02T10:06:07.837Z"
      },
      {
        "duration": 0,
        "start_time": "2023-04-02T10:06:07.838Z"
      },
      {
        "duration": 144,
        "start_time": "2023-04-02T10:06:46.110Z"
      },
      {
        "duration": 29,
        "start_time": "2023-04-02T10:06:49.353Z"
      },
      {
        "duration": 68,
        "start_time": "2023-04-02T10:06:51.467Z"
      },
      {
        "duration": 11,
        "start_time": "2023-04-02T10:06:55.860Z"
      },
      {
        "duration": 182,
        "start_time": "2023-04-02T10:07:00.303Z"
      },
      {
        "duration": 33,
        "start_time": "2023-04-02T10:07:03.301Z"
      },
      {
        "duration": 137,
        "start_time": "2023-04-02T10:07:05.708Z"
      },
      {
        "duration": 248,
        "start_time": "2023-04-02T10:08:02.310Z"
      },
      {
        "duration": 250,
        "start_time": "2023-04-02T10:09:07.311Z"
      },
      {
        "duration": 248,
        "start_time": "2023-04-02T10:09:29.728Z"
      },
      {
        "duration": 9,
        "start_time": "2023-04-02T10:09:51.699Z"
      },
      {
        "duration": 6,
        "start_time": "2023-04-02T10:10:07.533Z"
      },
      {
        "duration": 16,
        "start_time": "2023-04-02T10:10:07.542Z"
      },
      {
        "duration": 11,
        "start_time": "2023-04-02T10:10:07.559Z"
      },
      {
        "duration": 26,
        "start_time": "2023-04-02T10:10:07.572Z"
      },
      {
        "duration": 20,
        "start_time": "2023-04-02T10:10:07.601Z"
      },
      {
        "duration": 13,
        "start_time": "2023-04-02T10:10:07.622Z"
      },
      {
        "duration": 1262,
        "start_time": "2023-04-02T10:12:42.284Z"
      },
      {
        "duration": 218,
        "start_time": "2023-04-02T10:12:43.548Z"
      },
      {
        "duration": 5,
        "start_time": "2023-04-02T10:12:43.767Z"
      },
      {
        "duration": 191,
        "start_time": "2023-04-02T10:12:43.773Z"
      },
      {
        "duration": 6,
        "start_time": "2023-04-02T10:12:43.967Z"
      },
      {
        "duration": 161,
        "start_time": "2023-04-02T10:12:43.989Z"
      },
      {
        "duration": 942,
        "start_time": "2023-04-02T10:12:44.152Z"
      },
      {
        "duration": 8,
        "start_time": "2023-04-02T10:12:45.097Z"
      },
      {
        "duration": 89,
        "start_time": "2023-04-02T10:12:45.108Z"
      },
      {
        "duration": 33,
        "start_time": "2023-04-02T10:12:45.199Z"
      },
      {
        "duration": 6,
        "start_time": "2023-04-02T10:12:45.234Z"
      },
      {
        "duration": 839,
        "start_time": "2023-04-02T10:12:45.242Z"
      },
      {
        "duration": 668,
        "start_time": "2023-04-02T10:12:46.083Z"
      },
      {
        "duration": 718,
        "start_time": "2023-04-02T10:12:46.754Z"
      },
      {
        "duration": 159,
        "start_time": "2023-04-02T10:12:47.474Z"
      },
      {
        "duration": 28,
        "start_time": "2023-04-02T10:12:47.635Z"
      },
      {
        "duration": 197,
        "start_time": "2023-04-02T10:12:47.665Z"
      },
      {
        "duration": 9,
        "start_time": "2023-04-02T10:12:47.864Z"
      },
      {
        "duration": 178,
        "start_time": "2023-04-02T10:12:47.888Z"
      },
      {
        "duration": 57,
        "start_time": "2023-04-02T10:12:48.068Z"
      },
      {
        "duration": 358,
        "start_time": "2023-04-02T10:12:48.127Z"
      },
      {
        "duration": 17,
        "start_time": "2023-04-02T10:12:48.488Z"
      },
      {
        "duration": 8,
        "start_time": "2023-04-02T10:12:48.507Z"
      },
      {
        "duration": 10,
        "start_time": "2023-04-02T10:12:48.517Z"
      },
      {
        "duration": 12,
        "start_time": "2023-04-02T10:12:48.529Z"
      },
      {
        "duration": 13,
        "start_time": "2023-04-02T10:12:48.543Z"
      },
      {
        "duration": 14,
        "start_time": "2023-04-02T10:12:48.589Z"
      },
      {
        "duration": 17,
        "start_time": "2023-04-02T10:12:48.605Z"
      },
      {
        "duration": 300,
        "start_time": "2023-04-02T10:13:11.083Z"
      },
      {
        "duration": 309,
        "start_time": "2023-04-02T10:13:20.527Z"
      },
      {
        "duration": 11,
        "start_time": "2023-04-02T10:13:27.603Z"
      },
      {
        "duration": 1179,
        "start_time": "2023-04-02T10:13:46.406Z"
      },
      {
        "duration": 228,
        "start_time": "2023-04-02T10:13:47.588Z"
      },
      {
        "duration": 4,
        "start_time": "2023-04-02T10:13:47.819Z"
      },
      {
        "duration": 203,
        "start_time": "2023-04-02T10:13:47.826Z"
      },
      {
        "duration": 6,
        "start_time": "2023-04-02T10:13:48.030Z"
      },
      {
        "duration": 145,
        "start_time": "2023-04-02T10:13:48.039Z"
      },
      {
        "duration": 928,
        "start_time": "2023-04-02T10:13:48.187Z"
      },
      {
        "duration": 6,
        "start_time": "2023-04-02T10:13:49.116Z"
      },
      {
        "duration": 99,
        "start_time": "2023-04-02T10:13:49.123Z"
      },
      {
        "duration": 25,
        "start_time": "2023-04-02T10:13:49.225Z"
      },
      {
        "duration": 6,
        "start_time": "2023-04-02T10:13:49.252Z"
      },
      {
        "duration": 867,
        "start_time": "2023-04-02T10:13:49.260Z"
      },
      {
        "duration": 819,
        "start_time": "2023-04-02T10:13:50.129Z"
      },
      {
        "duration": 740,
        "start_time": "2023-04-02T10:13:50.950Z"
      },
      {
        "duration": 149,
        "start_time": "2023-04-02T10:13:51.692Z"
      },
      {
        "duration": 28,
        "start_time": "2023-04-02T10:13:51.843Z"
      },
      {
        "duration": 201,
        "start_time": "2023-04-02T10:13:51.873Z"
      },
      {
        "duration": 14,
        "start_time": "2023-04-02T10:13:52.076Z"
      },
      {
        "duration": 368,
        "start_time": "2023-04-02T10:13:52.092Z"
      },
      {
        "duration": 60,
        "start_time": "2023-04-02T10:13:52.463Z"
      },
      {
        "duration": 381,
        "start_time": "2023-04-02T10:13:52.524Z"
      },
      {
        "duration": 9,
        "start_time": "2023-04-02T10:13:52.907Z"
      },
      {
        "duration": 7,
        "start_time": "2023-04-02T10:13:52.918Z"
      },
      {
        "duration": 9,
        "start_time": "2023-04-02T10:13:52.927Z"
      },
      {
        "duration": 11,
        "start_time": "2023-04-02T10:13:52.938Z"
      },
      {
        "duration": 18,
        "start_time": "2023-04-02T10:13:52.950Z"
      },
      {
        "duration": 30,
        "start_time": "2023-04-02T10:13:52.970Z"
      },
      {
        "duration": 19,
        "start_time": "2023-04-02T10:13:53.005Z"
      },
      {
        "duration": 7,
        "start_time": "2023-04-02T11:09:19.728Z"
      },
      {
        "duration": 133,
        "start_time": "2023-04-02T11:09:25.214Z"
      },
      {
        "duration": 8,
        "start_time": "2023-04-02T11:09:36.615Z"
      },
      {
        "duration": 5,
        "start_time": "2023-04-02T11:09:39.744Z"
      },
      {
        "duration": 1292,
        "start_time": "2023-04-02T11:32:03.314Z"
      },
      {
        "duration": 254,
        "start_time": "2023-04-02T11:32:04.609Z"
      },
      {
        "duration": 4,
        "start_time": "2023-04-02T11:32:04.865Z"
      },
      {
        "duration": 188,
        "start_time": "2023-04-02T11:32:04.871Z"
      },
      {
        "duration": 5,
        "start_time": "2023-04-02T11:32:05.061Z"
      },
      {
        "duration": 185,
        "start_time": "2023-04-02T11:32:05.068Z"
      },
      {
        "duration": 985,
        "start_time": "2023-04-02T11:32:05.255Z"
      },
      {
        "duration": 4,
        "start_time": "2023-04-02T11:32:06.242Z"
      },
      {
        "duration": 123,
        "start_time": "2023-04-02T11:32:06.248Z"
      },
      {
        "duration": 58,
        "start_time": "2023-04-02T11:32:06.373Z"
      },
      {
        "duration": 7,
        "start_time": "2023-04-02T11:32:06.433Z"
      },
      {
        "duration": 1570,
        "start_time": "2023-04-02T11:32:06.441Z"
      },
      {
        "duration": 1344,
        "start_time": "2023-04-02T11:32:08.014Z"
      },
      {
        "duration": 730,
        "start_time": "2023-04-02T11:32:09.360Z"
      },
      {
        "duration": 161,
        "start_time": "2023-04-02T11:32:10.092Z"
      },
      {
        "duration": 35,
        "start_time": "2023-04-02T11:32:10.254Z"
      },
      {
        "duration": 335,
        "start_time": "2023-04-02T11:32:10.291Z"
      },
      {
        "duration": 11,
        "start_time": "2023-04-02T11:32:10.628Z"
      },
      {
        "duration": 212,
        "start_time": "2023-04-02T11:32:10.641Z"
      },
      {
        "duration": 66,
        "start_time": "2023-04-02T11:32:10.855Z"
      },
      {
        "duration": 377,
        "start_time": "2023-04-02T11:32:10.923Z"
      },
      {
        "duration": 15,
        "start_time": "2023-04-02T11:32:11.302Z"
      },
      {
        "duration": 26,
        "start_time": "2023-04-02T11:32:11.318Z"
      },
      {
        "duration": 12,
        "start_time": "2023-04-02T11:32:11.346Z"
      },
      {
        "duration": 10,
        "start_time": "2023-04-02T11:32:11.360Z"
      },
      {
        "duration": 11,
        "start_time": "2023-04-02T11:32:11.372Z"
      },
      {
        "duration": 37,
        "start_time": "2023-04-02T11:32:11.385Z"
      },
      {
        "duration": 13,
        "start_time": "2023-04-02T11:32:11.424Z"
      },
      {
        "duration": 10,
        "start_time": "2023-04-02T11:51:54.375Z"
      },
      {
        "duration": 142,
        "start_time": "2023-04-02T11:54:52.532Z"
      },
      {
        "duration": 26,
        "start_time": "2023-04-02T11:54:56.778Z"
      },
      {
        "duration": 6,
        "start_time": "2023-04-02T11:55:09.716Z"
      },
      {
        "duration": 5,
        "start_time": "2023-04-02T11:55:22.177Z"
      },
      {
        "duration": 115,
        "start_time": "2023-04-02T11:56:54.914Z"
      },
      {
        "duration": 9,
        "start_time": "2023-04-02T11:56:58.459Z"
      },
      {
        "duration": 13,
        "start_time": "2023-04-02T11:57:08.413Z"
      },
      {
        "duration": 8,
        "start_time": "2023-04-02T11:57:40.005Z"
      },
      {
        "duration": 11,
        "start_time": "2023-04-02T11:57:58.732Z"
      },
      {
        "duration": 1474,
        "start_time": "2023-04-02T11:58:09.420Z"
      },
      {
        "duration": 291,
        "start_time": "2023-04-02T11:58:10.903Z"
      },
      {
        "duration": 4,
        "start_time": "2023-04-02T11:58:11.197Z"
      },
      {
        "duration": 232,
        "start_time": "2023-04-02T11:58:11.204Z"
      },
      {
        "duration": 6,
        "start_time": "2023-04-02T11:58:11.438Z"
      },
      {
        "duration": 186,
        "start_time": "2023-04-02T11:58:11.446Z"
      },
      {
        "duration": 1107,
        "start_time": "2023-04-02T11:58:11.634Z"
      },
      {
        "duration": 6,
        "start_time": "2023-04-02T11:58:12.743Z"
      },
      {
        "duration": 147,
        "start_time": "2023-04-02T11:58:12.751Z"
      },
      {
        "duration": 44,
        "start_time": "2023-04-02T11:58:12.900Z"
      },
      {
        "duration": 6,
        "start_time": "2023-04-02T11:58:12.946Z"
      },
      {
        "duration": 957,
        "start_time": "2023-04-02T11:58:12.954Z"
      },
      {
        "duration": 760,
        "start_time": "2023-04-02T11:58:13.913Z"
      },
      {
        "duration": 767,
        "start_time": "2023-04-02T11:58:14.677Z"
      },
      {
        "duration": 176,
        "start_time": "2023-04-02T11:58:15.446Z"
      },
      {
        "duration": 31,
        "start_time": "2023-04-02T11:58:15.628Z"
      },
      {
        "duration": 214,
        "start_time": "2023-04-02T11:58:15.660Z"
      },
      {
        "duration": 21,
        "start_time": "2023-04-02T11:58:15.876Z"
      },
      {
        "duration": 229,
        "start_time": "2023-04-02T11:58:15.899Z"
      },
      {
        "duration": 70,
        "start_time": "2023-04-02T11:58:16.129Z"
      },
      {
        "duration": 378,
        "start_time": "2023-04-02T11:58:16.201Z"
      },
      {
        "duration": 22,
        "start_time": "2023-04-02T11:58:16.580Z"
      },
      {
        "duration": 29,
        "start_time": "2023-04-02T11:58:16.604Z"
      },
      {
        "duration": 28,
        "start_time": "2023-04-02T11:58:16.635Z"
      },
      {
        "duration": 18,
        "start_time": "2023-04-02T11:58:16.665Z"
      },
      {
        "duration": 19,
        "start_time": "2023-04-02T11:58:16.685Z"
      },
      {
        "duration": 28,
        "start_time": "2023-04-02T11:58:16.709Z"
      },
      {
        "duration": 1494,
        "start_time": "2023-04-02T12:01:24.089Z"
      },
      {
        "duration": 353,
        "start_time": "2023-04-02T12:01:25.586Z"
      },
      {
        "duration": 9,
        "start_time": "2023-04-02T12:01:25.944Z"
      },
      {
        "duration": 283,
        "start_time": "2023-04-02T12:01:25.955Z"
      },
      {
        "duration": 9,
        "start_time": "2023-04-02T12:01:26.244Z"
      },
      {
        "duration": 199,
        "start_time": "2023-04-02T12:01:26.255Z"
      },
      {
        "duration": 1296,
        "start_time": "2023-04-02T12:01:26.456Z"
      },
      {
        "duration": 5,
        "start_time": "2023-04-02T12:01:27.755Z"
      },
      {
        "duration": 124,
        "start_time": "2023-04-02T12:01:27.761Z"
      },
      {
        "duration": 53,
        "start_time": "2023-04-02T12:01:27.887Z"
      },
      {
        "duration": 16,
        "start_time": "2023-04-02T12:01:27.944Z"
      },
      {
        "duration": 1097,
        "start_time": "2023-04-02T12:01:27.962Z"
      },
      {
        "duration": 913,
        "start_time": "2023-04-02T12:01:29.061Z"
      },
      {
        "duration": 891,
        "start_time": "2023-04-02T12:01:29.978Z"
      },
      {
        "duration": 207,
        "start_time": "2023-04-02T12:01:30.871Z"
      },
      {
        "duration": 62,
        "start_time": "2023-04-02T12:01:31.081Z"
      },
      {
        "duration": 365,
        "start_time": "2023-04-02T12:01:31.146Z"
      },
      {
        "duration": 21,
        "start_time": "2023-04-02T12:01:31.515Z"
      },
      {
        "duration": 268,
        "start_time": "2023-04-02T12:01:31.540Z"
      },
      {
        "duration": 96,
        "start_time": "2023-04-02T12:01:31.811Z"
      },
      {
        "duration": 485,
        "start_time": "2023-04-02T12:01:31.909Z"
      },
      {
        "duration": 12,
        "start_time": "2023-04-02T12:01:32.399Z"
      },
      {
        "duration": 41,
        "start_time": "2023-04-02T12:01:32.413Z"
      },
      {
        "duration": 44,
        "start_time": "2023-04-02T12:01:32.457Z"
      },
      {
        "duration": 59,
        "start_time": "2023-04-02T12:01:32.503Z"
      },
      {
        "duration": 21,
        "start_time": "2023-04-02T12:01:32.564Z"
      },
      {
        "duration": 57,
        "start_time": "2023-04-02T12:01:32.594Z"
      },
      {
        "duration": 1147,
        "start_time": "2023-04-02T22:15:46.201Z"
      },
      {
        "duration": 202,
        "start_time": "2023-04-02T22:15:47.350Z"
      },
      {
        "duration": 4,
        "start_time": "2023-04-02T22:15:47.554Z"
      },
      {
        "duration": 163,
        "start_time": "2023-04-02T22:15:47.559Z"
      },
      {
        "duration": 7,
        "start_time": "2023-04-02T22:15:47.725Z"
      },
      {
        "duration": 144,
        "start_time": "2023-04-02T22:15:47.734Z"
      },
      {
        "duration": 862,
        "start_time": "2023-04-02T22:15:47.881Z"
      },
      {
        "duration": 5,
        "start_time": "2023-04-02T22:15:48.744Z"
      },
      {
        "duration": 83,
        "start_time": "2023-04-02T22:15:48.750Z"
      },
      {
        "duration": 25,
        "start_time": "2023-04-02T22:15:48.835Z"
      },
      {
        "duration": 6,
        "start_time": "2023-04-02T22:15:48.861Z"
      },
      {
        "duration": 760,
        "start_time": "2023-04-02T22:15:48.868Z"
      },
      {
        "duration": 613,
        "start_time": "2023-04-02T22:15:49.630Z"
      },
      {
        "duration": 613,
        "start_time": "2023-04-02T22:15:50.245Z"
      },
      {
        "duration": 113,
        "start_time": "2023-04-02T22:15:50.860Z"
      },
      {
        "duration": 35,
        "start_time": "2023-04-02T22:15:50.974Z"
      },
      {
        "duration": 187,
        "start_time": "2023-04-02T22:15:51.011Z"
      },
      {
        "duration": 11,
        "start_time": "2023-04-02T22:15:51.200Z"
      },
      {
        "duration": 333,
        "start_time": "2023-04-02T22:15:51.212Z"
      },
      {
        "duration": 69,
        "start_time": "2023-04-02T22:15:51.548Z"
      },
      {
        "duration": 317,
        "start_time": "2023-04-02T22:15:51.619Z"
      },
      {
        "duration": 11,
        "start_time": "2023-04-02T22:15:51.939Z"
      },
      {
        "duration": 7,
        "start_time": "2023-04-02T22:15:51.952Z"
      },
      {
        "duration": 17,
        "start_time": "2023-04-02T22:15:51.961Z"
      },
      {
        "duration": 17,
        "start_time": "2023-04-02T22:15:52.002Z"
      },
      {
        "duration": 15,
        "start_time": "2023-04-02T22:15:52.021Z"
      },
      {
        "duration": 25,
        "start_time": "2023-04-02T22:15:52.038Z"
      },
      {
        "duration": 1360,
        "start_time": "2023-04-03T08:19:42.018Z"
      },
      {
        "duration": 1122,
        "start_time": "2023-04-03T08:19:43.382Z"
      },
      {
        "duration": 4,
        "start_time": "2023-04-03T08:19:44.505Z"
      },
      {
        "duration": 185,
        "start_time": "2023-04-03T08:19:44.511Z"
      },
      {
        "duration": 7,
        "start_time": "2023-04-03T08:19:44.698Z"
      },
      {
        "duration": 148,
        "start_time": "2023-04-03T08:19:44.707Z"
      },
      {
        "duration": 896,
        "start_time": "2023-04-03T08:19:44.857Z"
      },
      {
        "duration": 6,
        "start_time": "2023-04-03T08:19:45.756Z"
      },
      {
        "duration": 140,
        "start_time": "2023-04-03T08:19:45.779Z"
      },
      {
        "duration": 177,
        "start_time": "2023-04-03T08:19:45.925Z"
      },
      {
        "duration": 0,
        "start_time": "2023-04-03T08:19:46.104Z"
      },
      {
        "duration": 0,
        "start_time": "2023-04-03T08:19:46.106Z"
      },
      {
        "duration": 0,
        "start_time": "2023-04-03T08:19:46.107Z"
      },
      {
        "duration": 0,
        "start_time": "2023-04-03T08:19:46.108Z"
      },
      {
        "duration": 0,
        "start_time": "2023-04-03T08:19:46.110Z"
      },
      {
        "duration": 0,
        "start_time": "2023-04-03T08:19:46.112Z"
      },
      {
        "duration": 0,
        "start_time": "2023-04-03T08:19:46.113Z"
      },
      {
        "duration": 0,
        "start_time": "2023-04-03T08:19:46.114Z"
      },
      {
        "duration": 0,
        "start_time": "2023-04-03T08:19:46.116Z"
      },
      {
        "duration": 0,
        "start_time": "2023-04-03T08:19:46.117Z"
      },
      {
        "duration": 0,
        "start_time": "2023-04-03T08:19:46.119Z"
      },
      {
        "duration": 0,
        "start_time": "2023-04-03T08:19:46.120Z"
      },
      {
        "duration": 0,
        "start_time": "2023-04-03T08:19:46.122Z"
      },
      {
        "duration": 0,
        "start_time": "2023-04-03T08:19:46.124Z"
      },
      {
        "duration": 0,
        "start_time": "2023-04-03T08:19:46.125Z"
      },
      {
        "duration": 1,
        "start_time": "2023-04-03T08:19:46.126Z"
      },
      {
        "duration": 0,
        "start_time": "2023-04-03T08:19:46.128Z"
      },
      {
        "duration": 0,
        "start_time": "2023-04-03T08:19:46.129Z"
      },
      {
        "duration": 50,
        "start_time": "2023-04-03T08:20:06.492Z"
      },
      {
        "duration": 1255,
        "start_time": "2023-04-03T08:20:33.150Z"
      },
      {
        "duration": 207,
        "start_time": "2023-04-03T08:20:34.407Z"
      },
      {
        "duration": 4,
        "start_time": "2023-04-03T08:20:34.616Z"
      },
      {
        "duration": 193,
        "start_time": "2023-04-03T08:20:34.623Z"
      },
      {
        "duration": 7,
        "start_time": "2023-04-03T08:20:34.818Z"
      },
      {
        "duration": 170,
        "start_time": "2023-04-03T08:20:34.827Z"
      },
      {
        "duration": 912,
        "start_time": "2023-04-03T08:20:34.998Z"
      },
      {
        "duration": 5,
        "start_time": "2023-04-03T08:20:35.912Z"
      },
      {
        "duration": 59,
        "start_time": "2023-04-03T08:20:35.919Z"
      },
      {
        "duration": 26,
        "start_time": "2023-04-03T08:20:35.980Z"
      },
      {
        "duration": 5,
        "start_time": "2023-04-03T08:20:36.008Z"
      },
      {
        "duration": 877,
        "start_time": "2023-04-03T08:20:36.015Z"
      },
      {
        "duration": 693,
        "start_time": "2023-04-03T08:20:36.894Z"
      },
      {
        "duration": 648,
        "start_time": "2023-04-03T08:20:37.589Z"
      },
      {
        "duration": 141,
        "start_time": "2023-04-03T08:20:38.239Z"
      },
      {
        "duration": 35,
        "start_time": "2023-04-03T08:20:38.382Z"
      },
      {
        "duration": 194,
        "start_time": "2023-04-03T08:20:38.420Z"
      },
      {
        "duration": 11,
        "start_time": "2023-04-03T08:20:38.617Z"
      },
      {
        "duration": 166,
        "start_time": "2023-04-03T08:20:38.630Z"
      },
      {
        "duration": 93,
        "start_time": "2023-04-03T08:20:38.800Z"
      },
      {
        "duration": 324,
        "start_time": "2023-04-03T08:20:38.894Z"
      },
      {
        "duration": 11,
        "start_time": "2023-04-03T08:20:39.220Z"
      },
      {
        "duration": 9,
        "start_time": "2023-04-03T08:20:39.233Z"
      },
      {
        "duration": 30,
        "start_time": "2023-04-03T08:20:39.244Z"
      },
      {
        "duration": 33,
        "start_time": "2023-04-03T08:20:39.276Z"
      },
      {
        "duration": 22,
        "start_time": "2023-04-03T08:20:39.311Z"
      },
      {
        "duration": 37,
        "start_time": "2023-04-03T08:20:39.335Z"
      },
      {
        "duration": 65,
        "start_time": "2023-04-03T08:46:02.912Z"
      },
      {
        "duration": 1159,
        "start_time": "2023-04-03T08:47:58.369Z"
      },
      {
        "duration": 210,
        "start_time": "2023-04-03T08:47:59.530Z"
      },
      {
        "duration": 3,
        "start_time": "2023-04-03T08:47:59.742Z"
      },
      {
        "duration": 187,
        "start_time": "2023-04-03T08:47:59.747Z"
      },
      {
        "duration": 6,
        "start_time": "2023-04-03T08:47:59.937Z"
      },
      {
        "duration": 165,
        "start_time": "2023-04-03T08:47:59.944Z"
      },
      {
        "duration": 1367,
        "start_time": "2023-04-03T08:48:00.110Z"
      },
      {
        "duration": 5,
        "start_time": "2023-04-03T08:48:01.479Z"
      },
      {
        "duration": 122,
        "start_time": "2023-04-03T08:48:01.486Z"
      },
      {
        "duration": 116,
        "start_time": "2023-04-03T08:48:01.610Z"
      },
      {
        "duration": 0,
        "start_time": "2023-04-03T08:48:01.729Z"
      },
      {
        "duration": 0,
        "start_time": "2023-04-03T08:48:01.730Z"
      },
      {
        "duration": 0,
        "start_time": "2023-04-03T08:48:01.731Z"
      },
      {
        "duration": 0,
        "start_time": "2023-04-03T08:48:01.732Z"
      },
      {
        "duration": 0,
        "start_time": "2023-04-03T08:48:01.734Z"
      },
      {
        "duration": 0,
        "start_time": "2023-04-03T08:48:01.735Z"
      },
      {
        "duration": 0,
        "start_time": "2023-04-03T08:48:01.736Z"
      },
      {
        "duration": 0,
        "start_time": "2023-04-03T08:48:01.738Z"
      },
      {
        "duration": 0,
        "start_time": "2023-04-03T08:48:01.739Z"
      },
      {
        "duration": 0,
        "start_time": "2023-04-03T08:48:01.741Z"
      },
      {
        "duration": 0,
        "start_time": "2023-04-03T08:48:01.774Z"
      },
      {
        "duration": 0,
        "start_time": "2023-04-03T08:48:01.777Z"
      },
      {
        "duration": 0,
        "start_time": "2023-04-03T08:48:01.778Z"
      },
      {
        "duration": 0,
        "start_time": "2023-04-03T08:48:01.780Z"
      },
      {
        "duration": 0,
        "start_time": "2023-04-03T08:48:01.781Z"
      },
      {
        "duration": 0,
        "start_time": "2023-04-03T08:48:01.782Z"
      },
      {
        "duration": 0,
        "start_time": "2023-04-03T08:48:01.784Z"
      },
      {
        "duration": 69,
        "start_time": "2023-04-03T08:49:13.969Z"
      },
      {
        "duration": 1170,
        "start_time": "2023-04-03T08:50:48.440Z"
      },
      {
        "duration": 218,
        "start_time": "2023-04-03T08:50:49.612Z"
      },
      {
        "duration": 5,
        "start_time": "2023-04-03T08:50:49.832Z"
      },
      {
        "duration": 175,
        "start_time": "2023-04-03T08:50:49.839Z"
      },
      {
        "duration": 6,
        "start_time": "2023-04-03T08:50:50.016Z"
      },
      {
        "duration": 170,
        "start_time": "2023-04-03T08:50:50.024Z"
      },
      {
        "duration": 899,
        "start_time": "2023-04-03T08:50:50.197Z"
      },
      {
        "duration": 4,
        "start_time": "2023-04-03T08:50:51.099Z"
      },
      {
        "duration": 44,
        "start_time": "2023-04-03T08:50:51.105Z"
      },
      {
        "duration": 42,
        "start_time": "2023-04-03T08:50:51.151Z"
      },
      {
        "duration": 6,
        "start_time": "2023-04-03T08:50:51.195Z"
      },
      {
        "duration": 1009,
        "start_time": "2023-04-03T08:50:51.203Z"
      },
      {
        "duration": 1209,
        "start_time": "2023-04-03T08:50:52.214Z"
      },
      {
        "duration": 705,
        "start_time": "2023-04-03T08:50:53.476Z"
      },
      {
        "duration": 160,
        "start_time": "2023-04-03T08:50:54.183Z"
      },
      {
        "duration": 35,
        "start_time": "2023-04-03T08:50:54.345Z"
      },
      {
        "duration": 188,
        "start_time": "2023-04-03T08:50:54.381Z"
      },
      {
        "duration": 12,
        "start_time": "2023-04-03T08:50:54.579Z"
      },
      {
        "duration": 160,
        "start_time": "2023-04-03T08:50:54.593Z"
      },
      {
        "duration": 42,
        "start_time": "2023-04-03T08:50:54.755Z"
      },
      {
        "duration": 298,
        "start_time": "2023-04-03T08:50:54.799Z"
      },
      {
        "duration": 8,
        "start_time": "2023-04-03T08:50:55.099Z"
      },
      {
        "duration": 24,
        "start_time": "2023-04-03T08:50:55.109Z"
      },
      {
        "duration": 30,
        "start_time": "2023-04-03T08:50:55.134Z"
      },
      {
        "duration": 18,
        "start_time": "2023-04-03T08:50:55.165Z"
      },
      {
        "duration": 11,
        "start_time": "2023-04-03T08:50:55.184Z"
      },
      {
        "duration": 23,
        "start_time": "2023-04-03T08:50:55.196Z"
      },
      {
        "duration": 6,
        "start_time": "2023-04-03T08:51:26.999Z"
      },
      {
        "duration": 63,
        "start_time": "2023-04-03T08:52:19.980Z"
      },
      {
        "duration": 124,
        "start_time": "2023-04-03T08:52:26.820Z"
      },
      {
        "duration": 128,
        "start_time": "2023-04-03T08:52:35.194Z"
      },
      {
        "duration": 126,
        "start_time": "2023-04-03T08:54:09.811Z"
      },
      {
        "duration": 52,
        "start_time": "2023-04-03T08:54:34.447Z"
      },
      {
        "duration": 87,
        "start_time": "2023-04-03T08:54:39.179Z"
      },
      {
        "duration": 75,
        "start_time": "2023-04-03T08:55:45.993Z"
      },
      {
        "duration": 75,
        "start_time": "2023-04-03T08:55:56.377Z"
      },
      {
        "duration": 138,
        "start_time": "2023-04-03T08:56:06.566Z"
      },
      {
        "duration": 146,
        "start_time": "2023-04-03T08:56:13.870Z"
      },
      {
        "duration": 95,
        "start_time": "2023-04-03T08:56:31.186Z"
      },
      {
        "duration": 139,
        "start_time": "2023-04-03T08:57:16.084Z"
      },
      {
        "duration": 114,
        "start_time": "2023-04-03T08:58:08.200Z"
      },
      {
        "duration": 121,
        "start_time": "2023-04-03T08:58:27.835Z"
      },
      {
        "duration": 233,
        "start_time": "2023-04-03T08:58:33.474Z"
      },
      {
        "duration": 59,
        "start_time": "2023-04-03T08:58:39.422Z"
      },
      {
        "duration": 73,
        "start_time": "2023-04-03T08:58:49.605Z"
      },
      {
        "duration": 107,
        "start_time": "2023-04-03T08:59:07.741Z"
      },
      {
        "duration": 1188,
        "start_time": "2023-04-03T09:00:37.861Z"
      },
      {
        "duration": 198,
        "start_time": "2023-04-03T09:00:39.051Z"
      },
      {
        "duration": 4,
        "start_time": "2023-04-03T09:00:39.250Z"
      },
      {
        "duration": 191,
        "start_time": "2023-04-03T09:00:39.256Z"
      },
      {
        "duration": 7,
        "start_time": "2023-04-03T09:00:39.449Z"
      },
      {
        "duration": 182,
        "start_time": "2023-04-03T09:00:39.476Z"
      },
      {
        "duration": 953,
        "start_time": "2023-04-03T09:00:39.660Z"
      },
      {
        "duration": 5,
        "start_time": "2023-04-03T09:00:40.614Z"
      },
      {
        "duration": 55,
        "start_time": "2023-04-03T09:00:40.621Z"
      },
      {
        "duration": 34,
        "start_time": "2023-04-03T09:00:40.678Z"
      },
      {
        "duration": 6,
        "start_time": "2023-04-03T09:00:40.714Z"
      },
      {
        "duration": 855,
        "start_time": "2023-04-03T09:00:40.722Z"
      },
      {
        "duration": 632,
        "start_time": "2023-04-03T09:00:41.578Z"
      },
      {
        "duration": 708,
        "start_time": "2023-04-03T09:00:42.213Z"
      },
      {
        "duration": 136,
        "start_time": "2023-04-03T09:00:42.923Z"
      },
      {
        "duration": 40,
        "start_time": "2023-04-03T09:00:43.061Z"
      },
      {
        "duration": 92,
        "start_time": "2023-04-03T09:00:43.103Z"
      },
      {
        "duration": 13,
        "start_time": "2023-04-03T09:00:43.198Z"
      },
      {
        "duration": 284,
        "start_time": "2023-04-03T09:00:43.213Z"
      },
      {
        "duration": 87,
        "start_time": "2023-04-03T09:00:43.498Z"
      },
      {
        "duration": 375,
        "start_time": "2023-04-03T09:00:43.587Z"
      },
      {
        "duration": 13,
        "start_time": "2023-04-03T09:00:43.963Z"
      },
      {
        "duration": 8,
        "start_time": "2023-04-03T09:00:43.979Z"
      },
      {
        "duration": 19,
        "start_time": "2023-04-03T09:00:43.989Z"
      },
      {
        "duration": 24,
        "start_time": "2023-04-03T09:00:44.011Z"
      },
      {
        "duration": 17,
        "start_time": "2023-04-03T09:00:44.037Z"
      },
      {
        "duration": 14,
        "start_time": "2023-04-03T09:00:44.077Z"
      }
    ],
    "colab": {
      "provenance": []
    },
    "kernelspec": {
      "display_name": "Python 3 (ipykernel)",
      "language": "python",
      "name": "python3"
    },
    "language_info": {
      "codemirror_mode": {
        "name": "ipython",
        "version": 3
      },
      "file_extension": ".py",
      "mimetype": "text/x-python",
      "name": "python",
      "nbconvert_exporter": "python",
      "pygments_lexer": "ipython3",
      "version": "3.9.5"
    },
    "toc": {
      "base_numbering": 1,
      "nav_menu": {},
      "number_sections": false,
      "sideBar": true,
      "skip_h1_title": false,
      "title_cell": "Table of Contents",
      "title_sidebar": "Contents",
      "toc_cell": true,
      "toc_position": {
        "height": "calc(100% - 180px)",
        "left": "10px",
        "top": "150px",
        "width": "165px"
      },
      "toc_section_display": true,
      "toc_window_display": true
    }
  },
  "nbformat": 4,
  "nbformat_minor": 0
}