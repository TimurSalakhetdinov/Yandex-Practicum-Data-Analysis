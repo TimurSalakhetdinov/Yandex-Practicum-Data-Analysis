{
 "cells": [
  {
   "cell_type": "markdown",
   "metadata": {
    "id": "vFOj79jwfYhJ"
   },
   "source": [
    "# Рынок заведений общественного питания Москвы"
   ]
  },
  {
   "cell_type": "markdown",
   "metadata": {
    "id": "hzhuXd-wf_kn"
   },
   "source": [
    "## Информация о проекте"
   ]
  },
  {
   "cell_type": "markdown",
   "metadata": {
    "id": "4WvGgZX2hB2g"
   },
   "source": [
    "Инвесторы из фонда «Shut Up and Take My Money» решили попробовать себя в новой области и открыть заведение общественного питания в Москве. Заказчики ещё не знают, что это будет за место: кафе, ресторан, пиццерия, паб или бар, — и какими будут расположение, меню и цены.\n",
    "\n",
    "Для начала они просят вас — аналитика — подготовить исследование рынка Москвы, найти интересные особенности и презентовать полученные результаты, которые в будущем помогут в выборе подходящего инвесторам места.\n",
    "\n",
    "Постарайтесь сделать презентацию информативной и лаконичной. Её структура и оформление сильно влияют на восприятие информации читателями вашего исследования. Выбирать инструменты (matplotlib, seaborn и другие) и типы визуализаций вы можете самостоятельно.\n",
    "Вам доступен датасет с заведениями общественного питания Москвы, составленный на основе данных сервисов Яндекс Карты и Яндекс Бизнес на лето 2022 года. Информация, размещённая в сервисе Яндекс Бизнес, могла быть добавлена пользователями или найдена в общедоступных источниках. Она носит исключительно справочный характер."
   ]
  },
  {
   "cell_type": "markdown",
   "metadata": {
    "id": "d5J_By1NgCjw"
   },
   "source": [
    "## План действий"
   ]
  },
  {
   "cell_type": "markdown",
   "metadata": {
    "id": "hpNeXkWjgDxX"
   },
   "source": [
    "1. Загрузить данные и подготовить их к анализу.\n",
    "2. Выполнить предобработку данных.\n",
    "3. Анализ данных. \n",
    "4. Детализируем исследование: открытие кофейни. \n",
    "5. Подготовка презентации"
   ]
  },
  {
   "cell_type": "markdown",
   "metadata": {
    "id": "p_pgIxCQgIX4"
   },
   "source": [
    "## Описание данных"
   ]
  },
  {
   "cell_type": "markdown",
   "metadata": {
    "id": "Y9HTo_nOgjJb"
   },
   "source": [
    "Файл moscow_places.csv:\n",
    "- name — название заведения;\n",
    "- address — адрес заведения;\n",
    "- category — категория заведения, например «кафе», «пиццерия» или «кофейня»;\n",
    "- hours — информация о днях и часах работы;\n",
    "- lat — широта географической точки, в которой находится заведение;\n",
    "- lng — долгота географической точки, в которой находится заведение;\n",
    "- rating — рейтинг заведения по оценкам пользователей в Яндекс Картах (высшая оценка — 5.0);\n",
    "- price — категория цен в заведении, например «средние», «ниже среднего», «выше среднего» и так далее;\n",
    "- avg_bill — строка, которая хранит среднюю стоимость заказа в виде диапазона, например:\n",
    "  * «Средний счёт: 1000–1500 ₽»;\n",
    "  * «Цена чашки капучино: 130–220 ₽»;\n",
    "  * «Цена бокала пива: 400–600 ₽».\n",
    "и так далее;\n",
    "-  middle_avg_bill — число с оценкой среднего чека, которое указано только для значений из столбца avg_bill, начинающихся с подстроки «Средний счёт»:\n",
    "  * Если в строке указан ценовой диапазон из двух значений, в столбец войдёт медиана этих двух значений.\n",
    "  * Если в строке указано одно число — цена без диапазона, то в столбец войдёт это число.\n",
    "  * Если значения нет или оно не начинается с подстроки «Средний счёт», то в столбец ничего не войдёт.\n",
    "- middle_coffee_cup — число с оценкой одной чашки капучино, которое указано только для значений из столбца avg_bill, начинающихся с подстроки «Цена одной чашки капучино»:\n",
    "  * Если в строке указан ценовой диапазон из двух значений, в столбец войдёт медиана этих двух значений.\n",
    "  * Если в строке указано одно число — цена без диапазона, то в столбец войдёт это число.\n",
    "  * Если значения нет или оно не начинается с подстроки «Цена одной чашки капучино», то в столбец ничего не войдёт.\n",
    "- chain — число, выраженное 0 или 1, которое показывает, является ли заведение сетевым (для маленьких сетей могут встречаться ошибки):\n",
    "  * 0 — заведение не является сетевым\n",
    "  * 1 — заведение является сетевым\n",
    "- district — административный район, в котором находится заведение, например Центральный административный округ;\n",
    "- seats — количество посадочных мест."
   ]
  },
  {
   "cell_type": "markdown",
   "metadata": {
    "id": "ocavpTOBgUVB"
   },
   "source": [
    "## Предобработка данных"
   ]
  },
  {
   "cell_type": "markdown",
   "metadata": {
    "id": "-kiKCYVegpCg"
   },
   "source": [
    "### Импортирование библиотек и вывод данных"
   ]
  },
  {
   "cell_type": "code",
   "execution_count": 5,
   "metadata": {},
   "outputs": [
    {
     "name": "stdout",
     "output_type": "stream",
     "text": [
      "Collecting psycopg2-binary\n",
      "  Downloading psycopg2_binary-2.9.6-cp310-cp310-macosx_10_9_x86_64.whl (2.2 MB)\n",
      "\u001b[2K     \u001b[90m━━━━━━━━━━━━━━━━━━━━━━━━━━━━━━━━━━━━━━━━\u001b[0m \u001b[32m2.2/2.2 MB\u001b[0m \u001b[31m535.9 kB/s\u001b[0m eta \u001b[36m0:00:00\u001b[0m00:01\u001b[0m00:01\u001b[0m\n",
      "\u001b[?25hInstalling collected packages: psycopg2-binary\n",
      "Successfully installed psycopg2-binary-2.9.6\n"
     ]
    }
   ],
   "source": [
    "# импортируем библиотеки\n",
    "import os\n",
    "import pandas as pd\n",
    "!pip install psycopg2-binary\n",
    "from sqlalchemy import create_engine\n",
    "\n",
    "db_config = {'user': 'praktikum_student', # имя пользователя\n",
    "            'pwd': 'Sdf4$2;d-d30pp', # пароль\n",
    "            'host': 'rc1b-wcoijxj3yxfsf3fs.mdb.yandexcloud.net',\n",
    "            'port': 6432, # порт подключения\n",
    "            'db': 'data-analyst-zen-project-db'} # название базы данных\n",
    "\n",
    "connection_string = 'postgresql://{}:{}@{}:{}/{}'.format(db_config['user'],\n",
    "                                                db_config['pwd'],\n",
    "                                                db_config['host'],\n",
    "                                                db_config['port'],\n",
    "                                                db_config['db'])\n",
    "\n",
    "engine = create_engine(connection_string)"
   ]
  },
  {
   "cell_type": "code",
   "execution_count": 8,
   "metadata": {
    "scrolled": true
   },
   "outputs": [
    {
     "name": "stdout",
     "output_type": "stream",
     "text": [
      "   record_id item_topic source_topic age_segment                  dt  visits\n",
      "0    1040597     Деньги         Авто       18-25 2019-09-24 18:32:00       3\n",
      "1    1040598     Деньги         Авто       18-25 2019-09-24 18:35:00       1\n",
      "2    1040599     Деньги         Авто       18-25 2019-09-24 18:54:00       4\n",
      "3    1040600     Деньги         Авто       18-25 2019-09-24 18:55:00      17\n",
      "4    1040601     Деньги         Авто       18-25 2019-09-24 18:56:00      27\n",
      "<class 'pandas.core.frame.DataFrame'>\n",
      "RangeIndex: 30745 entries, 0 to 30744\n",
      "Data columns (total 6 columns):\n",
      " #   Column        Non-Null Count  Dtype         \n",
      "---  ------        --------------  -----         \n",
      " 0   record_id     30745 non-null  int64         \n",
      " 1   item_topic    30745 non-null  object        \n",
      " 2   source_topic  30745 non-null  object        \n",
      " 3   age_segment   30745 non-null  object        \n",
      " 4   dt            30745 non-null  datetime64[ns]\n",
      " 5   visits        30745 non-null  int64         \n",
      "dtypes: datetime64[ns](1), int64(2), object(3)\n",
      "memory usage: 1.4+ MB\n",
      "None\n"
     ]
    }
   ],
   "source": [
    "# Формируем sql-запрос.\n",
    "query = ''' SELECT *\n",
    "            FROM dash_visits\n",
    "        '''\n",
    "\n",
    "# Выполняем запрос и сохраняем результат\n",
    "# выполнения в DataFrame.\n",
    "dash_visits = pd.io.sql.read_sql(query, con=engine)\n",
    "\n",
    "print(dash_visits.head(5))\n",
    "print(dash_visits.info())"
   ]
  },
  {
   "cell_type": "code",
   "execution_count": 11,
   "metadata": {},
   "outputs": [
    {
     "name": "stdout",
     "output_type": "stream",
     "text": [
      "CSV файл сохранен в /Users/timursalakhetdinov/Documents/Yandex_Practicum/Project 05/dash_visits.csv\n"
     ]
    }
   ],
   "source": [
    "# напишем код для выгрузки данных из таблицы dash_visits в файл dash_visits.csv\n",
    "csv_file_path = os.path.join(os.path.dirname(os.path.abspath('__file__')), 'dash_visits.csv')\n",
    "dash_visits.to_csv(csv_file_path, index=False)\n",
    "\n",
    "print(f\"CSV файл сохранен в {csv_file_path}\")"
   ]
  },
  {
   "cell_type": "markdown",
   "metadata": {
    "id": "tRwB2C4do1cQ"
   },
   "source": [
    "## Подготовка презентации"
   ]
  },
  {
   "cell_type": "markdown",
   "metadata": {
    "id": "o_WzllVeo295"
   },
   "source": [
    "Презентация: <>"
   ]
  },
  {
   "cell_type": "code",
   "execution_count": null,
   "metadata": {},
   "outputs": [],
   "source": []
  }
 ],
 "metadata": {
  "ExecuteTimeLog": [
   {
    "duration": 1592,
    "start_time": "2023-04-21T14:39:30.848Z"
   },
   {
    "duration": 554,
    "start_time": "2023-04-21T14:39:32.442Z"
   },
   {
    "duration": 3,
    "start_time": "2023-04-21T14:39:32.998Z"
   },
   {
    "duration": 80,
    "start_time": "2023-04-21T14:39:33.004Z"
   },
   {
    "duration": 17,
    "start_time": "2023-04-21T14:39:33.086Z"
   },
   {
    "duration": 22,
    "start_time": "2023-04-21T14:39:33.105Z"
   },
   {
    "duration": 216,
    "start_time": "2023-04-21T14:39:33.128Z"
   },
   {
    "duration": 256,
    "start_time": "2023-04-21T14:39:33.346Z"
   },
   {
    "duration": 126,
    "start_time": "2023-04-21T14:39:33.604Z"
   },
   {
    "duration": 304,
    "start_time": "2023-04-21T14:39:33.733Z"
   },
   {
    "duration": 370,
    "start_time": "2023-04-21T14:39:34.038Z"
   },
   {
    "duration": 280,
    "start_time": "2023-04-21T14:39:34.410Z"
   },
   {
    "duration": 10,
    "start_time": "2023-04-21T14:39:34.691Z"
   },
   {
    "duration": 213,
    "start_time": "2023-04-21T14:39:34.703Z"
   },
   {
    "duration": 0,
    "start_time": "2023-04-21T14:39:34.918Z"
   },
   {
    "duration": 0,
    "start_time": "2023-04-21T14:39:34.919Z"
   },
   {
    "duration": 0,
    "start_time": "2023-04-21T14:39:34.920Z"
   },
   {
    "duration": 0,
    "start_time": "2023-04-21T14:39:34.921Z"
   },
   {
    "duration": 0,
    "start_time": "2023-04-21T14:39:34.922Z"
   },
   {
    "duration": 0,
    "start_time": "2023-04-21T14:39:34.924Z"
   },
   {
    "duration": 0,
    "start_time": "2023-04-21T14:39:34.925Z"
   },
   {
    "duration": 0,
    "start_time": "2023-04-21T14:39:34.926Z"
   },
   {
    "duration": 0,
    "start_time": "2023-04-21T14:39:34.927Z"
   },
   {
    "duration": 0,
    "start_time": "2023-04-21T14:39:34.928Z"
   },
   {
    "duration": 13820,
    "start_time": "2023-04-21T14:39:42.868Z"
   },
   {
    "duration": 1241,
    "start_time": "2023-04-21T14:39:56.690Z"
   },
   {
    "duration": 23,
    "start_time": "2023-04-21T14:40:20.882Z"
   },
   {
    "duration": 47,
    "start_time": "2023-04-21T14:40:23.370Z"
   },
   {
    "duration": 698,
    "start_time": "2023-04-21T14:40:25.869Z"
   },
   {
    "duration": 167,
    "start_time": "2023-04-21T14:40:30.013Z"
   },
   {
    "duration": 663,
    "start_time": "2023-04-21T14:40:30.800Z"
   },
   {
    "duration": 12,
    "start_time": "2023-04-21T14:40:31.783Z"
   },
   {
    "duration": 1626,
    "start_time": "2023-04-21T14:40:33.392Z"
   },
   {
    "duration": 365,
    "start_time": "2023-04-21T14:40:35.021Z"
   },
   {
    "duration": 1830,
    "start_time": "2023-04-21T16:16:40.521Z"
   },
   {
    "duration": 191,
    "start_time": "2023-04-21T16:16:42.353Z"
   },
   {
    "duration": 3,
    "start_time": "2023-04-21T16:16:42.546Z"
   },
   {
    "duration": 88,
    "start_time": "2023-04-21T16:16:42.551Z"
   },
   {
    "duration": 39,
    "start_time": "2023-04-21T16:16:42.642Z"
   },
   {
    "duration": 64,
    "start_time": "2023-04-21T16:16:42.683Z"
   },
   {
    "duration": 189,
    "start_time": "2023-04-21T16:16:42.748Z"
   },
   {
    "duration": 198,
    "start_time": "2023-04-21T16:16:42.939Z"
   },
   {
    "duration": 98,
    "start_time": "2023-04-21T16:16:43.138Z"
   },
   {
    "duration": 288,
    "start_time": "2023-04-21T16:16:43.238Z"
   },
   {
    "duration": 330,
    "start_time": "2023-04-21T16:16:43.528Z"
   },
   {
    "duration": 204,
    "start_time": "2023-04-21T16:16:43.859Z"
   },
   {
    "duration": 13,
    "start_time": "2023-04-21T16:16:44.065Z"
   },
   {
    "duration": 208,
    "start_time": "2023-04-21T16:16:46.788Z"
   },
   {
    "duration": 1479,
    "start_time": "2023-04-23T07:15:42.569Z"
   },
   {
    "duration": 4,
    "start_time": "2023-04-23T07:15:51.701Z"
   },
   {
    "duration": 107,
    "start_time": "2023-04-23T07:16:11.981Z"
   },
   {
    "duration": 5,
    "start_time": "2023-04-23T07:16:28.385Z"
   },
   {
    "duration": 121,
    "start_time": "2023-04-23T07:16:32.018Z"
   },
   {
    "duration": 3,
    "start_time": "2023-04-23T07:16:53.983Z"
   },
   {
    "duration": 69,
    "start_time": "2023-04-23T07:16:54.615Z"
   },
   {
    "duration": 3,
    "start_time": "2023-04-23T07:17:10.895Z"
   },
   {
    "duration": 9,
    "start_time": "2023-04-23T07:17:11.936Z"
   },
   {
    "duration": 6,
    "start_time": "2023-04-23T07:21:04.794Z"
   },
   {
    "duration": 3,
    "start_time": "2023-04-23T07:21:06.484Z"
   },
   {
    "duration": 68,
    "start_time": "2023-04-23T07:21:06.944Z"
   },
   {
    "duration": 3,
    "start_time": "2023-04-23T07:21:28.884Z"
   },
   {
    "duration": 77,
    "start_time": "2023-04-23T07:21:30.463Z"
   },
   {
    "duration": 3,
    "start_time": "2023-04-23T07:21:34.928Z"
   },
   {
    "duration": 63,
    "start_time": "2023-04-23T07:21:35.257Z"
   },
   {
    "duration": 18,
    "start_time": "2023-04-23T07:21:57.751Z"
   },
   {
    "duration": 16,
    "start_time": "2023-04-23T07:22:00.113Z"
   },
   {
    "duration": 162,
    "start_time": "2023-04-23T07:22:08.915Z"
   },
   {
    "duration": 2974,
    "start_time": "2023-04-23T07:22:43.538Z"
   },
   {
    "duration": 135,
    "start_time": "2023-04-23T07:23:48.807Z"
   },
   {
    "duration": 141,
    "start_time": "2023-04-23T07:24:42.555Z"
   },
   {
    "duration": 232,
    "start_time": "2023-04-23T07:25:01.112Z"
   },
   {
    "duration": 144,
    "start_time": "2023-04-23T07:25:09.152Z"
   },
   {
    "duration": 10,
    "start_time": "2023-04-23T07:43:10.505Z"
   },
   {
    "duration": 10,
    "start_time": "2023-04-23T07:43:21.272Z"
   },
   {
    "duration": 9,
    "start_time": "2023-04-23T07:43:28.678Z"
   },
   {
    "duration": 144,
    "start_time": "2023-04-23T07:44:06.362Z"
   },
   {
    "duration": 10,
    "start_time": "2023-04-23T07:44:29.782Z"
   },
   {
    "duration": 11,
    "start_time": "2023-04-23T07:53:13.808Z"
   },
   {
    "duration": 5,
    "start_time": "2023-04-23T08:34:51.753Z"
   },
   {
    "duration": 41,
    "start_time": "2023-04-23T08:34:51.760Z"
   },
   {
    "duration": 83,
    "start_time": "2023-04-23T08:34:51.802Z"
   },
   {
    "duration": 2,
    "start_time": "2023-04-23T08:34:51.887Z"
   },
   {
    "duration": 7,
    "start_time": "2023-04-23T08:34:51.892Z"
   },
   {
    "duration": 103,
    "start_time": "2023-04-23T08:34:51.901Z"
   },
   {
    "duration": 35,
    "start_time": "2023-04-23T08:34:52.005Z"
   },
   {
    "duration": 30,
    "start_time": "2023-04-23T08:34:52.044Z"
   },
   {
    "duration": 9,
    "start_time": "2023-04-23T08:34:52.075Z"
   },
   {
    "duration": 179,
    "start_time": "2023-04-23T08:34:52.086Z"
   },
   {
    "duration": 1327,
    "start_time": "2023-04-23T08:36:02.395Z"
   },
   {
    "duration": 4,
    "start_time": "2023-04-23T08:36:03.891Z"
   },
   {
    "duration": 65,
    "start_time": "2023-04-23T08:36:05.281Z"
   },
   {
    "duration": 4,
    "start_time": "2023-04-23T08:36:08.988Z"
   },
   {
    "duration": 120,
    "start_time": "2023-04-23T08:36:09.289Z"
   },
   {
    "duration": 3,
    "start_time": "2023-04-23T08:36:18.377Z"
   },
   {
    "duration": 1925,
    "start_time": "2023-04-23T08:36:19.988Z"
   },
   {
    "duration": 4,
    "start_time": "2023-04-23T08:36:25.570Z"
   },
   {
    "duration": 10,
    "start_time": "2023-04-23T08:36:25.953Z"
   },
   {
    "duration": 1535,
    "start_time": "2023-04-23T08:36:55.547Z"
   },
   {
    "duration": 3,
    "start_time": "2023-04-23T08:36:57.084Z"
   },
   {
    "duration": 1758,
    "start_time": "2023-04-23T08:36:57.089Z"
   },
   {
    "duration": 2,
    "start_time": "2023-04-23T08:36:58.849Z"
   },
   {
    "duration": 45,
    "start_time": "2023-04-23T08:36:58.854Z"
   },
   {
    "duration": 175,
    "start_time": "2023-04-23T08:36:58.901Z"
   },
   {
    "duration": 534,
    "start_time": "2023-04-23T08:40:59.701Z"
   },
   {
    "duration": 1356,
    "start_time": "2023-04-23T08:41:41.857Z"
   },
   {
    "duration": 4,
    "start_time": "2023-04-23T08:41:43.214Z"
   },
   {
    "duration": 566,
    "start_time": "2023-04-23T08:41:43.553Z"
   },
   {
    "duration": 58,
    "start_time": "2023-04-23T08:41:53.874Z"
   },
   {
    "duration": 54,
    "start_time": "2023-04-23T08:41:59.626Z"
   },
   {
    "duration": 3,
    "start_time": "2023-04-23T08:42:04.166Z"
   },
   {
    "duration": 67,
    "start_time": "2023-04-23T08:42:04.437Z"
   },
   {
    "duration": 16,
    "start_time": "2023-04-23T08:42:26.757Z"
   },
   {
    "duration": 21,
    "start_time": "2023-04-23T08:42:27.087Z"
   },
   {
    "duration": 12,
    "start_time": "2023-04-23T08:42:30.702Z"
   },
   {
    "duration": 164,
    "start_time": "2023-04-23T08:42:31.026Z"
   },
   {
    "duration": 278,
    "start_time": "2023-04-23T08:42:44.493Z"
   },
   {
    "duration": 8,
    "start_time": "2023-04-23T08:49:25.731Z"
   },
   {
    "duration": 9,
    "start_time": "2023-04-23T08:49:34.871Z"
   },
   {
    "duration": 11,
    "start_time": "2023-04-23T08:49:40.958Z"
   },
   {
    "duration": 11,
    "start_time": "2023-04-23T08:51:03.636Z"
   },
   {
    "duration": 11,
    "start_time": "2023-04-23T08:51:27.024Z"
   },
   {
    "duration": 12,
    "start_time": "2023-04-23T08:52:02.224Z"
   },
   {
    "duration": 12,
    "start_time": "2023-04-23T08:52:19.333Z"
   },
   {
    "duration": 14,
    "start_time": "2023-04-23T08:52:30.554Z"
   },
   {
    "duration": 109,
    "start_time": "2023-04-23T08:52:55.630Z"
   },
   {
    "duration": 1276,
    "start_time": "2023-04-23T08:53:08.533Z"
   },
   {
    "duration": 13,
    "start_time": "2023-04-23T08:53:16.047Z"
   },
   {
    "duration": 12,
    "start_time": "2023-04-23T08:53:37.185Z"
   },
   {
    "duration": 13,
    "start_time": "2023-04-23T09:04:15.901Z"
   },
   {
    "duration": 12,
    "start_time": "2023-04-23T09:04:36.746Z"
   },
   {
    "duration": 198,
    "start_time": "2023-04-23T09:05:45.740Z"
   },
   {
    "duration": 15,
    "start_time": "2023-04-23T09:07:37.632Z"
   },
   {
    "duration": 21,
    "start_time": "2023-04-23T09:07:52.766Z"
   },
   {
    "duration": 15,
    "start_time": "2023-04-23T09:08:17.299Z"
   },
   {
    "duration": 14,
    "start_time": "2023-04-23T09:11:59.167Z"
   },
   {
    "duration": 14,
    "start_time": "2023-04-23T09:12:08.995Z"
   },
   {
    "duration": 16,
    "start_time": "2023-04-23T09:12:19.234Z"
   },
   {
    "duration": 14,
    "start_time": "2023-04-23T09:12:29.900Z"
   },
   {
    "duration": 15,
    "start_time": "2023-04-23T09:12:40.063Z"
   },
   {
    "duration": 175,
    "start_time": "2023-04-23T09:12:43.847Z"
   },
   {
    "duration": 164,
    "start_time": "2023-04-23T09:12:59.861Z"
   },
   {
    "duration": 141,
    "start_time": "2023-04-23T09:13:15.842Z"
   },
   {
    "duration": 154,
    "start_time": "2023-04-23T09:13:29.152Z"
   },
   {
    "duration": 161,
    "start_time": "2023-04-23T09:13:34.624Z"
   },
   {
    "duration": 150,
    "start_time": "2023-04-23T09:15:18.891Z"
   },
   {
    "duration": 19,
    "start_time": "2023-04-23T09:17:18.854Z"
   },
   {
    "duration": 14,
    "start_time": "2023-04-23T09:18:27.688Z"
   },
   {
    "duration": 17,
    "start_time": "2023-04-23T09:18:48.442Z"
   },
   {
    "duration": 117,
    "start_time": "2023-04-23T09:18:58.091Z"
   },
   {
    "duration": 14,
    "start_time": "2023-04-23T09:19:07.954Z"
   },
   {
    "duration": 13,
    "start_time": "2023-04-23T09:20:59.774Z"
   },
   {
    "duration": 173,
    "start_time": "2023-04-23T09:21:01.770Z"
   },
   {
    "duration": 171,
    "start_time": "2023-04-23T09:22:06.453Z"
   },
   {
    "duration": 171,
    "start_time": "2023-04-23T09:23:10.330Z"
   },
   {
    "duration": 193,
    "start_time": "2023-04-23T09:23:22.277Z"
   },
   {
    "duration": 183,
    "start_time": "2023-04-23T09:42:25.522Z"
   },
   {
    "duration": 217,
    "start_time": "2023-04-23T09:42:38.277Z"
   },
   {
    "duration": 269,
    "start_time": "2023-04-23T09:44:01.645Z"
   },
   {
    "duration": 193,
    "start_time": "2023-04-23T09:46:19.650Z"
   },
   {
    "duration": 239,
    "start_time": "2023-04-23T09:46:57.116Z"
   },
   {
    "duration": 224,
    "start_time": "2023-04-23T09:47:25.517Z"
   },
   {
    "duration": 227,
    "start_time": "2023-04-23T09:47:36.907Z"
   },
   {
    "duration": 274,
    "start_time": "2023-04-23T09:48:11.010Z"
   },
   {
    "duration": 223,
    "start_time": "2023-04-23T09:48:28.061Z"
   },
   {
    "duration": 1398,
    "start_time": "2023-04-23T09:57:39.818Z"
   },
   {
    "duration": 3,
    "start_time": "2023-04-23T09:57:41.218Z"
   },
   {
    "duration": 67,
    "start_time": "2023-04-23T09:57:41.222Z"
   },
   {
    "duration": 3,
    "start_time": "2023-04-23T09:57:41.291Z"
   },
   {
    "duration": 14,
    "start_time": "2023-04-23T09:57:41.295Z"
   },
   {
    "duration": 75,
    "start_time": "2023-04-23T09:57:41.311Z"
   },
   {
    "duration": 17,
    "start_time": "2023-04-23T09:57:41.388Z"
   },
   {
    "duration": 31,
    "start_time": "2023-04-23T09:57:41.407Z"
   },
   {
    "duration": 15,
    "start_time": "2023-04-23T09:57:41.440Z"
   },
   {
    "duration": 173,
    "start_time": "2023-04-23T09:57:41.457Z"
   },
   {
    "duration": 193,
    "start_time": "2023-04-23T09:57:41.634Z"
   },
   {
    "duration": 15,
    "start_time": "2023-04-23T09:57:41.838Z"
   },
   {
    "duration": 201,
    "start_time": "2023-04-23T09:57:41.855Z"
   },
   {
    "duration": 299,
    "start_time": "2023-04-23T09:57:42.057Z"
   },
   {
    "duration": 5,
    "start_time": "2023-04-23T09:57:59.212Z"
   },
   {
    "duration": 19,
    "start_time": "2023-04-23T09:57:59.219Z"
   },
   {
    "duration": 76,
    "start_time": "2023-04-23T09:57:59.239Z"
   },
   {
    "duration": 2,
    "start_time": "2023-04-23T09:57:59.316Z"
   },
   {
    "duration": 10,
    "start_time": "2023-04-23T09:57:59.320Z"
   },
   {
    "duration": 65,
    "start_time": "2023-04-23T09:57:59.331Z"
   },
   {
    "duration": 16,
    "start_time": "2023-04-23T09:57:59.397Z"
   },
   {
    "duration": 48,
    "start_time": "2023-04-23T09:57:59.415Z"
   },
   {
    "duration": 20,
    "start_time": "2023-04-23T09:57:59.465Z"
   },
   {
    "duration": 172,
    "start_time": "2023-04-23T09:57:59.487Z"
   },
   {
    "duration": 207,
    "start_time": "2023-04-23T09:57:59.661Z"
   },
   {
    "duration": 14,
    "start_time": "2023-04-23T09:57:59.869Z"
   },
   {
    "duration": 204,
    "start_time": "2023-04-23T09:57:59.884Z"
   },
   {
    "duration": 221,
    "start_time": "2023-04-23T09:58:05.015Z"
   },
   {
    "duration": 280,
    "start_time": "2023-04-23T10:00:00.733Z"
   },
   {
    "duration": 1423,
    "start_time": "2023-04-23T10:11:11.861Z"
   },
   {
    "duration": 4,
    "start_time": "2023-04-23T10:11:13.286Z"
   },
   {
    "duration": 77,
    "start_time": "2023-04-23T10:11:13.292Z"
   },
   {
    "duration": 3,
    "start_time": "2023-04-23T10:11:13.371Z"
   },
   {
    "duration": 13,
    "start_time": "2023-04-23T10:11:13.375Z"
   },
   {
    "duration": 110,
    "start_time": "2023-04-23T10:11:13.390Z"
   },
   {
    "duration": 50,
    "start_time": "2023-04-23T10:11:13.502Z"
   },
   {
    "duration": 21,
    "start_time": "2023-04-23T10:11:13.554Z"
   },
   {
    "duration": 27,
    "start_time": "2023-04-23T10:11:13.576Z"
   },
   {
    "duration": 204,
    "start_time": "2023-04-23T10:11:13.604Z"
   },
   {
    "duration": 239,
    "start_time": "2023-04-23T10:11:13.810Z"
   },
   {
    "duration": 13,
    "start_time": "2023-04-23T10:11:14.050Z"
   },
   {
    "duration": 216,
    "start_time": "2023-04-23T10:11:14.065Z"
   },
   {
    "duration": 411,
    "start_time": "2023-04-23T10:11:14.284Z"
   },
   {
    "duration": 327,
    "start_time": "2023-04-23T10:11:19.358Z"
   },
   {
    "duration": 18,
    "start_time": "2023-04-23T10:11:44.365Z"
   },
   {
    "duration": 76,
    "start_time": "2023-04-23T10:18:55.121Z"
   },
   {
    "duration": 21,
    "start_time": "2023-04-23T10:19:08.059Z"
   },
   {
    "duration": 20,
    "start_time": "2023-04-23T10:19:21.916Z"
   },
   {
    "duration": 90,
    "start_time": "2023-04-23T10:19:33.821Z"
   },
   {
    "duration": 20,
    "start_time": "2023-04-23T10:21:20.180Z"
   },
   {
    "duration": 331,
    "start_time": "2023-04-23T10:21:40.203Z"
   },
   {
    "duration": 352,
    "start_time": "2023-04-23T10:21:54.301Z"
   },
   {
    "duration": 23,
    "start_time": "2023-04-23T10:24:31.023Z"
   },
   {
    "duration": 20,
    "start_time": "2023-04-23T10:25:17.682Z"
   },
   {
    "duration": 330,
    "start_time": "2023-04-23T10:25:22.926Z"
   },
   {
    "duration": 145,
    "start_time": "2023-04-23T10:25:58.707Z"
   },
   {
    "duration": 21,
    "start_time": "2023-04-23T10:26:05.722Z"
   },
   {
    "duration": 414,
    "start_time": "2023-04-23T10:34:50.733Z"
   },
   {
    "duration": 845,
    "start_time": "2023-04-23T10:36:08.623Z"
   },
   {
    "duration": 758,
    "start_time": "2023-04-23T10:39:32.536Z"
   },
   {
    "duration": 807,
    "start_time": "2023-04-23T10:39:49.132Z"
   },
   {
    "duration": 787,
    "start_time": "2023-04-23T10:39:58.719Z"
   },
   {
    "duration": 870,
    "start_time": "2023-04-23T10:40:13.369Z"
   },
   {
    "duration": 909,
    "start_time": "2023-04-23T10:40:45.638Z"
   },
   {
    "duration": 744,
    "start_time": "2023-04-23T10:41:09.824Z"
   },
   {
    "duration": 738,
    "start_time": "2023-04-23T10:41:19.053Z"
   },
   {
    "duration": 757,
    "start_time": "2023-04-23T10:47:33.154Z"
   },
   {
    "duration": 993,
    "start_time": "2023-04-23T10:57:00.756Z"
   },
   {
    "duration": 495,
    "start_time": "2023-04-23T10:57:25.468Z"
   },
   {
    "duration": 822,
    "start_time": "2023-04-23T10:57:36.667Z"
   },
   {
    "duration": 472,
    "start_time": "2023-04-23T10:59:38.429Z"
   },
   {
    "duration": 734,
    "start_time": "2023-04-23T11:00:32.813Z"
   },
   {
    "duration": 728,
    "start_time": "2023-04-23T11:01:09.879Z"
   },
   {
    "duration": 3,
    "start_time": "2023-04-23T11:01:41.060Z"
   },
   {
    "duration": 1473,
    "start_time": "2023-04-23T11:21:13.624Z"
   },
   {
    "duration": 3,
    "start_time": "2023-04-23T11:21:15.099Z"
   },
   {
    "duration": 76,
    "start_time": "2023-04-23T11:21:15.104Z"
   },
   {
    "duration": 2,
    "start_time": "2023-04-23T11:21:15.182Z"
   },
   {
    "duration": 7,
    "start_time": "2023-04-23T11:21:15.186Z"
   },
   {
    "duration": 97,
    "start_time": "2023-04-23T11:21:15.194Z"
   },
   {
    "duration": 19,
    "start_time": "2023-04-23T11:21:15.293Z"
   },
   {
    "duration": 38,
    "start_time": "2023-04-23T11:21:15.315Z"
   },
   {
    "duration": 15,
    "start_time": "2023-04-23T11:21:15.355Z"
   },
   {
    "duration": 200,
    "start_time": "2023-04-23T11:21:15.372Z"
   },
   {
    "duration": 229,
    "start_time": "2023-04-23T11:21:15.574Z"
   },
   {
    "duration": 13,
    "start_time": "2023-04-23T11:21:15.804Z"
   },
   {
    "duration": 201,
    "start_time": "2023-04-23T11:21:15.818Z"
   },
   {
    "duration": 343,
    "start_time": "2023-04-23T11:21:16.021Z"
   },
   {
    "duration": 22,
    "start_time": "2023-04-23T11:21:16.365Z"
   },
   {
    "duration": 759,
    "start_time": "2023-04-23T11:21:16.388Z"
   },
   {
    "duration": 2,
    "start_time": "2023-04-23T11:21:17.149Z"
   },
   {
    "duration": 219,
    "start_time": "2023-04-23T11:21:17.153Z"
   },
   {
    "duration": 11,
    "start_time": "2023-04-23T11:25:20.092Z"
   },
   {
    "duration": 20,
    "start_time": "2023-04-23T11:25:48.388Z"
   },
   {
    "duration": 16,
    "start_time": "2023-04-23T11:27:58.093Z"
   },
   {
    "duration": 11,
    "start_time": "2023-04-23T11:28:10.392Z"
   },
   {
    "duration": 103,
    "start_time": "2023-04-23T11:28:38.072Z"
   },
   {
    "duration": 100,
    "start_time": "2023-04-23T11:28:50.717Z"
   },
   {
    "duration": 222,
    "start_time": "2023-04-23T11:29:49.650Z"
   },
   {
    "duration": 198,
    "start_time": "2023-04-23T11:32:19.927Z"
   },
   {
    "duration": 183,
    "start_time": "2023-04-23T11:32:32.409Z"
   },
   {
    "duration": 182,
    "start_time": "2023-04-23T11:32:40.102Z"
   },
   {
    "duration": 273,
    "start_time": "2023-04-23T11:33:22.215Z"
   },
   {
    "duration": 10,
    "start_time": "2023-04-23T11:34:00.589Z"
   },
   {
    "duration": 174,
    "start_time": "2023-04-23T11:34:17.271Z"
   },
   {
    "duration": 71,
    "start_time": "2023-04-23T11:36:47.712Z"
   },
   {
    "duration": 1791,
    "start_time": "2023-04-23T11:36:57.320Z"
   },
   {
    "duration": 1369,
    "start_time": "2023-04-23T11:38:06.609Z"
   },
   {
    "duration": 4,
    "start_time": "2023-04-23T11:38:07.980Z"
   },
   {
    "duration": 64,
    "start_time": "2023-04-23T11:38:07.985Z"
   },
   {
    "duration": 3,
    "start_time": "2023-04-23T11:38:08.051Z"
   },
   {
    "duration": 6,
    "start_time": "2023-04-23T11:38:08.056Z"
   },
   {
    "duration": 86,
    "start_time": "2023-04-23T11:38:08.063Z"
   },
   {
    "duration": 17,
    "start_time": "2023-04-23T11:38:08.151Z"
   },
   {
    "duration": 19,
    "start_time": "2023-04-23T11:38:08.169Z"
   },
   {
    "duration": 12,
    "start_time": "2023-04-23T11:38:08.189Z"
   },
   {
    "duration": 184,
    "start_time": "2023-04-23T11:38:08.203Z"
   },
   {
    "duration": 210,
    "start_time": "2023-04-23T11:38:08.389Z"
   },
   {
    "duration": 14,
    "start_time": "2023-04-23T11:38:08.601Z"
   },
   {
    "duration": 198,
    "start_time": "2023-04-23T11:38:08.616Z"
   },
   {
    "duration": 321,
    "start_time": "2023-04-23T11:38:08.817Z"
   },
   {
    "duration": 19,
    "start_time": "2023-04-23T11:38:09.139Z"
   },
   {
    "duration": 739,
    "start_time": "2023-04-23T11:38:09.160Z"
   },
   {
    "duration": 2,
    "start_time": "2023-04-23T11:38:09.901Z"
   },
   {
    "duration": 16,
    "start_time": "2023-04-23T11:38:09.904Z"
   },
   {
    "duration": 187,
    "start_time": "2023-04-23T11:38:09.921Z"
   },
   {
    "duration": 10,
    "start_time": "2023-04-23T11:38:10.110Z"
   },
   {
    "duration": 1751,
    "start_time": "2023-04-23T11:38:41.828Z"
   },
   {
    "duration": 3,
    "start_time": "2023-04-23T11:39:16.330Z"
   },
   {
    "duration": 4,
    "start_time": "2023-04-23T11:39:28.732Z"
   },
   {
    "duration": 104,
    "start_time": "2023-04-23T11:41:29.137Z"
   },
   {
    "duration": 4,
    "start_time": "2023-04-23T11:41:41.284Z"
   },
   {
    "duration": 483,
    "start_time": "2023-04-23T11:50:24.428Z"
   },
   {
    "duration": 51,
    "start_time": "2023-04-23T11:51:14.687Z"
   },
   {
    "duration": 69,
    "start_time": "2023-04-23T11:52:07.426Z"
   },
   {
    "duration": 12,
    "start_time": "2023-04-23T11:53:44.723Z"
   },
   {
    "duration": 74,
    "start_time": "2023-04-23T11:54:11.121Z"
   },
   {
    "duration": 12,
    "start_time": "2023-04-23T11:54:15.488Z"
   },
   {
    "duration": 78,
    "start_time": "2023-04-23T11:54:25.963Z"
   },
   {
    "duration": 11,
    "start_time": "2023-04-23T11:54:32.926Z"
   },
   {
    "duration": 10,
    "start_time": "2023-04-23T11:54:42.813Z"
   },
   {
    "duration": 10,
    "start_time": "2023-04-23T11:55:24.346Z"
   },
   {
    "duration": 7,
    "start_time": "2023-04-23T11:55:46.420Z"
   },
   {
    "duration": 11,
    "start_time": "2023-04-23T11:56:04.332Z"
   },
   {
    "duration": 10,
    "start_time": "2023-04-23T11:56:57.933Z"
   },
   {
    "duration": 13,
    "start_time": "2023-04-23T11:57:34.959Z"
   },
   {
    "duration": 11,
    "start_time": "2023-04-23T11:57:43.723Z"
   },
   {
    "duration": 69,
    "start_time": "2023-04-23T11:57:49.779Z"
   },
   {
    "duration": 50,
    "start_time": "2023-04-23T11:58:42.686Z"
   },
   {
    "duration": 6,
    "start_time": "2023-04-23T12:00:28.036Z"
   },
   {
    "duration": 1140,
    "start_time": "2023-04-23T12:00:40.712Z"
   },
   {
    "duration": 1115,
    "start_time": "2023-04-23T12:01:22.646Z"
   },
   {
    "duration": 85,
    "start_time": "2023-04-23T12:01:32.950Z"
   },
   {
    "duration": 13126,
    "start_time": "2023-04-23T12:11:59.251Z"
   },
   {
    "duration": 884,
    "start_time": "2023-04-23T12:12:29.317Z"
   },
   {
    "duration": 82,
    "start_time": "2023-04-23T12:13:11.849Z"
   },
   {
    "duration": 461,
    "start_time": "2023-04-23T12:14:00.642Z"
   },
   {
    "duration": 13,
    "start_time": "2023-04-23T12:24:19.623Z"
   },
   {
    "duration": 21,
    "start_time": "2023-04-23T12:25:22.632Z"
   },
   {
    "duration": 11,
    "start_time": "2023-04-23T12:33:00.035Z"
   },
   {
    "duration": 7,
    "start_time": "2023-04-23T12:33:08.823Z"
   },
   {
    "duration": 21,
    "start_time": "2023-04-23T12:33:09.940Z"
   },
   {
    "duration": 841,
    "start_time": "2023-04-23T12:34:41.134Z"
   },
   {
    "duration": 850,
    "start_time": "2023-04-23T12:34:57.354Z"
   },
   {
    "duration": 670,
    "start_time": "2023-04-23T12:35:08.656Z"
   },
   {
    "duration": 493,
    "start_time": "2023-04-23T12:36:14.320Z"
   },
   {
    "duration": 477,
    "start_time": "2023-04-23T12:36:31.053Z"
   },
   {
    "duration": 409,
    "start_time": "2023-04-23T12:36:41.659Z"
   },
   {
    "duration": 437,
    "start_time": "2023-04-23T12:37:35.476Z"
   },
   {
    "duration": 422,
    "start_time": "2023-04-23T12:38:05.605Z"
   },
   {
    "duration": 444,
    "start_time": "2023-04-23T12:38:26.410Z"
   },
   {
    "duration": 500,
    "start_time": "2023-04-23T12:39:30.635Z"
   },
   {
    "duration": 448,
    "start_time": "2023-04-23T12:41:27.581Z"
   },
   {
    "duration": 727,
    "start_time": "2023-04-23T12:42:22.344Z"
   },
   {
    "duration": 502,
    "start_time": "2023-04-23T12:43:16.559Z"
   },
   {
    "duration": 478,
    "start_time": "2023-04-23T12:43:31.266Z"
   },
   {
    "duration": 469,
    "start_time": "2023-04-23T12:43:42.383Z"
   },
   {
    "duration": 485,
    "start_time": "2023-04-23T12:44:48.359Z"
   },
   {
    "duration": 918,
    "start_time": "2023-04-23T12:46:57.637Z"
   },
   {
    "duration": 911,
    "start_time": "2023-04-23T12:48:02.946Z"
   },
   {
    "duration": 903,
    "start_time": "2023-04-23T12:48:08.621Z"
   },
   {
    "duration": 1372,
    "start_time": "2023-04-23T12:48:20.433Z"
   },
   {
    "duration": 900,
    "start_time": "2023-04-23T12:48:27.958Z"
   },
   {
    "duration": 905,
    "start_time": "2023-04-23T12:48:39.437Z"
   },
   {
    "duration": 978,
    "start_time": "2023-04-23T12:50:12.050Z"
   },
   {
    "duration": 998,
    "start_time": "2023-04-23T12:52:32.417Z"
   },
   {
    "duration": 963,
    "start_time": "2023-04-23T12:52:39.675Z"
   },
   {
    "duration": 193,
    "start_time": "2023-04-23T12:53:42.144Z"
   },
   {
    "duration": 990,
    "start_time": "2023-04-23T12:54:03.897Z"
   },
   {
    "duration": 1414,
    "start_time": "2023-04-23T12:54:13.616Z"
   },
   {
    "duration": 1070,
    "start_time": "2023-04-23T12:56:51.753Z"
   },
   {
    "duration": 967,
    "start_time": "2023-04-23T12:57:40.922Z"
   },
   {
    "duration": 1073,
    "start_time": "2023-04-23T13:00:12.968Z"
   },
   {
    "duration": 936,
    "start_time": "2023-04-23T13:01:33.652Z"
   },
   {
    "duration": 977,
    "start_time": "2023-04-23T13:03:58.420Z"
   },
   {
    "duration": 180,
    "start_time": "2023-04-23T13:04:21.813Z"
   },
   {
    "duration": 944,
    "start_time": "2023-04-23T13:04:33.676Z"
   },
   {
    "duration": 20,
    "start_time": "2023-04-23T13:04:42.556Z"
   },
   {
    "duration": 346,
    "start_time": "2023-04-23T13:05:24.340Z"
   },
   {
    "duration": 629,
    "start_time": "2023-04-23T13:07:24.979Z"
   },
   {
    "duration": 387,
    "start_time": "2023-04-23T13:08:54.107Z"
   },
   {
    "duration": 408,
    "start_time": "2023-04-23T13:09:44.304Z"
   },
   {
    "duration": 14,
    "start_time": "2023-04-23T13:10:43.877Z"
   },
   {
    "duration": 355,
    "start_time": "2023-04-23T13:13:28.055Z"
   },
   {
    "duration": 149,
    "start_time": "2023-04-23T13:14:03.974Z"
   },
   {
    "duration": 236,
    "start_time": "2023-04-23T13:15:34.588Z"
   },
   {
    "duration": 641,
    "start_time": "2023-04-23T13:16:21.202Z"
   },
   {
    "duration": 2371,
    "start_time": "2023-04-23T13:18:24.127Z"
   },
   {
    "duration": 419,
    "start_time": "2023-04-23T13:18:50.625Z"
   },
   {
    "duration": 836,
    "start_time": "2023-04-23T13:19:14.805Z"
   },
   {
    "duration": 353,
    "start_time": "2023-04-23T13:19:26.409Z"
   },
   {
    "duration": 380,
    "start_time": "2023-04-23T13:20:40.894Z"
   },
   {
    "duration": 478,
    "start_time": "2023-04-23T13:20:47.213Z"
   },
   {
    "duration": 448,
    "start_time": "2023-04-23T13:20:54.658Z"
   },
   {
    "duration": 380,
    "start_time": "2023-04-23T13:21:05.060Z"
   },
   {
    "duration": 378,
    "start_time": "2023-04-23T13:21:18.624Z"
   },
   {
    "duration": 386,
    "start_time": "2023-04-23T13:22:03.997Z"
   },
   {
    "duration": 436,
    "start_time": "2023-04-23T13:22:11.802Z"
   },
   {
    "duration": 384,
    "start_time": "2023-04-23T13:24:12.098Z"
   },
   {
    "duration": 500,
    "start_time": "2023-04-23T13:26:35.297Z"
   },
   {
    "duration": 212,
    "start_time": "2023-04-23T13:26:53.798Z"
   },
   {
    "duration": 192,
    "start_time": "2023-04-23T13:27:01.498Z"
   },
   {
    "duration": 7,
    "start_time": "2023-04-23T13:28:10.864Z"
   },
   {
    "duration": 1284,
    "start_time": "2023-04-23T13:28:15.805Z"
   },
   {
    "duration": 366,
    "start_time": "2023-04-23T13:28:20.697Z"
   },
   {
    "duration": 20,
    "start_time": "2023-04-23T13:29:29.593Z"
   },
   {
    "duration": 197,
    "start_time": "2023-04-23T13:30:15.784Z"
   },
   {
    "duration": 655,
    "start_time": "2023-04-23T13:30:45.719Z"
   },
   {
    "duration": 487,
    "start_time": "2023-04-23T13:31:00.157Z"
   },
   {
    "duration": 477,
    "start_time": "2023-04-23T13:31:33.665Z"
   },
   {
    "duration": 548,
    "start_time": "2023-04-23T13:31:46.209Z"
   },
   {
    "duration": 767,
    "start_time": "2023-04-23T13:31:57.131Z"
   },
   {
    "duration": 495,
    "start_time": "2023-04-23T13:32:06.796Z"
   },
   {
    "duration": 527,
    "start_time": "2023-04-23T13:32:19.551Z"
   },
   {
    "duration": 518,
    "start_time": "2023-04-23T13:33:45.897Z"
   },
   {
    "duration": 512,
    "start_time": "2023-04-23T13:34:40.743Z"
   },
   {
    "duration": 480,
    "start_time": "2023-04-23T13:35:51.695Z"
   },
   {
    "duration": 190,
    "start_time": "2023-04-23T13:36:26.493Z"
   },
   {
    "duration": 1397,
    "start_time": "2023-04-23T13:36:53.730Z"
   },
   {
    "duration": 5,
    "start_time": "2023-04-23T13:36:55.129Z"
   },
   {
    "duration": 78,
    "start_time": "2023-04-23T13:36:55.136Z"
   },
   {
    "duration": 3,
    "start_time": "2023-04-23T13:36:55.216Z"
   },
   {
    "duration": 80,
    "start_time": "2023-04-23T13:36:55.220Z"
   },
   {
    "duration": 107,
    "start_time": "2023-04-23T13:36:55.302Z"
   },
   {
    "duration": 33,
    "start_time": "2023-04-23T13:36:55.410Z"
   },
   {
    "duration": 34,
    "start_time": "2023-04-23T13:36:55.445Z"
   },
   {
    "duration": 15,
    "start_time": "2023-04-23T13:36:55.480Z"
   },
   {
    "duration": 176,
    "start_time": "2023-04-23T13:36:55.497Z"
   },
   {
    "duration": 203,
    "start_time": "2023-04-23T13:36:55.674Z"
   },
   {
    "duration": 12,
    "start_time": "2023-04-23T13:36:55.878Z"
   },
   {
    "duration": 190,
    "start_time": "2023-04-23T13:36:55.892Z"
   },
   {
    "duration": 348,
    "start_time": "2023-04-23T13:36:56.083Z"
   },
   {
    "duration": 19,
    "start_time": "2023-04-23T13:36:56.433Z"
   },
   {
    "duration": 785,
    "start_time": "2023-04-23T13:36:56.454Z"
   },
   {
    "duration": 3,
    "start_time": "2023-04-23T13:36:57.241Z"
   },
   {
    "duration": 32,
    "start_time": "2023-04-23T13:36:57.246Z"
   },
   {
    "duration": 180,
    "start_time": "2023-04-23T13:36:57.280Z"
   },
   {
    "duration": 10,
    "start_time": "2023-04-23T13:36:57.461Z"
   },
   {
    "duration": 1300,
    "start_time": "2023-04-23T13:36:57.472Z"
   },
   {
    "duration": 127,
    "start_time": "2023-04-23T13:36:58.774Z"
   },
   {
    "duration": 13032,
    "start_time": "2023-04-23T13:36:58.934Z"
   },
   {
    "duration": 3,
    "start_time": "2023-04-23T13:37:11.968Z"
   },
   {
    "duration": 69,
    "start_time": "2023-04-23T13:37:11.973Z"
   },
   {
    "duration": 1154,
    "start_time": "2023-04-23T13:37:12.043Z"
   },
   {
    "duration": 23,
    "start_time": "2023-04-23T13:37:13.198Z"
   },
   {
    "duration": 97,
    "start_time": "2023-04-23T13:37:13.237Z"
   },
   {
    "duration": 433,
    "start_time": "2023-04-23T13:37:13.336Z"
   },
   {
    "duration": 205,
    "start_time": "2023-04-23T13:37:13.771Z"
   },
   {
    "duration": 519,
    "start_time": "2023-04-23T13:37:13.978Z"
   },
   {
    "duration": 9,
    "start_time": "2023-04-23T13:37:14.499Z"
   },
   {
    "duration": 1626,
    "start_time": "2023-04-23T13:37:14.510Z"
   },
   {
    "duration": 322,
    "start_time": "2023-04-23T13:37:16.138Z"
   },
   {
    "duration": 450,
    "start_time": "2023-04-23T13:38:08.007Z"
   },
   {
    "duration": 344,
    "start_time": "2023-04-23T13:38:24.654Z"
   },
   {
    "duration": 1364,
    "start_time": "2023-04-23T13:39:00.925Z"
   },
   {
    "duration": 3,
    "start_time": "2023-04-23T13:39:02.291Z"
   },
   {
    "duration": 90,
    "start_time": "2023-04-23T13:39:02.295Z"
   },
   {
    "duration": 2,
    "start_time": "2023-04-23T13:39:02.388Z"
   },
   {
    "duration": 16,
    "start_time": "2023-04-23T13:39:02.391Z"
   },
   {
    "duration": 85,
    "start_time": "2023-04-23T13:39:02.409Z"
   },
   {
    "duration": 16,
    "start_time": "2023-04-23T13:39:02.496Z"
   },
   {
    "duration": 37,
    "start_time": "2023-04-23T13:39:02.513Z"
   },
   {
    "duration": 34,
    "start_time": "2023-04-23T13:39:02.551Z"
   },
   {
    "duration": 176,
    "start_time": "2023-04-23T13:39:02.587Z"
   },
   {
    "duration": 219,
    "start_time": "2023-04-23T13:39:02.764Z"
   },
   {
    "duration": 14,
    "start_time": "2023-04-23T13:39:02.985Z"
   },
   {
    "duration": 176,
    "start_time": "2023-04-23T13:39:03.001Z"
   },
   {
    "duration": 355,
    "start_time": "2023-04-23T13:39:03.179Z"
   },
   {
    "duration": 21,
    "start_time": "2023-04-23T13:39:03.536Z"
   },
   {
    "duration": 777,
    "start_time": "2023-04-23T13:39:03.558Z"
   },
   {
    "duration": 3,
    "start_time": "2023-04-23T13:39:04.337Z"
   },
   {
    "duration": 34,
    "start_time": "2023-04-23T13:39:04.341Z"
   },
   {
    "duration": 197,
    "start_time": "2023-04-23T13:39:04.376Z"
   },
   {
    "duration": 10,
    "start_time": "2023-04-23T13:39:04.575Z"
   },
   {
    "duration": 1019,
    "start_time": "2023-04-23T13:39:04.586Z"
   },
   {
    "duration": 101,
    "start_time": "2023-04-23T13:39:05.607Z"
   },
   {
    "duration": 13538,
    "start_time": "2023-04-23T13:39:05.709Z"
   },
   {
    "duration": 2,
    "start_time": "2023-04-23T13:39:19.249Z"
   },
   {
    "duration": 33,
    "start_time": "2023-04-23T13:39:19.253Z"
   },
   {
    "duration": 1145,
    "start_time": "2023-04-23T13:39:19.287Z"
   },
   {
    "duration": 21,
    "start_time": "2023-04-23T13:39:20.434Z"
   },
   {
    "duration": 99,
    "start_time": "2023-04-23T13:39:20.457Z"
   },
   {
    "duration": 417,
    "start_time": "2023-04-23T13:39:20.558Z"
   },
   {
    "duration": 198,
    "start_time": "2023-04-23T13:39:20.976Z"
   },
   {
    "duration": 492,
    "start_time": "2023-04-23T13:39:21.175Z"
   },
   {
    "duration": 7,
    "start_time": "2023-04-23T13:39:21.668Z"
   },
   {
    "duration": 1376,
    "start_time": "2023-04-23T13:39:21.677Z"
   },
   {
    "duration": 312,
    "start_time": "2023-04-23T13:39:23.055Z"
   },
   {
    "duration": 1524,
    "start_time": "2023-04-23T13:40:47.872Z"
   },
   {
    "duration": 3,
    "start_time": "2023-04-23T13:40:49.398Z"
   },
   {
    "duration": 74,
    "start_time": "2023-04-23T13:40:49.402Z"
   },
   {
    "duration": 3,
    "start_time": "2023-04-23T13:40:49.478Z"
   },
   {
    "duration": 7,
    "start_time": "2023-04-23T13:40:49.483Z"
   },
   {
    "duration": 83,
    "start_time": "2023-04-23T13:40:49.491Z"
   },
   {
    "duration": 18,
    "start_time": "2023-04-23T13:40:49.576Z"
   },
   {
    "duration": 39,
    "start_time": "2023-04-23T13:40:49.596Z"
   },
   {
    "duration": 14,
    "start_time": "2023-04-23T13:40:49.637Z"
   },
   {
    "duration": 234,
    "start_time": "2023-04-23T13:40:49.652Z"
   },
   {
    "duration": 256,
    "start_time": "2023-04-23T13:40:49.888Z"
   },
   {
    "duration": 14,
    "start_time": "2023-04-23T13:40:50.146Z"
   },
   {
    "duration": 208,
    "start_time": "2023-04-23T13:40:50.162Z"
   },
   {
    "duration": 379,
    "start_time": "2023-04-23T13:40:50.373Z"
   },
   {
    "duration": 21,
    "start_time": "2023-04-23T13:40:50.753Z"
   },
   {
    "duration": 776,
    "start_time": "2023-04-23T13:40:50.775Z"
   },
   {
    "duration": 3,
    "start_time": "2023-04-23T13:40:51.553Z"
   },
   {
    "duration": 17,
    "start_time": "2023-04-23T13:40:51.558Z"
   },
   {
    "duration": 183,
    "start_time": "2023-04-23T13:40:51.577Z"
   },
   {
    "duration": 11,
    "start_time": "2023-04-23T13:40:51.762Z"
   },
   {
    "duration": 1043,
    "start_time": "2023-04-23T13:40:51.774Z"
   },
   {
    "duration": 88,
    "start_time": "2023-04-23T13:40:52.818Z"
   },
   {
    "duration": 13090,
    "start_time": "2023-04-23T13:40:52.934Z"
   },
   {
    "duration": 3,
    "start_time": "2023-04-23T13:41:06.025Z"
   },
   {
    "duration": 52,
    "start_time": "2023-04-23T13:41:06.029Z"
   },
   {
    "duration": 1181,
    "start_time": "2023-04-23T13:41:06.083Z"
   },
   {
    "duration": 22,
    "start_time": "2023-04-23T13:41:07.266Z"
   },
   {
    "duration": 94,
    "start_time": "2023-04-23T13:41:07.289Z"
   },
   {
    "duration": 395,
    "start_time": "2023-04-23T13:41:07.384Z"
   },
   {
    "duration": 193,
    "start_time": "2023-04-23T13:41:07.781Z"
   },
   {
    "duration": 481,
    "start_time": "2023-04-23T13:41:07.975Z"
   },
   {
    "duration": 7,
    "start_time": "2023-04-23T13:41:08.457Z"
   },
   {
    "duration": 1367,
    "start_time": "2023-04-23T13:41:08.465Z"
   },
   {
    "duration": 336,
    "start_time": "2023-04-23T13:41:09.834Z"
   },
   {
    "duration": 310,
    "start_time": "2023-04-23T13:48:40.097Z"
   },
   {
    "duration": 320,
    "start_time": "2023-04-23T13:49:16.516Z"
   },
   {
    "duration": 306,
    "start_time": "2023-04-23T13:49:27.191Z"
   },
   {
    "duration": 359,
    "start_time": "2023-04-23T13:49:40.435Z"
   },
   {
    "duration": 360,
    "start_time": "2023-04-23T13:51:05.894Z"
   },
   {
    "duration": 335,
    "start_time": "2023-04-23T13:51:29.088Z"
   },
   {
    "duration": 205,
    "start_time": "2023-04-23T13:52:29.188Z"
   },
   {
    "duration": 1333,
    "start_time": "2023-04-23T13:53:32.741Z"
   },
   {
    "duration": 3,
    "start_time": "2023-04-23T13:53:34.076Z"
   },
   {
    "duration": 76,
    "start_time": "2023-04-23T13:53:34.080Z"
   },
   {
    "duration": 3,
    "start_time": "2023-04-23T13:53:34.158Z"
   },
   {
    "duration": 40,
    "start_time": "2023-04-23T13:53:34.162Z"
   },
   {
    "duration": 84,
    "start_time": "2023-04-23T13:53:34.204Z"
   },
   {
    "duration": 15,
    "start_time": "2023-04-23T13:53:34.289Z"
   },
   {
    "duration": 37,
    "start_time": "2023-04-23T13:53:34.306Z"
   },
   {
    "duration": 23,
    "start_time": "2023-04-23T13:53:34.344Z"
   },
   {
    "duration": 184,
    "start_time": "2023-04-23T13:53:34.369Z"
   },
   {
    "duration": 265,
    "start_time": "2023-04-23T13:53:34.562Z"
   },
   {
    "duration": 16,
    "start_time": "2023-04-23T13:53:34.829Z"
   },
   {
    "duration": 182,
    "start_time": "2023-04-23T13:53:34.846Z"
   },
   {
    "duration": 358,
    "start_time": "2023-04-23T13:53:35.029Z"
   },
   {
    "duration": 22,
    "start_time": "2023-04-23T13:53:35.388Z"
   },
   {
    "duration": 795,
    "start_time": "2023-04-23T13:53:35.412Z"
   },
   {
    "duration": 3,
    "start_time": "2023-04-23T13:53:36.209Z"
   },
   {
    "duration": 16,
    "start_time": "2023-04-23T13:53:36.214Z"
   },
   {
    "duration": 197,
    "start_time": "2023-04-23T13:53:36.232Z"
   },
   {
    "duration": 11,
    "start_time": "2023-04-23T13:53:36.434Z"
   },
   {
    "duration": 1468,
    "start_time": "2023-04-23T13:53:36.446Z"
   },
   {
    "duration": 145,
    "start_time": "2023-04-23T13:53:37.916Z"
   },
   {
    "duration": 13456,
    "start_time": "2023-04-23T13:53:38.063Z"
   },
   {
    "duration": 3,
    "start_time": "2023-04-23T13:53:51.521Z"
   },
   {
    "duration": 34,
    "start_time": "2023-04-23T13:53:51.525Z"
   },
   {
    "duration": 1224,
    "start_time": "2023-04-23T13:53:51.561Z"
   },
   {
    "duration": 21,
    "start_time": "2023-04-23T13:53:52.787Z"
   },
   {
    "duration": 97,
    "start_time": "2023-04-23T13:53:52.810Z"
   },
   {
    "duration": 442,
    "start_time": "2023-04-23T13:53:52.908Z"
   },
   {
    "duration": 190,
    "start_time": "2023-04-23T13:53:53.352Z"
   },
   {
    "duration": 490,
    "start_time": "2023-04-23T13:53:53.544Z"
   },
   {
    "duration": 9,
    "start_time": "2023-04-23T13:53:54.036Z"
   },
   {
    "duration": 1463,
    "start_time": "2023-04-23T13:53:54.046Z"
   },
   {
    "duration": 341,
    "start_time": "2023-04-23T13:53:55.510Z"
   },
   {
    "duration": 1402,
    "start_time": "2023-04-23T13:57:08.400Z"
   },
   {
    "duration": 9,
    "start_time": "2023-04-23T13:57:09.804Z"
   },
   {
    "duration": 71,
    "start_time": "2023-04-23T13:57:09.815Z"
   },
   {
    "duration": 2,
    "start_time": "2023-04-23T13:57:09.888Z"
   },
   {
    "duration": 6,
    "start_time": "2023-04-23T13:57:09.891Z"
   },
   {
    "duration": 67,
    "start_time": "2023-04-23T13:57:09.898Z"
   },
   {
    "duration": 15,
    "start_time": "2023-04-23T13:57:09.967Z"
   },
   {
    "duration": 21,
    "start_time": "2023-04-23T13:57:09.983Z"
   },
   {
    "duration": 11,
    "start_time": "2023-04-23T13:57:10.006Z"
   },
   {
    "duration": 179,
    "start_time": "2023-04-23T13:57:10.035Z"
   },
   {
    "duration": 221,
    "start_time": "2023-04-23T13:57:10.215Z"
   },
   {
    "duration": 13,
    "start_time": "2023-04-23T13:57:10.437Z"
   },
   {
    "duration": 174,
    "start_time": "2023-04-23T13:57:10.451Z"
   },
   {
    "duration": 422,
    "start_time": "2023-04-23T13:57:10.633Z"
   },
   {
    "duration": 23,
    "start_time": "2023-04-23T13:57:11.056Z"
   },
   {
    "duration": 874,
    "start_time": "2023-04-23T13:57:11.081Z"
   },
   {
    "duration": 2,
    "start_time": "2023-04-23T13:57:11.958Z"
   },
   {
    "duration": 20,
    "start_time": "2023-04-23T13:57:11.962Z"
   },
   {
    "duration": 198,
    "start_time": "2023-04-23T13:57:11.984Z"
   },
   {
    "duration": 13,
    "start_time": "2023-04-23T13:57:12.184Z"
   },
   {
    "duration": 1020,
    "start_time": "2023-04-23T13:57:12.199Z"
   },
   {
    "duration": 156,
    "start_time": "2023-04-23T13:57:13.221Z"
   },
   {
    "duration": 13560,
    "start_time": "2023-04-23T13:57:13.378Z"
   },
   {
    "duration": 3,
    "start_time": "2023-04-23T13:57:26.939Z"
   },
   {
    "duration": 31,
    "start_time": "2023-04-23T13:57:26.943Z"
   },
   {
    "duration": 1124,
    "start_time": "2023-04-23T13:57:26.975Z"
   },
   {
    "duration": 22,
    "start_time": "2023-04-23T13:57:28.101Z"
   },
   {
    "duration": 95,
    "start_time": "2023-04-23T13:57:28.125Z"
   },
   {
    "duration": 413,
    "start_time": "2023-04-23T13:57:28.221Z"
   },
   {
    "duration": 205,
    "start_time": "2023-04-23T13:57:28.636Z"
   },
   {
    "duration": 480,
    "start_time": "2023-04-23T13:57:28.842Z"
   },
   {
    "duration": 15,
    "start_time": "2023-04-23T13:57:29.323Z"
   },
   {
    "duration": 1399,
    "start_time": "2023-04-23T13:57:29.339Z"
   },
   {
    "duration": 378,
    "start_time": "2023-04-23T13:57:30.740Z"
   },
   {
    "duration": 321,
    "start_time": "2023-04-23T14:03:28.295Z"
   },
   {
    "duration": 342,
    "start_time": "2023-04-23T14:03:36.438Z"
   },
   {
    "duration": 6,
    "start_time": "2023-04-23T14:03:46.045Z"
   },
   {
    "duration": 324,
    "start_time": "2023-04-23T14:03:51.735Z"
   },
   {
    "duration": 338,
    "start_time": "2023-04-23T14:03:59.410Z"
   },
   {
    "duration": 1454,
    "start_time": "2023-04-23T18:37:27.062Z"
   },
   {
    "duration": 4,
    "start_time": "2023-04-23T18:37:28.518Z"
   },
   {
    "duration": 109,
    "start_time": "2023-04-23T18:37:28.527Z"
   },
   {
    "duration": 2,
    "start_time": "2023-04-23T18:37:28.638Z"
   },
   {
    "duration": 10,
    "start_time": "2023-04-23T18:37:28.642Z"
   },
   {
    "duration": 82,
    "start_time": "2023-04-23T18:37:28.654Z"
   },
   {
    "duration": 47,
    "start_time": "2023-04-23T18:37:28.738Z"
   },
   {
    "duration": 18,
    "start_time": "2023-04-23T18:37:28.787Z"
   },
   {
    "duration": 33,
    "start_time": "2023-04-23T18:37:28.807Z"
   },
   {
    "duration": 191,
    "start_time": "2023-04-23T18:37:28.843Z"
   },
   {
    "duration": 226,
    "start_time": "2023-04-23T18:37:29.036Z"
   },
   {
    "duration": 28,
    "start_time": "2023-04-23T18:37:29.264Z"
   },
   {
    "duration": 205,
    "start_time": "2023-04-23T18:37:29.294Z"
   },
   {
    "duration": 406,
    "start_time": "2023-04-23T18:37:29.501Z"
   },
   {
    "duration": 23,
    "start_time": "2023-04-23T18:37:29.909Z"
   },
   {
    "duration": 827,
    "start_time": "2023-04-23T18:37:29.934Z"
   },
   {
    "duration": 4,
    "start_time": "2023-04-23T18:37:30.763Z"
   },
   {
    "duration": 76,
    "start_time": "2023-04-23T18:37:30.769Z"
   },
   {
    "duration": 207,
    "start_time": "2023-04-23T18:37:30.847Z"
   },
   {
    "duration": 14,
    "start_time": "2023-04-23T18:37:31.056Z"
   },
   {
    "duration": 1289,
    "start_time": "2023-04-23T18:37:31.072Z"
   },
   {
    "duration": 139,
    "start_time": "2023-04-23T18:37:32.363Z"
   },
   {
    "duration": 14327,
    "start_time": "2023-04-23T18:37:32.504Z"
   },
   {
    "duration": 4,
    "start_time": "2023-04-23T18:37:46.833Z"
   },
   {
    "duration": 79,
    "start_time": "2023-04-23T18:37:46.839Z"
   },
   {
    "duration": 1259,
    "start_time": "2023-04-23T18:37:46.920Z"
   },
   {
    "duration": 23,
    "start_time": "2023-04-23T18:37:48.180Z"
   },
   {
    "duration": 99,
    "start_time": "2023-04-23T18:37:48.206Z"
   },
   {
    "duration": 448,
    "start_time": "2023-04-23T18:37:48.306Z"
   },
   {
    "duration": 238,
    "start_time": "2023-04-23T18:37:48.756Z"
   },
   {
    "duration": 536,
    "start_time": "2023-04-23T18:37:48.995Z"
   },
   {
    "duration": 11,
    "start_time": "2023-04-23T18:37:49.533Z"
   },
   {
    "duration": 1515,
    "start_time": "2023-04-23T18:37:49.546Z"
   },
   {
    "duration": 378,
    "start_time": "2023-04-23T18:37:51.063Z"
   }
  ],
  "colab": {
   "provenance": []
  },
  "kernelspec": {
   "display_name": "Python 3 (ipykernel)",
   "language": "python",
   "name": "python3"
  },
  "language_info": {
   "codemirror_mode": {
    "name": "ipython",
    "version": 3
   },
   "file_extension": ".py",
   "mimetype": "text/x-python",
   "name": "python",
   "nbconvert_exporter": "python",
   "pygments_lexer": "ipython3",
   "version": "3.10.4"
  },
  "toc": {
   "base_numbering": 1,
   "nav_menu": {},
   "number_sections": true,
   "sideBar": true,
   "skip_h1_title": true,
   "title_cell": "Table of Contents",
   "title_sidebar": "Contents",
   "toc_cell": false,
   "toc_position": {},
   "toc_section_display": true,
   "toc_window_display": false
  }
 },
 "nbformat": 4,
 "nbformat_minor": 1
}
